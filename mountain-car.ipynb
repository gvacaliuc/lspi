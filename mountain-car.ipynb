{
 "cells": [
  {
   "cell_type": "markdown",
   "metadata": {},
   "source": [
    "# Mountain Car\n",
    "\n",
    "My work with LSPI + Mountain Car environment.\n"
   ]
  },
  {
   "cell_type": "code",
   "execution_count": 1,
   "metadata": {
    "collapsed": true
   },
   "outputs": [],
   "source": [
    "import numpy as np\n",
    "import matplotlib.pyplot as plt\n",
    "%matplotlib inline"
   ]
  },
  {
   "cell_type": "code",
   "execution_count": 6,
   "metadata": {
    "collapsed": true
   },
   "outputs": [],
   "source": [
    "plt.rcParams[\"figure.figsize\"] = 10, 6"
   ]
  },
  {
   "cell_type": "code",
   "execution_count": 4,
   "metadata": {},
   "outputs": [
    {
     "name": "stdout",
     "output_type": "stream",
     "text": [
      "The autoreload extension is already loaded. To reload it, use:\n",
      "  %reload_ext autoreload\n"
     ]
    }
   ],
   "source": [
    "%load_ext autoreload\n",
    "%autoreload 2"
   ]
  },
  {
   "cell_type": "code",
   "execution_count": 5,
   "metadata": {
    "collapsed": true
   },
   "outputs": [],
   "source": [
    "import gym\n",
    "\n",
    "from lspi.util import generate_sample_data\n",
    "\n",
    "from lspi.policy import RandomPolicy, DiscreteActionBasisPolicy\n",
    "from lspi.basis import IndActionPolyStateBasis, IndActionRBFStateBasis, QuadraticBasis\n",
    "\n",
    "from lspi.optim import LSPI\n",
    "from lspi.optim import LSTDQ"
   ]
  },
  {
   "cell_type": "markdown",
   "metadata": {},
   "source": [
    "# Tools"
   ]
  },
  {
   "cell_type": "markdown",
   "metadata": {},
   "source": [
    "#### close all env windows"
   ]
  },
  {
   "cell_type": "code",
   "execution_count": null,
   "metadata": {
    "collapsed": true
   },
   "outputs": [],
   "source": [
    "gym.core.env_closer.close()"
   ]
  },
  {
   "cell_type": "markdown",
   "metadata": {},
   "source": [
    "# Mountain Car Discrete"
   ]
  },
  {
   "cell_type": "code",
   "execution_count": null,
   "metadata": {
    "scrolled": true
   },
   "outputs": [],
   "source": [
    "from lspi.util import DiscreteEnvWrapper, random_discretization, linear_discretization\n",
    "\n",
    "env = gym.make(\"MountainCar-v0\")"
   ]
  },
  {
   "cell_type": "code",
   "execution_count": null,
   "metadata": {
    "collapsed": true
   },
   "outputs": [],
   "source": [
    "from lspi.util import SampleGenerator"
   ]
  },
  {
   "cell_type": "code",
   "execution_count": null,
   "metadata": {},
   "outputs": [],
   "source": [
    "env.action_space"
   ]
  },
  {
   "cell_type": "code",
   "execution_count": null,
   "metadata": {
    "scrolled": true
   },
   "outputs": [],
   "source": [
    "env.observation_space"
   ]
  },
  {
   "cell_type": "markdown",
   "metadata": {},
   "source": [
    "### Quadratic Basis"
   ]
  },
  {
   "cell_type": "code",
   "execution_count": null,
   "metadata": {
    "collapsed": true
   },
   "outputs": [],
   "source": [
    "coefs = [\n",
    "    np.eye(3),\n",
    "    np.ones((3, 3)),\n",
    "    np.array([[1,1,-1],[1,-1,1],[-1,1,1]])\n",
    "]"
   ]
  },
  {
   "cell_type": "code",
   "execution_count": null,
   "metadata": {
    "collapsed": true
   },
   "outputs": [],
   "source": [
    "num_rollouts = 1000\n",
    "num_steps = 6"
   ]
  },
  {
   "cell_type": "code",
   "execution_count": null,
   "metadata": {
    "collapsed": true,
    "scrolled": true
   },
   "outputs": [],
   "source": [
    "data = SampleGenerator(env, RandomPolicy(env)).sample(num_rollouts, num_steps)\n",
    "basis = QuadraticBasis(coefs, env.action_space, env.observation_space)\n",
    "lstdq = LSTDQ(basis, discount=0.95)\n",
    "dabp = DiscreteActionBasisPolicy(env.action_space, basis, np.zeros(basis.rank))"
   ]
  },
  {
   "cell_type": "code",
   "execution_count": null,
   "metadata": {},
   "outputs": [],
   "source": [
    "lspi = LSPI(lstdq, dabp, max_iter=50, epsilon=1e-3)\n",
    "lspi.fit(data)"
   ]
  },
  {
   "cell_type": "code",
   "execution_count": null,
   "metadata": {},
   "outputs": [],
   "source": [
    "lspi.itr_"
   ]
  },
  {
   "cell_type": "code",
   "execution_count": null,
   "metadata": {},
   "outputs": [],
   "source": [
    "rewards = []\n",
    "actions = []\n",
    "\n",
    "for episode in range(100):\n",
    "    state = env.reset()\n",
    "    done = False\n",
    "    cumr = 0\n",
    "    while not done:\n",
    "        action = lspi.policy(state)\n",
    "        actions.append(action)\n",
    "        state, reward, done, _ = env.step(action)\n",
    "        cumr += reward\n",
    "        env.render()\n",
    "    rewards.append(cumr)\n",
    "#         print(\"Action: {}, Reward: {}\".format(action, reward))\n",
    "#     print(\"Episode {episode}, Reward: {reward}\".format(episode=episode, reward=reward))"
   ]
  },
  {
   "cell_type": "code",
   "execution_count": null,
   "metadata": {},
   "outputs": [],
   "source": [
    "plt.hist(cumr)"
   ]
  },
  {
   "cell_type": "markdown",
   "metadata": {},
   "source": [
    "### RBF Basis"
   ]
  },
  {
   "cell_type": "code",
   "execution_count": null,
   "metadata": {},
   "outputs": [],
   "source": [
    "env = gym.make(\"MountainCar-v0\")\n",
    "env._max_episode_steps = 300"
   ]
  },
  {
   "cell_type": "code",
   "execution_count": null,
   "metadata": {
    "collapsed": true
   },
   "outputs": [],
   "source": [
    "num_rollouts = 600\n",
    "num_steps = 20\n",
    "data = SampleGenerator(env, RandomPolicy(env)).sample(num_rollouts, num_steps)"
   ]
  },
  {
   "cell_type": "code",
   "execution_count": null,
   "metadata": {},
   "outputs": [],
   "source": [
    "len(data)"
   ]
  },
  {
   "cell_type": "code",
   "execution_count": null,
   "metadata": {
    "collapsed": true,
    "scrolled": true
   },
   "outputs": [],
   "source": [
    "from lspi.util import BoxAnchorGen\n",
    "\n",
    "numAnchors = 40\n",
    "anchors = BoxAnchorGen(numAnchors, env.observation_space)\n",
    "basis = IndActionRBFStateBasis(anchors, env.action_space, env.observation_space)\n",
    "dabp = DiscreteActionBasisPolicy(env.action_space, basis, np.zeros(basis.rank))"
   ]
  },
  {
   "cell_type": "code",
   "execution_count": null,
   "metadata": {},
   "outputs": [],
   "source": [
    "lstdq = LSTDQ(basis, discount=0.95)\n",
    "lspi = LSPI(lstdq, dabp, max_iter=25, epsilon=1e-3)\n",
    "lspi.fit(data)"
   ]
  },
  {
   "cell_type": "code",
   "execution_count": null,
   "metadata": {},
   "outputs": [],
   "source": [
    "lspi.itr_"
   ]
  },
  {
   "cell_type": "code",
   "execution_count": null,
   "metadata": {
    "collapsed": true,
    "scrolled": false
   },
   "outputs": [],
   "source": [
    "rewards = []\n",
    "actions = []\n",
    "\n",
    "for episode in range(50):\n",
    "    state = env.reset()\n",
    "    done = False\n",
    "    cumr = 0\n",
    "    while not done:\n",
    "        action = lspi.policy(state)\n",
    "        actions.append(action)\n",
    "        state, reward, done, _ = env.step(action)\n",
    "#         done = cumr < -300 or state[0] > 0.5\n",
    "        cumr += reward\n",
    "#         env.render()\n",
    "#     print(cumr)\n",
    "#         print(\"Action: {}, State: {}, Reward: {}\".format(action, state, reward))\n",
    "    rewards.append(cumr)\n",
    "#     print(\"Episode {episode}, Reward: {reward}\".format(episode=episode, reward=reward))"
   ]
  },
  {
   "cell_type": "code",
   "execution_count": null,
   "metadata": {
    "scrolled": false
   },
   "outputs": [],
   "source": [
    "plt.hist(actions)"
   ]
  },
  {
   "cell_type": "code",
   "execution_count": null,
   "metadata": {
    "scrolled": false
   },
   "outputs": [],
   "source": [
    "plt.hist(rewards)"
   ]
  },
  {
   "cell_type": "markdown",
   "metadata": {},
   "source": [
    "# Mountain Car Continuous"
   ]
  },
  {
   "cell_type": "code",
   "execution_count": 8,
   "metadata": {},
   "outputs": [
    {
     "name": "stderr",
     "output_type": "stream",
     "text": [
      "[2019-04-04 03:40:02,121] Making new env: MountainCarContinuous-v0\n"
     ]
    },
    {
     "data": {
      "text/plain": [
       "[array([-1.]),\n",
       " array([-0.6]),\n",
       " array([-0.2]),\n",
       " array([ 0.2]),\n",
       " array([ 0.6]),\n",
       " array([ 1.])]"
      ]
     },
     "execution_count": 8,
     "metadata": {},
     "output_type": "execute_result"
    }
   ],
   "source": [
    "from lspi.util import DiscreteEnvWrapper, random_discretization, linear_discretization\n",
    "\n",
    "env = gym.make(\"MountainCarContinuous-v0\")\n",
    "actions = linear_discretization(env.action_space, n=6)\n",
    "dEnv = DiscreteEnvWrapper(env, actions)\n",
    "dEnv._actions"
   ]
  },
  {
   "cell_type": "code",
   "execution_count": 11,
   "metadata": {},
   "outputs": [],
   "source": [
    "from lspi.util import SampleGenerator\n",
    "data = SampleGenerator(dEnv, RandomPolicy(dEnv)).sample(10, 6)"
   ]
  },
  {
   "cell_type": "code",
   "execution_count": 15,
   "metadata": {},
   "outputs": [],
   "source": [
    "from lspi.basis import DiscreteQuadraticBasis\n",
    "\n",
    "coefs = [\n",
    "    np.eye(3),\n",
    "    np.ones((3, 3)),\n",
    "    np.array([[1,1,-1],[1,-1,1],[-1,1,1]])\n",
    "]\n",
    "basis = DiscreteQuadraticBasis(coefs, dEnv._actions, dEnv.observation_space)"
   ]
  },
  {
   "cell_type": "code",
   "execution_count": 39,
   "metadata": {},
   "outputs": [
    {
     "data": {
      "text/plain": [
       "array([ 1.        ,  1.92783146,  3.73447137,  2.00178615])"
      ]
     },
     "execution_count": 39,
     "metadata": {},
     "output_type": "execute_result"
    }
   ],
   "source": [
    "basis(dEnv.observation_space.sample(), 0)"
   ]
  },
  {
   "cell_type": "code",
   "execution_count": 40,
   "metadata": {
    "collapsed": true,
    "scrolled": true
   },
   "outputs": [],
   "source": [
    "lstdq = LSTDQ(basis, discount=0.95)\n",
    "dabp = DiscreteActionBasisPolicy(dEnv.action_space, basis, np.zeros(basis.rank))"
   ]
  },
  {
   "cell_type": "code",
   "execution_count": 41,
   "metadata": {},
   "outputs": [
    {
     "data": {
      "text/plain": [
       "<lspi.optim.LSPI at 0x7fc6662bd7d0>"
      ]
     },
     "execution_count": 41,
     "metadata": {},
     "output_type": "execute_result"
    }
   ],
   "source": [
    "lspi = LSPI(lstdq, dabp, max_iter=50, epsilon=1e-3)\n",
    "lspi.fit(data)"
   ]
  },
  {
   "cell_type": "code",
   "execution_count": 42,
   "metadata": {},
   "outputs": [
    {
     "data": {
      "text/plain": [
       "2"
      ]
     },
     "execution_count": 42,
     "metadata": {},
     "output_type": "execute_result"
    }
   ],
   "source": [
    "lspi.itr_"
   ]
  },
  {
   "cell_type": "code",
   "execution_count": 57,
   "metadata": {},
   "outputs": [],
   "source": [
    "rewards = []\n",
    "actions = []\n",
    "\n",
    "for episode in range(50):\n",
    "    state = env.reset()\n",
    "    done = False\n",
    "    cumr = 0\n",
    "    while not done:\n",
    "        action = lspi.policy(state)\n",
    "        action = dEnv._actions[action]\n",
    "        actions.append(action)\n",
    "        state, reward, done, _ = env.step(action)\n",
    "#         done = cumr < -300 or state[0] > 0.5\n",
    "        cumr += reward\n",
    "#         env.render()\n",
    "#     print(cumr)\n",
    "#         print(\"Action: {}, State: {}, Reward: {}\".format(action, state, reward))\n",
    "    rewards.append(cumr)\n",
    "#     print(\"Episode {episode}, Reward: {reward}\".format(episode=episode, reward=reward))\n",
    "rewards = np.array(rewards)"
   ]
  },
  {
   "cell_type": "code",
   "execution_count": 58,
   "metadata": {},
   "outputs": [
    {
     "data": {
      "text/plain": [
       "(array([  1.,   1.,   1.,   3.,   4.,  13.,   0.,   0.,   1.,   5.,   1.,\n",
       "         10.,   4.,   0.,   0.,   0.,   0.,   0.,   0.,   4.]),\n",
       " array([ 98.364 ,  98.3874,  98.4108,  98.4342,  98.4576,  98.481 ,\n",
       "         98.5044,  98.5278,  98.5512,  98.5746,  98.598 ,  98.6214,\n",
       "         98.6448,  98.6682,  98.6916,  98.715 ,  98.7384,  98.7618,\n",
       "         98.7852,  98.8086,  98.832 ]),\n",
       " <a list of 20 Patch objects>)"
      ]
     },
     "execution_count": 58,
     "metadata": {},
     "output_type": "execute_result"
    },
    {
     "data": {
      "image/png": "[encoded data removed]",
      "text/plain": [
       "<matplotlib.figure.Figure at 0x7fc65ac3bb90>"
      ]
     },
     "metadata": {},
     "output_type": "display_data"
    }
   ],
   "source": [
    "plt.hist(rewards[rewards > 50], bins=20)"
   ]
  },
  {
   "cell_type": "markdown",
   "metadata": {},
   "source": [
    "# Rigorous Testing\n",
    "\n",
    "OK.  So now we know we can actually solve this problem, and we'd like to\n",
    "explore when this algorithm works and when it doesn't.  To figure out the\n",
    "best way to go about this this testing, let's list what \"knobs\" we have\n",
    "and what \"dials\" we're looking at:\n",
    "\n",
    "Knobs:  \n",
    "* rbf basis: anchor points + how many\n",
    "* poly basis: order\n",
    "* discount\n",
    "* environment\n",
    "* number of testing episodes\n",
    "* data\n",
    "    * quantity\n",
    "    * distribution (random vs. educated policy)\n",
    "\n",
    "Dials:  \n",
    "* total reward\n",
    "* total steps\n",
    "* action distribution (since we're working in discrete this is p easy, could estimate some parametric dist. in continuous)\n",
    "\n",
    "\n",
    "## initial thoughts\n",
    "\n",
    "* we can sample from our observation space for new anchor points\n",
    "    * however, since the env. puts a $(-\\infty, \\infty)$ bound on velocities this will result in poor anchors\n",
    "    * I can get the bounds from a space and just \"clip\" them to reasonable amounts and create a new space\n",
    "* if we want to examine rbf + poly, we need a composite basis.  just going to use RBF for now\n",
    "* w/ reward + steps we can get avg. reward\n",
    "* Id like a dictionary for each testing event, as then I can do post-processing in pandas"
   ]
  },
  {
   "cell_type": "markdown",
   "metadata": {},
   "source": [
    "Now we can use this generator in place of previous anchor points.  Now lets\n",
    "develop a framework for providing our inputs.  Not sure if some sort of \n",
    "object or simply a function makes more sense here."
   ]
  },
  {
   "cell_type": "code",
   "execution_count": null,
   "metadata": {
    "collapsed": true
   },
   "outputs": [],
   "source": [
    "from lspi.policy import Policy\n",
    "\n",
    "def run_test(policy, env, num_episodes = 100):\n",
    "    numsteps = []\n",
    "    action_ratio = []\n",
    "    rewards = []\n",
    "\n",
    "    for episode in range(num_episodes):\n",
    "        state = env.reset()\n",
    "        done = False\n",
    "        steps = 0\n",
    "        total_reward = 0\n",
    "        actions = []\n",
    "        while not done:\n",
    "            action = policy(state)\n",
    "            state, reward, done, _ = env.step(action)\n",
    "            actions.append(action)\n",
    "            total_reward += reward\n",
    "            steps += 1\n",
    "        rewards.append(total_reward)\n",
    "        numsteps.append(steps)\n",
    "        action_ratio.append(np.mean(actions))\n",
    "        \n",
    "    return {\"steps\": numsteps, \"rewards\": rewards, \"action_ratio\": action_ratio}"
   ]
  },
  {
   "cell_type": "code",
   "execution_count": null,
   "metadata": {
    "collapsed": true
   },
   "outputs": [],
   "source": [
    "results = run_test(lspi.policy, env, num_episodes=10)"
   ]
  }
 ],
 "metadata": {
  "kernelspec": {
   "display_name": "Python 2",
   "language": "python",
   "name": "python2"
  },
  "language_info": {
   "codemirror_mode": {
    "name": "ipython",
    "version": 2
   },
   "file_extension": ".py",
   "mimetype": "text/x-python",
   "name": "python",
   "nbconvert_exporter": "python",
   "pygments_lexer": "ipython2",
   "version": "2.7.12"
  }
 },
 "nbformat": 4,
 "nbformat_minor": 2
}
