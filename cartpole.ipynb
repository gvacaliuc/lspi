{
 "cells": [
  {
   "cell_type": "code",
   "execution_count": 1,
   "metadata": {},
   "outputs": [],
   "source": [
    "import numpy as np\n",
    "import matplotlib.pyplot as plt\n",
    "%matplotlib inline"
   ]
  },
  {
   "cell_type": "code",
   "execution_count": 3,
   "metadata": {},
   "outputs": [],
   "source": [
    "plt.rcParams[\"figure.figsize\"] = 10, 6"
   ]
  },
  {
   "cell_type": "code",
   "execution_count": 4,
   "metadata": {},
   "outputs": [],
   "source": [
    "%load_ext autoreload\n",
    "%autoreload 2"
   ]
  },
  {
   "cell_type": "code",
   "execution_count": 16,
   "metadata": {},
   "outputs": [],
   "source": [
    "import gym\n",
    "\n",
    "from lspi.util import generate_sample_data\n",
    "\n",
    "from lspi.policy import RandomPolicy, DiscreteActionBasisPolicy\n",
    "from lspi.basis import IndActionPolyStateBasis\n",
    "\n",
    "from lspi.optim import LSPI\n",
    "from lspi.optim import LSTDQ"
   ]
  },
  {
   "cell_type": "markdown",
   "metadata": {},
   "source": [
    "# CartPole Debugging\n",
    "\n",
    "OK, so cartpole isn't working at all.  The policy learnts to move left\n",
    "in all states.  I might try to get some rendering working real quick just\n",
    "to make sure I'm not doing anything crazy... I'm missing an OpenGL library \n",
    "in this container...  But then I'd have to recreate the container... This\n",
    "is probably why @cannon used so much docker commit hahaah"
   ]
  },
  {
   "cell_type": "markdown",
   "metadata": {},
   "source": [
    "## Better Bases\n",
    "\n",
    "While that's installing / building, let's check out what features we should \n",
    "be using.  Shamelessly going to pull from @jack here.  Looks like \n",
    "these are the features that work best for CartPole:\n",
    "\n",
    "```python\n",
    "def get_cartpole_basis_functions_v2():\n",
    "    '''\n",
    "    Returns a list of basis functions that seem \n",
    "    to work well for the simplified (no singularity, starting above the horizon)\n",
    "    cartpole problem.\n",
    "    \n",
    "    Note: this one seems to work the best so far.\n",
    "    '''\n",
    "    s1 = np.array([1,1,1,1])\n",
    "    s2 = np.array([0,0,0,0])\n",
    "    s3 = np.array([1,0,1,0])\n",
    "\n",
    "    bf1 = lambda s,a: 1\n",
    "\n",
    "    bf2 = lambda s,a: int(a==0)*np.exp( - np.linalg.norm(s-s1)/2.0)\n",
    "    bf3 = lambda s,a: int(a==1)*np.exp( - np.linalg.norm(s-s1)/2.0)\n",
    "\n",
    "    bf4 = lambda s,a: int(a==0)*np.exp( - np.linalg.norm(s-s2)/2.0)\n",
    "    bf5 = lambda s,a: int(a==1)*np.exp( - np.linalg.norm(s-s2)/2.0)\n",
    "\n",
    "    bf6 = lambda s,a: int(a==0)*np.exp( - np.linalg.norm(s-s3)/2.0)\n",
    "    bf7 = lambda s,a: int(a==1)*np.exp( - np.linalg.norm(s-s3)/2.0)\n",
    "    \n",
    "    \n",
    "    bfs = [bf1,bf2, bf3, bf4, bf5, bf6, bf7]\n",
    "    \n",
    "    return bfs\n",
    "```"
   ]
  },
  {
   "cell_type": "code",
   "execution_count": 10,
   "metadata": {},
   "outputs": [],
   "source": [
    "from environments import NChainEnv\n",
    "\n",
    "length = 10\n",
    "\n",
    "# first and last states have a reward\n",
    "reward = np.zeros(length)\n",
    "reward[2] = 1\n",
    "reward[7] = 1\n",
    "\n",
    "env = NChainEnv(reward, slip=0.0, wrap=False)"
   ]
  },
  {
   "cell_type": "code",
   "execution_count": 12,
   "metadata": {},
   "outputs": [],
   "source": [
    "data = generate_sample_data(1e4, env, RandomPolicy(env))\n",
    "basis = IndActionPolyStateBasis(env.action_space, env.observation_space, order=3)\n",
    "lstdq = LSTDQ(basis, discount=0.7)\n",
    "dabp = DiscreteActionBasisPolicy(env.action_space, basis, np.zeros(basis.rank))"
   ]
  },
  {
   "cell_type": "code",
   "execution_count": 13,
   "metadata": {},
   "outputs": [
    {
     "data": {
      "text/plain": [
       "array([ 1.        ,  0.60653066,  0.36787944,  0.22313016,  0.13533528,\n",
       "        0.082085  ,  0.04978707,  0.03019738,  0.01831564,  0.011109  ,\n",
       "        0.        ,  0.        ,  0.        ,  0.        ,  0.        ,\n",
       "        0.        ,  0.        ,  0.        ,  0.        ,  0.        ])"
      ]
     },
     "execution_count": 13,
     "metadata": {},
     "output_type": "execute_result"
    }
   ],
   "source": [
    "from lspi.basis import IndActionRBFStateBasis\n",
    "\n",
    "basis = IndActionRBFStateBasis(list(range(env.observation_space.n)), env.action_space, env.observation_space)\n",
    "basis(0, 0)"
   ]
  },
  {
   "cell_type": "code",
   "execution_count": 14,
   "metadata": {},
   "outputs": [
    {
     "data": {
      "text/plain": [
       "array([ 0.        ,  0.        ,  0.        ,  0.        ,  0.        ,\n",
       "        0.        ,  0.        ,  0.        ,  0.        ,  0.        ,\n",
       "        1.        ,  0.60653066,  0.36787944,  0.22313016,  0.13533528,\n",
       "        0.082085  ,  0.04978707,  0.03019738,  0.01831564,  0.011109  ])"
      ]
     },
     "execution_count": 14,
     "metadata": {},
     "output_type": "execute_result"
    }
   ],
   "source": [
    "basis(0, 1)"
   ]
  },
  {
   "cell_type": "code",
   "execution_count": 17,
   "metadata": {},
   "outputs": [],
   "source": [
    "env = gym.make(\"CartPole-v0\")"
   ]
  },
  {
   "cell_type": "code",
   "execution_count": 46,
   "metadata": {},
   "outputs": [],
   "source": [
    "data = generate_sample_data(1e4, env, RandomPolicy(env))\n",
    "basis = IndActionRBFStateBasis(np.array([\n",
    "    np.array([1,1,0.2,1]),\n",
    "    np.array([0,0,0,0]),\n",
    "    np.array([1,0,0.2,0])\n",
    "]), env.action_space, env.observation_space)\n",
    "lstdq = LSTDQ(basis, discount=0.7)\n",
    "dabp = DiscreteActionBasisPolicy(env.action_space, basis, np.zeros(basis.rank))"
   ]
  },
  {
   "cell_type": "code",
   "execution_count": 38,
   "metadata": {},
   "outputs": [
    {
     "data": {
      "text/plain": [
       "<lspi.optim.LSPI at 0x7fbcda248550>"
      ]
     },
     "execution_count": 38,
     "metadata": {},
     "output_type": "execute_result"
    }
   ],
   "source": [
    "lspi = LSPI(lstdq, dabp, max_iter=50, epsilon=1e-3)\n",
    "lspi.fit(data)"
   ]
  },
  {
   "cell_type": "code",
   "execution_count": 39,
   "metadata": {},
   "outputs": [
    {
     "data": {
      "text/plain": [
       "3"
      ]
     },
     "execution_count": 39,
     "metadata": {},
     "output_type": "execute_result"
    }
   ],
   "source": [
    "lspi.itr_"
   ]
  },
  {
   "cell_type": "code",
   "execution_count": 40,
   "metadata": {},
   "outputs": [
    {
     "data": {
      "text/plain": [
       "<matplotlib.legend.Legend at 0x7fbcd7cba978>"
      ]
     },
     "execution_count": 40,
     "metadata": {},
     "output_type": "execute_result"
    },
    {
     "data": {
      "image/png": "[encoded data removed]",
      "text/plain": [
       "<Figure size 720x432 with 1 Axes>"
      ]
     },
     "metadata": {
      "needs_background": "light"
     },
     "output_type": "display_data"
    }
   ],
   "source": [
    "for ind, line in enumerate(lspi.policy.history_):\n",
    "    plt.plot(line, label=f\"{ind}\")\n",
    "plt.legend()"
   ]
  },
  {
   "cell_type": "code",
   "execution_count": 41,
   "metadata": {},
   "outputs": [],
   "source": [
    "numsteps = []\n",
    "actions = []\n",
    "\n",
    "for episode in range(1000):\n",
    "    state = env.reset()\n",
    "    done = False\n",
    "    steps = 0\n",
    "    while not done:\n",
    "        action = lspi.policy(state)\n",
    "        actions.append(action)\n",
    "        state, reward, done, _ = env.step(action)\n",
    "        steps += 1\n",
    "    numsteps.append(steps)\n",
    "#     print(f\"Episode {episode}, Steps: {steps}\")"
   ]
  },
  {
   "cell_type": "code",
   "execution_count": 42,
   "metadata": {},
   "outputs": [
    {
     "data": {
      "text/plain": [
       "0.54757901543933396"
      ]
     },
     "execution_count": 42,
     "metadata": {},
     "output_type": "execute_result"
    }
   ],
   "source": [
    "np.mean(actions)"
   ]
  },
  {
   "cell_type": "code",
   "execution_count": 43,
   "metadata": {},
   "outputs": [
    {
     "data": {
      "text/plain": [
       "0.079000000000000001"
      ]
     },
     "execution_count": 43,
     "metadata": {},
     "output_type": "execute_result"
    }
   ],
   "source": [
    "(np.array(numsteps) > 195).mean()"
   ]
  },
  {
   "cell_type": "code",
   "execution_count": 44,
   "metadata": {},
   "outputs": [
    {
     "data": {
      "text/plain": [
       "(array([   1.,    0.,   83.,  250.,  192.,  108.,  110.,  134.,   25.,   97.]),\n",
       " array([  33. ,   49.7,   66.4,   83.1,   99.8,  116.5,  133.2,  149.9,\n",
       "         166.6,  183.3,  200. ]),\n",
       " <a list of 10 Patch objects>)"
      ]
     },
     "execution_count": 44,
     "metadata": {},
     "output_type": "execute_result"
    },
    {
     "data": {
      "image/png": "[encoded data removed]",
      "text/plain": [
       "<Figure size 720x432 with 1 Axes>"
      ]
     },
     "metadata": {
      "needs_background": "light"
     },
     "output_type": "display_data"
    }
   ],
   "source": [
    "plt.hist(numsteps)"
   ]
  },
  {
   "cell_type": "markdown",
   "metadata": {},
   "source": [
    "# Rigorous Testing\n",
    "\n",
    "OK.  So now we know we can actually solve this problem, and we'd like to\n",
    "explore when this algorithm works and when it doesn't.  To figure out the\n",
    "best way to go about this this testing, let's list what \"knobs\" we have\n",
    "and what \"dials\" we're looking at:\n",
    "\n",
    "Knobs:  \n",
    "* rbf basis: anchor points + how many\n",
    "* poly basis: order\n",
    "* discount\n",
    "* environment\n",
    "* number of testing episodes\n",
    "* data\n",
    "    * quantity\n",
    "    * distribution (random vs. educated policy)\n",
    "\n",
    "Dials:  \n",
    "* total reward\n",
    "* total steps\n",
    "* action distribution (since we're working in discrete this is p easy, could estimate some parametric dist. in continuous)\n",
    "\n",
    "\n",
    "## initial thoughts\n",
    "\n",
    "* we can sample from our observation space for new anchor points\n",
    "    * however, since the env. puts a $(-\\infty, \\infty)$ bound on velocities this will result in poor anchors\n",
    "    * I can get the bounds from a space and just \"clip\" them to reasonable amounts and create a new space\n",
    "* if we want to examine rbf + poly, we need a composite basis.  just going to use RBF for now\n",
    "* w/ reward + steps we can get avg. reward\n",
    "* Id like a dictionary for each testing event, as then I can do post-processing in pandas"
   ]
  },
  {
   "cell_type": "code",
   "execution_count": 135,
   "metadata": {},
   "outputs": [],
   "source": [
    "from lspi.util import BoxAnchorGen"
   ]
  },
  {
   "cell_type": "code",
   "execution_count": 136,
   "metadata": {},
   "outputs": [
    {
     "name": "stdout",
     "output_type": "stream",
     "text": [
      "[ 3.5605166   4.18046188  0.29054165  6.70170069]\n",
      "[-1.62254131  9.98726749 -0.11140626 -6.29185772]\n",
      "[-4.5954771   2.33261633  0.33222231  1.66064763]\n",
      "[ 1.57471728 -3.32181382 -0.40348908 -3.81555319]\n",
      "[-2.40129352 -0.169222    0.27754125  2.92321944]\n",
      "[ 2.04955292  0.31891954  0.01068337  8.76551247]\n",
      "[-1.70209336  6.64287424 -0.32288656  6.76946497]\n",
      "[-3.09957838 -3.77883482 -0.09378404 -2.89221382]\n",
      "[ 3.11564565 -6.96331549 -0.30222771 -5.6723361 ]\n",
      "[ 2.52373934 -4.31995249 -0.24049327  2.69021225]\n"
     ]
    }
   ],
   "source": [
    "gen = BoxAnchorGen(n=10, space=env.observation_space, low=-10, high=10)\n",
    "gen = list(gen)\n",
    "for anch in gen:\n",
    "    print(anch)"
   ]
  },
  {
   "cell_type": "markdown",
   "metadata": {},
   "source": [
    "Now we can use this generator in place of previous anchor points.  Now lets\n",
    "develop a framework for providing our inputs.  Not sure if some sort of \n",
    "object or simply a function makes more sense here."
   ]
  },
  {
   "cell_type": "code",
   "execution_count": 137,
   "metadata": {},
   "outputs": [],
   "source": [
    "data = generate_sample_data(1e4, env, RandomPolicy(env))\n",
    "anchors = BoxAnchorGen(n=10, space=env.observation_space, low=-1, high=1)\n",
    "basis = IndActionRBFStateBasis(anchors, env.action_space, env.observation_space)\n",
    "lstdq = LSTDQ(basis, discount=0.7)\n",
    "dabp = DiscreteActionBasisPolicy(env.action_space, basis, np.zeros(basis.rank))"
   ]
  },
  {
   "cell_type": "code",
   "execution_count": 138,
   "metadata": {},
   "outputs": [
    {
     "data": {
      "text/plain": [
       "<lspi.optim.LSPI at 0x7fbcd69d8710>"
      ]
     },
     "execution_count": 138,
     "metadata": {},
     "output_type": "execute_result"
    }
   ],
   "source": [
    "lspi = LSPI(lstdq, dabp, max_iter=50, epsilon=1e-3)\n",
    "lspi.fit(data)"
   ]
  },
  {
   "cell_type": "code",
   "execution_count": 139,
   "metadata": {},
   "outputs": [
    {
     "data": {
      "text/plain": [
       "4"
      ]
     },
     "execution_count": 139,
     "metadata": {},
     "output_type": "execute_result"
    }
   ],
   "source": [
    "lspi.itr_"
   ]
  },
  {
   "cell_type": "code",
   "execution_count": 140,
   "metadata": {},
   "outputs": [],
   "source": [
    "numsteps = []\n",
    "actions = []\n",
    "\n",
    "for episode in range(1000):\n",
    "    state = env.reset()\n",
    "    done = False\n",
    "    steps = 0\n",
    "    while not done:\n",
    "        action = lspi.policy(state)\n",
    "        actions.append(action)\n",
    "        state, reward, done, _ = env.step(action)\n",
    "        steps += 1\n",
    "    numsteps.append(steps)\n",
    "#     print(f\"Episode {episode}, Steps: {steps}\")"
   ]
  },
  {
   "cell_type": "code",
   "execution_count": 141,
   "metadata": {},
   "outputs": [
    {
     "data": {
      "text/plain": [
       "0.066000000000000003"
      ]
     },
     "execution_count": 141,
     "metadata": {},
     "output_type": "execute_result"
    }
   ],
   "source": [
    "(np.array(numsteps) > 195).mean()"
   ]
  },
  {
   "cell_type": "code",
   "execution_count": 142,
   "metadata": {},
   "outputs": [
    {
     "data": {
      "text/plain": [
       "(array([  31.,   35.,   34.,   39.,  129.,  154.,  207.,  162.,   98.,  111.]),\n",
       " array([  28. ,   45.2,   62.4,   79.6,   96.8,  114. ,  131.2,  148.4,\n",
       "         165.6,  182.8,  200. ]),\n",
       " <a list of 10 Patch objects>)"
      ]
     },
     "execution_count": 142,
     "metadata": {},
     "output_type": "execute_result"
    },
    {
     "data": {
      "image/png": "[encoded data removed]",
      "text/plain": [
       "<Figure size 720x432 with 1 Axes>"
      ]
     },
     "metadata": {
      "needs_background": "light"
     },
     "output_type": "display_data"
    }
   ],
   "source": [
    "plt.hist(numsteps)"
   ]
  },
  {
   "cell_type": "code",
   "execution_count": 144,
   "metadata": {},
   "outputs": [],
   "source": [
    "from lspi.policy import Policy\n",
    "\n",
    "def run_test(policy: Policy, env: gym.Env, num_episodes: int = 100) -> dict:\n",
    "    numsteps = []\n",
    "    action_ratio = []\n",
    "    rewards = []\n",
    "\n",
    "    for episode in range(num_episodes):\n",
    "        state = env.reset()\n",
    "        done = False\n",
    "        steps = 0\n",
    "        total_reward = 0\n",
    "        actions = []\n",
    "        while not done:\n",
    "            action = policy(state)\n",
    "            state, reward, done, _ = env.step(action)\n",
    "            actions.append(action)\n",
    "            total_reward += reward\n",
    "            steps += 1\n",
    "        rewards.append(total_reward)\n",
    "        numsteps.append(steps)\n",
    "        action_ratio.append(np.mean(actions))\n",
    "        \n",
    "    return {\"steps\": numsteps, \"rewards\": rewards, \"action_ratio\": action_ratio}"
   ]
  },
  {
   "cell_type": "code",
   "execution_count": 146,
   "metadata": {},
   "outputs": [],
   "source": [
    "results = run_test(lspi.policy, env)"
   ]
  },
  {
   "cell_type": "code",
   "execution_count": 157,
   "metadata": {},
   "outputs": [
    {
     "data": {
      "text/plain": [
       "<matplotlib.axes._subplots.AxesSubplot at 0x7fbcd4900cf8>"
      ]
     },
     "execution_count": 157,
     "metadata": {},
     "output_type": "execute_result"
    },
    {
     "data": {
      "image/png": "[encoded data removed]",
      "text/plain": [
       "<Figure size 720x432 with 1 Axes>"
      ]
     },
     "metadata": {
      "needs_background": "light"
     },
     "output_type": "display_data"
    }
   ],
   "source": [
    "import pandas as pd\n",
    "\n",
    "pd.DataFrame(results).rewards.plot.hist(title = \"Reward per Episode\")"
   ]
  }
 ],
 "metadata": {
  "kernelspec": {
   "display_name": "Python 3",
   "language": "python",
   "name": "python3"
  },
  "language_info": {
   "codemirror_mode": {
    "name": "ipython",
    "version": 3
   },
   "file_extension": ".py",
   "mimetype": "text/x-python",
   "name": "python",
   "nbconvert_exporter": "python",
   "pygments_lexer": "ipython3",
   "version": "3.6.8"
  }
 },
 "nbformat": 4,
 "nbformat_minor": 2
}
