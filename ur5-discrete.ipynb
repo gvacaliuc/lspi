{
 "cells": [
  {
   "cell_type": "markdown",
   "metadata": {},
   "source": [
    "# Running LSPI on the UR5"
   ]
  },
  {
   "cell_type": "code",
   "execution_count": 1,
   "metadata": {
    "collapsed": true
   },
   "outputs": [],
   "source": [
    "from __future__ import print_function\n",
    "import rosgym\n",
    "import gym\n",
    "import numpy as np\n",
    "import os\n",
    "import rospy\n",
    "import imp\n",
    "import random\n",
    "import requests\n",
    "import time\n",
    "import yaml\n",
    "from os import path"
   ]
  },
  {
   "cell_type": "code",
   "execution_count": 2,
   "metadata": {
    "collapsed": true
   },
   "outputs": [],
   "source": [
    "%load_ext autoreload\n",
    "%autoreload 2"
   ]
  },
  {
   "cell_type": "code",
   "execution_count": 3,
   "metadata": {
    "collapsed": true
   },
   "outputs": [],
   "source": [
    "import sys\n",
    "sys.path.append(os.path.dirname(os.getcwd()) + \"/rl_agents/python\")"
   ]
  },
  {
   "cell_type": "code",
   "execution_count": 4,
   "metadata": {
    "collapsed": true
   },
   "outputs": [],
   "source": [
    "import basic_agents\n",
    "from geometry_msgs.msg import PointStamped\n",
    "from visualization_msgs.msg import Marker"
   ]
  },
  {
   "cell_type": "code",
   "execution_count": 19,
   "metadata": {
    "collapsed": true
   },
   "outputs": [],
   "source": [
    "def make_environment(robot_conf_file, planning_group, num_joints, z_limit,\n",
    "                     x_limits, y_limits, **kwargs):\n",
    "    \"\"\"\n",
    "    Creates an OpenAI Gym environment corresponding to the supplied robot\n",
    "    configuration file, and configuration options.\n",
    "\n",
    "    :return: rosgym environment\n",
    "    \"\"\"\n",
    "\n",
    "    env = rosgym.make_randomgoal_robot_env(\n",
    "        \"ur5_config_random_goal\", robot_conf_file, planning_group, num_joints,\n",
    "        z_limit, x_limits[0], x_limits[1], y_limits[0], y_limits[1])\n",
    "    return env\n",
    "\n",
    "class SimpleConfig(object):\n",
    "    def __init__(self, config, defaults):\n",
    "        self._config = config\n",
    "        self._defaults = defaults\n",
    "\n",
    "    def __getitem__(self, key):\n",
    "        return self._config.get(key, self._defaults.get(key))"
   ]
  },
  {
   "cell_type": "code",
   "execution_count": 6,
   "metadata": {
    "collapsed": true
   },
   "outputs": [],
   "source": [
    "defaults = {\n",
    "    \"robot_conf_file\":\n",
    "    \"/home/cannon/rl_wksp/src/rosgym/src/rosgym/ur5_config_random_goal.py\",\n",
    "    \"planning_group\":\n",
    "    \"manipulator\",\n",
    "    \"num_joints\":\n",
    "    6,\n",
    "    \"z_limit\":\n",
    "    2.0,\n",
    "    \"x_min\":\n",
    "    -2.0,\n",
    "    \"x_max\":\n",
    "    2.0,\n",
    "    \"y_min\":\n",
    "    -2.0,\n",
    "    \"y_max\":\n",
    "    2.0,\n",
    "    \"num_tests\":\n",
    "    10,\n",
    "    \"num_episodes\":\n",
    "    100,\n",
    "}"
   ]
  },
  {
   "cell_type": "code",
   "execution_count": 7,
   "metadata": {},
   "outputs": [
    {
     "name": "stdout",
     "output_type": "stream",
     "text": [
      "Attempting to make the rosgym environment...\n"
     ]
    },
    {
     "name": "stderr",
     "output_type": "stream",
     "text": [
      "Connecting to control group manipulator\n",
      "Found move groups: ['endeffector', 'forearm', 'manipulator', 'shoulder', 'upper_arm', 'wrist_1', 'wrist_2']\n",
      "Found planning scene: <moveit_commander.planning_scene_interface.PlanningSceneInterface object at 0x7f157ba9c250>\n"
     ]
    },
    {
     "name": "stdout",
     "output_type": "stream",
     "text": [
      "Connecting reset handler\n",
      "Finished connecting wt_commander\n",
      "Set up MoveGroupInterface\n",
      "[INFO] [1551987581.427874, 156.731000]: Waiting for get_planning_scene\n",
      "Set up PlanningSceneInterface\n",
      "Initialized SimpleActionClient\n"
     ]
    },
    {
     "name": "stderr",
     "output_type": "stream",
     "text": [
      "Finished connecting reset handler\n",
      "Waiting for sensor /joint_states\n",
      "Got initial data for sensor /joint_states\n",
      "RobotAgent_UR5 has been initialized.\n",
      "Finished initializing robot\n",
      "Initialized sensors\n",
      "Connecting to control group manipulator\n"
     ]
    },
    {
     "name": "stdout",
     "output_type": "stream",
     "text": [
      "Finished waiting\n"
     ]
    },
    {
     "name": "stderr",
     "output_type": "stream",
     "text": [
      "Initialized move groups and joints\n",
      "Initialized service proxies\n",
      "Getting new goal\n",
      "Sampling new goal\n",
      "Goal is: [0.1463327426866397, -0.5179436805265596, 0.8069362178323958]\n"
     ]
    },
    {
     "name": "stdout",
     "output_type": "stream",
     "text": [
      "Finding new goal pose\n",
      "Finding new goal pose\n",
      "Found goal pose: x: 0.146332742687\n",
      "y: -0.517943680527\n",
      "z: 0.806936217832\n",
      "Made the rosgym environment...\n"
     ]
    }
   ],
   "source": [
    "sc = SimpleConfig({}, defaults)\n",
    "\n",
    "# make our random agent\n",
    "print(\"Attempting to make the rosgym environment...\")\n",
    "env = make_environment(sc[\"robot_conf_file\"], sc[\"planning_group\"],\n",
    "                       sc[\"num_joints\"], sc[\"z_limit\"], [sc[\"x_min\"], sc[\"x_max\"]],\n",
    "                       [sc[\"y_min\"], sc[\"y_max\"]])\n",
    "print(\"Made the rosgym environment...\")"
   ]
  },
  {
   "cell_type": "markdown",
   "metadata": {},
   "source": [
    "## generating sample data"
   ]
  },
  {
   "cell_type": "code",
   "execution_count": 8,
   "metadata": {
    "scrolled": true
   },
   "outputs": [
    {
     "name": "stdout",
     "output_type": "stream",
     "text": [
      "Planning to [1.5707963267948966, 0.7853981633974483, 0, 0, 0, 0]  on joints  ['elbow_joint', 'shoulder_lift_joint', 'shoulder_pan_joint', 'wrist_1_joint', 'wrist_2_joint', 'wrist_3_joint']\n",
      "Successfully planned to position. Executing trajectory.\n"
     ]
    },
    {
     "name": "stderr",
     "output_type": "stream",
     "text": [
      "Sampling new goal\n"
     ]
    },
    {
     "name": "stdout",
     "output_type": "stream",
     "text": [
      "Finding new goal pose\n",
      "Finding new goal pose\n",
      "Finding new goal pose\n",
      "Finding new goal pose\n",
      "Finding new goal pose\n",
      "Found goal pose: x: 0.185095170431\n",
      "y: 0.154141808811\n",
      "z: 0.722175848456\n",
      "New target pose: [0.18509517043120505, 0.1541418088114775, 0.7221758484559793]\n"
     ]
    }
   ],
   "source": [
    "from lspi.policy import RandomPolicy\n",
    "from lspi.util import generate_sample_data\n",
    "\n",
    "rp = RandomPolicy(env)\n",
    "data = generate_sample_data(1e3, env, rp)"
   ]
  },
  {
   "cell_type": "code",
   "execution_count": 9,
   "metadata": {
    "collapsed": true
   },
   "outputs": [],
   "source": [
    "from lspi.basis import DiscreteRBFTupleBasis\n",
    "from lspi.util import BoxAnchorGen"
   ]
  },
  {
   "cell_type": "code",
   "execution_count": 10,
   "metadata": {
    "collapsed": true
   },
   "outputs": [],
   "source": [
    "anchor_list = [\n",
    "    BoxAnchorGen(n=10, space=space)\n",
    "    for space in env.observation_space.spaces\n",
    "]"
   ]
  },
  {
   "cell_type": "markdown",
   "metadata": {},
   "source": [
    "### discretize the action space"
   ]
  },
  {
   "cell_type": "code",
   "execution_count": 17,
   "metadata": {
    "collapsed": true
   },
   "outputs": [],
   "source": [
    "from lspi.util import random_discretization\n",
    "from lspi.optim import LSTDQ\n",
    "from lspi.policy import DiscreteActionBasisPolicy"
   ]
  },
  {
   "cell_type": "code",
   "execution_count": 13,
   "metadata": {
    "collapsed": true
   },
   "outputs": [],
   "source": [
    "n = 30\n",
    "das = gym.spaces.Discrete(n)\n",
    "actions = random_discretization(env.action_space, n)"
   ]
  },
  {
   "cell_type": "code",
   "execution_count": 18,
   "metadata": {
    "collapsed": true
   },
   "outputs": [],
   "source": [
    "basis = DiscreteRBFTupleBasis(anchor_list, das, env.observation_space)\n",
    "lstdq = LSTDQ(basis, discount=0.7)\n",
    "dabp = DiscreteActionBasisPolicy(das, basis, np.zeros(basis.rank))"
   ]
  },
  {
   "cell_type": "code",
   "execution_count": null,
   "metadata": {
    "collapsed": true
   },
   "outputs": [],
   "source": []
  },
  {
   "cell_type": "code",
   "execution_count": null,
   "metadata": {
    "collapsed": true
   },
   "outputs": [],
   "source": [
    "print(\"Testing random agent: {}\".format(agent))\n",
    "\n",
    "for test in xrange(sc[\"num_tests\"]):\n",
    "\n",
    "    print(\"Test #: {}\".format(test))\n",
    "    state = agent.reset()\n",
    "\n",
    "    actions = []\n",
    "\n",
    "    for episode in xrange(sc[\"num_episodes\"]):\n",
    "\n",
    "        print(\"Episode #: {}\".format(episode))\n",
    "        try:\n",
    "            state, action, reward, next_state, done = agent.step(\n",
    "                test, episode, testing=True)\n",
    "            actions.append(action)\n",
    "        except Exception as err:\n",
    "            print(err)\n",
    "\n",
    "        # state, action, reward, next_state, done = agent.step(i, episode)\n",
    "        if reward > 0:\n",
    "            success = True\n",
    "\n",
    "        if done:\n",
    "            break\n",
    "\n",
    "    print(\"Test actions: {}\".format(actions))"
   ]
  }
 ],
 "metadata": {
  "kernelspec": {
   "display_name": "Python 2",
   "language": "python",
   "name": "python2"
  },
  "language_info": {
   "codemirror_mode": {
    "name": "ipython",
    "version": 2
   },
   "file_extension": ".py",
   "mimetype": "text/x-python",
   "name": "python",
   "nbconvert_exporter": "python",
   "pygments_lexer": "ipython2",
   "version": "2.7.12"
  }
 },
 "nbformat": 4,
 "nbformat_minor": 2
}
