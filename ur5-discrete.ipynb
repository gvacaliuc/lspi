{
 "cells": [
  {
   "cell_type": "markdown",
   "metadata": {},
   "source": [
    "# Running LSPI on the UR5"
   ]
  },
  {
   "cell_type": "code",
   "execution_count": 1,
   "metadata": {
    "collapsed": true
   },
   "outputs": [],
   "source": [
    "from __future__ import print_function\n",
    "import rosgym\n",
    "import gym\n",
    "import numpy as np\n",
    "import os\n",
    "import rospy\n",
    "import imp\n",
    "import random\n",
    "import requests\n",
    "import time\n",
    "import yaml\n",
    "from os import path"
   ]
  },
  {
   "cell_type": "code",
   "execution_count": 2,
   "metadata": {
    "collapsed": true
   },
   "outputs": [],
   "source": [
    "%load_ext autoreload\n",
    "%autoreload 2"
   ]
  },
  {
   "cell_type": "code",
   "execution_count": 3,
   "metadata": {
    "collapsed": true
   },
   "outputs": [],
   "source": [
    "import sys\n",
    "sys.path.append(os.path.dirname(os.getcwd()) + \"/rl_agents/python\")"
   ]
  },
  {
   "cell_type": "code",
   "execution_count": 4,
   "metadata": {
    "collapsed": true
   },
   "outputs": [],
   "source": [
    "import basic_agents\n",
    "from geometry_msgs.msg import PointStamped\n",
    "from visualization_msgs.msg import Marker"
   ]
  },
  {
   "cell_type": "code",
   "execution_count": 5,
   "metadata": {
    "collapsed": true
   },
   "outputs": [],
   "source": [
    "def make_environment(robot_conf_file, planning_group, num_joints, z_limit,\n",
    "                     x_limits, y_limits, **kwargs):\n",
    "    \"\"\"\n",
    "    Creates an OpenAI Gym environment corresponding to the supplied robot\n",
    "    configuration file, and configuration options.\n",
    "\n",
    "    :return: rosgym environment\n",
    "    \"\"\"\n",
    "\n",
    "    env = rosgym.make_randomgoal_robot_env(\n",
    "        \"ur5_config_random_goal\", robot_conf_file, planning_group, num_joints,\n",
    "        z_limit, x_limits[0], x_limits[1], y_limits[0], y_limits[1])\n",
    "    return env\n",
    "\n",
    "class SimpleConfig(object):\n",
    "    def __init__(self, config, defaults):\n",
    "        self._config = config\n",
    "        self._defaults = defaults\n",
    "\n",
    "    def __getitem__(self, key):\n",
    "        return self._config.get(key, self._defaults.get(key))"
   ]
  },
  {
   "cell_type": "code",
   "execution_count": 6,
   "metadata": {
    "collapsed": true
   },
   "outputs": [],
   "source": [
    "defaults = {\n",
    "    \"robot_conf_file\":\n",
    "    \"/home/cannon/rl_wksp/src/rosgym/src/rosgym/ur5_config_random_goal.py\",\n",
    "    \"planning_group\":\n",
    "    \"manipulator\",\n",
    "    \"num_joints\":\n",
    "    3,\n",
    "    \"z_limit\":\n",
    "    2.0,\n",
    "    \"x_min\":\n",
    "    -2.0,\n",
    "    \"x_max\":\n",
    "    2.0,\n",
    "    \"y_min\":\n",
    "    -2.0,\n",
    "    \"y_max\":\n",
    "    2.0,\n",
    "    \"num_tests\":\n",
    "    10,\n",
    "    \"num_episodes\":\n",
    "    100,\n",
    "}"
   ]
  },
  {
   "cell_type": "code",
   "execution_count": 7,
   "metadata": {},
   "outputs": [
    {
     "name": "stdout",
     "output_type": "stream",
     "text": [
      "Attempting to make the rosgym environment...\n"
     ]
    },
    {
     "name": "stderr",
     "output_type": "stream",
     "text": [
      "Connecting to control group manipulator\n",
      "Found move groups: ['endeffector', 'forearm', 'manipulator', 'shoulder', 'upper_arm', 'wrist_1', 'wrist_2']\n",
      "Found planning scene: <moveit_commander.planning_scene_interface.PlanningSceneInterface object at 0x7f8cdac18350>\n"
     ]
    },
    {
     "name": "stdout",
     "output_type": "stream",
     "text": [
      "Connecting reset handler\n",
      "Finished connecting wt_commander\n",
      "Set up MoveGroupInterface\n",
      "[INFO] [1554974447.056666, 46.088000]: Waiting for get_planning_scene\n",
      "Set up PlanningSceneInterface\n",
      "Initialized SimpleActionClient\n"
     ]
    },
    {
     "name": "stderr",
     "output_type": "stream",
     "text": [
      "Finished connecting reset handler\n",
      "Waiting for sensor /joint_states\n",
      "Got initial data for sensor /joint_states\n",
      "RobotAgent_UR5 has been initialized.\n",
      "Finished initializing robot\n",
      "Initialized sensors\n",
      "Connecting to control group manipulator\n"
     ]
    },
    {
     "name": "stdout",
     "output_type": "stream",
     "text": [
      "Finished waiting\n"
     ]
    },
    {
     "name": "stderr",
     "output_type": "stream",
     "text": [
      "Initialized move groups and joints\n",
      "Initialized service proxies\n",
      "Getting new goal\n",
      "Sampling new goal\n",
      "Goal is: [-0.3054623372679364, 0.18661042552733695, 0.5351967249896288]\n"
     ]
    },
    {
     "name": "stdout",
     "output_type": "stream",
     "text": [
      "Finding new goal pose\n",
      "Finding new goal pose\n",
      "Finding new goal pose\n",
      "Found goal pose: x: -0.305462337268\n",
      "y: 0.186610425527\n",
      "z: 0.53519672499\n",
      "Made the rosgym environment...\n"
     ]
    }
   ],
   "source": [
    "sc = SimpleConfig({}, defaults)\n",
    "\n",
    "# make our random agent\n",
    "print(\"Attempting to make the rosgym environment...\")\n",
    "ur5env = make_environment(sc[\"robot_conf_file\"], sc[\"planning_group\"],\n",
    "                       sc[\"num_joints\"], sc[\"z_limit\"], [sc[\"x_min\"], sc[\"x_max\"]],\n",
    "                       [sc[\"y_min\"], sc[\"y_max\"]])\n",
    "print(\"Made the rosgym environment...\")"
   ]
  },
  {
   "cell_type": "code",
   "execution_count": 8,
   "metadata": {},
   "outputs": [
    {
     "data": {
      "text/plain": [
       "array([-6.2831853, -6.2831853, -6.2831853])"
      ]
     },
     "execution_count": 8,
     "metadata": {},
     "output_type": "execute_result"
    }
   ],
   "source": [
    "ur5env.action_space.spaces[0].low"
   ]
  },
  {
   "cell_type": "code",
   "execution_count": 9,
   "metadata": {},
   "outputs": [
    {
     "data": {
      "text/plain": [
       "array([ 6.2831853,  6.2831853,  6.2831853])"
      ]
     },
     "execution_count": 9,
     "metadata": {},
     "output_type": "execute_result"
    }
   ],
   "source": [
    "ur5env.action_space.spaces[0].high"
   ]
  },
  {
   "cell_type": "code",
   "execution_count": 10,
   "metadata": {},
   "outputs": [
    {
     "data": {
      "text/plain": [
       "Tuple(Box(6,), Box(6,))"
      ]
     },
     "execution_count": 10,
     "metadata": {},
     "output_type": "execute_result"
    }
   ],
   "source": [
    "ur5env.observation_space"
   ]
  },
  {
   "cell_type": "markdown",
   "metadata": {},
   "source": [
    "So the low and high positions of our action space are $-2\\pi$ and $2\\pi$.\n",
    "A good start for working on the discretization would probably just be to \n",
    "uniformly chunk our action space."
   ]
  },
  {
   "cell_type": "code",
   "execution_count": 11,
   "metadata": {
    "collapsed": true
   },
   "outputs": [],
   "source": [
    "# this discretizer does that\n",
    "from lspi.util import ur5_discretizer"
   ]
  },
  {
   "cell_type": "code",
   "execution_count": 12,
   "metadata": {
    "collapsed": true
   },
   "outputs": [],
   "source": [
    "actions = ur5_discretizer(ur5env.action_space, 4)"
   ]
  },
  {
   "cell_type": "code",
   "execution_count": 13,
   "metadata": {},
   "outputs": [
    {
     "data": {
      "text/plain": [
       "(array([-6.2831853, -6.2831853, -6.2831853]),)"
      ]
     },
     "execution_count": 13,
     "metadata": {},
     "output_type": "execute_result"
    }
   ],
   "source": [
    "actions[0]"
   ]
  },
  {
   "cell_type": "markdown",
   "metadata": {},
   "source": [
    "## generating sample data\n",
    "\n",
    "We need to generate our sample data after we've already wrapped\n",
    "this space in a discrete action environment."
   ]
  },
  {
   "cell_type": "code",
   "execution_count": 14,
   "metadata": {
    "collapsed": true
   },
   "outputs": [],
   "source": [
    "from lspi.util import DiscreteEnvWrapper\n",
    "\n",
    "env = DiscreteEnvWrapper(ur5env, actions)"
   ]
  },
  {
   "cell_type": "code",
   "execution_count": 16,
   "metadata": {
    "scrolled": true
   },
   "outputs": [
    {
     "name": "stdout",
     "output_type": "stream",
     "text": [
      "Planning to [1.5707963267948966, 0.7853981633974483, 0, 0, 0, 0]  on joints  ['elbow_joint', 'shoulder_lift_joint', 'shoulder_pan_joint', 'wrist_1_joint', 'wrist_2_joint', 'wrist_3_joint']\n",
      "Failed to plan to trajectory!\n",
      "Retrying Reset...\n",
      "Planning to [1.5707963267948966, 0.7853981633974483, 0, 0, 0, 0]  on joints  ['elbow_joint', 'shoulder_lift_joint', 'shoulder_pan_joint', 'wrist_1_joint', 'wrist_2_joint', 'wrist_3_joint']\n",
      "Successfully planned to position. Executing trajectory.\n"
     ]
    },
    {
     "name": "stderr",
     "output_type": "stream",
     "text": [
      "Sampling new goal\n"
     ]
    },
    {
     "name": "stdout",
     "output_type": "stream",
     "text": [
      "Finding new goal pose\n",
      "Found goal pose: x: 0.0163792327277\n",
      "y: -0.38737962413\n",
      "z: 0.761430410219\n",
      "New target pose: [0.016379232727700317, -0.38737962413025107, 0.7614304102187317]\n",
      "Planning to [1.5707963267948966, 0.7853981633974483, 0, 0, 0, 0]  on joints  ['elbow_joint', 'shoulder_lift_joint', 'shoulder_pan_joint', 'wrist_1_joint', 'wrist_2_joint', 'wrist_3_joint']\n",
      "Successfully planned to position. Executing trajectory.\n"
     ]
    },
    {
     "name": "stderr",
     "output_type": "stream",
     "text": [
      "Sampling new goal\n"
     ]
    },
    {
     "name": "stdout",
     "output_type": "stream",
     "text": [
      "Finding new goal pose\n",
      "Finding new goal pose\n",
      "Finding new goal pose\n",
      "Finding new goal pose\n",
      "Finding new goal pose\n",
      "Found goal pose: x: 0.0335958566342\n",
      "y: -0.112661960754\n",
      "z: 0.583514364331\n",
      "New target pose: [0.033595856634212815, -0.11266196075403795, 0.583514364330558]\n",
      "Planning to [1.5707963267948966, 0.7853981633974483, 0, 0, 0, 0]  on joints  ['elbow_joint', 'shoulder_lift_joint', 'shoulder_pan_joint', 'wrist_1_joint', 'wrist_2_joint', 'wrist_3_joint']\n",
      "Successfully planned to position. Executing trajectory.\n"
     ]
    },
    {
     "name": "stderr",
     "output_type": "stream",
     "text": [
      "Sampling new goal\n"
     ]
    },
    {
     "name": "stdout",
     "output_type": "stream",
     "text": [
      "Finding new goal pose\n",
      "Found goal pose: x: -0.425785244933\n",
      "y: -0.420562651298\n",
      "z: 0.446672185948\n",
      "New target pose: [-0.4257852449334898, -0.42056265129801607, 0.44667218594751246]\n",
      "Planning to [1.5707963267948966, 0.7853981633974483, 0, 0, 0, 0]  on joints  ['elbow_joint', 'shoulder_lift_joint', 'shoulder_pan_joint', 'wrist_1_joint', 'wrist_2_joint', 'wrist_3_joint']\n",
      "Successfully planned to position. Executing trajectory.\n"
     ]
    },
    {
     "name": "stderr",
     "output_type": "stream",
     "text": [
      "Sampling new goal\n"
     ]
    },
    {
     "name": "stdout",
     "output_type": "stream",
     "text": [
      "Finding new goal pose\n",
      "Found goal pose: x: 0.319217499873\n",
      "y: -0.121927116518\n",
      "z: 0.359578950707\n",
      "New target pose: [0.3192174998734818, -0.12192711651821492, 0.35957895070727114]\n",
      "Planning to [1.5707963267948966, 0.7853981633974483, 0, 0, 0, 0]  on joints  ['elbow_joint', 'shoulder_lift_joint', 'shoulder_pan_joint', 'wrist_1_joint', 'wrist_2_joint', 'wrist_3_joint']\n",
      "Successfully planned to position. Executing trajectory.\n"
     ]
    },
    {
     "name": "stderr",
     "output_type": "stream",
     "text": [
      "Sampling new goal\n"
     ]
    },
    {
     "name": "stdout",
     "output_type": "stream",
     "text": [
      "Finding new goal pose\n",
      "Finding new goal pose\n",
      "Finding new goal pose\n",
      "Found goal pose: x: -0.377163084887\n",
      "y: -0.148690006359\n",
      "z: 0.112576089776\n",
      "New target pose: [-0.37716308488732375, -0.14869000635861454, 0.11257608977569226]\n",
      "Planning to [1.5707963267948966, 0.7853981633974483, 0, 0, 0, 0]  on joints  ['elbow_joint', 'shoulder_lift_joint', 'shoulder_pan_joint', 'wrist_1_joint', 'wrist_2_joint', 'wrist_3_joint']\n",
      "Successfully planned to position. Executing trajectory.\n"
     ]
    },
    {
     "name": "stderr",
     "output_type": "stream",
     "text": [
      "Sampling new goal\n"
     ]
    },
    {
     "name": "stdout",
     "output_type": "stream",
     "text": [
      "Finding new goal pose\n",
      "Found goal pose: x: -0.418809923266\n",
      "y: -0.380992647353\n",
      "z: 0.537357612937\n",
      "New target pose: [-0.418809923265931, -0.3809926473532162, 0.5373576129368961]\n",
      "Planning to [1.5707963267948966, 0.7853981633974483, 0, 0, 0, 0]  on joints  ['elbow_joint', 'shoulder_lift_joint', 'shoulder_pan_joint', 'wrist_1_joint', 'wrist_2_joint', 'wrist_3_joint']\n",
      "Successfully planned to position. Executing trajectory.\n"
     ]
    },
    {
     "name": "stderr",
     "output_type": "stream",
     "text": [
      "Sampling new goal\n"
     ]
    },
    {
     "name": "stdout",
     "output_type": "stream",
     "text": [
      "Finding new goal pose\n",
      "Found goal pose: x: -0.376251700707\n",
      "y: 0.0623826156482\n",
      "z: 0.603599747422\n",
      "New target pose: [-0.37625170070735303, 0.06238261564816817, 0.6035997474219215]\n",
      "Planning to [1.5707963267948966, 0.7853981633974483, 0, 0, 0, 0]  on joints  ['elbow_joint', 'shoulder_lift_joint', 'shoulder_pan_joint', 'wrist_1_joint', 'wrist_2_joint', 'wrist_3_joint']\n",
      "Failed to plan to trajectory!\n",
      "Retrying Reset...\n",
      "Planning to [1.5707963267948966, 0.7853981633974483, 0, 0, 0, 0]  on joints  ['elbow_joint', 'shoulder_lift_joint', 'shoulder_pan_joint', 'wrist_1_joint', 'wrist_2_joint', 'wrist_3_joint']\n",
      "Successfully planned to position. Executing trajectory.\n"
     ]
    },
    {
     "name": "stderr",
     "output_type": "stream",
     "text": [
      "Sampling new goal\n"
     ]
    },
    {
     "name": "stdout",
     "output_type": "stream",
     "text": [
      "Finding new goal pose\n",
      "Finding new goal pose\n",
      "Finding new goal pose\n",
      "Found goal pose: x: -0.582374285935\n",
      "y: -0.0427582856051\n",
      "z: 0.568624442565\n",
      "New target pose: [-0.582374285934934, -0.042758285605123104, 0.5686244425651003]\n",
      "Planning to [1.5707963267948966, 0.7853981633974483, 0, 0, 0, 0]  on joints  ['elbow_joint', 'shoulder_lift_joint', 'shoulder_pan_joint', 'wrist_1_joint', 'wrist_2_joint', 'wrist_3_joint']\n",
      "Failed to plan to trajectory!\n",
      "Retrying Reset...\n",
      "Planning to [1.5707963267948966, 0.7853981633974483, 0, 0, 0, 0]  on joints  ['elbow_joint', 'shoulder_lift_joint', 'shoulder_pan_joint', 'wrist_1_joint', 'wrist_2_joint', 'wrist_3_joint']\n",
      "Failed to plan to trajectory!\n",
      "Retrying Reset...\n",
      "Planning to [1.5707963267948966, 0.7853981633974483, 0, 0, 0, 0]  on joints  ['elbow_joint', 'shoulder_lift_joint', 'shoulder_pan_joint', 'wrist_1_joint', 'wrist_2_joint', 'wrist_3_joint']\n",
      "Successfully planned to position. Executing trajectory.\n"
     ]
    },
    {
     "name": "stderr",
     "output_type": "stream",
     "text": [
      "Sampling new goal\n"
     ]
    },
    {
     "name": "stdout",
     "output_type": "stream",
     "text": [
      "Finding new goal pose\n",
      "Found goal pose: x: 0.373511634873\n",
      "y: -0.389739641422\n",
      "z: 0.203779540179\n",
      "New target pose: [0.3735116348734456, -0.38973964142174666, 0.2037795401792401]\n",
      "Planning to [1.5707963267948966, 0.7853981633974483, 0, 0, 0, 0]  on joints  ['elbow_joint', 'shoulder_lift_joint', 'shoulder_pan_joint', 'wrist_1_joint', 'wrist_2_joint', 'wrist_3_joint']\n",
      "Successfully planned to position. Executing trajectory.\n"
     ]
    },
    {
     "name": "stderr",
     "output_type": "stream",
     "text": [
      "Sampling new goal\n"
     ]
    },
    {
     "name": "stdout",
     "output_type": "stream",
     "text": [
      "Finding new goal pose\n",
      "Finding new goal pose\n",
      "Finding new goal pose\n",
      "Finding new goal pose\n",
      "Found goal pose: x: 0.278668013844\n",
      "y: -0.122037503803\n",
      "z: 0.775028383044\n",
      "New target pose: [0.27866801384387907, -0.12203750380337779, 0.7750283830438948]\n"
     ]
    }
   ],
   "source": [
    "from lspi.policy import RandomPolicy\n",
    "from lspi.util import SampleGenerator\n",
    "\n",
    "rp = RandomPolicy(env)\n",
    "data = SampleGenerator(env, rp).sample(10, 1000)"
   ]
  },
  {
   "cell_type": "markdown",
   "metadata": {},
   "source": [
    "#### basis\n",
    "\n",
    "For the first try we'll just use quadratic matrices."
   ]
  },
  {
   "cell_type": "code",
   "execution_count": 35,
   "metadata": {
    "collapsed": true
   },
   "outputs": [],
   "source": [
    "statesize = 12\n",
    "actionsize = 3\n",
    "size = statesize + actionsize"
   ]
  },
  {
   "cell_type": "code",
   "execution_count": 36,
   "metadata": {
    "collapsed": true
   },
   "outputs": [],
   "source": [
    "def randomMatrix(shape, low=-1, high=1):\n",
    "    return np.random.random(shape) * (high - low) + low\n",
    "\n",
    "numMat = 30\n",
    "coefs = [randomMatrix((size, size)) for _ in range(numMat)]"
   ]
  },
  {
   "cell_type": "code",
   "execution_count": 37,
   "metadata": {
    "collapsed": true
   },
   "outputs": [],
   "source": [
    "from lspi.basis import DiscreteQuadraticTupleBasis\n",
    "\n",
    "basis = DiscreteQuadraticTupleBasis([coefs], actions, env.observation_space)"
   ]
  },
  {
   "cell_type": "code",
   "execution_count": 38,
   "metadata": {
    "scrolled": true
   },
   "outputs": [
    {
     "data": {
      "text/plain": [
       "array([   1.        ,  -26.06159623,  -32.68497302,  -60.64137087,\n",
       "        145.20785957, -122.40088118,  -65.96842271,   70.09445487,\n",
       "         12.65181081,  -37.24441037,  -70.31080766,    3.45705329,\n",
       "         21.06265736,  154.11020743,   31.90463303,   74.71831233,\n",
       "        -88.51430001,  -21.77724507,  -21.55606833,   42.20956175,\n",
       "        -16.85830779,  106.45596578,   10.99745785,   -9.62722788,\n",
       "         21.48098453,  -11.63941566,   76.69937712,   13.03554931,\n",
       "         14.22401432,  -41.08521   ,  -36.97305414])"
      ]
     },
     "execution_count": 38,
     "metadata": {},
     "output_type": "execute_result"
    }
   ],
   "source": [
    "basis(env.observation_space.sample(), env.action_space.sample())"
   ]
  },
  {
   "cell_type": "code",
   "execution_count": 40,
   "metadata": {
    "collapsed": true
   },
   "outputs": [],
   "source": [
    "from lspi.optim import LSTDQ, LSPI\n",
    "from lspi.policy import DiscreteActionBasisPolicy\n",
    "\n",
    "lstdq = LSTDQ(basis, discount=0.95)\n",
    "dabp = DiscreteActionBasisPolicy(env.action_space, basis, np.zeros(basis.rank))\n",
    "lspi = LSPI(lstdq, dabp, max_iter=50, epsilon=1e-3, verbose=True)"
   ]
  },
  {
   "cell_type": "code",
   "execution_count": 41,
   "metadata": {},
   "outputs": [
    {
     "name": "stdout",
     "output_type": "stream",
     "text": [
      "Iteration 0: Diff: 2193.32924933\n",
      "Iteration 1: Diff: 1912.37397313\n",
      "Iteration 2: Diff: 17.6683018571\n",
      "Iteration 3: Diff: 0.0616077814138\n"
     ]
    },
    {
     "data": {
      "text/plain": [
       "<lspi.optim.LSPI at 0x7f13940d5090>"
      ]
     },
     "execution_count": 41,
     "metadata": {},
     "output_type": "execute_result"
    }
   ],
   "source": [
    "lspi.fit(data)"
   ]
  },
  {
   "cell_type": "code",
   "execution_count": 49,
   "metadata": {},
   "outputs": [
    {
     "name": "stdout",
     "output_type": "stream",
     "text": [
      "Planning to [1.5707963267948966, 0.7853981633974483, 0, 0, 0, 0]  on joints  ['elbow_joint', 'shoulder_lift_joint', 'shoulder_pan_joint', 'wrist_1_joint', 'wrist_2_joint', 'wrist_3_joint']\n",
      "Successfully planned to position. Executing trajectory.\n"
     ]
    },
    {
     "name": "stderr",
     "output_type": "stream",
     "text": [
      "Sampling new goal\n"
     ]
    },
    {
     "name": "stdout",
     "output_type": "stream",
     "text": [
      "Finding new goal pose\n",
      "Found goal pose: x: -0.210415708346\n",
      "y: -0.0938964763398\n",
      "z: 0.42216868985\n",
      "New target pose: [-0.21041570834617976, -0.09389647633980201, 0.4221686898498746]\n",
      "Action: 25, State: ([1.5534821478771024, 0.8000265052334683, 0.018917359273430634, 0.10491482655739465, -0.7318237526005614, -0.6031945969838799, -0.7244898863215887, -0.21251038048432008, 0.37959324202988953, -0.21041570834617976, -0.09389647633980201, 0.4221686898498746],), Reward: -14.0045389439\n",
      "Action: 25, State: ([1.556683485934367, 0.7975937785182774, 0.014294236350371747, 0.1375606027745576, -0.8305710842286973, -0.9490648352190111, -0.7239212923997657, -0.2103982984904198, 0.3799237733573196, -0.21041570834617976, -0.09389647633980201, 0.4221686898498746],), Reward: -14.0036712699\n",
      "Action: 25, State: ([1.5453462552691342, 0.7974148014485252, -0.012026742525288903, -0.8110748659460737, -0.6062371614397102, -1.8996954760165852, -0.7313729982282571, -0.1967886493903625, 0.378067985302112, -0.21041570834617976, -0.09389647633980201, 0.4221686898498746],), Reward: -14.0059756864\n",
      "Action: 25, State: ([1.5037490076910043, 0.8197093887765652, -0.04624819028376681, -2.0876916798113347, 0.3424520902647892, -2.1933863504020503, -0.7313729982282571, -0.1967886493903625, 0.378067985302112, -0.21041570834617976, -0.09389647633980201, 0.4221686898498746],), Reward: -14.0059756864\n",
      "Action: 25, State: ([1.4888543498204436, 0.8281457424788732, -0.06146784945922956, -1.8133266996748305, 0.29404269505775205, -2.210727716848353, -0.7469071590526675, -0.17833384689923015, 0.379977941458523, -0.21041570834617976, -0.09389647633980201, 0.4221686898498746],), Reward: -14.0162434783\n",
      "Action: 25, State: ([1.4721273316133399, 0.8414859269759374, -0.08669818609104762, -0.9921144050606806, 0.07437600146482659, -1.8490180631813167, -0.7536862931018199, -0.16262251248689252, 0.3799924269118335, -0.21041570834617976, -0.09389647633980201, 0.4221686898498746],), Reward: -14.0190557494\n",
      "Action: 25, State: ([1.4609633008920762, 0.8518571032239279, -0.11134317013023232, -0.653778151451194, -0.08549075344142765, -1.6874489550635263, -0.7556601447956692, -0.14893088753727549, 0.3800808963063846, -0.21041570834617976, -0.09389647633980201, 0.4221686898498746],), Reward: -14.0183462739\n",
      "Action: 25, State: ([1.4559299085121307, 0.8567919494196659, -0.12393321617884734, -0.5786630856992897, -0.13814206419643627, -1.9053628739981576, -0.7571771965857859, -0.1357791332793402, 0.38003844107979873, -0.21041570834617976, -0.09389647633980201, 0.4221686898498746],), Reward: -14.0174832836\n",
      "Action: 25, State: ([1.4514757547755606, 0.8610080556747368, -0.1342663911702262, -0.5108253189336216, -0.19155665208229056, -1.7698996602267374, -0.7577838233561472, -0.13009978877756062, 0.3800594902189074, -0.21041570834617976, -0.09389647633980201, 0.4221686898498746],), Reward: -14.0171481393\n",
      "Action: 25, State: ([1.4444288878448344, 0.8678369474826857, -0.15532506578772587, -0.3943564182622419, -0.3014491788083802, -1.6907161920228218, -0.7582849277600466, -0.12421498002045228, 0.38003478052716055, -0.21041570834617976, -0.09389647633980201, 0.4221686898498746],), Reward: -14.0167074943\n",
      "Action: 25, State: ([1.4395072881684365, 0.872792060507237, -0.17646838211998706, -0.29094049967128055, -0.38772520752232253, -1.7049371887247837, -0.7587286126055343, -0.11851819282908795, 0.38009610426270657, -0.21041570834617976, -0.09389647633980201, 0.4221686898498746],), Reward: -14.0163206348\n",
      "Action: 25, State: ([1.436233578956573, 0.8759045776886341, -0.19714665337891368, -0.22986872838898526, -0.45888171722076243, -1.7788251017505736, -0.759323344775584, -0.10688531673881096, 0.3801569477062601, -0.21041570834617976, -0.09389647633980201, 0.4221686898498746],), Reward: -14.0153438255\n",
      "Action: 25, State: ([1.4343039779795674, 0.8778533894366021, -0.21561965247741188, -0.1564160193557325, -0.5417874571768203, -1.6679750462525855, -0.7596175725821119, -0.09550432278248965, 0.38007653966515614, -0.21041570834617976, -0.09389647633980201, 0.4221686898498746],), Reward: -14.014222824\n",
      "Action: 25, State: ([1.43395598129118, 0.8780169242631297, -0.2254698012061489, -0.11793505964513573, -0.5750018249122435, -1.5772589990462156, -0.7596684642279907, -0.08533405467096364, 0.3801333281903315, -0.21041570834617976, -0.09389647633980201, 0.4221686898498746],), Reward: -14.0132168597\n",
      "Action: 25, State: ([1.4338385530139375, 0.878334976332984, -0.23481863430261463, -0.08929398911752956, -0.5992247345743423, -1.617704469172719, -0.7594482005900893, -0.0747803399256286, 0.38017958708882144, -0.21041570834617976, -0.09389647633980201, 0.4221686898498746],), Reward: -14.0120510566\n",
      "Action: 25, State: ([1.433417811942273, 0.8777463473073572, -0.253558487460146, -0.07249478342485327, -0.6392518145464042, -1.5815151660709088, -0.7594482005900893, -0.0747803399256286, 0.38017958708882144, -0.21041570834617976, -0.09389647633980201, 0.4221686898498746],), Reward: -14.0120510566\n",
      "Action: 25, State: ([1.4313433614954558, 0.8770086514691773, -0.2729649326257064, -0.06341812805597347, -0.6693403996871752, -1.5931285387167153, -0.7594220050201159, -0.06438449151686487, 0.3801792315296702, -0.21041570834617976, -0.09389647633980201, 0.4221686898498746],), Reward: -14.0111786703\n",
      "Action: 25, State: ([1.4303773151062478, 0.8757541115499166, -0.2926299162616459, -0.012542223345390263, -0.7224491761476647, -1.5544339935612999, -0.7600454696075162, -0.0533726500278354, 0.38026315353913864, -0.21041570834617976, -0.09389647633980201, 0.4221686898498746],), Reward: -14.0110110074\n",
      "Action: 25, State: ([1.430980077080652, 0.8731280511034605, -0.3011283523122339, 0.022266446833307474, -0.7645027286975066, -1.627327282892619, -0.7604321931766652, -0.04218411875729808, 0.3807116726197685, -0.21041570834617976, -0.09389647633980201, 0.4221686898498746],), Reward: -14.0109289029\n",
      "Action: 25, State: ([1.4316560799585547, 0.8711170630176257, -0.3087616563944531, 0.05989748767039646, -0.7810296608780327, -1.4323968019860047, -0.7606685505414689, -0.032954223058363125, 0.38027587614125397, -0.21041570834617976, -0.09389647633980201, 0.4221686898498746],), Reward: -14.010537935\n",
      "Action: 25, State: ([1.4345734101685954, 0.8660528432409107, -0.325375336479925, 0.1602273309893878, -0.8547855563038486, -1.3106188424191672, -0.7606430179989503, -0.023462765694247267, 0.38038484170677006, -0.21041570834617976, -0.09389647633980201, 0.4221686898498746],), Reward: -14.0102491675\n",
      "Action: 25, State: ([1.439427008469301, 0.8594899690350495, -0.34235701765570337, 0.2300346358490118, -0.9087281834664419, -1.4399112851096012, -0.7606430179989503, -0.023462765694247267, 0.38038484170677006, -0.21041570834617976, -0.09389647633980201, 0.4221686898498746],), Reward: -14.0102491675\n",
      "Action: 25, State: ([1.4465200001338365, 0.8513894090249163, -0.3565740849171828, 0.32992808049501754, -0.9800446891901259, -1.1357344130246847, -0.7603086418475759, -0.013794227312080479, 0.38045462459410573, -0.21041570834617976, -0.09389647633980201, 0.4221686898498746],), Reward: -14.0097696486\n",
      "Action: 25, State: ([1.4509774733549365, 0.8465420321364414, -0.36517699869015185, 0.3827992215228928, -1.0065740624355994, -1.4152761447641686, -0.7598406397471809, -0.0057141577060131205, 0.3804647530446275, -0.21041570834617976, -0.09389647633980201, 0.4221686898498746],), Reward: -14.0092629952\n",
      "Action: 25, State: ([1.4552080738729707, 0.8406941214827706, -0.3810463985533543, 0.06102933235154118, -0.8054931956380463, -1.2657377448767244, -0.7598406397471809, -0.0057141577060131205, 0.3804647530446275, -0.21041570834617976, -0.09389647633980201, 0.4221686898498746],), Reward: -14.0092629952\n",
      "Action: 25, State: ([1.441391613715779, 0.8469591671789853, -0.40505908176495087, -0.7102348089100186, -0.24960645765962852, -1.7626048490645536, -0.7602240915599248, 0.023084391920593417, 0.3805042632946704, -0.21041570834617976, -0.09389647633980201, 0.4221686898498746],), Reward: -14.0099177134\n",
      "Action: 25, State: ([1.4347786743211826, 0.8502572255719567, -0.41563848896199396, -0.7284844519219457, -0.23796102448659484, -1.7169427026958108, -0.7606259637009277, 0.0296315311845861, 0.38061522428811373, -0.21041570834617976, -0.09389647633980201, 0.4221686898498746],), Reward: -14.0105293966\n",
      "Action: 25, State: ([1.425699626130493, 0.8537713990780453, -0.43233589367462955, -0.5152316794287322, -0.34723993787688145, -1.534826372315031, -0.7610997257464756, 0.0347919118555801, 0.381184106250856, -0.21041570834617976, -0.09389647633980201, 0.4221686898498746],), Reward: -14.011402427\n",
      "Action: 25, State: ([1.42187454374465, 0.8561387124476445, -0.43911651606105373, -0.4529950164274433, -0.3996637899321187, -1.2797638812488252, -0.7614863043074536, 0.04435157975475408, 0.38117603947540457, -0.21041570834617976, -0.09389647633980201, 0.4221686898498746],), Reward: -14.0121879481\n"
     ]
    },
    {
     "name": "stdout",
     "output_type": "stream",
     "text": [
      "Action: 25, State: ([1.4131098207173451, 0.8588990846597566, -0.45216046121762243, -0.491681747867196, -0.3733846598163907, -1.2037778058328579, -0.7621117566327291, 0.05273019508689043, 0.3806600431975968, -0.21041570834617976, -0.09389647633980201, 0.4221686898498746],), Reward: -14.0129927866\n",
      "Action: 25, State: ([1.4083581955278905, 0.8618391439681448, -0.4590738834546082, -0.48894579106536923, -0.37549692491044917, -1.1366529855912562, -0.7621117566327291, 0.05273019508689043, 0.3806600431975968, -0.21041570834617976, -0.09389647633980201, 0.4221686898498746],), Reward: -14.0129927866\n",
      "Action: 25, State: ([1.3983967976501654, 0.8655170551663414, -0.470621386091878, -0.505866953011621, -0.3571566882205671, -0.9068842858817442, -0.7629125038734283, 0.06104151677651552, 0.3813159886165669, -0.21041570834617976, -0.09389647633980201, 0.4221686898498746],), Reward: -14.0145534591\n",
      "Action: 25, State: ([1.3890337617325583, 0.8705031902344471, -0.48465313374109975, -0.49622622586294296, -0.35179539803032644, -1.080233549627355, -0.7634989519485124, 0.06897279749266234, 0.3808480674688343, -0.21041570834617976, -0.09389647633980201, 0.4221686898498746],), Reward: -14.0154708382\n",
      "Action: 25, State: ([1.380447676351908, 0.8732211041255997, -0.49421561852291696, -0.489487692297911, -0.3861237974472024, -0.7871718826413853, -0.7634989519485124, 0.06897279749266234, 0.3808480674688343, -0.21041570834617976, -0.09389647633980201, 0.4221686898498746],), Reward: -14.0154708382\n",
      "Action: 25, State: ([1.370639981014195, 0.8775167455018886, -0.5070526313941128, -0.5253049689084711, -0.35334567250698634, -1.025022837249582, -0.764141882848079, 0.08047364980594511, 0.3808627016736065, -0.21041570834617976, -0.09389647633980201, 0.4221686898498746],), Reward: -14.0170535347\n",
      "Action: 25, State: ([1.3663382286168781, 0.8793514972963088, -0.5128392048497261, -0.44587007953924207, -0.37780009436525386, -1.0177464678950743, -0.7644715193689614, 0.0928233469903789, 0.3809001178962115, -0.21041570834617976, -0.09389647633980201, 0.4221686898498746],), Reward: -14.0186103152\n",
      "Action: 25, State: ([1.3562548099152778, 0.884940541236638, -0.5244753618281255, -0.5319682659909792, -0.3408755426224921, -0.9762211132402705, -0.7649646406289665, 0.09575314252932614, 0.3810908185354962, -0.21041570834617976, -0.09389647633980201, 0.4221686898498746],), Reward: -14.0194549334\n",
      "Action: 25, State: ([1.3477159889062822, 0.8875403963284239, -0.5345508069587828, -0.45750605818118417, -0.39003646769211153, -0.9291487209060587, -0.7650793065515032, 0.10378883848220029, 0.38155902080962606, -0.21041570834617976, -0.09389647633980201, 0.4221686898498746],), Reward: -14.0206959105\n",
      "Action: 25, State: ([1.342667438189335, 0.8896711184879358, -0.5398539078780109, -0.44923640014120675, -0.37572738313562726, -0.9890033368396618, -0.7652397518890134, 0.11132480230624227, 0.3809641036071978, -0.21041570834617976, -0.09389647633980201, 0.4221686898498746],), Reward: -14.021515855\n",
      "Action: 25, State: ([1.3338722629762474, 0.893492784926746, -0.5487443841616795, -0.3853788927585915, -0.40207896577402524, -0.8281840268246808, -0.7652397518890134, 0.11132480230624227, 0.3809641036071978, -0.21041570834617976, -0.09389647633980201, 0.4221686898498746],), Reward: -14.021515855\n",
      "Action: 25, State: ([1.3251862620850368, 0.8973812894092079, -0.5596463260019977, -0.3798577927089648, -0.42251766832049387, -0.8556818241597961, -0.7655976598627161, 0.1175969551748748, 0.3809721094474032, -0.21041570834617976, -0.09389647633980201, 0.4221686898498746],), Reward: -14.0226692197\n",
      "Action: 25, State: ([1.3200844484260168, 0.8998225273570934, -0.5637553994021172, -0.4547388272586705, -0.3851322532210347, -0.6496395781429514, -0.7657493376089818, 0.1280490606433607, 0.38117424928185006, -0.21041570834617976, -0.09389647633980201, 0.4221686898498746],), Reward: -14.0243785217\n",
      "Action: 25, State: ([1.3102121087682992, 0.9042182364523583, -0.5746222833164252, -0.48944394072765507, -0.36205273337140564, -0.6729562466801216, -0.7657493376089818, 0.1280490606433607, 0.38117424928185006, -0.21041570834617976, -0.09389647633980201, 0.4221686898498746],), Reward: -14.0243785217\n",
      "Action: 25, State: ([1.30590915091061, 0.9069743960903942, -0.5806589651975722, -0.4246045307457217, -0.40226814752188955, -0.8157666262676594, -0.7655437921152497, 0.13978261138688552, 0.3819614986939135, -0.21041570834617976, -0.09389647633980201, 0.4221686898498746],), Reward: -14.0263583464\n",
      "Action: 25, State: ([1.296853826806494, 0.9099507333910255, -0.5895772437569349, -0.38249974263730757, -0.4267711905504953, -0.580325335056552, -0.7652195230125391, 0.14356941459364153, 0.3812005343152683, -0.21041570834617976, -0.09389647633980201, 0.4221686898498746],), Reward: -14.0263559701\n",
      "Action: 25, State: ([1.287733370071491, 0.9138983601280497, -0.5998547675109389, -0.4215896819219762, -0.41063703198753, -0.7640487139327629, -0.7650293203712616, 0.15051588659968024, 0.381765692868679, -0.21041570834617976, -0.09389647633980201, 0.4221686898498746],), Reward: -14.0276141622\n",
      "Action: 25, State: ([1.2781794180538295, 0.9180853665980786, -0.6101945267838049, -0.4002009550005171, -0.4187337604267445, -0.7987292632491493, -0.7647508545034648, 0.15779223117577246, 0.3818391437652224, -0.21041570834617976, -0.09389647633980201, 0.4221686898498746],), Reward: -14.0286924938\n",
      "Action: 25, State: ([1.273312535652095, 0.9203965136649135, -0.6137485786452057, -0.44789208050406076, -0.40179045664419843, -0.5763084801935469, -0.7647508545034648, 0.15779223117577246, 0.3818391437652224, -0.21041570834617976, -0.09389647633980201, 0.4221686898498746],), Reward: -14.0286924938\n",
      "Action: 25, State: ([1.264143083244086, 0.9243266003716144, -0.6246811503879091, -0.41280894727323686, -0.4228587738683246, -0.7954659863417908, -0.7649560099590496, 0.16326685367862415, 0.3812761182089585, -0.21041570834617976, -0.09389647633980201, 0.4221686898498746],), Reward: -14.0296364209\n",
      "Action: 25, State: ([1.2550252280828937, 0.9294333792370102, -0.6336124514698591, -0.4036719758045557, -0.42198128791138667, -0.7314278900180027, -0.7644199877404462, 0.1734074065235216, 0.3813016919010246, -0.21041570834617976, -0.09389647633980201, 0.4221686898498746],), Reward: -14.0311370196\n",
      "Action: 25, State: ([1.2451070752748272, 0.9330055602158769, -0.6417991040648623, -0.3895317679991841, -0.4214391821343071, -0.5121691378935455, -0.7638568923124339, 0.18345071857589723, 0.38138594612206933, -0.21041570834617976, -0.09389647633980201, 0.4221686898498746],), Reward: -14.0327346406\n",
      "Action: 25, State: ([1.2371238338363693, 0.9364047106630204, -0.6519375929197349, -0.4195328526638643, -0.4264736607020585, -0.8726513554221136, -0.7638568923124339, 0.18345071857589723, 0.38138594612206933, -0.21041570834617976, -0.09389647633980201, 0.4221686898498746],), Reward: -14.0327346406\n",
      "Action: 25, State: ([1.2317763837274116, 0.9390234907915875, -0.6549340902209568, -0.4223545825557207, -0.39941853074312916, -0.5234476710179262, -0.7630853736705356, 0.19293792892110156, 0.381455422494492, -0.21041570834617976, -0.09389647633980201, 0.4221686898498746],), Reward: -14.0341339085\n",
      "Action: 25, State: ([1.2250452286870095, 0.9415920761221486, -0.663412927564595, -0.2608335610787869, -0.49251633065776024, -0.6678003828379443, -0.7623823107218689, 0.1965824291832996, 0.38197006341927525, -0.21041570834617976, -0.09389647633980201, 0.4221686898498746],), Reward: -14.0345568255\n",
      "Action: 25, State: ([1.2162923093505826, 0.9466010149785458, -0.6724881036030581, -0.29068254060635407, -0.4662185229335365, -0.6818529000625255, -0.7620984387269604, 0.2016847673107448, 0.3814975105414484, -0.21041570834617976, -0.09389647633980201, 0.4221686898498746],), Reward: -14.0352642187\n",
      "Action: 25, State: ([1.2086309605359462, 0.949253491170281, -0.6791921484196486, -0.31449447361798033, -0.45913526644340175, -0.605711326339895, -0.7612632571307066, 0.21053600861046612, 0.38174015017112284, -0.21041570834617976, -0.09389647633980201, 0.4221686898498746],), Reward: -14.0367254328\n",
      "Action: 25, State: ([1.1968240816863895, 0.954444793716263, -0.6909893133748684, -0.25923454445897465, -0.48554431217713323, -0.6026235237312508, -0.7612632571307066, 0.21053600861046612, 0.38174015017112284, -0.21041570834617976, -0.09389647633980201, 0.4221686898498746],), Reward: -14.0367254328\n"
     ]
    },
    {
     "name": "stdout",
     "output_type": "stream",
     "text": [
      "Action: 25, State: ([1.1927511175011771, 0.9561859020724537, -0.6952629106310386, -0.28422551093757215, -0.45689866803589874, -0.7073550982567401, -0.7601215233613235, 0.21907065301240836, 0.3817125997337067, -0.21041570834617976, -0.09389647633980201, 0.4221686898498746],), Reward: -14.0378125243\n",
      "Action: 25, State: ([1.1892031826019016, 0.9578237496348105, -0.6975356018168171, -0.2583688910656301, -0.4794862197062648, -0.4200161566113296, -0.7596520252300873, 0.22399587893081757, 0.38171223044610575, -0.21041570834617976, -0.09389647633980201, 0.4221686898498746],), Reward: -14.0386480162\n",
      "Action: 25, State: ([1.1810176372196581, 0.9615274161799743, -0.7066090823517346, -0.33051299526605027, -0.4539603928731446, -0.7066913952609936, -0.7596520252300873, 0.22399587893081757, 0.38171223044610575, -0.21041570834617976, -0.09389647633980201, 0.4221686898498746],), Reward: -14.0386480162\n",
      "Action: 25, State: ([1.1734466539750112, 0.9658485394543952, -0.7139152441203702, -0.25800376855384555, -0.4826483198933853, -0.6229897769753419, -0.7581497087613371, 0.23016528271878867, 0.38151805404254185, -0.21041570834617976, -0.09389647633980201, 0.4221686898498746],), Reward: -14.0388603963\n",
      "Action: 25, State: ([1.1694511595853125, 0.9680042250014917, -0.7166320452393036, -0.25560838957655363, -0.4931884529105848, -0.3916497000308731, -0.7572758172411501, 0.23546520794093567, 0.38212076310667514, -0.21041570834617976, -0.09389647633980201, 0.4221686898498746],), Reward: -14.0397717749\n",
      "Action: 25, State: ([1.1621567401717074, 0.9700071846270157, -0.7244728537820597, -0.26054694524461486, -0.4756674868099766, -0.6535095922125373, -0.7560618649735813, 0.24325026283673568, 0.381572966748146, -0.21041570834617976, -0.09389647633980201, 0.4221686898498746],), Reward: -14.0406070932\n",
      "Action: 25, State: ([1.1547859726365468, 0.9744577350244992, -0.7320773482385832, -0.2622963638187825, -0.46469566282988095, -0.642318734869309, -0.7560618649735813, 0.24325026283673568, 0.381572966748146, -0.21041570834617976, -0.09389647633980201, 0.4221686898498746],), Reward: -14.0406070932\n",
      "Action: 25, State: ([1.149454334547241, 0.9758139743857814, -0.7368165957146049, -0.1988774879002915, -0.5228843432146809, -0.5286232361653352, -0.7543519263221163, 0.2522217042705832, 0.381660238818761, -0.21041570834617976, -0.09389647633980201, 0.4221686898498746],), Reward: -14.0417010209\n",
      "Action: 25, State: ([1.143695874226216, 0.9783689174790124, -0.743482941771715, -0.07008539616276693, -0.5561676396121, -0.5525910044399774, -0.7543519263221163, 0.2522217042705832, 0.381660238818761, -0.21041570834617976, -0.09389647633980201, 0.4221686898498746],), Reward: -14.0417010209\n",
      "Action: 25, State: ([1.13906911093519, 0.9808241843725334, -0.7493959360305631, -0.08396463865845769, -0.5828251256897051, -0.47605820340556126, -0.7531516003421994, 0.2568690503356508, 0.38164786269434225, -0.21041570834617976, -0.09389647633980201, 0.4221686898498746],), Reward: -14.0420109646\n",
      "Action: 25, State: ([1.1354738738697536, 0.983258564690253, -0.7542886525170331, -0.11708932973198924, -0.5386432869593487, -0.608503353974549, -0.7519405586809823, 0.2608839360174889, 0.38188988389109785, -0.21041570834617976, -0.09389647633980201, 0.4221686898498746],), Reward: -14.0422606533\n",
      "Action: 25, State: ([1.1316341434468518, 0.9849536724433978, -0.7594005304068236, -0.02091010630454801, -0.5934888493890955, -0.5058003793300091, -0.7507880203110683, 0.2650266522754383, 0.38196257425169433, -0.21041570834617976, -0.09389647633980201, 0.4221686898498746],), Reward: -14.0425450872\n",
      "Action: 25, State: ([1.1316341434468518, 0.9849536724433978, -0.7594005304068236, -0.02091010630454801, -0.5934888493890955, -0.5058003793300091, -0.7507880203110683, 0.2650266522754383, 0.38196257425169433, -0.21041570834617976, -0.09389647633980201, 0.4221686898498746],), Reward: -14.0425450872\n",
      "Action: 25, State: ([1.1256454975744452, 0.986804028218228, -0.7648430495224661, -0.05531583356206407, -0.5576965360618538, -0.3236945211328681, -0.748957113580247, 0.27032987849997614, 0.3818148348482665, -0.21041570834617976, -0.09389647633980201, 0.4221686898498746],), Reward: -14.0425339801\n",
      "Action: 25, State: ([1.1239974937286688, 0.9875307139942819, -0.7687174679607569, 0.028388605864439254, -0.6269952137862627, -0.5202882075203212, -0.7478287654017106, 0.2740305890354612, 0.3818709277306582, -0.21041570834617976, -0.09389647633980201, 0.4221686898498746],), Reward: -14.0427425832\n",
      "Action: 25, State: ([1.1184861790048908, 0.9909410054384198, -0.7759203723842045, -0.04543516507198153, -0.5653280156564561, -0.5920014177082442, -0.7478287654017106, 0.2740305890354612, 0.3818709277306582, -0.21041570834617976, -0.09389647633980201, 0.4221686898498746],), Reward: -14.0427425832\n",
      "Action: 25, State: ([1.1170656948410764, 0.9908576792164983, -0.7768990029835514, 0.019848520586253582, -0.6200341411600387, -0.2953539422105638, -0.74615219756717, 0.2788608964663014, 0.3824737670727548, -0.21041570834617976, -0.09389647633980201, 0.4221686898498746],), Reward: -14.0430972463\n",
      "Action: 25, State: ([1.1109362150109838, 0.9934936979391784, -0.7844981645000564, -0.060127091026313945, -0.5612500207008833, -0.5881680359566598, -0.7443003962545461, 0.2848054115855193, 0.38189717841082116, -0.21041570834617976, -0.09389647633980201, 0.4221686898498746],), Reward: -14.0431821048\n",
      "Action: 25, State: ([1.1074485932912408, 0.9948933510087219, -0.7897301618092349, 0.043548580538893655, -0.6272998546307735, -0.5089257223896841, -0.7443003962545461, 0.2848054115855193, 0.38189717841082116, -0.21041570834617976, -0.09389647633980201, 0.4221686898498746],), Reward: -14.0431821048\n",
      "Action: 25, State: ([1.1028440121863348, 0.9981011824498589, -0.7966283096297158, -0.018943293963399027, -0.5711119173073588, -0.5514457193343452, -0.7411558365413796, 0.2927756137748343, 0.3825821107090106, -0.21041570834617976, -0.09389647633980201, 0.4221686898498746],), Reward: -14.0434400412\n",
      "Action: 25, State: ([1.099551129835504, 0.9985607333764062, -0.8015617138539071, -0.06607540192487873, -0.6067037788782894, -0.49215430108994596, -0.7398789992202629, 0.29604741647239013, 0.38193336095295616, -0.21041570834617976, -0.09389647633980201, 0.4221686898498746],), Reward: -14.0431795254\n",
      "Action: 25, State: ([1.0928794471905832, 1.0029110515941753, -0.8094951267109094, -0.06414866102535668, -0.5794230442262227, -0.2688232204597171, -0.7398789992202629, 0.29604741647239013, 0.38193336095295616, -0.21041570834617976, -0.09389647633980201, 0.4221686898498746],), Reward: -14.0431795254\n",
      "Action: 25, State: ([1.0909995534659291, 1.0025090737564426, -0.8128048722202994, -0.10478767048462409, -0.5736669011420867, -0.5002255440891072, -0.737894818300014, 0.3014172054307192, 0.38280594134211526, -0.21041570834617976, -0.09389647633980201, 0.4221686898498746],), Reward: -14.04371313\n",
      "Action: 25, State: ([1.086483120251744, 1.005570734502096, -0.8192603261675053, -0.07871010198712533, -0.5605998397453387, -0.5215854197666809, -0.7351274758345254, 0.30774568194454616, 0.3826632471496325, -0.21041570834617976, -0.09389647633980201, 0.4221686898498746],), Reward: -14.0435262198\n",
      "Action: 25, State: ([1.083387233654471, 1.0060034993946392, -0.8241462007009721, -0.03134904315396292, -0.6185920811757103, -0.48655459060235506, -0.7350629804265293, 0.3083990414167619, 0.3821141696000748, -0.21041570834617976, -0.09389647633980201, 0.4221686898498746],), Reward: -14.0434627719\n",
      "Action: 25, State: ([1.0795631251108517, 1.0077489591046298, -0.8301343341475906, -0.018887843084028105, -0.6084991881955081, -0.5564936610138544, -0.7329790360012653, 0.3127486227191115, 0.38290965765606555, -0.21041570834617976, -0.09389647633980201, 0.4221686898498746],), Reward: -14.04360472\n",
      "Action: 25, State: ([1.0762280581413606, 1.0093200661702824, -0.8353580067840038, 0.02547000490158355, -0.6147122674095521, -0.5021721327856766, -0.7329790360012653, 0.3127486227191115, 0.38290965765606555, -0.21041570834617976, -0.09389647633980201, 0.4221686898498746],), Reward: -14.04360472\n",
      "Action: 25, State: ([1.073393902015023, 1.011597243082064, -0.8420299698236224, 0.07372859654852573, -0.6145605046774854, -0.5446791270844706, -0.7303648370775047, 0.31809687612556264, 0.3820941911867418, -0.21041570834617976, -0.09389647633980201, 0.4221686898498746],), Reward: -14.042996352\n"
     ]
    },
    {
     "name": "stdout",
     "output_type": "stream",
     "text": [
      "Action: 25, State: ([1.0708337151010507, 1.0129824295432313, -0.8481978749081893, 0.0595491928219061, -0.611881552141114, -0.6205155308323062, -0.7258881926629722, 0.325709700109034, 0.3828977954673561, -0.21041570834617976, -0.09389647633980201, 0.4221686898498746],), Reward: -14.0424284486\n",
      "Action: 25, State: ([1.0685244599408454, 1.0140751080508084, -0.8534202899010097, 0.09727069334547056, -0.6461689299906338, -0.516130186681361, -0.7258881926629722, 0.325709700109034, 0.3828977954673561, -0.21041570834617976, -0.09389647633980201, 0.4221686898498746],), Reward: -14.0424284486\n",
      "Action: 25, State: ([1.066655509070415, 1.0139098492132659, -0.8578093521567167, 0.1270918314706337, -0.6444064067933399, -0.3049932166244545, -0.724074811316052, 0.32883726511591405, 0.38293606279600784, -0.21041570834617976, -0.09389647633980201, 0.4221686898498746],), Reward: -14.0421153019\n",
      "Action: 25, State: ([1.065662315913145, 1.0144351526662039, -0.8617427624282152, 0.12328722632999212, -0.6663177676657088, -0.5220981452844273, -0.7225502671627667, 0.33147599708880104, 0.38227085608203504, -0.21041570834617976, -0.09389647633980201, 0.4221686898498746],), Reward: -14.0415644685\n",
      "Action: 25, State: ([1.0626742377439342, 1.0163154998617792, -0.8680367129869611, 0.12378352934209408, -0.6678377701669136, -0.5468209420780068, -0.718748919982103, 0.33737124043389166, 0.38262806214384576, -0.21041570834617976, -0.09389647633980201, 0.4221686898498746],), Reward: -14.0408484732\n",
      "Action: 25, State: ([1.0615302917601763, 1.0160802827631992, -0.8725679906566288, 0.13358896358044972, -0.685620982559001, -0.49326659346558605, -0.718748919982103, 0.33737124043389166, 0.38262806214384576, -0.21041570834617976, -0.09389647633980201, 0.4221686898498746],), Reward: -14.0408484732\n",
      "Action: 25, State: ([1.0597296984778524, 1.0168914236559914, -0.8794238318543011, 0.19763075214604012, -0.6893218171050732, -0.5782541899893414, -0.7146594871924999, 0.34416382764732156, 0.38244648319381497, -0.21041570834617976, -0.09389647633980201, 0.4221686898498746],), Reward: -14.0400701628\n",
      "Action: 25, State: ([1.0546612819819918, 1.0195398946911238, -0.889643775255883, 0.04169017254618951, -0.5945309290745964, -0.5889223388985703, -0.7114445643902583, 0.3483023757954183, 0.38280177264078885, -0.21041570834617976, -0.09389647633980201, 0.4221686898498746],), Reward: -14.039248107\n",
      "Action: 25, State: ([1.049021504672469, 1.023720960430774, -0.8930465170809292, -0.25404419801837264, -0.4633288781586305, -0.5474427925180976, -0.7114445643902583, 0.3483023757954183, 0.38280177264078885, -0.21041570834617976, -0.09389647633980201, 0.4221686898498746],), Reward: -14.039248107\n",
      "Action: 25, State: ([1.0233805624781915, 1.0364627174059997, -0.9017707145748188, -1.246062797292683, -0.0037151785194280973, -0.5291682207276985, -0.7098608679867742, 0.3525022126258822, 0.3834142452497554, -0.21041570834617976, -0.09389647633980201, 0.4221686898498746],), Reward: -14.0399080476\n",
      "Action: 25, State: ([0.981634867150456, 1.0563009264519962, -0.9155899366401137, -2.1242764385790434, 0.3900557076116132, -1.0104824757946083, -0.7082498270576494, 0.36677019039106745, 0.3827415909592217, -0.21041570834617976, -0.09389647633980201, 0.4221686898498746],), Reward: -14.0441358958\n",
      "Action: 25, State: ([0.9528166272682839, 1.0718109929373671, -0.9220767334399902, -2.571706258574423, 0.6225164942411969, -0.7560342362998272, -0.7074980495727481, 0.3810620134385436, 0.38379668445344495, -0.21041570834617976, -0.09389647633980201, 0.4221686898498746],), Reward: -14.0500125898\n",
      "Action: 25, State: ([0.8826678767360043, 1.1054926412179782, -0.9395256488011752, -3.3990433425297084, 0.9988393318542166, -1.1909346905664902, -0.7063975641121613, 0.3995966786762636, 0.383300512294639, -0.21041570834617976, -0.09389647633980201, 0.4221686898498746],), Reward: -14.0570215602\n",
      "Action: 25, State: ([0.796897277802814, 1.1475718634219971, -0.9563478003818533, -4.070092053914963, 1.3548991877712449, -1.0936949400202376, -0.7063975641121613, 0.3995966786762636, 0.383300512294639, -0.21041570834617976, -0.09389647633980201, 0.4221686898498746],), Reward: -14.0570215602\n",
      "Action: 25, State: ([0.6893571582043938, 1.1996010828677894, -0.975839342086612, -5.022673205455796, 1.789307940639094, -1.2180209937558382, -0.7059999692504378, 0.41917131159085663, 0.38336805882007396, -0.21041570834617976, -0.09389647633980201, 0.4221686898498746],), Reward: -14.0656245966\n",
      "Action: 25, State: ([0.5606410970679283, 1.2620399125285937, -0.9948085279457475, -5.977545234296504, 2.26983681464993, -1.2921318785497284, -0.7047611739046978, 0.44181765008658014, 0.3831955655183434, -0.21041570834617976, -0.09389647633980201, 0.4221686898498746],), Reward: -14.0752945342\n",
      "Action: 25, State: ([0.4903703970098965, 1.2945122444097734, -1.0014870575122394, -6.300417430869905, 2.4153184591763104, -1.2497428113365652, -0.7035478169917058, 0.4650129596638233, 0.3835194009441119, -0.21041570834617976, -0.09389647633980201, 0.4221686898498746],), Reward: -14.0859193269\n",
      "Action: 25, State: ([0.3556709760788497, 1.3580035242053334, -1.0136703910691702, -5.996581039356207, 2.3477840022471694, -1.141402376583476, -0.7041455651536083, 0.4839497036733228, 0.38238780977771003, -0.21041570834617976, -0.09389647633980201, 0.4221686898498746],), Reward: -14.0955540875\n",
      "Action: 25, State: ([0.21834687004981745, 1.4225928299065078, -1.0240184870644917, -5.990774770110289, 2.374988508600485, -1.030769124657462, -0.7029911824427599, 0.5054256464912938, 0.3817677984841751, -0.21041570834617976, -0.09389647633980201, 0.4221686898498746],), Reward: -14.1057274062\n",
      "Action: 25, State: ([0.0760302861858424, 1.4881644570254746, -1.0345058306448918, -6.024231400934698, 2.4667262248635833, -1.0410223362248736, -0.7029911824427599, 0.5054256464912938, 0.3817677984841751, -0.21041570834617976, -0.09389647633980201, 0.4221686898498746],), Reward: -14.1057274062\n",
      "Action: 25, State: ([0.004896851820884507, 1.5210857152427826, -1.0386659839105974, -5.990247888215425, 2.4843298326658276, -0.9582581408649155, -0.6979153896237211, 0.5241560010135197, 0.38019249059484805, -0.21041570834617976, -0.09389647633980201, 0.4221686898498746],), Reward: -14.1115080788\n",
      "Action: 25, State: ([-0.13747691082575653, 1.585173659385041, -1.047285487663836, -5.914943113180345, 2.5012855912008485, -1.0027958267918706, -0.6979153896237211, 0.5241560010135197, 0.38019249059484805, -0.21041570834617976, -0.09389647633980201, 0.4221686898498746],), Reward: -14.1115080788\n",
      "Action: 25, State: ([-0.2599829001680636, 1.6371772384902812, -1.0527080761863061, -4.66393085326255, 1.8605634587409998, -0.7240005417370653, -0.6952790685687867, 0.5277488176831094, 0.3794961436903077, -0.21041570834617976, -0.09389647633980201, 0.4221686898498746],), Reward: -14.1112861003\n",
      "Action: 25, State: ([-0.2696874462578345, 1.6396647063242078, -1.0609528262741765, -0.494644281337348, -0.13808439101011877, -0.8906697914239188, -0.6928740191075901, 0.5320758001064909, 0.37667447581217317, -0.21041570834617976, -0.09389647633980201, 0.4221686898498746],), Reward: -14.1108203507\n",
      "Action: 25, State: ([-0.2888609502468764, 1.640012386061553, -1.0666820741813448, -0.5369691606709557, -0.44707954155685203, -0.7276557942920295, -0.6907002634465913, 0.5462860485965069, 0.3747903010524031, -0.21041570834617976, -0.09389647633980201, 0.4221686898498746],), Reward: -14.1165321009\n",
      "Action: 25, State: ([-0.31801234920222043, 1.6398375518711612, -1.0746578146034862, -0.9511435328936284, -0.48589823716561253, -0.8654010417773202, -0.688445568304426, 0.5599287507920507, 0.3603123741628428, -0.21041570834617976, -0.09389647633980201, 0.4221686898498746],), Reward: -14.1172316151\n",
      "Action: 25, State: ([-0.35510281801750576, 1.6406040730910494, -1.081853679208292, -1.3465200751661246, -0.48608164584611235, -0.9165758209711059, -0.688445568304426, 0.5599287507920507, 0.3603123741628428, -0.21041570834617976, -0.09389647633980201, 0.4221686898498746],), Reward: -14.1172316151\n",
      "Action: 25, State: ([-0.3995279224027213, 1.6406259516556387, -1.0893572545296095, -1.6631140867610845, -0.5233187816530283, -0.9290202900821505, -0.6840174842036346, 0.5769031327916414, 0.32844035501645, -0.21041570834617976, -0.09389647633980201, 0.4221686898498746],), Reward: -14.112661998\n",
      "Action: 25, State: ([-0.445401687442347, 1.6406907258631076, -1.0971430534061977, -1.7598355238865175, -0.5635693972807752, -0.9444411152059271, -0.6840174842036346, 0.5769031327916414, 0.32844035501645, -0.21041570834617976, -0.09389647633980201, 0.4221686898498746],), Reward: -14.112661998\n",
      "Action: 25, State: ([-0.4946109093567541, 1.6410815426313947, -1.1039438656283922, -2.0566294445777014, -0.5808996191581561, -0.7470723827804411, -0.6807199978870789, 0.5843540540855255, 0.30886045599942125, -0.21041570834617976, -0.09389647633980201, 0.4221686898498746],), Reward: -14.1082844762\n",
      "Action: 25, State: ([-0.5528221715937072, 1.6425508129274364, -1.11399457888621, -2.5925551194951795, -0.5383644708961416, -0.8569140788499812, -0.6725602405731759, 0.5905199049792988, 0.2753219248350479, -0.21041570834617976, -0.09389647633980201, 0.4221686898498746],), Reward: -14.0958769033\n",
      "Action: 25, State: ([-0.584649295996087, 1.6433518333508355, -1.1172069678984142, -2.534872354079635, -0.801153379657875, -0.7028744148818156, -0.6646486832232211, 0.5887930370545131, 0.2538370082980272, -0.21041570834617976, -0.09389647633980201, 0.4221686898498746],), Reward: -14.0829812158\n",
      "Action: 25, State: ([-0.6432843815116307, 1.6439138438953353, -1.1237599732933168, -2.348435318108833, -1.0784134259172389, -0.6021003721907275, -0.6571306001379348, 0.5854248237033052, 0.23166996416197505, -0.21041570834617976, -0.09389647633980201, 0.4221686898498746],), Reward: -14.0695350422\n",
      "Action: 25, State: ([-0.6997365511521423, 1.6441249023415132, -1.1273384171895238, -2.247585249646581, -1.2380443316791612, -0.43995975029249174, -0.6571306001379348, 0.5854248237033052, 0.23166996416197505, -0.21041570834617976, -0.09389647633980201, 0.4221686898498746],), Reward: -14.0695350422\n"
     ]
    },
    {
     "name": "stdout",
     "output_type": "stream",
     "text": [
      "Action: 25, State: ([-0.7562096536601954, 1.6437861612609064, -1.1314955151197275, -2.239813256208654, -1.3541348918708904, -0.37399088930272695, -0.6512369435382747, 0.5797352192023766, 0.21051511075193957, -0.21041570834617976, -0.09389647633980201, 0.4221686898498746],), Reward: -14.0564223879\n",
      "Action: 25, State: ([-0.7798578370459932, 1.6445744896974235, -1.1344459605667048, -2.17069117236084, -1.3418659249359042, -0.32952556332542765, -0.644477521068748, 0.573145151758037, 0.1893837460127848, -0.21041570834617976, -0.09389647633980201, 0.4221686898498746],), Reward: -14.042486006\n",
      "Action: 25, State: ([-0.835734407342013, 1.6433607391912295, -1.1417981437905773, -2.17764183172121, -1.2700788007728079, -0.5922362500834113, -0.6364774667624978, 0.5671432843363018, 0.17108571249468352, -0.21041570834617976, -0.09389647633980201, 0.4221686898498746],), Reward: -14.028969711\n",
      "Action: 25, State: ([-0.8837562105780616, 1.6446586184253897, -1.1489985144532397, -2.1023125104989697, -1.260534353499518, -0.5715942601662056, -0.6225165319534884, 0.557864909121793, 0.14506221354001547, -0.21041570834617976, -0.09389647633980201, 0.4221686898498746],), Reward: -14.0078728437\n",
      "Action: 25, State: ([-0.9398305954031896, 1.6436637111733319, -1.1567553414457956, -2.212810542239161, -1.2794754771794108, -0.641653339514514, -0.6121622299315923, 0.5490122213025783, 0.12576265289602928, -0.21041570834617976, -0.09389647633980201, 0.4221686898498746],), Reward: -13.9913218058\n",
      "Action: 25, State: ([-1.0177658187795258, 1.6443877297523555, -1.167192903209175, -2.180383908038401, -1.2825806883981568, -0.5023640178133022, -0.602492006822947, 0.5411000504640044, 0.11094571574396106, -0.21041570834617976, -0.09389647633980201, 0.4221686898498746],), Reward: -13.9768431885\n",
      "Action: 25, State: ([-1.0746509885598012, 1.6444491964590124, -1.1756242684344524, -2.295701117234365, -1.355380851368956, -0.600995323535118, -0.5918229243748437, 0.5299695940236399, 0.09245327715706514, -0.21041570834617976, -0.09389647633980201, 0.4221686898498746],), Reward: -13.9592660736\n",
      "Action: 25, State: ([-1.0987103936633957, 1.6450892267366513, -1.179378534222856, -2.2311681572704356, -1.3358125977089346, -0.5799680087395382, -0.5918229243748437, 0.5299695940236399, 0.09245327715706514, -0.21041570834617976, -0.09389647633980201, 0.4221686898498746],), Reward: -13.9592660736\n",
      "Action: 25, State: ([-1.156478689958492, 1.6441476464590652, -1.1852820527912424, -2.3265602995926313, -1.3743112203715127, -0.4231637588583816, -0.576206928366677, 0.5131119539373199, 0.06965750499945239, -0.21041570834617976, -0.09389647633980201, 0.4221686898498746],), Reward: -13.9341662956\n",
      "Action: 25, State: ([-1.2103332476685722, 1.6463827316842803, -1.1946520799948708, -2.32746945058733, -1.374934233799257, -0.5865546749657913, -0.5600463685196054, 0.4942208039687588, 0.049141393099263575, -0.21041570834617976, -0.09389647633980201, 0.4221686898498746],), Reward: -13.9080184382\n",
      "Action: 25, State: ([-1.270543538939136, 1.6448725724817095, -1.2021799206294377, -2.4330588229538384, -1.430751200915073, -0.5162260881420025, -0.5542630386221737, 0.48636498227938607, 0.04104903372120311, -0.21041570834617976, -0.09389647633980201, 0.4221686898498746],), Reward: -13.8980139288\n",
      "Action: 25, State: ([-1.3255052431305927, 1.6464517533585559, -1.212157224522362, -2.371229342471544, -1.3911449350686143, -0.5040362289585236, -0.5414300682907484, 0.4711571263894725, 0.026958927344859662, -0.21041570834617976, -0.09389647633980201, 0.4221686898498746],), Reward: -13.8777080791\n",
      "Action: 25, State: ([-1.3867296005614298, 1.6446656793736159, -1.219553876707387, -2.467864660413637, -1.412521658696356, -0.4739575339447515, -0.5414300682907484, 0.4711571263894725, 0.026958927344859662, -0.21041570834617976, -0.09389647633980201, 0.4221686898498746],), Reward: -13.8777080791\n",
      "Action: 25, State: ([-1.4439139760480328, 1.64599242047675, -1.2288627609900846, -2.4091988904280925, -1.3268160926286825, -0.4479039839605477, -0.5246120782116125, 0.4463025869798827, 0.009604790400674523, -0.21041570834617976, -0.09389647633980201, 0.4221686898498746],), Reward: -13.848309266\n",
      "Action: 25, State: ([-1.5065099421880932, 1.6445254730891072, -1.2373291618656586, -2.513563813081199, -1.3041953128424522, -0.503242210312715, -0.5006216038165575, 0.4104075137577563, -0.010853530308825798, -0.21041570834617976, -0.09389647633980201, 0.4221686898498746],), Reward: -13.8069090782\n",
      "Action: 25, State: ([-1.566305107231086, 1.6455584724008059, -1.2485068040575378, -2.502919456743079, -1.2541630385456173, -0.7113873151693098, -0.5006216038165575, 0.4104075137577563, -0.010853530308825798, -0.21041570834617976, -0.09389647633980201, 0.4221686898498746],), Reward: -13.8069090782\n",
      "Action: 25, State: ([-1.6292082670335182, 1.6459928742636576, -1.2575974278484914, -2.539983266676599, -1.2038512881326304, -0.7104761332491804, -0.4879120723025365, 0.3924939498210265, -0.019042192185962648, -0.21041570834617976, -0.09389647633980201, 0.4221686898498746],), Reward: -13.7859485985\n",
      "Action: 25, State: ([-1.6939183209062811, 1.644525457020201, -1.2650869696612048, -2.6042905811145243, -1.2129110637196596, -0.6243943585466127, -0.4760146419885327, 0.3719479776570054, -0.025409393572289496, -0.21041570834617976, -0.09389647633980201, 0.4221686898498746],), Reward: -13.7641053476\n",
      "Action: 25, State: ([-1.759953908821207, 1.6441476323301725, -1.2752041813985064, -2.6568606502840755, -1.1254209653174219, -0.7211536908917999, -0.45878926213049687, 0.3389756117274857, -0.03350377361557205, -0.21041570834617976, -0.09389647633980201, 0.4221686898498746],), Reward: -13.7308870261\n",
      "Action: 25, State: ([-1.8268798517826417, 1.6433283732023956, -1.288778639089755, -2.6601484632833543, -0.6941433496206952, -0.9958745358387596, -0.4392049539475905, 0.3035287329711519, -0.03886791936261974, -0.21041570834617976, -0.09389647633980201, 0.4221686898498746],), Reward: -13.6947681225\n",
      "Action: 25, State: ([-1.8951708537904706, 1.6433284029478044, -1.3023215632228808, -2.717627150094824, -0.5752135991026339, -0.9638439202165691, -0.42650358590581805, 0.28006283294291, -0.039340241937389886, -0.21041570834617976, -0.09389647633980201, 0.4221686898498746],), Reward: -13.6712225939\n",
      "Action: 25, State: ([-1.9644674309129995, 1.643395586863881, -1.318698611333069, -2.752932293338847, -0.48914661283350314, -1.1931015842521475, -0.4133978558214393, 0.25655885716297, -0.03792622896607695, -0.21041570834617976, -0.09389647633980201, 0.4221686898498746],), Reward: -13.6474874975\n",
      "Action: 25, State: ([-2.035097900743133, 1.643511332092321, -1.3357317307955592, -2.798883862132512, -0.4508919509662712, -1.211844566757725, -0.4133978558214393, 0.25655885716297, -0.03792622896607695, -0.21041570834617976, -0.09389647633980201, 0.4221686898498746],), Reward: -13.6474874975\n",
      "Action: 25, State: ([-2.104897552779332, 1.6431843001285564, -1.3541778898088142, -2.6637625052885587, -0.37605567744706386, -1.4191232906448292, -0.40082762119291204, 0.23252497760742052, -0.03446803129701692, -0.21041570834617976, -0.09389647633980201, 0.4221686898498746],), Reward: -13.6241430249\n",
      "Action: 25, State: ([-2.156910763450253, 1.6435195694292526, -1.3726703907308737, -1.804256976670003, -0.34913321142041864, -1.2311080893588269, -0.3887943880991451, 0.20880880693453446, -0.02942578837461801, -0.21041570834617976, -0.09389647633980201, 0.4221686898498746],), Reward: -13.6017711268\n",
      "Action: 25, State: ([-2.1837125509489903, 1.644062375592946, -1.3944176782971258, -0.5998723769722071, -0.35507249044082745, -1.509402895097863, -0.37469181884745484, 0.18808569236426748, -0.022306952679466197, -0.21041570834617976, -0.09389647633980201, 0.4221686898498746],), Reward: -13.5793150787\n",
      "Action: 25, State: ([-2.1923999574558373, 1.6442000848409348, -1.41474944288667, 0.3804955674045391, -0.3544880748460383, -1.5214102357792365, -0.36488302842792986, 0.18561725987566396, -0.020067480643447766, -0.21041570834617976, -0.09389647633980201, 0.4221686898498746],), Reward: -13.5693457722\n",
      "Action: 25, State: ([-2.186017007320898, 1.644814788784414, -1.4331932983634488, 1.1000530413773149, -0.3866097724585037, -1.238141498321427, -0.36488302842792986, 0.18561725987566396, -0.020067480643447766, -0.21041570834617976, -0.09389647633980201, 0.4221686898498746],), Reward: -13.5693457722\n",
      "Action: 25, State: ([-2.1686213449938085, 1.6449335687087796, -1.4554777734016469, 1.6656291597752306, -0.3698539499197546, -1.450537410957313, -0.35446175725843954, 0.20106612878193497, -0.022635690619343507, -0.21041570834617976, -0.09389647633980201, 0.4221686898498746],), Reward: -13.5676184345\n",
      "Action: 25, State: ([-2.14285963026909, 1.6450856847038597, -1.4770934056154257, 2.0529273416550873, -0.39629509442763455, -1.4292879173651942, -0.35446175725843954, 0.20106612878193497, -0.022635690619343507, -0.21041570834617976, -0.09389647633980201, 0.4221686898498746],), Reward: -13.5676184345\n",
      "Action: 25, State: ([-2.1104715630730535, 1.6453767909600616, -1.498023056468039, 2.330318962524598, -0.3933321337650302, -1.3793783965361361, -0.34900648046580496, 0.21425852292365583, -0.02516559749489583, -0.21041570834617976, -0.09389647633980201, 0.4221686898498746],), Reward: -13.569771841\n",
      "Action: 25, State: ([-2.093767654531275, 1.6454133468354541, -1.508011160511395, 2.328314859552807, -0.4105128841381739, -1.2624017177757807, -0.3406307333295404, 0.23774450763348798, -0.029652473447284333, -0.21041570834617976, -0.09389647633980201, 0.4221686898498746],), Reward: -13.5759230019\n",
      "Action: 25, State: ([-2.0653780529707024, 1.6460829474863452, -1.5376272711722603, 1.3708261555026635, -0.4416993204593617, -0.9676205027596484, -0.33784806924824123, 0.24439964071471343, -0.03044489679158391, -0.21041570834617976, -0.09389647633980201, 0.4221686898498746],), Reward: -13.5775626792\n",
      "Action: 25, State: ([-2.068200373204842, 1.6455336400418412, -1.5593859176263338, 0.51600011296772, -0.42103325781506784, -1.1405176936043337, -0.3311362906698032, 0.2530018709627291, -0.031478618118258805, -0.21041570834617976, -0.09389647633980201, 0.4221686898498746],), Reward: -13.5773864828\n"
     ]
    },
    {
     "name": "stdout",
     "output_type": "stream",
     "text": [
      "Action: 25, State: ([-2.074766600323235, 1.645625668348563, -1.5684374626847797, 0.16696378058851413, -0.4242889448058435, -0.9893790267485767, -0.32038348726122456, 0.25265749691908646, -0.030963074179125638, -0.21041570834617976, -0.09389647633980201, 0.4221686898498746],), Reward: -13.5686669592\n",
      "Action: 25, State: ([-2.092837209029538, 1.6459392923922795, -1.5889228062710448, -0.19741743442074655, -0.40682295325442003, -0.9824745869024535, -0.31664930272243913, 0.25059833106662066, -0.030150098904728695, -0.21041570834617976, -0.09389647633980201, 0.4221686898498746],), Reward: -13.5644111827\n",
      "Action: 25, State: ([-2.109223495363274, 1.6455354355029632, -1.6106071508864304, -0.1127464349462078, -0.4057457317215324, -1.167191960478353, -0.3099899300108394, 0.2456999746684418, -0.028481805389307113, -0.21041570834617976, -0.09389647633980201, 0.4221686898498746],), Reward: -13.5560496693\n",
      "Action: 25, State: ([-2.1166197926747774, 1.6472500104595058, -1.6327980399031734, 0.3437107391905543, -0.34192088418392413, -0.9801667755248045, -0.3099899300108394, 0.2456999746684418, -0.028481805389307113, -0.21041570834617976, -0.09389647633980201, 0.4221686898498746],), Reward: -13.5560496693\n",
      "Action: 25, State: ([-2.114009329603018, 1.6470281946925267, -1.6579717606426234, 0.844967105885078, -0.3575936802437908, -1.1705977147831166, -0.2988553012460108, 0.24308980961243537, -0.02695232067715947, -0.21041570834617976, -0.09389647633980201, 0.4221686898498746],), Reward: -13.5456506685\n",
      "Action: 25, State: ([-2.1045845304513824, 1.6464186375509566, -1.6790936685428077, 1.1438431609480038, -0.329411912915014, -0.9643268680628083, -0.2826813976450471, 0.2512708136610784, -0.028226518682036295, -0.21041570834617976, -0.09389647633980201, 0.4221686898498746],), Reward: -13.5387382832\n",
      "Action: 25, State: ([-2.093825211203802, 1.6466062019342784, -1.7009630301690581, 1.1745008351353923, -0.2868423581762595, -0.8819222487951318, -0.2826813976450471, 0.2512708136610784, -0.028226518682036295, -0.21041570834617976, -0.09389647633980201, 0.4221686898498746],), Reward: -13.5387382832\n",
      "Action: 25, State: ([-2.0869941489795227, 1.6475515127489855, -1.7232182854411295, 0.992799919100023, -0.2504656781535657, -1.03988280078505, -0.2745564587273995, 0.25704389711861386, -0.0290775326045834, -0.21041570834617976, -0.09389647633980201, 0.4221686898498746],), Reward: -13.5366969962\n",
      "Action: 25, State: ([-2.085532448959606, 1.6471076477416764, -1.7450239310246403, 0.7522701768557465, -0.22521598046666724, -1.0782852825230225, -0.26627173991429853, 0.26137374396638297, -0.02934818220474905, -0.21041570834617976, -0.09389647633980201, 0.4221686898498746],), Reward: -13.5337427137\n",
      "Action: 25, State: ([-2.0862805102188133, 1.6480752734470157, -1.7460163124454002, 0.6526881129271285, -0.5312594782657668, -0.657745501139497, -0.2584356160012139, 0.2629421484038042, -0.029564271299741374, -0.21041570834617976, -0.09389647633980201, 0.4221686898498746],), Reward: -13.5293394905\n",
      "Action: 25, State: ([-2.0914774467355173, 1.6483671523877836, -1.7511027420842318, 0.440815301511574, -0.7532746174334901, -0.5570787354860535, -0.25661757266350205, 0.2612965090978419, -0.028801051002323608, -0.21041570834617976, -0.09389647633980201, 0.4221686898498746],), Reward: -13.5268387318\n",
      "Action: 25, State: ([-2.0987268647228063, 1.6481593514046233, -1.755341538272626, 0.3618379814925805, -0.7945475898333503, -0.4723550978672293, -0.25661757266350205, 0.2612965090978419, -0.028801051002323608, -0.21041570834617976, -0.09389647633980201, 0.4221686898498746],), Reward: -13.5268387318\n",
      "Action: 25, State: ([-2.105936752749405, 1.647185831418371, -1.771178334717411, 0.414024254269422, -0.45002637225754216, -1.0256962997119736, -0.2506976039091726, 0.25614784634126053, -0.027966095162549942, -0.21041570834617976, -0.09389647633980201, 0.4221686898498746],), Reward: -13.5189764828\n",
      "Action: 25, State: ([-2.1075920689664294, 1.6474411070445596, -1.792876374313372, 0.5879334084793695, -0.191383076837793, -0.9926690818117526, -0.2506976039091726, 0.25614784634126053, -0.027966095162549942, -0.21041570834617976, -0.09389647633980201, 0.4221686898498746],), Reward: -13.5189764828\n",
      "Action: 25, State: ([-2.1018856868546543, 1.6490942681991427, -1.80529880417272, 0.9491636088285997, -0.4719919575186384, -0.6604202397401655, -0.24320875579005652, 0.25642873906436164, -0.027661255963562392, -0.21041570834617976, -0.09389647633980201, 0.4221686898498746],), Reward: -13.5139740452\n",
      "Action: 25, State: ([-2.096812651911673, 1.6496330857639734, -1.8120695877715995, 0.9442815139514246, -0.7395767438445358, -0.6747906657930681, -0.23677675223043934, 0.260749091715943, -0.02823572589925133, -0.21041570834617976, -0.09389647633980201, 0.4221686898498746],), Reward: -13.5128145139\n",
      "Action: 25, State: ([-2.0927008302430945, 1.6505108530560255, -1.8175930612080764, 0.8732729807078928, -0.7567547230363336, -0.7522388819874526, -0.232887688224424, 0.263693682199868, -0.02834038832532393, -0.21041570834617976, -0.09389647633980201, 0.4221686898498746],), Reward: -13.512423225\n",
      "Action: 25, State: ([-2.091763798180656, 1.6495691417378637, -1.821097910173159, 0.8126085376222117, -0.7626670358672597, -0.7165070914067726, -0.23162633812467512, 0.263801205895117, -0.02873451474291494, -0.21041570834617976, -0.09389647633980201, 0.4221686898498746],), Reward: -13.5117046854\n",
      "Action: 25, State: ([-2.0927288015010843, 1.6483373942997757, -1.8276630543883305, 0.6680388886682745, -0.7278412766400582, -0.666951245525139, -0.23162633812467512, 0.263801205895117, -0.02873451474291494, -0.21041570834617976, -0.09389647633980201, 0.4221686898498746],), Reward: -13.5117046854\n",
      "Action: 25, State: ([-2.0954115260488004, 1.648367022917773, -1.8321167683634387, 0.5915033574966471, -0.8125835851242907, -0.6193701157991721, -0.2294442746286936, 0.26329805712973864, -0.028715521965583635, -0.21041570834617976, -0.09389647633980201, 0.4221686898498746],), Reward: -13.5098938557\n",
      "Action: 25, State: ([-2.0985205459439964, 1.6487763264508377, -1.8381768395403046, 0.5986048956825494, -0.7048849025380999, -0.7068192212740502, -0.22752060281842143, 0.26190788000652937, -0.028185223997536923, -0.21041570834617976, -0.09389647633980201, 0.4221686898498746],), Reward: -13.5075468778\n",
      "Action: 25, State: ([-2.1004044147286907, 1.6489497834456097, -1.8449710583669727, 0.6571092780538769, -0.6417786723517677, -0.6209602162417355, -0.224069235912375, 0.2606945817936872, -0.02824179719293224, -0.21041570834617976, -0.09389647633980201, 0.4221686898498746],), Reward: -13.5043874023\n",
      "Action: 25, State: ([-2.102144358348493, 1.6496837110395512, -1.8493506805000601, 0.6364598104443799, -0.6977576848691551, -0.8148757438552944, -0.224069235912375, 0.2606945817936872, -0.02824179719293224, -0.21041570834617976, -0.09389647633980201, 0.4221686898498746],), Reward: -13.5043874023\n",
      "Action: 25, State: ([-2.10063742643454, 1.6492750040229511, -1.854571113207271, 0.764248767837308, -0.7606515598043706, -0.6886629727255171, -0.22198202570510384, 0.26108083274189287, -0.027483955964749673, -0.21041570834617976, -0.09389647633980201, 0.4221686898498746],), Reward: -13.5032669037\n",
      "Action: 25, State: ([-2.097786388614341, 1.6489293175276236, -1.860083134030189, 0.8641230046674608, -0.7637143165662413, -0.7644088477330744, -0.21993028361455258, 0.2613688943962631, -0.02797378862732075, -0.21041570834617976, -0.09389647633980201, 0.4221686898498746],), Reward: -13.5022049973\n",
      "Action: 25, State: ([-2.0961345436436654, 1.6490942222390865, -1.8673662379623153, 0.7928937945894173, -0.5791077561936627, -0.5945040584884098, -0.21993028361455258, 0.2613688943962631, -0.02797378862732075, -0.21041570834617976, -0.09389647633980201, 0.4221686898498746],), Reward: -13.5022049973\n",
      "Action: 25, State: ([-2.096525126503752, 1.6494244046443836, -1.8738807787241054, 0.6953106345518599, -0.7009827501858735, -0.7757397617375106, -0.21556436016333574, 0.26274720528447826, -0.028176105759966374, -0.21041570834617976, -0.09389647633980201, 0.4221686898498746],), Reward: -13.5004974014\n",
      "Action: 25, State: ([-2.0959124034956123, 1.6494325055568781, -1.8777456212121848, 0.733790670210416, -0.6649779298760085, -0.6942104126546096, -0.21006815640386814, 0.2629694359526116, -0.02823946070884925, -0.21041570834617976, -0.09389647633980201, 0.4221686898498746],), Reward: -13.4972283658\n"
     ]
    },
    {
     "name": "stdout",
     "output_type": "stream",
     "text": [
      "Action: 25, State: ([-2.095692528096828, 1.6489996860218952, -1.8839387950493816, 0.7212541336461263, -0.7633315012324677, -0.6559242011620412, -0.21006815640386814, 0.2629694359526116, -0.02823946070884925, -0.21041570834617976, -0.09389647633980201, 0.4221686898498746],), Reward: -13.4972283658\n",
      "Action: 25, State: ([-2.096703289820047, 1.6499685937408826, -1.891315080552058, 0.6800264248607808, -0.7279359628878121, -0.7345126504738682, -0.20783169418520311, 0.2628145019054307, -0.028103714345326047, -0.21041570834617976, -0.09389647633980201, 0.4221686898498746],), Reward: -13.4957094662\n",
      "Action: 25, State: ([-2.097488695944362, 1.648890875667223, -1.8943996901095925, 0.640221185375087, -0.595754569601861, -0.7500742794951107, -0.206113547962649, 0.26218597230915175, -0.02811786535505556, -0.21041570834617976, -0.09389647633980201, 0.4221686898498746],), Reward: -13.4941587654\n",
      "Action: 25, State: ([-2.0990249934061413, 1.6508517732677808, -1.9007399293805882, 0.656889250683341, -0.6487766214752438, -0.7134328410866573, -0.206113547962649, 0.26218597230915175, -0.02811786535505556, -0.21041570834617976, -0.09389647633980201, 0.4221686898498746],), Reward: -13.4941587654\n",
      "Action: 25, State: ([-2.0984205414900234, 1.6493242874055136, -1.9093744469517766, 0.741059937252905, -0.5436888319456293, -0.7129588983360873, -0.20388318341339254, 0.26207216707592956, -0.027708957198564088, -0.21041570834617976, -0.09389647633980201, 0.4221686898498746],), Reward: -13.4926660814\n",
      "Action: 25, State: ([-2.0990598036248063, 1.6499910185673903, -1.9192915031118751, 0.7016923467159812, -0.5679163749303746, -0.9432078970362248, -0.19910047499110015, 0.2615895415296324, -0.027979227606614088, -0.21041570834617976, -0.09389647633980201, 0.4221686898498746],), Reward: -13.4894011706\n",
      "Action: 25, State: ([-2.098847008186749, 1.650225047851336, -1.9330491054082568, 0.7096151623849114, -0.40825762849002023, -0.8313311668674846, -0.19910047499110015, 0.2615895415296324, -0.027979227606614088, -0.21041570834617976, -0.09389647633980201, 0.4221686898498746],), Reward: -13.4894011706\n",
      "Action: 25, State: ([-2.0980031786955546, 1.6506271970969948, -1.9472644784483837, 0.7321689261806194, -0.37186169906970684, -0.8164621207197138, -0.19237951151547045, 0.26169654931499053, -0.027565414427548895, -0.21041570834617976, -0.09389647633980201, 0.4221686898498746],), Reward: -13.4854400068\n",
      "Action: 25, State: ([-2.0981894274585215, 1.6489955335382733, -1.9588732061175262, 0.6879273450044594, -0.13401063678411695, -1.0395827959303323, -0.18326346214045328, 0.2609660239304481, -0.02798275258441779, -0.21041570834617976, -0.09389647633980201, 0.4221686898498746],), Reward: -13.4795846673\n",
      "Action: 25, State: ([-2.0981217303537054, 1.6496300358425078, -1.9838021288838377, 0.6890653644, 0.04606376140531482, -1.2725791778221314, -0.17892933236227257, 0.2605917369960909, -0.02798238449953233, -0.21041570834617976, -0.09389647633980201, 0.4221686898498746],), Reward: -13.4768158097\n",
      "Action: 25, State: ([-2.097757595870167, 1.6501755248610452, -1.9947405061463606, 0.690891539851118, 0.015026644666944006, -1.1012961588163372, -0.1702983830395511, 0.2603342620794007, -0.02755724903561274, -0.21041570834617976, -0.09389647633980201, 0.4221686898498746],), Reward: -13.4717782351\n",
      "Action: 25, State: ([-2.0943250357858183, 1.6507425927282364, -2.004585901903793, 0.8207367376214421, -0.6341178658444597, -0.8308320496817925, -0.1702983830395511, 0.2603342620794007, -0.02755724903561274, -0.21041570834617976, -0.09389647633980201, 0.4221686898498746],), Reward: -13.4717782351\n",
      "Action: 25, State: ([-2.093662521493867, 1.6509219315972041, -2.007379866283192, 0.7313618111368627, -0.7942279974256516, -0.4151857798746473, -0.16618100015090997, 0.26128616309097424, -0.027767912908155834, -0.21041570834617976, -0.09389647633980201, 0.4221686898498746],), Reward: -13.4703706244\n",
      "Action: 25, State: ([-2.0953395507444803, 1.6510476109028085, -2.013008262067501, 0.6271662760086669, -0.8474669500839719, -0.6531855972843679, -0.1643847890271304, 0.2610301923612929, -0.02802658339160008, -0.21041570834617976, -0.09389647633980201, 0.4221686898498746],), Reward: -13.4692217736\n",
      "Action: 25, State: ([-2.0969617387094175, 1.6505244440646427, -2.0162403327961336, 0.6369180302517661, -0.83235284722242, -0.5811406022073081, -0.16259921595384913, 0.25958499516892974, -0.027973568581758645, -0.21041570834617976, -0.09389647633980201, 0.4221686898498746],), Reward: -13.4670524054\n",
      "Action: 25, State: ([-2.0982268949097103, 1.6509394983430044, -2.0185409848224403, 0.6261235118319601, -0.811770915983409, -0.5459216619657643, -0.16187143793492656, 0.25929637679705553, -0.027408039118938243, -0.21041570834617976, -0.09389647633980201, 0.4221686898498746],), Reward: -13.4663734237\n",
      "Action: 25, State: ([-2.099031480262572, 1.6507229417231786, -2.0216577109868616, 0.6222587434033722, -0.8260785547972347, -0.7266828559962717, -0.16187143793492656, 0.25929637679705553, -0.027408039118938243, -0.21041570834617976, -0.09389647633980201, 0.4221686898498746],), Reward: -13.4654569654\n",
      "Action: 25, State: ([-2.099612089251859, 1.6511838714076381, -2.025102425605274, 0.6888608819338051, -0.8015322925876349, -0.6225210114645254, -0.16094042277324985, 0.25879313223579514, -0.027400460428288143, -0.21041570834617976, -0.09389647633980201, 0.4221686898498746],), Reward: -13.4654569654\n",
      "Action: 25, State: ([-2.098963992011514, 1.6510183393020554, -2.028793179006577, 0.74197964678209, -0.8174830789049741, -0.5096447302737962, -0.1597585115878083, 0.2585536391303822, -0.02721939892110098, -0.21041570834617976, -0.09389647633980201, 0.4221686898498746],), Reward: -13.4646178177\n",
      "Action: 25, State: ([-2.0978052630950152, 1.651180759492548, -2.033797693694787, 0.7758693873205187, -0.8127475667918003, -0.6249714153971676, -0.15836969000095052, 0.25854352720468166, -0.02732221455349998, -0.21041570834617976, -0.09389647633980201, 0.4221686898498746],), Reward: -13.4638936235\n",
      "Action: 25, State: ([-2.096915609533875, 1.6511774437361089, -2.0375841361969744, 0.7682388311219914, -0.7844470405952382, -0.525914859350643, -0.1558162590606325, 0.2584419409712169, -0.02800400572344125, -0.21041570834617976, -0.09389647633980201, 0.4221686898498746],), Reward: -13.4625486796\n",
      "Action: 25, State: ([-2.0959802723837484, 1.6504756969218928, -2.042547631264272, 0.787469905142897, -0.7930215789093473, -0.6372315094314585, -0.1536982396421104, 0.25881627030527465, -0.02747534956086617, -0.21041570834617976, -0.09389647633980201, 0.4221686898498746],), Reward: -13.4617371329\n",
      "Action: 25, State: ([-2.0962773054766917, 1.651288985455933, -2.047700143927038, 0.7113649953273762, -0.7851890017812213, -0.6754564033083503, -0.15231717806556236, 0.2586784149733913, -0.02742680168542022, -0.21041570834617976, -0.09389647633980201, 0.4221686898498746],), Reward: -13.4609144967\n",
      "Action: 25, State: ([-2.096657131353501, 1.6509696150656614, -2.051590619455146, 0.712879893788283, -0.7973128049443559, -0.6085253707325959, -0.1507484705479752, 0.25801143433513896, -0.028032676253768818, -0.21041570834617976, -0.09389647633980201, 0.4221686898498746],), Reward: -13.4596071954\n",
      "Action: 25, State: ([-2.097335662150643, 1.651417333904928, -2.0568765034091427, 0.7118975099282094, -0.7695113246380805, -0.6753840196877462, -0.1507484705479752, 0.25801143433513896, -0.028032676253768818, -0.21041570834617976, -0.09389647633980201, 0.4221686898498746],), Reward: -13.4596071954\n",
      "Action: 25, State: ([-2.0979499732104934, 1.6513514944928804, -2.0606944750225473, 0.695964868490751, -0.7854734404684447, -0.5262937365816471, -0.14819425963274427, 0.25751009394083535, -0.027626761641942277, -0.21041570834617976, -0.09389647633980201, 0.4221686898498746],), Reward: -13.4578618896\n",
      "Action: 25, State: ([-2.098078517291187, 1.6508910326208293, -2.065899618942108, 0.7091750961863721, -0.7871524288764546, -0.673872836456163, -0.1458000916948059, 0.25698574768766874, -0.027257221850736812, -0.21041570834617976, -0.09389647633980201, 0.4221686898498746],), Reward: -13.4561917279\n",
      "Action: 25, State: ([-2.097729081703652, 1.6510137448981075, -2.069662366770025, 0.720661432993382, -0.8223198104015037, -0.5948637633778366, -0.14378083525907273, 0.25654927442286213, -0.02742723055445656, -0.21041570834617976, -0.09389647633980201, 0.4221686898498746],), Reward: -13.4548412772\n"
     ]
    },
    {
     "name": "stdout",
     "output_type": "stream",
     "text": [
      "Action: 25, State: ([-2.0974339663758927, 1.6513592201130338, -2.0720796057560484, 0.7452519805454831, -0.8161797821710772, -0.5537452763298774, -0.14289007537959994, 0.25646719047525407, -0.027647636024265954, -0.21041570834617976, -0.09389647633980201, 0.4221686898498746],), Reward: -13.4543578811\n",
      "Action: 25, State: ([-2.0974909892917957, 1.650783696519591, -2.076108710402287, 0.7302402219186008, -0.755374958537699, -0.6306321225381843, -0.1415164039715334, 0.2561246237592078, -0.02751923413051116, -0.21041570834617976, -0.09389647633980201, 0.4221686898498746],), Reward: -13.4533840964\n",
      "Action: 25, State: ([-2.096900844980051, 1.6508659759063802, -2.0796760862741577, 0.7604825341982304, -0.7694092293406078, -0.6135407225744931, -0.1415164039715334, 0.2561246237592078, -0.02751923413051116, -0.21041570834617976, -0.09389647633980201, 0.4221686898498746],), Reward: -13.4533840964\n",
      "Action: 25, State: ([-2.096742683800441, 1.6511118752640277, -2.0833928908498134, 0.7417773354776296, -0.7866413459042394, -0.5718368767090585, -0.1402151328698421, 0.25597170753384213, -0.02786198440266968, -0.21041570834617976, -0.09389647633980201, 0.4221686898498746],), Reward: -13.4526586038\n",
      "Action: 25, State: ([-2.0966760132757374, 1.6512045652951874, -2.0837258645599483, 0.7307460489109133, -0.8184884611529228, -0.4264452748969733, -0.13884193918290189, 0.25583859971502865, -0.02779532296493431, -0.21041570834617976, -0.09389647633980201, 0.4221686898498746],), Reward: -13.4518815558\n",
      "Action: 25, State: ([-2.0971814379587066, 1.651235184409976, -2.0834127816606225, 0.7001377563996174, -0.84042149159624, -0.395623754111457, -0.13883683032005056, 0.2558684142785427, -0.027699668026067825, -0.21041570834617976, -0.09389647633980201, 0.4221686898498746],), Reward: -13.45189614\n",
      "Action: 25, State: ([-2.0974383420066314, 1.6517289553939527, -2.083241397443235, 0.7185031947618489, -0.8167351854160672, -0.3346681305980329, -0.13883683032005056, 0.2558684142785427, -0.027699668026067825, -0.21041570834617976, -0.09389647633980201, 0.4221686898498746],), Reward: -13.45189614\n",
      "Action: 25, State: ([-2.097564419040925, 1.6517497135381003, -2.084750328801799, 0.7121665306210839, -0.7861470259795675, -0.5146704161875406, -0.13891941168536448, 0.2558059081020902, -0.02752274002490024, -0.21041570834617976, -0.09389647633980201, 0.4221686898498746],), Reward: -13.4518639663\n",
      "Action: 25, State: ([-2.097852188572686, 1.6512274877357953, -2.0846838005120034, 0.6824717283501458, -0.804870582446669, -0.438530363166487, -0.13847863406227265, 0.25548173170094707, -0.02771948184582468, -0.21041570834617976, -0.09389647633980201, 0.4221686898498746],), Reward: -13.4513896454\n",
      "Action: 25, State: ([-2.0974814718988863, 1.6513761452745195, -2.0837513211139287, 0.7279026347533636, -0.8379792019834862, -0.37931511328036216, -0.13857980657269478, 0.2556474809935886, -0.027721691323299713, -0.21041570834617976, -0.09389647633980201, 0.4221686898498746],), Reward: -13.4515829111\n",
      "Action: 25, State: ([-2.097357391345689, 1.651248266979895, -2.0837433205283435, 0.7333213277313492, -0.8349855138702337, -0.38771476359628865, -0.13857980657269478, 0.2556474809935886, -0.027721691323299713, -0.21041570834617976, -0.09389647633980201, 0.4221686898498746],), Reward: -13.4515829111\n",
      "Action: 25, State: ([-2.097254109814192, 1.651760991064676, -2.0848526776231147, 0.7394998404392596, -0.7904328627207978, -0.5057975548663359, -0.13881202268712012, 0.25564902394650274, -0.02768752443597844, -0.21041570834617976, -0.09389647633980201, 0.4221686898498746],), Reward: -13.4516912586\n",
      "Action: 25, State: ([-2.0975406577585236, 1.6511054032950376, -2.0848814347937026, 0.7111358747109546, -0.7978660943027926, -0.5017591907492669, -0.13839963986104079, 0.2555931688967342, -0.027399698211968138, -0.21041570834617976, -0.09389647633980201, 0.4221686898498746],), Reward: -13.4514195406\n",
      "Action: 25, State: ([-2.096876444394577, 1.6513570165982783, -2.0842380368209064, 0.753804043790858, -0.8213630578991202, -0.38782182006979904, -0.13839963986104079, 0.2555931688967342, -0.027399698211968138, -0.21041570834617976, -0.09389647633980201, 0.4221686898498746],), Reward: -13.4514195406\n",
      "Action: 25, State: ([-2.096744029627934, 1.6512237025538523, -2.0837160775641568, 0.7553389107986624, -0.8410399669465036, -0.3866827954364688, -0.13871236856338387, 0.25584482596603997, -0.027769906958999613, -0.21041570834617976, -0.09389647633980201, 0.4221686898498746],), Reward: -13.4518230886\n",
      "Action: 25, State: ([-2.096989394838806, 1.6516664876014966, -2.0849544630826005, 0.7416483461973868, -0.7993608203649833, -0.5202148005388745, -0.13882925137074562, 0.2558816092798266, -0.02720648268706327, -0.21041570834617976, -0.09389647633980201, 0.4221686898498746],), Reward: -13.4518577843\n",
      "Action: 25, State: ([-2.0979031097493177, 1.6512181424745567, -2.08465377277191, 0.6847135011961785, -0.8093914522420521, -0.5032663416072987, -0.13882925137074562, 0.2558816092798266, -0.02720648268706327, -0.21041570834617976, -0.09389647633980201, 0.4221686898498746],), Reward: -13.4518577843\n",
      "Action: 25, State: ([-2.097301044074965, 1.6512984130269732, -2.084145334156748, 0.7243403711286434, -0.8325303534095798, -0.3917339710911763, -0.13845524636901993, 0.25566965672778563, -0.027708332047228446, -0.21041570834617976, -0.09389647633980201, 0.4221686898498746],), Reward: -13.4515419832\n",
      "Action: 25, State: ([-2.097198989722795, 1.6512807488377446, -2.0834368295140324, 0.7375505396066349, -0.8470055068101879, -0.3871586932882696, -0.1388833173022459, 0.2557346338655657, -0.027692252523131733, -0.21041570834617976, -0.09389647633980201, 0.4221686898498746],), Reward: -13.4518004706\n",
      "Action: 25, State: ([-2.0972300240936015, 1.6516950490667703, -2.084773449187243, 0.7397176182069053, -0.7974330248666196, -0.519366403667817, -0.1388606409531684, 0.25584643199480206, -0.0272473390137708, -0.21041570834617976, -0.09389647633980201, 0.4221686898498746],), Reward: -13.4518457112\n",
      "Action: 25, State: ([-2.097391599544407, 1.6512514688236548, -2.084566648998277, 0.7085488255240431, -0.8092886192346583, -0.4456366139139546, -0.1384589329711834, 0.25570570799135495, -0.027379864645824037, -0.21041570834617976, -0.09389647633980201, 0.4221686898498746],), Reward: -13.4515443147\n",
      "Action: 25, State: ([-2.097300180924778, 1.6512167083790859, -2.0837533502724046, 0.7216812406905796, -0.8452845536462665, -0.38119191017071785, -0.1384589329711834, 0.25570570799135495, -0.027379864645824037, -0.21041570834617976, -0.09389647633980201, 0.4221686898498746],), Reward: -13.4515443147\n",
      "Action: 25, State: ([-2.0972400030053144, 1.6512138271303343, -2.0834852822971754, 0.7269264773923788, -0.8474974456435904, -0.3858173047907733, -0.1388852809612828, 0.2556975836317208, -0.027707812076695815, -0.21041570834617976, -0.09389647633980201, 0.4221686898498746],), Reward: -13.4517704664\n",
      "Action: 25, State: ([-2.0974257599538415, 1.6517586967335802, -2.084574317757144, 0.7254095258489541, -0.7983440116535235, -0.509564503139329, -0.13889800223488202, 0.25580151321326805, -0.027571754121536673, -0.21041570834617976, -0.09389647633980201, 0.4221686898498746],), Reward: -13.4518545678\n",
      "Action: 25, State: ([-2.0973499262550117, 1.6512898598987613, -2.084491997685001, 0.7165523063111642, -0.8013955369913294, -0.4411810586097665, -0.13843672369663995, 0.25561646328664256, -0.027440943928445483, -0.21041570834617976, -0.09389647633980201, 0.4221686898498746],), Reward: -13.4514613884\n",
      "Action: 25, State: ([-2.09715557278572, 1.6512085545226869, -2.0842581538371094, 0.7257578614573694, -0.8257815545767679, -0.3956313075227337, -0.13843672369663995, 0.25561646328664256, -0.027440943928445483, -0.21041570834617976, -0.09389647633980201, 0.4221686898498746],), Reward: -13.4514613884\n",
      "Action: 25, State: ([-2.09735418424619, 1.6511911100558851, -2.083684069999208, 0.7049748982814305, -0.8470714875021315, -0.38695239726800396, -0.13860030788234043, 0.25566844622095375, -0.027719390492044027, -0.21041570834617976, -0.09389647633980201, 0.4221686898498746],), Reward: -13.4516107671\n",
      "Action: 25, State: ([-2.097369182869194, 1.6518599135922747, -2.084713827376845, 0.7227491522567175, -0.7922962305172082, -0.505774940166305, -0.13877038773311737, 0.2558436395294161, -0.02759823528991734, -0.21041570834617976, -0.09389647633980201, 0.4221686898498746],), Reward: -13.451833328\n"
     ]
    },
    {
     "name": "stdout",
     "output_type": "stream",
     "text": [
      "Action: 25, State: ([-2.09722644894794, 1.6512414157763464, -2.084723753426996, 0.7183727668386531, -0.805127048164176, -0.44175972658779694, -0.13877038773311737, 0.2558436395294161, -0.02759823528991734, -0.21041570834617976, -0.09389647633980201, 0.4221686898498746],), Reward: -13.451833328\n",
      "Action: 25, State: ([-2.0972597163778666, 1.6511686979996796, -2.083976619351354, 0.714963476576944, -0.8391373824506447, -0.3806140753985261, -0.1384452515895337, 0.2556213434005407, -0.027701274537967002, -0.21041570834617976, -0.09389647633980201, 0.4221686898498746],), Reward: -13.4514942839\n",
      "Action: 25, State: ([-2.097029030651461, 1.651225881076531, -2.0836723857858974, 0.740610787405377, -0.8429069785269522, -0.3854753832175154, -0.13877912919995727, 0.2557565430555832, -0.027731032268633937, -0.21041570834617976, -0.09389647633980201, 0.4221686898498746],), Reward: -13.4517738324\n",
      "Action: 25, State: ([-2.0973353124368854, 1.6517118902157266, -2.084809195383979, 0.7299091648329111, -0.7955042063512237, -0.5134005537923441, -0.13877912919995727, 0.2557565430555832, -0.027731032268633937, -0.21041570834617976, -0.09389647633980201, 0.4221686898498746],), Reward: -13.4517738324\n",
      "Action: 25, State: ([-2.097490811857716, 1.6512305773423765, -2.0846513061016125, 0.6974297732130204, -0.8073771151569458, -0.44115141123445767, -0.13835079325036823, 0.255729593556869, -0.027522483378793094, -0.21041570834617976, -0.09389647633980201, 0.4221686898498746],), Reward: -13.4515273867\n",
      "Action: 25, State: ([-2.0972813395136, 1.6513795496787589, -2.0836700458838218, 0.7282198917552843, -0.8413763910145372, -0.38278302109081924, -0.13844948485660985, 0.25566391906243374, -0.027366714486587396, -0.21041570834617976, -0.09389647633980201, 0.4221686898498746],), Reward: -13.4515020177\n",
      "Action: 25, State: ([-2.097279498626304, 1.6511954485871767, -2.0837050699645028, 0.7173718545557879, -0.8484377416383153, -0.3909699492891231, -0.1387475346744351, 0.2557900094097368, -0.027404705665075857, -0.21041570834617976, -0.09389647633980201, 0.4221686898498746],), Reward: -13.4517573404\n",
      "Action: 25, State: ([-2.097255349102779, 1.6517602948937888, -2.084788128251322, 0.7337123971674119, -0.7925231507421712, -0.5072689637843166, -0.1387475346744351, 0.2557900094097368, -0.027404705665075857, -0.21041570834617976, -0.09389647633980201, 0.4221686898498746],), Reward: -13.4517573404\n",
      "Action: 25, State: ([-2.097214686767848, 1.6512378793459188, -2.0847097873239457, 0.7261772007099345, -0.7999518338541569, -0.44157029390141483, -0.13844853281089095, 0.25562518317240374, -0.02770369930045169, -0.21041570834617976, -0.09389647633980201, 0.4221686898498746],), Reward: -13.4514994306\n",
      "Action: 25, State: ([-2.0974217423032684, 1.65119941281709, -2.0839029950826156, 0.6987189602182357, -0.8389195964143757, -0.37827610480474816, -0.13844853281089095, 0.25562518317240374, -0.02770369930045169, -0.21041570834617976, -0.09389647633980201, 0.4221686898498746],), Reward: -13.4514994306\n",
      "Action: 25, State: ([-2.097532891682251, 1.6516629472185933, -2.083301494754327, 0.7022225973804046, -0.8356295491284297, -0.33035329857584994, -0.13870316139034952, 0.2557317368898462, -0.027382836376369013, -0.21041570834617976, -0.09389647633980201, 0.4221686898498746],), Reward: -13.45168323\n",
      "Action: 25, State: ([-2.09721524586255, 1.6511937587321226, -2.084719682948278, 0.7503765338445031, -0.798283466519757, -0.5060031586835516, -0.1388537162280281, 0.2558810192995099, -0.02721870775944607, -0.21041570834617976, -0.09389647633980201, 0.4221686898498746],), Reward: -13.4518700228\n",
      "Action: 25, State: ([-2.0970046924829866, 1.6512626930759255, -2.084280247090038, 0.7557413872755475, -0.8268761394190753, -0.3950769534319902, -0.13848085541682287, 0.25565739132123483, -0.02736669150288923, -0.21041570834617976, -0.09389647633980201, 0.4221686898498746],), Reward: -13.4515111749\n",
      "Action: 25, State: ([-2.097282079917898, 1.65124455329906, -2.083743321054877, 0.7248013577119746, -0.8418544065041016, -0.38895880247605513, -0.13848085541682287, 0.25565739132123483, -0.02736669150288923, -0.21041570834617976, -0.09389647633980201, 0.4221686898498746],), Reward: -13.4515111749\n",
      "Action: 25, State: ([-2.0975596231678555, 1.6516285596735827, -2.0835683975375927, 0.7062278902021427, -0.82170609763494, -0.32655699384158576, -0.13879806499651362, 0.2556738049097865, -0.02769501450398476, -0.21041570834617976, -0.09389647633980201, 0.4221686898498746],), Reward: -13.4517070187\n",
      "Action: 25, State: ([-2.097449843492752, 1.651206393438172, -2.084846403018334, 0.7313695726897004, -0.7952756697400033, -0.5000213597823253, -0.1384520788740879, 0.25552450935873294, -0.027694891144741773, -0.21041570834617976, -0.09389647633980201, 0.4221686898498746],), Reward: -13.451412156\n",
      "Action: 25, State: ([-2.097112308890532, 1.651235107781245, -2.0843702890620293, 0.7345290774325509, -0.8315452358506997, -0.39336241012369677, -0.13837443481768072, 0.25571589856610344, -0.02740083114354236, -0.21041570834617976, -0.09389647633980201, 0.4221686898498746],), Reward: -13.4515151566\n",
      "Action: 25, State: ([-2.097251330938545, 1.6512598433161898, -2.0835803137018702, 0.7220148777024984, -0.843198719131155, -0.38351480119284304, -0.13874303421166334, 0.25571877638149154, -0.027686935289271408, -0.21041570834617976, -0.09389647633980201, 0.4221686898498746],), Reward: -13.4517194697\n",
      "Action: 25, State: ([-2.0972002686635234, 1.6517727907633635, -2.0848048991293364, 0.739684304683402, -0.7913123079304712, -0.5113038731146797, -0.13874303421166334, 0.25571877638149154, -0.027686935289271408, -0.21041570834617976, -0.09389647633980201, 0.4221686898498746],), Reward: -13.4517194697\n",
      "Action: 25, State: ([-2.0978052108085015, 1.651105233874521, -2.084795130932253, 0.6893221912983221, -0.8014925572640563, -0.502772185997539, -0.13831767630427105, 0.25579121556877377, -0.027523245697576804, -0.21041570834617976, -0.09389647633980201, 0.4221686898498746],), Reward: -13.451565734\n",
      "Action: 25, State: ([-2.097467134700853, 1.6513876924880728, -2.0840935833863483, 0.7187998108940615, -0.829960877391607, -0.3940137864455602, -0.13861376676770024, 0.25575844092272226, -0.02732258842701224, -0.21041570834617976, -0.09389647633980201, 0.4221686898498746],), Reward: -13.4516585418\n",
      "Action: 25, State: ([-2.097116279288066, 1.6513206998076004, -2.0836096519680325, 0.7406411504830843, -0.8415446868230614, -0.3870658798370107, -0.13869101642711604, 0.2556747647253968, -0.027737049689573967, -0.21041570834617976, -0.09389647633980201, 0.4221686898498746],), Reward: -13.451661018\n",
      "Action: 25, State: ([-2.0972433504357513, 1.6516789341647025, -2.084933109164325, 0.7366578151532214, -0.7945529433771115, -0.5145923909056656, -0.1388228838547439, 0.2558347786741815, -0.027214974617208065, -0.21041570834617976, -0.09389647633980201, 0.4221686898498746],), Reward: -13.4518145679\n",
      "Action: 25, State: ([-2.0974833768394987, 1.6512337490945663, -2.0846435708664064, 0.6988008033670904, -0.8090938855186578, -0.4403489533218198, -0.1384507488235753, 0.25566702695811505, -0.027368668605591895, -0.21041570834617976, -0.09389647633980201, 0.4221686898498746],), Reward: -13.4515055209\n",
      "Action: 25, State: ([-2.096876944024335, 1.651201382392058, -2.0843672028436977, 0.7605117433161582, -0.8315685904690266, -0.39704033687972246, -0.1384507488235753, 0.25566702695811505, -0.027368668605591895, -0.21041570834617976, -0.09389647633980201, 0.4221686898498746],), Reward: -13.4515055209\n",
      "Action: 25, State: ([-2.0972788333472456, 1.6511955429178338, -2.0836996820459035, 0.7145273107199208, -0.8484634887939859, -0.39144163036278967, -0.1387953597012599, 0.2557375073201316, -0.027651385886439783, -0.21041570834617976, -0.09389647633980201, 0.4221686898498746],), Reward: -13.4517573378\n",
      "Action: 25, State: ([-2.0974245083385012, 1.6515834266523628, -2.083521086666787, 0.7095273268876945, -0.827909178652869, -0.3290378564983997, -0.1387711653365302, 0.2558755005267143, -0.027259868827737177, -0.21041570834617976, -0.09389647633980201, 0.4221686898498746],), Reward: -13.451829835\n",
      "Action: 25, State: ([-2.0976584361859487, 1.6511045666245217, -2.0848230778486156, 0.7027810547517229, -0.798748308085871, -0.5031129499859925, -0.1387711653365302, 0.2558755005267143, -0.027259868827737177, -0.21041570834617976, -0.09389647633980201, 0.4221686898498746],), Reward: -13.451829835\n"
     ]
    },
    {
     "name": "stdout",
     "output_type": "stream",
     "text": [
      "Action: 25, State: ([-2.0971011157069226, 1.6513556324110032, -2.0841982298458497, 0.7494458641209503, -0.8216571181596783, -0.38879591991737716, -0.13844421328573117, 0.2555545517766527, -0.02739515373114948, -0.21041570834617976, -0.09389647633980201, 0.4221686898498746],), Reward: -13.4514064417\n",
      "Action: 25, State: ([-2.0969744918973703, 1.6511970239747207, -2.083685147235993, 0.7521789947756011, -0.8438632055453409, -0.3873982450114592, -0.13870739448983155, 0.2557274346286615, -0.027382432997689443, -0.21041570834617976, -0.09389647633980201, 0.4221686898498746],), Reward: -13.4516814364\n",
      "Action: 25, State: ([-2.097462359764375, 1.65174825515148, -2.0832605392069707, 0.7116274833282382, -0.8291462858260805, -0.3286206768827926, -0.13870739448983155, 0.2557274346286615, -0.027382432997689443, -0.21041570834617976, -0.09389647633980201, 0.4221686898498746],), Reward: -13.4516814364\n",
      "Action: 25, State: ([-2.0974410913735912, 1.6512127530593395, -2.0847821847897947, 0.7325359343217875, -0.7961817486183634, -0.5080642439665642, -0.13847206830950973, 0.25553346918421405, -0.027695061085210304, -0.21041570834617976, -0.09389647633980201, 0.4221686898498746],), Reward: -13.4514294947\n",
      "Action: 25, State: ([-2.0970953028501285, 1.6512115468065307, -2.0843845836962904, 0.7367548769042104, -0.8302255011178798, -0.3963810115383034, -0.13847206830950973, 0.25553346918421405, -0.027695061085210304, -0.21041570834617976, -0.09389647633980201, 0.4221686898498746],), Reward: -13.4514294947\n",
      "Action: 25, State: ([-2.0973254784795294, 1.651257791253248, -2.0835809266206198, 0.7201473393343459, -0.8427586869304899, -0.38488260703130195, -0.13854593607504714, 0.2556774054990054, -0.027732097688887514, -0.21041570834617976, -0.09389647633980201, 0.4221686898498746],), Reward: -13.4515940228\n",
      "Action: 25, State: ([-2.097341491729079, 1.6518429196076596, -2.08471076919698, 0.7404453971611443, -0.7891533434948829, -0.5043670008786558, -0.13878909729863717, 0.25580218823080614, -0.02738083855178508, -0.21041570834617976, -0.09389647633980201, 0.4221686898498746],), Reward: -13.4517854934\n",
      "Action: 25, State: ([-2.0973037358216704, 1.6512405864258959, -2.084708178603857, 0.7212573471958755, -0.8009080081490794, -0.44236001819579024, -0.1384355720023439, 0.2555672765934162, -0.027401745544222644, -0.21041570834617976, -0.09389647633980201, 0.4221686898498746],), Reward: -13.4514141018\n",
      "Action: 25, State: ([-2.0971971109888763, 1.6513789595705362, -2.083672183288275, 0.729522691561548, -0.8393009264460857, -0.3794111016498777, -0.1387825056378966, 0.25575068756275, -0.02765572392168114, -0.21041570834617976, -0.09389647633980201, 0.4221686898498746],), Reward: -13.451763177\n",
      "Action: 25, State: ([-2.0972646192799607, 1.6511937916833803, -2.083709099735726, 0.713361457048026, -0.8475648010034456, -0.39004974560656736, -0.1387434695714624, 0.25579443650688244, -0.02740622329286141, -0.21041570834617976, -0.09389647633980201, 0.4221686898498746],), Reward: -13.4517594274\n",
      "Action: 25, State: ([-2.0972639309947976, 1.6517596839957527, -2.0848384825888786, 0.7259625379062569, -0.7904191833162668, -0.5075471300102571, -0.1387434695714624, 0.25579443650688244, -0.02740622329286141, -0.21041570834617976, -0.09389647633980201, 0.4221686898498746],), Reward: -13.4517594274\n",
      "Action: 25, State: ([-2.09730270933275, 1.6511793501535177, -2.0848663336024407, 0.7319730859692345, -0.791275608915309, -0.5017483476081598, -0.1383187921533201, 0.25576602084562594, -0.02751463391747644, -0.21041570834617976, -0.09389647633980201, 0.4221686898498746],), Reward: -13.4515433878\n",
      "Action: 25, State: ([-2.0973117008477686, 1.651210458279369, -2.084488377403652, 0.7167207592399473, -0.8243431625077527, -0.39251362997217876, -0.1383928133725394, 0.25570293178340564, -0.027369063331494248, -0.21041570834617976, -0.09389647633980201, 0.4221686898498746],), Reward: -13.4515095327\n",
      "Action: 25, State: ([-2.0973512301330146, 1.6512602692362393, -2.0836464811772863, 0.7208753536098138, -0.8411439650320862, -0.3798957784829228, -0.13871297615608696, 0.2556731991872163, -0.027688070875441395, -0.21041570834617976, -0.09389647633980201, 0.4221686898498746],), Reward: -13.4516654269\n",
      "Action: 25, State: ([-2.097284599269855, 1.6518423574256804, -2.08474092324702, 0.7434293807679593, -0.7895287408042304, -0.5026577456908399, -0.13871297615608696, 0.2556731991872163, -0.027688070875441395, -0.21041570834617976, -0.09389647633980201, 0.4221686898498746],), Reward: -13.4516654269\n",
      "Action: 25, State: ([-2.0973212583646053, 1.6512406529187995, -2.08472665082164, 0.7192088802009433, -0.8008605582496358, -0.44166598825079206, -0.1383433976588, 0.25578989410628633, -0.02748960310537424, -0.21041570834617976, -0.09389647633980201, 0.4221686898498746],), Reward: -13.4515735898\n",
      "Action: 25, State: ([-2.0972546260033713, 1.6512621777133312, -2.0843010508398967, 0.7273067180700115, -0.8246407474955564, -0.38841237221026903, -0.13852282535946966, 0.25577616439942447, -0.027385473778412717, -0.21041570834617976, -0.09389647633980201, 0.4221686898498746],), Reward: -13.451636814\n",
      "Action: 25, State: ([-2.0969891516616794, 1.6512060339509471, -2.0836310562749443, 0.7383826437871857, -0.846134869828741, -0.384435318115397, -0.13865745174444008, 0.25578699267692995, -0.027417885497672823, -0.21041570834617976, -0.09389647633980201, 0.4221686898498746],), Reward: -13.4517131846\n",
      "Action: 25, State: ([-2.097410924785221, 1.651755623082039, -2.0847416899240336, 0.7206601199921965, -0.7938483598245547, -0.5118739540947197, -0.13865745174444008, 0.25578699267692995, -0.027417885497672823, -0.21041570834617976, -0.09389647633980201, 0.4221686898498746],), Reward: -13.4518688742\n",
      "Action: 25, State: ([-2.097510242475833, 1.6510570154605082, -2.08488994225681, 0.7071249870624646, -0.8026491370268649, -0.5123373680439268, -0.13888791358740538, 0.25582718426692425, -0.02753608836660021, -0.21041570834617976, -0.09389647633980201, 0.4221686898498746],), Reward: -13.4518688742\n",
      "Action: 25, State: ([-2.0970777251108066, 1.6513550320170562, -2.0841052791364305, 0.7518459765413048, -0.8245841694040028, -0.38855630909142164, -0.13840259640067995, 0.255582056246541, -0.02743258058555359, -0.21041570834617976, -0.09389647633980201, 0.4221686898498746],), Reward: -13.4514143014\n",
      "Action: 25, State: ([-2.097049767742373, 1.651220137119167, -2.0836256134171354, 0.7512658802200275, -0.8418243945994193, -0.3890338776832103, -0.13874491139628614, 0.25571690769256467, -0.027377636863740118, -0.21041570834617976, -0.09389647633980201, 0.4221686898498746],), Reward: -13.4516895855\n",
      "Action: 25, State: ([-2.09706248929678, 1.6516618656471307, -2.0849036021651806, 0.7502906491381474, -0.7997091906366809, -0.521705339256417, -0.1382799148698084, 0.25578984608097605, -0.027588768958915932, -0.21041570834617976, -0.09389647633980201, 0.4221686898498746],), Reward: -13.4515528368\n",
      "Action: 25, State: ([-2.0979641091127075, 1.6512303197080627, -2.084621060179213, 0.6879404864001173, -0.8077760577368042, -0.5065331025481361, -0.13854233785821737, 0.2555203097717585, -0.027286339939696147, -0.21041570834617976, -0.09389647633980201, 0.4221686898498746],), Reward: -13.4514128281\n",
      "Action: 25, State: ([-2.0970520174717704, 1.6513924338519184, -2.0840240301998776, 0.7516388034417889, -0.8355377647930076, -0.39581380099215663, -0.13854233785821737, 0.2555203097717585, -0.027286339939696147, -0.21041570834617976, -0.09389647633980201, 0.4221686898498746],), Reward: -13.4514128281\n",
      "Action: 25, State: ([-2.0969633044089644, 1.651224428625655, -2.0836125306006767, 0.7421110577179846, -0.8423255787735273, -0.39045006234077634, -0.13863132603112735, 0.25577542929765, -0.027673296408450065, -0.21041570834617976, -0.09389647633980201, 0.4221686898498746],), Reward: -13.4517147435\n",
      "Action: 25, State: ([-2.0973733559330636, 1.6517528893544613, -2.0848428178953293, 0.7162297192139783, -0.78924050773542, -0.5137991882437117, -0.13886577410288686, 0.2558646255086574, -0.027531166576484634, -0.21041570834617976, -0.09389647633980201, 0.4221686898498746],), Reward: -13.4518906555\n",
      "Action: 25, State: ([-2.097469450940606, 1.6511045804685995, -2.0849323440982417, 0.7214582449802865, -0.7950522196689322, -0.5081308090842643, -0.13886577410288686, 0.2558646255086574, -0.027531166576484634, -0.21041570834617976, -0.09389647633980201, 0.4221686898498746],), Reward: -13.4518906555\n"
     ]
    },
    {
     "name": "stdout",
     "output_type": "stream",
     "text": [
      "Action: 25, State: ([-2.0972064497452525, 1.6512114719141424, -2.084267390822177, 0.7343716343001867, -0.8297450322779971, -0.38755791955559316, -0.13860614351872325, 0.25565170878848986, -0.027712917571960205, -0.21041570834617976, -0.09389647633980201, 0.4221686898498746],), Reward: -13.4515982739\n",
      "Action: 25, State: ([-2.0972064497452525, 1.6512114719141424, -2.084267390822177, 0.7343716343001867, -0.8297450322779971, -0.38755791955559316, -0.13860614351872325, 0.25565170878848986, -0.027712917571960205, -0.21041570834617976, -0.09389647633980201, 0.4221686898498746],), Reward: -13.4515982739\n",
      "Action: 25, State: ([-2.0973401424616425, 1.6515811295157183, -2.0834797845852293, 0.7121714522026765, -0.8243016217444061, -0.33211464131360297, -0.13878832838573993, 0.25570421235325896, -0.027683011726545304, -0.21041570834617976, -0.09389647633980201, 0.4221686898498746],), Reward: -13.4517278613\n",
      "Action: 25, State: ([-2.097807250131071, 1.6511045402239084, -2.0847776738748784, 0.6906081885109594, -0.8013100716791547, -0.5035312970280933, -0.1383281240330915, 0.2557895536736341, -0.02752200994836579, -0.21041570834617976, -0.09389647633980201, 0.4221686898498746],), Reward: -13.4515691098\n",
      "Action: 25, State: ([-2.09701033525954, 1.651186022455902, -2.084747993234495, 0.7444021909770299, -0.8057223963018132, -0.450186562165812, -0.1383281240330915, 0.2557895536736341, -0.02752200994836579, -0.21041570834617976, -0.09389647633980201, 0.4221686898498746],), Reward: -13.4515691098\n",
      "Action: 25, State: ([-2.0971074108731207, 1.6511616110151968, -2.084010347862229, 0.7255250205689312, -0.8391339955180119, -0.389673263843421, -0.13868605610027576, 0.2556877901202996, -0.02773999222708795, -0.21041570834617976, -0.09389647633980201, 0.4221686898498746],), Reward: -13.4516703407\n",
      "Action: 25, State: ([-2.09758757835983, 1.6516366227562678, -2.0834484108343077, 0.6944958048939965, -0.8261949509351715, -0.3285721907903973, -0.13868605610027576, 0.2556877901202996, -0.02773999222708795, -0.21041570834617976, -0.09389647633980201, 0.4221686898498746],), Reward: -13.4516703407\n",
      "Action: 25, State: ([-2.0972150837834143, 1.65167879499473, -2.084936227853202, 0.7363325934950741, -0.7944102139723798, -0.5146989841069034, -0.13881625109084111, 0.2558457668485606, -0.027217453805967018, -0.21041570834617976, -0.09389647633980201, 0.4221686898498746],), Reward: -13.4518212652\n",
      "Action: 25, State: ([-2.09747872767843, 1.6512338685702197, -2.0846458169182487, 0.697836942417122, -0.8090704233583825, -0.44031592341307907, -0.13847962090232863, 0.25554779094459545, -0.02769754125244811, -0.21041570834617976, -0.09389647633980201, 0.4221686898498746],), Reward: -13.4514458471\n",
      "Action: 25, State: ([-2.0968792594772694, 1.6512012849905942, -2.0843686861223754, 0.7597190594078659, -0.831585561156364, -0.3969874911046446, -0.13851693523294978, 0.25573981513972244, -0.027777155916407337, -0.21041570834617976, -0.09389647633980201, 0.4221686898498746],), Reward: -13.4516391777\n",
      "Action: 25, State: ([-2.0972977490065663, 1.6511954736389738, -2.083699181388374, 0.7138335769343913, -0.8484949148412502, -0.3913956991343025, -0.13851693523294978, 0.25573981513972244, -0.027777155916407337, -0.21041570834617976, -0.09389647633980201, 0.4221686898498746],), Reward: -13.4516391777\n",
      "Action: 25, State: ([-2.09729806237005, 1.6517590871432217, -2.0847821496397554, 0.7328687202720086, -0.7926383450695812, -0.5073114148874006, -0.13875336169647387, 0.2557837410406875, -0.027404190887906188, -0.21041570834617976, -0.09389647633980201, 0.4221686898498746],), Reward: -13.4517545727\n",
      "Action: 25, State: ([-2.0972570018277814, 1.651237659220488, -2.084699389795669, 0.7262780632745831, -0.8000937780939957, -0.44151152135784166, -0.13834569827022167, 0.255757314382921, -0.02751399887600886, -0.21041570834617976, -0.09389647633980201, 0.4221686898498746],), Reward: -13.4515484473\n",
      "Action: 25, State: ([-2.097438139478381, 1.6511991899358591, -2.0838964997714324, 0.70010336247221, -0.8389129502402805, -0.37842130670298896, -0.1385897160377741, 0.255730025672998, -0.027685465381525443, -0.21041570834617976, -0.09389647633980201, 0.4221686898498746],), Reward: -13.4516564201\n",
      "Action: 25, State: ([-2.096974755020776, 1.6511970654766985, -2.083683779831821, 0.7525669070827166, -0.8438648056095703, -0.38744280778103385, -0.1385897160377741, 0.255730025672998, -0.027685465381525443, -0.21041570834617976, -0.09389647633980201, 0.4221686898498746],), Reward: -13.4516564201\n",
      "Action: 25, State: ([-2.0973908607282876, 1.651707375518801, -2.0849034547321796, 0.715718174912892, -0.7939256649764099, -0.5171057503210709, -0.1388842851247943, 0.2558401099765266, -0.027516260381128532, -0.21041570834617976, -0.09389647633980201, 0.4221686898498746],), Reward: -13.4518765935\n",
      "Action: 25, State: ([-2.097332231291638, 1.651207766180594, -2.084757933070234, 0.7064465912091749, -0.8033752665519127, -0.4397732872279758, -0.1383878984074313, 0.25569931035059607, -0.027398023838855756, -0.21041570834617976, -0.09389647633980201, 0.4221686898498746],), Reward: -13.4515067483\n",
      "Action: 25, State: ([-2.0971280444726785, 1.6512339487393017, -2.0843299537082896, 0.7354743758870452, -0.829095068812436, -0.3912689348355758, -0.13856676685820035, 0.2556782577523994, -0.027718994231331062, -0.21041570834617976, -0.09389647633980201, 0.4221686898498746],), Reward: -13.4516034052\n",
      "Action: 25, State: ([-2.097220761908181, 1.6512067421699728, -2.0836472354010382, 0.7293803982651008, -0.8434635103082602, -0.3879221719632152, -0.13882656849006036, 0.2556897159038939, -0.027713438204112817, -0.21041570834617976, -0.09389647633980201, 0.4221686898498746],), Reward: -13.451736224\n",
      "Action: 25, State: ([-2.0975696527193346, 1.6516988929901544, -2.0848269681570484, 0.6998747838837007, -0.7932528163372392, -0.5112559211735571, -0.13882656849006036, 0.2556897159038939, -0.027713438204112817, -0.21041570834617976, -0.09389647633980201, 0.4221686898498746],), Reward: -13.451736224\n",
      "Action: 25, State: ([-2.0973052470964806, 1.6513964585951975, -2.0845101205487406, 0.7298181804486694, -0.8012677375041943, -0.4387565178204624, -0.13832308677235358, 0.2557663755620061, -0.027212382682457903, -0.21041570834617976, -0.09389647633980201, 0.4221686898498746],), Reward: -13.4515174139\n",
      "Action: 25, State: ([-2.0970729685354037, 1.6511688856072038, -2.084011894033127, 0.7358868520467243, -0.845213807384123, -0.38459788108765647, -0.13853349419576516, 0.2557098081300564, -0.027393871752891208, -0.21041570834617976, -0.09389647633980201, 0.4221686898498746],), Reward: -13.4515845709\n",
      "Action: 25, State: ([-2.0970546331121955, 1.6513366689745599, -2.083472161733221, 0.7487493452992608, -0.8485193895092015, -0.38685146138687104, -0.13853349419576516, 0.2557098081300564, -0.027393871752891208, -0.21041570834617976, -0.09389647633980201, 0.4221686898498746],), Reward: -13.4515845709\n",
      "Action: 25, State: ([-2.0973669276060365, 1.6517069804160336, -2.0848341791109215, 0.7247526284303932, -0.7937548685691562, -0.5161019251996759, -0.13834903886851008, 0.2557154308505578, -0.027521384775184232, -0.21041570834617976, -0.09389647633980201, 0.4221686898498746],), Reward: -13.451514051\n",
      "Action: 25, State: ([-2.097390567484993, 1.6512400413446597, -2.084585469651368, 0.7073365657776174, -0.8053931888244431, -0.4381128206376019, -0.13834903886851008, 0.2557154308505578, -0.027521384775184232, -0.21041570834617976, -0.09389647633980201, 0.4221686898498746],), Reward: -13.451514051\n",
      "Action: 25, State: ([-2.0971026387551728, 1.6511938143903082, -2.084285939767355, 0.7357555475384852, -0.8311810640211393, -0.3957014639133566, -0.13845351621117863, 0.25570229291164337, -0.027381009868983675, -0.21041570834617976, -0.09389647633980201, 0.4221686898498746],), Reward: -13.4515388644\n",
      "Action: 25, State: ([-2.097170318566704, 1.6513211981871052, -2.083684034940248, 0.7347457390265238, -0.8440806440433566, -0.3827100553275986, -0.13878453201869317, 0.2557388819728803, -0.02768243087355232, -0.21041570834617976, -0.09389647633980201, 0.4221686898498746],), Reward: -13.4517563378\n",
      "Action: 25, State: ([-2.0974084819432424, 1.6517555139324687, -2.084756449902124, 0.7274034772991098, -0.7896829699406083, -0.5103618030611339, -0.13888031753717212, 0.25576959459789744, -0.027552244208941368, -0.21041570834617976, -0.09389647633980201, 0.4221686898498746],), Reward: -13.451816402\n",
      "Action: 25, State: ([-2.0974382429289626, 1.6512779749093633, -2.084679841659818, 0.7052323154618548, -0.8004147488613088, -0.43766552207059456, -0.13888031753717212, 0.25576959459789744, -0.027552244208941368, -0.21041570834617976, -0.09389647633980201, 0.4221686898498746],), Reward: -13.451816402\n"
     ]
    },
    {
     "name": "stdout",
     "output_type": "stream",
     "text": [
      "Action: 25, State: ([-2.097337452678696, 1.6512088111793704, -2.08443717337686, 0.719363854376195, -0.8245188967427888, -0.3932073925069105, -0.13842284403906113, 0.25569139035067323, -0.027363241665451177, -0.21041570834617976, -0.09389647633980201, 0.4221686898498746],), Reward: -13.4515131146\n",
      "Action: 25, State: ([-2.0970756102388286, 1.6513103333553305, -2.0835510732658404, 0.7398719706160927, -0.8444239026078212, -0.3826246948146095, -0.13869540354627025, 0.2557034267567443, -0.027717784092327558, -0.21041570834617976, -0.09389647633980201, 0.4221686898498746],), Reward: -13.4516863527\n",
      "Action: 25, State: ([-2.0973943610934462, 1.651632226824316, -2.0834371607892237, 0.7065340684834062, -0.8250992834990334, -0.32688515575577165, -0.13869540354627025, 0.2557034267567443, -0.027717784092327558, -0.21041570834617976, -0.09389647633980201, 0.4221686898498746],), Reward: -13.4516863527\n",
      "Action: 25, State: ([-2.097559275657974, 1.651203982302631, -2.0847984464789278, 0.7205256725799472, -0.7952486723439403, -0.5024727525483816, -0.13878608498568223, 0.25590716018796633, -0.027245894915446767, -0.21041570834617976, -0.09389647633980201, 0.4221686898498746],), Reward: -13.4518633233\n",
      "Action: 25, State: ([-2.097039059842663, 1.6513434876419053, -2.084145700788019, 0.7459937396373034, -0.8352296695755539, -0.3929699266127429, -0.13841050424170726, 0.25565883395252154, -0.02774518285490063, -0.21041570834617976, -0.09389647633980201, 0.4221686898498746],), Reward: -13.4515148\n",
      "Action: 25, State: ([-2.0970475883452213, 1.6512216470977377, -2.083569727363315, 0.7516665235406408, -0.8461378444011679, -0.39002813205199616, -0.13882135352955877, 0.25575265363710453, -0.027739338079895537, -0.21041570834617976, -0.09389647633980201, 0.4221686898498746],), Reward: -13.4517912672\n",
      "Action: 25, State: ([-2.097104063753493, 1.651661791927026, -2.0848710069521905, 0.7479961796750327, -0.8001452276941587, -0.5227969901242986, -0.13890680582832574, 0.25582085759256323, -0.027193760925443233, -0.21041570834617976, -0.09389647633980201, 0.4221686898498746],), Reward: -13.451840274\n",
      "Action: 25, State: ([-2.0980090854079503, 1.6512302476965308, -2.0845991601626253, 0.6870038024080275, -0.8076926549800774, -0.5073258228585595, -0.13855951519259285, 0.2555050061040764, -0.027285974080590913, -0.21041570834617976, -0.09389647633980201, 0.4221686898498746],), Reward: -13.4514075519\n",
      "Action: 25, State: ([-2.09709299548548, 1.651391974112614, -2.0840084332276865, 0.7515423535563719, -0.8357072596227034, -0.3962846210910129, -0.13855951519259285, 0.2555050061040764, -0.027285974080590913, -0.21041570834617976, -0.09389647633980201, 0.4221686898498746],), Reward: -13.4514075519\n",
      "Action: 25, State: ([-2.097299366233183, 1.6511978682998736, -2.083782869099659, 0.7072081943435315, -0.8438733849651421, -0.38306919484208146, -0.13864519564238917, 0.25576161625018845, -0.027671671777929674, -0.21041570834617976, -0.09389647633980201, 0.4221686898498746],), Reward: -13.4517090802\n",
      "Action: 25, State: ([-2.0972772294209587, 1.6517412814223231, -2.0832870057532054, 0.7205163636272397, -0.8257980456020056, -0.32967034335946444, -0.1387977513815247, 0.2557719122991587, -0.027737470073498083, -0.21041570834617976, -0.09389647633980201, 0.4221686898498746],), Reward: -13.4517967325\n",
      "Action: 25, State: ([-2.0974588771195446, 1.6511047708934923, -2.084928489243982, 0.7222383829617991, -0.7950396676613167, -0.5082996069581921, -0.13844306567661047, 0.2554837756458024, -0.02772817132094907, -0.21041570834617976, -0.09389647633980201, 0.4221686898498746],), Reward: -13.4513753885\n",
      "Action: 25, State: ([-2.0971691179453202, 1.6512117330785685, -2.0842677824880163, 0.735662904070348, -0.8296759045390185, -0.38771698639980245, -0.13844306567661047, 0.2554837756458024, -0.02772817132094907, -0.21041570834617976, -0.09389647633980201, 0.4221686898498746],), Reward: -13.4513753885\n",
      "Action: 25, State: ([-2.0971965787605455, 1.6512871779160667, -2.0837262095374864, 0.7304166479414886, -0.8431178330557192, -0.37968379273683256, -0.13877966607713046, 0.25571831888260205, -0.027686566818062364, -0.21041570834617976, -0.09389647633980201, 0.4221686898498746],), Reward: -13.4517364271\n",
      "Action: 25, State: ([-2.097317755563668, 1.651581245404361, -2.083482603278993, 0.7112338523499232, -0.82424686643976, -0.3321160400001246, -0.13879860084740384, 0.25582528897785484, -0.027384895363513184, -0.21041570834617976, -0.09389647633980201, 0.4221686898498746],), Reward: -13.4518106011\n",
      "Action: 25, State: ([-2.0978020288666714, 1.6511045401101594, -2.0847804135371204, 0.6898313510210852, -0.8012721378641994, -0.5034945247459356, -0.13832474381901783, 0.25579356734919323, -0.02752284905242991, -0.21041570834617976, -0.09389647633980201, 0.4221686898498746],), Reward: -13.4515711029\n",
      "Action: 25, State: ([-2.0970152028679356, 1.6511858564821837, -2.0847500662468663, 0.7434332887179879, -0.805719425440299, -0.4501383752916698, -0.13832474381901783, 0.25579356734919323, -0.02752284905242991, -0.21041570834617976, -0.09389647633980201, 0.4221686898498746],), Reward: -13.4515711029\n",
      "Action: 25, State: ([-2.097125277084915, 1.6511614989913674, -2.0840109257980837, 0.7250739866214186, -0.8391545635215826, -0.3896370434041842, -0.1384089204577145, 0.2556675122857911, -0.027754896247193295, -0.21041570834617976, -0.09389647633980201, 0.4221686898498746],), Reward: -13.4515225695\n",
      "Action: 25, State: ([-2.097606943789124, 1.6516367064838198, -2.0834465454883357, 0.6943286984189031, -0.8263014915207001, -0.3285852929151309, -0.13880081930493995, 0.2557649452337506, -0.027692448246164292, -0.21041570834617976, -0.09389647633980201, 0.4221686898498746],), Reward: -13.4517878248\n",
      "Action: 25, State: ([-2.0972327364667223, 1.6516787676718945, -2.0849341894506708, 0.7364273555267147, -0.794476462422024, -0.5147047482959373, -0.13880081930493995, 0.2557649452337506, -0.027692448246164292, -0.21041570834617976, -0.09389647633980201, 0.4221686898498746],), Reward: -13.4517878248\n",
      "Action: 25, State: ([-2.0974856158029223, 1.6512337561956274, -2.0846445153763433, 0.6982837790425533, -0.8090882866861177, -0.44035282109871055, -0.13845083890536344, 0.2556662144227597, -0.027368424314586248, -0.21041570834617976, -0.09389647633980201, 0.4221686898498746],), Reward: -13.4515048294\n",
      "Action: 25, State: ([-2.097248408097361, 1.6513789742168647, -2.0836580806025538, 0.7273332836004086, -0.8418517116683738, -0.383150379189428, -0.13879719695706333, 0.25573436518153014, -0.02765067183224934, -0.21041570834617976, -0.09389647633980201, 0.4221686898498746],), Reward: -13.4517553935\n",
      "Action: 25, State: ([-2.0972898860166573, 1.6511955013588064, -2.0836992974209387, 0.7142904651335238, -0.8484837577614198, -0.39143209460059464, -0.13879719695706333, 0.25573436518153014, -0.02765067183224934, -0.21041570834617976, -0.09389647633980201, 0.4221686898498746],), Reward: -13.4517553935\n",
      "Action: 25, State: ([-2.0972870608834917, 1.6517591852707811, -2.084783009764866, 0.733035400377093, -0.7926103036248092, -0.5073342233495761, -0.1387735041975084, 0.2558718031838329, -0.027258999016044505, -0.21041570834617976, -0.09389647633980201, 0.4221686898498746],), Reward: -13.4518276281\n",
      "Action: 25, State: ([-2.097247572086557, 1.6512377026995617, -2.0847007951485192, 0.7261604057421398, -0.8000713829871839, -0.4415300624368022, -0.13844611434104662, 0.25555178614246604, -0.027394503129892944, -0.21041570834617976, -0.09389647633980201, 0.4221686898498746],), Reward: -13.4514048612\n",
      "Action: 25, State: ([-2.097433773157471, 1.6511991912504893, -2.0838979200443006, 0.6998994327909388, -0.838894703045567, -0.3784002654257861, -0.13844611434104662, 0.25555178614246604, -0.027394503129892944, -0.21041570834617976, -0.09389647633980201, 0.4221686898498746],), Reward: -13.4514048612\n",
      "Action: 25, State: ([-2.0969724019083884, 1.651197054235407, -2.0836849723751154, 0.7523606347010731, -0.843860513431623, -0.38742388651465226, -0.1387074370216515, 0.25572766155725163, -0.02738246841973563, -0.21041570834617976, -0.09389647633980201, 0.4221686898498746],), Reward: -13.4516816585\n",
      "Action: 25, State: ([-2.0973953796194014, 1.6517073512899358, -2.0849038760302534, 0.7153753030030698, -0.7939366488961019, -0.5170871068919982, -0.1382624375784463, 0.25582060294684583, -0.027230737801944904, -0.21041570834617976, -0.09389647633980201, 0.4221686898498746],), Reward: -13.4515379008\n"
     ]
    },
    {
     "name": "stdout",
     "output_type": "stream",
     "text": [
      "Action: 25, State: ([-2.0974843363643982, 1.65111016758841, -2.0849473882073637, 0.7203811758940213, -0.7963774165625085, -0.5071702209953184, -0.13836791468951373, 0.2556037777903154, -0.02741602409980054, -0.21041570834617976, -0.09389647633980201, 0.4221686898498746],), Reward: -13.4514153235\n",
      "Action: 25, State: ([-2.0971343795125774, 1.6512339093259705, -2.0843295681072727, 0.7354961078238909, -0.8291127634784284, -0.39126307860973153, -0.13836791468951373, 0.2556037777903154, -0.02741602409980054, -0.21041570834617976, -0.09389647633980201, 0.4221686898498746],), Reward: -13.4514153235\n",
      "Action: 25, State: ([-2.097224546136573, 1.6512067135783264, -2.083646871527707, 0.7295046445577983, -0.843473164296638, -0.3879314247643185, -0.13856815486410923, 0.255676063480885, -0.027718549820272442, -0.21041570834617976, -0.09389647633980201, 0.4221686898498746],), Reward: -13.4516021009\n",
      "Action: 25, State: ([-2.097236478418795, 1.6517256127104911, -2.083342111434739, 0.7405767802120651, -0.8207804305965851, -0.32711804558253094, -0.13882744139163675, 0.25568841769994693, -0.02771316213738384, -0.21041570834617976, -0.09389647633980201, 0.4221686898498746],), Reward: -13.4517354767\n",
      "Action: 25, State: ([-2.09734857039812, 1.6510743761529332, -2.0849521380692444, 0.7374696117466413, -0.7990551873444637, -0.5121288348230109, -0.13842003907892853, 0.2555082127592755, -0.02775310155544808, -0.21041570834617976, -0.09389647633980201, 0.4221686898498746],), Reward: -13.4513882265\n",
      "Action: 25, State: ([-2.0973030661298573, 1.6513965105381434, -2.084510017153397, 0.7299900772436335, -0.8012597623948408, -0.4387724474865292, -0.13842003907892853, 0.2555082127592755, -0.02775310155544808, -0.21041570834617976, -0.09389647633980201, 0.4221686898498746],), Reward: -13.4513882265\n",
      "Action: 25, State: ([-2.0970690980512625, 1.6511689114210082, -2.084012171499766, 0.735948168183522, -0.845207502591748, -0.384613273503406, -0.13853275679428706, 0.2557110540985278, -0.02739416356413532, -0.21041570834617976, -0.09389647633980201, 0.4221686898498746],), Reward: -13.4515853392\n",
      "Action: 25, State: ([-2.097509902547584, 1.6516354818205263, -2.0833505942030888, 0.6983293090297452, -0.8288731314722584, -0.32979176518384334, -0.13883455391014238, 0.25579656011035423, -0.027695120799002104, -0.21041570834617976, -0.09389647633980201, 0.4221686898498746],), Reward: -13.4518317584\n",
      "Action: 25, State: ([-2.097364106690974, 1.6517069990420303, -2.084834690701385, 0.7247063574583694, -0.7937498201671145, -0.5161067676356885, -0.13883455391014238, 0.25579656011035423, -0.027695120799002104, -0.21041570834617976, -0.09389647633980201, 0.4221686898498746],), Reward: -13.4518317584\n",
      "Action: 25, State: ([-2.097390018550752, 1.6512400452528544, -2.0845859574907477, 0.7072354197592103, -0.8053909642202338, -0.438112869020223, -0.13834830908038923, 0.2557163696445488, -0.027521615044579395, -0.21041570834617976, -0.09389647633980201, 0.4221686898498746],), Reward: -13.451514549\n",
      "Action: 25, State: ([-2.097171596637059, 1.651321192460106, -2.083684313692629, 0.7346569779607525, -0.8440853337368692, -0.38270795092577253, -0.1384532377562064, 0.25570244901311967, -0.027381051245446764, -0.21041570834617976, -0.09389647633980201, 0.4221686898498746],), Reward: -13.4515388729\n",
      "Action: 25, State: ([-2.097430499971587, 1.651631195551892, -2.083394160717889, 0.7172797125712426, -0.8220089260359061, -0.32848668253285723, -0.13878468380844092, 0.25573841940836456, -0.027682328198702588, -0.21041570834617976, -0.09389647633980201, 0.4221686898498746],), Reward: -13.4517559954\n",
      "Action: 25, State: ([-2.097346263684023, 1.651173653167059, -2.0848129748196875, 0.7385891984021117, -0.7910863858596286, -0.5043654265149877, -0.13888068814306495, 0.2557688662086086, -0.027552071168712944, -0.21041570834617976, -0.09389647633980201, 0.4221686898498746],), Reward: -13.4518159245\n",
      "Action: 25, State: ([-2.097439847073349, 1.6512779726223394, -2.0846796968394425, 0.7052637018038546, -0.8004222152833697, -0.4376593693959859, -0.13845180371744611, 0.2555480886696532, -0.027724637368018168, -0.21041570834617976, -0.09389647633980201, 0.4221686898498746],), Reward: -13.4514354871\n",
      "Action: 25, State: ([-2.0971264883737657, 1.6512205178960322, -2.0839636997884945, 0.7351737808895142, -0.8405887325747764, -0.37804299278127773, -0.13850070343258264, 0.25572133312922507, -0.027395428864045723, -0.21041570834617976, -0.09389647633980201, 0.4221686898498746],), Reward: -13.4515792568\n",
      "Action: 25, State: ([-2.0973937663215896, 1.6516322322931716, -2.0834371808989314, 0.706574577421529, -0.8251005058954888, -0.32689354031586976, -0.13881504114016965, 0.25577680019471105, -0.027696146492648288, -0.21041570834617976, -0.09389647633980201, 0.4221686898498746],), Reward: -13.4518053008\n",
      "Action: 25, State: ([-2.0972681723643785, 1.651709975284816, -2.084900467727744, 0.7235747287763691, -0.7924299155868149, -0.5140032072499088, -0.13830665371733247, 0.2557446674025061, -0.027530745871177653, -0.21041570834617976, -0.09389647633980201, 0.4221686898498746],), Reward: -13.4515204585\n",
      "Action: 25, State: ([-2.09755807217738, 1.6512039859704144, -2.0847986246544563, 0.7205520012528722, -0.795246872506328, -0.5024798039015776, -0.13841743789563726, 0.2556188674616527, -0.02737732953858918, -0.21041570834617976, -0.09389647633980201, 0.4221686898498746],), Reward: -13.4514483782\n",
      "Action: 25, State: ([-2.0970468599157295, 1.6511876529761178, -2.0847587636244462, 0.7217239628424974, -0.8127838273172627, -0.4457487497921106, -0.13841743789563726, 0.2556188674616527, -0.02737732953858918, -0.21041570834617976, -0.09389647633980201, 0.4221686898498746],), Reward: -13.4514483782\n",
      "Action: 25, State: ([-2.0970381026162093, 1.6513434925281087, -2.084145921264798, 0.7459803103696663, -0.8352285161919413, -0.39297289546117264, -0.13841020746571325, 0.2556592212733997, -0.02774528045660729, -0.21041570834617976, -0.09389647633980201, 0.4221686898498746],), Reward: -13.4515150077\n",
      "Action: 25, State: ([-2.097498349506367, 1.6512170136208804, -2.0837628395552334, 0.6932986031642848, -0.849832605505292, -0.3829349992362176, -0.1385975574874672, 0.2557509738106214, -0.027703317075465694, -0.21041570834617976, -0.09389647633980201, 0.4221686898498746],), Reward: -13.451680166\n",
      "Action: 25, State: ([-2.097046990410819, 1.651221650469024, -2.0835699504740983, 0.7516476034966442, -0.8461373095264366, -0.3900300767683612, -0.13882116245446152, 0.25575283848678193, -0.027739401361447424, -0.21041570834617976, -0.09389647633980201, 0.4221686898498746],), Reward: -13.4517913442\n",
      "Action: 25, State: ([-2.0971042342120674, 1.651661796015123, -2.0848711891003777, 0.7479624562894758, -0.8001454864625177, -0.5227983855741241, -0.1389067009862336, 0.25582090662292367, -0.027193780046331717, -0.21041570834617976, -0.09389647633980201, 0.4221686898498746],), Reward: -13.4518402689\n",
      "Action: 25, State: ([-2.0980094223205707, 1.651230248591565, -2.0845993400148064, 0.6869814463179649, -0.8076936880291946, -0.5073279143266989, -0.13829991537354097, 0.2557768382956591, -0.027587617870764747, -0.21041570834617976, -0.09389647633980201, 0.4221686898498746],), Reward: -13.4515508063\n",
      "Action: 25, State: ([-2.097093650499401, 1.6513919744851915, -2.0840085303859004, 0.75152524426654, -0.8357101332142658, -0.3962865878945536, -0.13843691275700085, 0.25567658001524274, -0.027742122227160382, -0.21041570834617976, -0.09389647633980201, 0.4221686898498746],), Reward: -13.4515425609\n",
      "Action: 25, State: ([-2.096994375878092, 1.6512240014064465, -2.0836024963800908, 0.7429428139436091, -0.8424049674333538, -0.39075401719032865, -0.13872364651646574, 0.25577848891040456, -0.027401248777949416, -0.21041570834617976, -0.09389647633980201, 0.4221686898498746],), Reward: -13.451735595\n",
      "Action: 25, State: ([-2.097277649443777, 1.651741281584231, -2.0832870568130506, 0.7205313147531589, -0.825800232036506, -0.3296731322329522, -0.13872364651646574, 0.25577848891040456, -0.027401248777949416, -0.21041570834617976, -0.09389647633980201, 0.4221686898498746],), Reward: -13.451735595\n",
      "Action: 25, State: ([-2.097459107618543, 1.6511047663679372, -2.0849285688840276, 0.7222471190779634, -0.7950403380604921, -0.5083034328227426, -0.13886992736364082, 0.25586221528595915, -0.027531063766278174, -0.21041570834617976, -0.09389647633980201, 0.4221686898498746],), Reward: -13.4518905093\n",
      "Action: 25, State: ([-2.0973774581231135, 1.6512383079434176, -2.0846780974234065, 0.7103027957885432, -0.802389318507114, -0.43800304967501974, -0.13844308345324738, 0.25548368917455266, -0.02772815366975051, -0.21041570834617976, -0.09389647633980201, 0.4221686898498746],), Reward: -13.4513753195\n",
      "Action: 25, State: ([-2.0971961044762644, 1.6512871802733828, -2.0837263310246144, 0.7304352507751135, -0.8431177290197204, -0.37968666287495756, -0.13844308345324738, 0.25548368917455266, -0.02772815366975051, -0.21041570834617976, -0.09389647633980201, 0.4221686898498746],), Reward: -13.4513753195\n",
      "Action: 25, State: ([-2.097317400059186, 1.6515812463487576, -2.0834827429810137, 0.7112266123547961, -0.824246703647207, -0.33211728959145725, -0.1387795320020313, 0.25571847282087273, -0.02768660883977425, -0.21041570834617976, -0.09389647633980201, 0.4221686898498746],), Reward: -13.4517365021\n",
      "Action: 25, State: ([-2.0978017740018338, 1.6511045422599349, -2.0847805605581735, 0.6898275393074693, -0.8012712848483907, -0.5034965499592361, -0.13848189190376728, 0.25551719209711243, -0.02736184899573363, -0.21041570834617976, -0.09389647633980201, 0.4221686898498746],), Reward: -13.4513884868\n",
      "Action: 25, State: ([-2.097444075941393, 1.6513876132904386, -2.0840858561908426, 0.7198608859823846, -0.8298324234083913, -0.3943157050435783, -0.13848189190376728, 0.25551719209711243, -0.02736184899573363, -0.21041570834617976, -0.09389647633980201, 0.4221686898498746],), Reward: -13.4513884868\n",
      "Action: 25, State: ([-2.0971253700950125, 1.6511614974560427, -2.084011048788037, 0.7250676655837337, -0.8391545838736041, -0.3896384040340859, -0.13861203811424103, 0.2557668556331537, -0.027324644789265162, -0.21041570834617976, -0.09389647633980201, 0.4221686898498746],), Reward: -13.4516652797\n"
     ]
    },
    {
     "name": "stdout",
     "output_type": "stream",
     "text": [
      "Action: 25, State: ([-2.0976071443209108, 1.6516367108792158, -2.083446601456381, 0.6943203681053842, -0.82630414531754, -0.32858743977399285, -0.13882067752699395, 0.2558391562994939, -0.02721588350833426, -0.21041570834617976, -0.09389647633980201, 0.4221686898498746],), Reward: -13.4518174358\n",
      "Action: 25, State: ([-2.0974203889466185, 1.6512135755836699, -2.084740431384784, 0.7323613221226402, -0.7993818751939885, -0.503092199156534, -0.13848252352084098, 0.2555437967527865, -0.027696645848982182, -0.21041570834617976, -0.09389647633980201, 0.4221686898498746],), Reward: -13.451443643\n",
      "Action: 25, State: ([-2.096882204194536, 1.6512012998538514, -2.0843678138129054, 0.7601472633171436, -0.831584430053198, -0.39702652981814823, -0.13851777302405271, 0.25573893327223957, -0.02777675206060065, -0.21041570834617976, -0.09389647633980201, 0.4221686898498746],), Reward: -13.4516387646\n",
      "Action: 25, State: ([-2.0972484535319484, 1.6513789734906377, -2.083658162770199, 0.7273391870537071, -0.8418521310927686, -0.3831524743454052, -0.13851777302405271, 0.25573893327223957, -0.02777675206060065, -0.21041570834617976, -0.09389647633980201, 0.4221686898498746],), Reward: -13.4516387646\n",
      "Action: 25, State: ([-2.0974352785342347, 1.6515833958149226, -2.083520513340222, 0.7094769857994978, -0.8279411543765587, -0.32903605089519317, -0.13879717720524018, 0.2557343433561745, -0.027650668460931838, -0.21041570834617976, -0.09389647633980201, 0.4221686898498746],), Reward: -13.4517553647\n",
      "Action: 25, State: ([-2.097666493051209, 1.6511045347685522, -2.0848222991508916, 0.7029113497131328, -0.7987706957730158, -0.5031210107342767, -0.1383431849812196, 0.25576111511776445, -0.027514840741464763, -0.21041570834617976, -0.09389647633980201, 0.4221686898498746],), Reward: -13.4515506643\n",
      "Action: 25, State: ([-2.0971025999489576, 1.6513555935624868, -2.0841977687684254, 0.7497601710703268, -0.8216676214510853, -0.3888168362800103, -0.1383431849812196, 0.25576111511776445, -0.027514840741464763, -0.21041570834617976, -0.09389647633980201, 0.4221686898498746],), Reward: -13.4515506643\n",
      "Action: 25, State: ([-2.0974336824066455, 1.6511991907133101, -2.083898012069633, 0.6998982736944666, -0.8388948345783389, -0.3784017455337346, -0.13858791929563763, 0.255732191992362, -0.027685848978846905, -0.21041570834617976, -0.09389647633980201, 0.4221686898498746],), Reward: -13.4516575003\n",
      "Action: 25, State: ([-2.0973598876571415, 1.6517542759983677, -2.0832830330134913, 0.7175673667334426, -0.8279161999808841, -0.32896518808104236, -0.1387706314933794, 0.255762850881021, -0.0277533030471786, -0.21041570834617976, -0.09389647633980201, 0.4221686898498746],), Reward: -13.4517774309\n",
      "Action: 25, State: ([-2.0973953916541763, 1.6517073498991124, -2.084903946495575, 0.7153712616838812, -0.7939368139469407, -0.5170878894269203, -0.13826241555182292, 0.2558205932299822, -0.02723073741664167, -0.21041570834617976, -0.09389647633980201, 0.4221686898498746],), Reward: -13.4515378819\n",
      "Action: 25, State: ([-2.097339420616735, 1.651207724087869, -2.0847578129180997, 0.706360523945909, -0.8033918180236809, -0.439763568016732, -0.13826241555182292, 0.2558205932299822, -0.02723073741664167, -0.21041570834617976, -0.09389647633980201, 0.4221686898498746],), Reward: -13.4515378819\n",
      "Action: 25, State: ([-2.097134445947882, 1.6512339080590186, -2.084329622138508, 0.7354950452454874, -0.8291132305978359, -0.3912641995662886, -0.13838934286968335, 0.25569683489406664, -0.027397437820992854, -0.21041570834617976, -0.09389647633980201, 0.4221686898498746],), Reward: -13.4515052104\n",
      "Action: 25, State: ([-2.097224605923488, 1.6512067114568394, -2.0836469365967005, 0.7295050179890727, -0.8434736069458281, -0.38793270990330775, -0.13882743064575756, 0.2556883917292063, -0.02771315802266211, -0.21041570834617976, -0.09389647633980201, 0.4221686898498746],), Reward: -13.4517354485\n",
      "Action: 25, State: ([-2.097570760674733, 1.6516988733706448, -2.084826523451179, 0.700013826235155, -0.7932666897291125, -0.5112581854623913, -0.13882743064575756, 0.2556883917292063, -0.02771315802266211, -0.21041570834617976, -0.09389647633980201, 0.4221686898498746],), Reward: -13.4517354485\n",
      "Action: 25, State: ([-2.0973030648920643, 1.651396512110824, -2.084510052522636, 0.7299923532400596, -0.8012600798342482, -0.43877388759433755, -0.13850736995610052, 0.2556590029817423, -0.027642355271754404, -0.21041570834617976, -0.09389647633980201, 0.4221686898498746],), Reward: -13.4515511194\n",
      "Action: 25, State: ([-2.0973759367818054, 1.6512005551743245, -2.084369761393539, 0.7102705393010761, -0.8332716075392977, -0.39563236558616044, -0.13850736995610052, 0.2556590029817423, -0.027642355271754404, -0.21041570834617976, -0.09389647633980201, 0.4221686898498746],), Reward: -13.4515511194\n",
      "Action: 25, State: ([-2.097051143299762, 1.6513366897928279, -2.0834725355721915, 0.7487381810062822, -0.8485145620725921, -0.38686243262674785, -0.13853273659410656, 0.2557110576786237, -0.027394166040241474, -0.21041570834617976, -0.09389647633980201, 0.4221686898498746],), Reward: -13.451585333\n",
      "Action: 25, State: ([-2.097364066276068, 1.6517069992299733, -2.084834751770946, 0.7247062565584881, -0.7937501646345138, -0.5161086247680015, -0.13883718988364027, 0.25587632354560275, -0.02723111626611613, -0.21041570834617976, -0.09389647633980201, 0.4221686898498746],), Reward: -13.4518592211\n",
      "Action: 25, State: ([-2.097389999618505, 1.651240044629592, -2.0845860256912623, 0.7072342644355445, -0.8053910962521557, -0.4381139806274493, -0.13845321032594324, 0.2557024504620595, -0.027381052929689564, -0.21041570834617976, -0.09389647633980201, 0.4221686898498746],), Reward: -13.4515388614\n",
      "Action: 25, State: ([-2.097171596005042, 1.651321192817072, -2.08368437655115, 0.7346559154386274, -0.8440857796247909, -0.38270895582656816, -0.13845321032594324, 0.2557024504620595, -0.027381052929689564, -0.21041570834617976, -0.09389647633980201, 0.4221686898498746],), Reward: -13.4515388614\n",
      "Action: 25, State: ([-2.097430515970096, 1.6516311958769228, -2.0833942197774364, 0.7172790293720372, -0.822009477881709, -0.32848727951756695, -0.13888067052811465, 0.2557688565888555, -0.02755206969730878, -0.21041570834617976, -0.09389647633980201, 0.4221686898498746],), Reward: -13.4518159076\n",
      "Action: 25, State: ([-2.097346285671277, 1.6511736525567482, -2.0848130289543576, 0.7385889630000092, -0.791086754410886, -0.5043661825168814, -0.13888067052811465, 0.2557688565888555, -0.02755206969730878, -0.21041570834617976, -0.09389647633980201, 0.4221686898498746],), Reward: -13.4518159076\n",
      "Action: 25, State: ([-2.097439867564459, 1.6512779727276286, -2.084679738274234, 0.7052639302117293, -0.8004225818876262, -0.437659719015129, -0.1384517892064411, 0.25554807697065673, -0.027724635852616697, -0.21041570834617976, -0.09389647633980201, 0.4221686898498746],), Reward: -13.4514354698\n",
      "Action: 25, State: ([-2.0971264986331706, 1.6512205176136172, -2.083963742665098, 0.7351742035120151, -0.8405890809648567, -0.37804410749535633, -0.1385006930435484, 0.2557213248711299, -0.027395428034594216, -0.21041570834617976, -0.09389647633980201, 0.4221686898498746],), Reward: -13.4515792445\n",
      "Action: 25, State: ([-2.0973937672731893, 1.6516322329904218, -2.083437220401464, 0.7065748385787582, -0.8251009796210007, -0.3268947487843366, -0.13878594803118313, 0.2559073621999798, -0.027245942101536913, -0.21041570834617976, -0.09389647633980201, 0.4221686898498746],), Reward: -13.4518634395\n",
      "Action: 25, State: ([-2.0975580652988493, 1.6512039865787598, -2.0847986732359374, 0.7205522277426636, -0.7952472023907513, -0.5024812122802715, -0.13878594803118313, 0.2559073621999798, -0.027245942101536913, -0.21041570834617976, -0.09389647633980201, 0.4221686898498746],), Reward: -13.4518634395\n",
      "Action: 25, State: ([-2.0970380905155377, 1.651343492920768, -2.0841459702837515, 0.7459804401240795, -0.835228725308153, -0.392973817230422, -0.13859753796788518, 0.2557509745121982, -0.02770331810885629, -0.21041570834617976, -0.09389647633980201, 0.4221686898498746],), Reward: -13.4516801575\n",
      "Action: 25, State: ([-2.0970469822230413, 1.651221650416967, -2.0835699943549244, 0.7516472957470512, -0.846137634206769, -0.39003090944253005, -0.13859753796788518, 0.2557509745121982, -0.02770331810885629, -0.21041570834617976, -0.09389647633980201, 0.4221686898498746],), Reward: -13.4516801575\n"
     ]
    },
    {
     "name": "stdout",
     "output_type": "stream",
     "text": [
      "Action: 25, State: ([-2.097104229238097, 1.6516617960435598, -2.0848712343579745, 0.7479621568406363, -0.8001456898207229, -0.5227993389741277, -0.1388211454734922, 0.2557528382546586, -0.027739401806449238, -0.21041570834617976, -0.09389647633980201, 0.4221686898498746],), Reward: -13.451791336\n",
      "Action: 25, State: ([-2.0970345626743914, 1.6512146377829264, -2.0846652585320715, 0.7464088007818347, -0.8172523659116502, -0.4529155814753276, -0.13829989858461006, 0.2557768367381248, -0.027587618308717643, -0.21041570834617976, -0.09389647633980201, 0.4221686898498746],), Reward: -13.451550797\n",
      "Action: 25, State: ([-2.097300084141766, 1.6511978654743942, -2.0837829930789997, 0.707199888546584, -0.8438771445296899, -0.38307134261236886, -0.1386452749525022, 0.2557613766610988, -0.027671625527588617, -0.21041570834617976, -0.09389647633980201, 0.4221686898498746],), Reward: -13.4517089037\n",
      "Action: 25, State: ([-2.096994382327938, 1.6512240013247235, -2.083602533821998, 0.7429425365116356, -0.8424053058595653, -0.3907546745063656, -0.1386452749525022, 0.2557613766610988, -0.027671625527588617, -0.21041570834617976, -0.09389647633980201, 0.4221686898498746],), Reward: -13.4517089037\n",
      "Action: 25, State: ([-2.0973679111042447, 1.6517529164479194, -2.0848374579206927, 0.7176171406164487, -0.7892318494299324, -0.5140020234500791, -0.1383400732772771, 0.25572904192420975, -0.027506253012807513, -0.21041570834617976, -0.09389647633980201, 0.4221686898498746],), Reward: -13.4515202965\n",
      "Action: 25, State: ([-2.097377459061227, 1.6512383077895478, -2.084678136719962, 0.7103027740778132, -0.8023894415461935, -0.43800371308228175, -0.1383400732772771, 0.25572904192420975, -0.027506253012807513, -0.21041570834617976, -0.09389647633980201, 0.4221686898498746],), Reward: -13.4515202965\n",
      "Action: 25, State: ([-2.0971961062281714, 1.651287180444995, -2.083726368271549, 0.7304352304352077, -0.8431179901818716, -0.3796872909513156, -0.13841886637336323, 0.2556996157792999, -0.027382617545840093, -0.21041570834617976, -0.09389647633980201, 0.4221686898498746],), Reward: -13.4515202471\n",
      "Action: 25, State: ([-2.0972705174437962, 1.6512579713553777, -2.083523395496183, 0.7228282497902507, -0.8423786396782276, -0.385261867678948, -0.13877951927144835, 0.2557184696350735, -0.027686608559901627, -0.21041570834617976, -0.09389647633980201, 0.4221686898498746],), Reward: -13.4517364932\n",
      "Action: 25, State: ([-2.0971982140889027, 1.6517725637481133, -2.084783555231944, 0.741005312003084, -0.790973224740996, -0.5125770439206968, -0.1388365793512246, 0.25578583710202846, -0.027578316761661725, -0.21041570834617976, -0.09389647633980201, 0.4221686898498746],), Reward: -13.4518122964\n",
      "Action: 25, State: ([-2.097015070329661, 1.6511858538861137, -2.0847502242887854, 0.74342223818257, -0.805719091133921, -0.45014042436611856, -0.1388365793512246, 0.25578583710202846, -0.027578316761661725, -0.21041570834617976, -0.09389647633980201, 0.4221686898498746],), Reward: -13.4518122964\n",
      "Action: 25, State: ([-2.09744407072741, 1.651387613408497, -2.08408588687165, 0.7198609016563122, -0.829832547679056, -0.3943163496611781, -0.13840884083953695, 0.25566754407623715, -0.027754912041686786, -0.21041570834617976, -0.09389647633980201, 0.4221686898498746],), Reward: -13.4515225611\n",
      "Action: 25, State: ([-2.097105841930647, 1.6513217095731614, -2.083604752968802, 0.740185109825518, -0.8414131963037838, -0.38723893939546816, -0.13880079819214036, 0.2557649023527901, -0.027692450492563137, -0.21041570834617976, -0.09389647633980201, 0.4221686898498746],), Reward: -13.4517877774\n",
      "Action: 25, State: ([-2.097607144321479, 1.6516367114468933, -2.083446627685836, 0.6943201955686321, -0.8263044079344962, -0.32858813221043653, -0.1388206682708709, 0.25583915456861267, -0.027215883390093232, -0.21041570834617976, -0.09389647633980201, 0.4221686898498746],), Reward: -13.4518174299\n",
      "Action: 25, State: ([-2.0974203899557757, 1.6512135760906421, -2.0847404637759865, 0.7323611633188484, -0.7993820856004399, -0.5030930384209625, -0.1388206682708709, 0.25583915456861267, -0.027215883390093232, -0.21041570834617976, -0.09389647633980201, 0.4221686898498746],), Reward: -13.4518174299\n",
      "Action: 25, State: ([-2.097485774419204, 1.6512337509269814, -2.0846446324162287, 0.6982862821980802, -0.8090889897116826, -0.44035541300158526, -0.1384825123431546, 0.2555437941728418, -0.027696645740659886, -0.21041570834617976, -0.09389647633980201, 0.4221686898498746],), Reward: -13.4514436354\n",
      "Action: 25, State: ([-2.0972484558067537, 1.6513789733443325, -2.083658193522626, 0.7273392714278598, -0.8418522585052083, -0.38315302584699307, -0.13851776296838691, 0.25573892954940597, -0.027776751773660402, -0.21041570834617976, -0.09389647633980201, 0.4221686898498746],), Reward: -13.4516387565\n",
      "Action: 25, State: ([-2.0972898710653602, 1.6511954996222, -2.0836994164103846, 0.7142965507038669, -0.8484840943334032, -0.3914342481032204, -0.13851776296838691, 0.25573892954940597, -0.027776751773660402, -0.21041570834617976, -0.09389647633980201, 0.4221686898498746],), Reward: -13.4516387565\n",
      "Action: 25, State: ([-2.0972869675997217, 1.6517591854288618, -2.084783116438391, 0.7330390795365903, -0.7926107607558317, -0.5073360160934048, -0.1387517509473375, 0.2557864383866727, -0.02740484742620314, -0.21041570834617976, -0.09389647633980201, 0.4221686898498746],), Reward: -13.4517562301\n",
      "Action: 25, State: ([-2.0972474521625237, 1.6512377028476992, -2.0847009025551495, 0.7261611672490172, -0.8000713605297259, -0.4415319372574621, -0.13834317616383496, 0.25576111300828636, -0.027514840751638403, -0.21041570834617976, -0.09389647633980201, 0.4221686898498746],), Reward: -13.4515506583\n",
      "Action: 25, State: ([-2.0974336806323794, 1.651199190495885, -2.083898036957881, 0.6998982769470107, -0.8388949710886688, -0.378402286534699, -0.1385879109448241, 0.2557321906183447, -0.027685849033306287, -0.21041570834617976, -0.09389647633980201, 0.4221686898498746],), Reward: -13.4516574951\n",
      "Action: 25, State: ([-2.0973598850504, 1.651754276203226, -2.083283059013773, 0.7175673869123, -0.8279163277151453, -0.328965501119453, -0.1385879109448241, 0.2557321906183447, -0.027685849033306287, -0.21041570834617976, -0.09389647633980201, 0.4221686898498746],), Reward: -13.4516574951\n",
      "Action: 25, State: ([-2.097484386957193, 1.6511101664216028, -2.0849474846488416, 0.7203770321761637, -0.7963777298167293, -0.5071720479557755, -0.13888412203281744, 0.25583975732474895, -0.027516234064910494, -0.21041570834617976, -0.09389647633980201, 0.4221686898498746],), Reward: -13.451876205\n",
      "Action: 25, State: ([-2.0973394208874927, 1.651207724059688, -2.0847578301923626, 0.7063604852666874, -0.80339188026164, -0.4397639809595821, -0.1383893368886188, 0.2556968335473045, -0.027397437809548675, -0.21041570834617976, -0.09389647633980201, 0.4221686898498746],), Reward: -13.4515052064\n",
      "Action: 25, State: ([-2.0971344456515215, 1.6512339077716343, -2.0843296402993374, 0.7354950636303805, -0.8291133255383778, -0.3912646102992213, -0.1385681428737492, 0.2556760348085204, -0.02771854539819968, -0.21041570834617976, -0.09389647633980201, 0.4221686898498746],), Reward: -13.4516020697\n",
      "Action: 25, State: ([-2.0972246069141187, 1.6512067108843755, -2.083646958978859, 0.7295049683679414, -0.8434737063865854, -0.38793312328100993, -0.13882742310469026, 0.25568838962363377, -0.027713158092235346, -0.21041570834617976, -0.09389647633980201, 0.4221686898498746],), Reward: -13.451735443\n",
      "Action: 25, State: ([-2.097570761354757, 1.6516988729380522, -2.0848265379681266, 0.7000139049946675, -0.7932668463989226, -0.5112583023024797, -0.13882742310469026, 0.25568838962363377, -0.027713158092235346, -0.21041570834617976, -0.09389647633980201, 0.4221686898498746],), Reward: -13.451735443\n",
      "Action: 25, State: ([-2.0973030659877345, 1.6513965124739824, -2.084510065439096, 0.7299923960658277, -0.8012601936457792, -0.43877430428014164, -0.13832345430048945, 0.2557660220850789, -0.027212290198134148, -0.21041570834617976, -0.09389647633980201, 0.4221686898498746],), Reward: -13.4515172698\n",
      "Action: 25, State: ([-2.097375938092478, 1.651200554511802, -2.0843697771372316, 0.7102705623357666, -0.8332716332548499, -0.3956327891467872, -0.1385073655847153, 0.2556590017983813, -0.027642355036947508, -0.21041570834617976, -0.09389647633980201, 0.4221686898498746],), Reward: -13.4515511162\n",
      "Action: 25, State: ([-2.0970511443223057, 1.651336690330674, -2.083472547633762, 0.7487381482622437, -0.8485146916276324, -0.386862987505769, -0.1385073655847153, 0.2556590017983813, -0.027642355036947508, -0.21041570834617976, -0.09389647633980201, 0.4221686898498746],), Reward: -13.4515511162\n",
      "Action: 25, State: ([-2.0975098634153264, 1.651635483629219, -2.0833506524454073, 0.6983297736486598, -0.8288738319392236, -0.32979404096672404, -0.1388345292824522, 0.25579656850873567, -0.027695121717887294, -0.21041570834617976, -0.09389647633980201, 0.4221686898498746],), Reward: -13.4518317542\n"
     ]
    },
    {
     "name": "stdout",
     "output_type": "stream",
     "text": [
      "Action: 25, State: ([-2.0973640659077626, 1.651706999212359, -2.084834770092023, 0.7247062304846538, -0.7937503013027117, -0.5161092044812955, -0.13834827340868758, 0.2557163779413053, -0.027521618542026005, -0.21041570834617976, -0.09389647633980201, 0.4221686898498746],), Reward: -13.4515145397\n",
      "Action: 25, State: ([-2.0973899995254817, 1.6512400443814084, -2.0845860460572734, 0.7072341806872845, -0.8053911570947038, -0.43811433214250095, -0.13845320322686383, 0.25570244895951355, -0.027381053000180233, -0.21041570834617976, -0.09389647633980201, 0.4221686898498746],), Reward: -13.4515388567\n",
      "Action: 25, State: ([-2.0971715944405194, 1.6513211929101033, -2.083684395808042, 0.7346559339484123, -0.8440859189545528, -0.38270929501915524, -0.13845320322686383, 0.25570244895951355, -0.027381053000180233, -0.21041570834617976, -0.09389647633980201, 0.4221686898498746],), Reward: -13.4515388567\n",
      "Action: 25, State: ([-2.0972989714143893, 1.6512570487912202, -2.0835102960574687, 0.7197512002538451, -0.8429619438126176, -0.38680570320034885, -0.13878465462075912, 0.2557384143738396, -0.0276823283487036, -0.21041570834617976, -0.09389647633980201, 0.4221686898498746],), Reward: -13.4517559771\n",
      "Action: 25, State: ([-2.0974105845008957, 1.6517555005596876, -2.0847565432996316, 0.727392088722983, -0.7896900647429567, -0.5103623179529413, -0.13888066380542935, 0.255768855612263, -0.027552069727109496, -0.21041570834617976, -0.09389647633980201, 0.4221686898498746],), Reward: -13.4518159035\n",
      "Action: 25, State: ([-2.097439867074682, 1.6512779727756826, -2.084679752324403, 0.7052639705559839, -0.800422672565047, -0.43765986542936886, -0.13888066380542935, 0.255768855612263, -0.027552069727109496, -0.21041570834617976, -0.09389647633980201, 0.4221686898498746],), Reward: -13.4518159035\n",
      "Action: 25, State: ([-2.0973384024316166, 1.65120879713362, -2.084437057432101, 0.7194197536594158, -0.8245248041503406, -0.39320794958449323, -0.13842319054990654, 0.25569083823840666, -0.02736310591585528, -0.21041570834617976, -0.09389647633980201, 0.4221686898498746],), Reward: -13.4515127828\n",
      "Action: 25, State: ([-2.097075360757902, 1.6513103208456297, -2.08355110495119, 0.739925281857123, -0.8444262022557532, -0.3826360063068285, -0.1388150244451623, 0.2557767947227916, -0.027696145962711805, -0.21041570834617976, -0.09389647633980201, 0.4221686898498746],), Reward: -13.4518052881\n",
      "Action: 25, State: ([-2.0973937678899652, 1.6516322332005071, -2.083437233509585, 0.7065747667393417, -0.8251011236517651, -0.32689511237213065, -0.13878594352799187, 0.25590736111521456, -0.027245941977823873, -0.21041570834617976, -0.09389647633980201, 0.4221686898498746],), Reward: -13.4518634364\n",
      "Action: 25, State: ([-2.0975580665916596, 1.6512039867689916, -2.0847986887284575, 0.7205521550405594, -0.7952473145054265, -0.5024816458738972, -0.13878594352799187, 0.25590736111521456, -0.027245941977823873, -0.21041570834617976, -0.09389647633980201, 0.4221686898498746],), Reward: -13.4518634364\n",
      "Action: 25, State: ([-2.0970380902755608, 1.6513434930305149, -2.084145985688317, 0.7459804820525635, -0.83522879767836, -0.3929741051448896, -0.1384174142717119, 0.2556188650252399, -0.027377329718292265, -0.21041570834617976, -0.09389647633980201, 0.4221686898498746],), Reward: -13.4514483649\n",
      "Action: 25, State: ([-2.097046982813761, 1.6512216503820927, -2.083570007940261, 0.7516472246224852, -0.8461377450984817, -0.3900311720646228, -0.1385975325357111, 0.25575097348747644, -0.027703318176354463, -0.21041570834617976, -0.09389647633980201, 0.4221686898498746],), Reward: -13.451680154\n",
      "Action: 25, State: ([-2.0971042281355565, 1.651661796028078, -2.084871248482088, 0.7479621774569613, -0.8001457583124173, -0.5227996459190809, -0.13890667937565732, 0.2558209057196633, -0.027193780213532304, -0.21041570834617976, -0.09389647633980201, 0.4221686898498746],), Reward: -13.4518402578\n",
      "Action: 25, State: ([-2.098009421058043, 1.6512302497460336, -2.084599403055625, 0.6869809558682602, -0.8076940668555772, -0.5073293814216091, -0.13855949910755216, 0.2555048667748726, -0.027285962588233292, -0.21041570834617976, -0.09389647633980201, 0.4221686898498746],), Reward: -13.4514074212\n",
      "Action: 25, State: ([-2.0970936502501676, 1.6513919747654011, -2.0840085906126244, 0.751525137064659, -0.8357104037568085, -0.3962875807076385, -0.13864526955747972, 0.25576137615801287, -0.027671625664933197, -0.21041570834617976, -0.09389647633980201, 0.4221686898498746],), Reward: -13.4517089008\n",
      "Action: 25, State: ([-2.096994382028834, 1.651224001313837, -2.083602545879005, 0.7429424595641086, -0.8424054074668179, -0.3907548846324373, -0.1387978401242721, 0.255771684709373, -0.02773742363727333, -0.21041570834617976, -0.09389647633980201, 0.4221686898498746],), Reward: -13.4517965711\n",
      "Action: 25, State: ([-2.0973679107130296, 1.651752916373023, -2.0848374703862333, 0.7176171253175317, -0.789231924496668, -0.5140022693215915, -0.1387978401242721, 0.255771684709373, -0.02773742363727333, -0.21041570834617976, -0.09389647633980201, 0.4221686898498746],), Reward: -13.4517965711\n",
      "Action: 25, State: ([-2.097377458722539, 1.6512383077470716, -2.0846781493237483, 0.7103026951235901, -0.8023894805485445, -0.4380039197955672, -0.13834006885718345, 0.25572904113523093, -0.027506253074668807, -0.21041570834617976, -0.09389647633980201, 0.4221686898498746],), Reward: -13.4515202938\n",
      "Action: 25, State: ([-2.0971961082420716, 1.6512871804934504, -2.083726380102669, 0.730435138051351, -0.8431180755089213, -0.379687486244818, -0.13841886191188835, 0.25569961496972976, -0.02738261760113453, -0.21041570834617976, -0.09389647633980201, 0.4221686898498746],), Reward: -13.4515202443\n",
      "Action: 25, State: ([-2.0972705190581022, 1.6512579712848012, -2.0835234076537628, 0.7228282322691003, -0.8423787270330392, -0.3852620997777476, -0.13879843959655305, 0.2558254428658393, -0.027384939552431098, -0.21041570834617976, -0.09389647633980201, 0.4221686898498746],), Reward: -13.4518106633\n",
      "Action: 25, State: ([-2.097198213084863, 1.6517725635742524, -2.084783565025962, 0.7410053538327831, -0.7909732636177651, -0.5125771625953375, -0.13879843959655305, 0.2558254428658393, -0.027384939552431098, -0.21041570834617976, -0.09389647633980201, 0.4221686898498746],), Reward: -13.4518106633\n",
      "Action: 25, State: ([-2.0978017697005615, 1.6511045430705957, -2.0847806045640347, 0.689827279614132, -0.8012714931753082, -0.5034975857981974, -0.13848187550580568, 0.2555171907412199, -0.02736184889426796, -0.21041570834617976, -0.09389647633980201, 0.4221686898498746],), Reward: -13.4513884779\n",
      "Action: 25, State: ([-2.0974440689260874, 1.6513876134436982, -2.0840858965025033, 0.719860972184684, -0.8298325871228539, -0.3943165557455176, -0.1384088374852431, 0.25566754365922273, -0.027754912114202224, -0.21041570834617976, -0.09389647633980201, 0.4221686898498746],), Reward: -13.4515225592\n",
      "Action: 25, State: ([-2.0971058419031987, 1.6513217098585988, -2.083604760914305, 0.7401850276110389, -0.8414132402393185, -0.38723918163828297, -0.1386120226703364, 0.25576685513073344, -0.027324645486826338, -0.21041570834617976, -0.09389647633980201, 0.4221686898498746],), Reward: -13.451665272\n",
      "Action: 25, State: ([-2.097607143809542, 1.6516367116121184, -2.0834466361006427, 0.6943201788354357, -0.8263044829053381, -0.32858835139777176, -0.13882066520534825, 0.25583915418391473, -0.027215883401212337, -0.21041570834617976, -0.09389647633980201, 0.4221686898498746],), Reward: -13.4518174281\n",
      "Action: 25, State: ([-2.0974203896092805, 1.651213576256402, -2.084740474132989, 0.7323611123470466, -0.7993821500436564, -0.5030933032008095, -0.13882066520534825, 0.25583915418391473, -0.027215883401212337, -0.21041570834617976, -0.09389647633980201, 0.4221686898498746],), Reward: -13.4518174281\n",
      "Action: 25, State: ([-2.0974857747692237, 1.6512337506898218, -2.084644643116693, 0.6982861992022725, -0.8090890194784783, -0.44035558455108814, -0.13845082625585597, 0.2556661485281261, -0.02736841371883242, -0.21041570834617976, -0.09389647633980201, 0.4221686898498746],), Reward: -13.4515047647\n",
      "Action: 25, State: ([-2.0972484562734603, 1.6513789733002362, -2.0836582033254363, 0.7273392843125424, -0.8418522984574877, -0.38315319904776296, -0.13851775968182956, 0.255738928503614, -0.02777675171159638, -0.21041570834617976, -0.09389647633980201, 0.4221686898498746],), Reward: -13.451638754\n",
      "Action: 25, State: ([-2.0974352797098224, 1.6515833960466626, -2.083520551735215, 0.7094770571774622, -0.8279414238512366, -0.32903637994925916, -0.138751747565272, 0.2557864375377087, -0.027404847449654934, -0.21041570834617976, -0.09389647633980201, 0.4221686898498746],), Reward: -13.4517562277\n"
     ]
    },
    {
     "name": "stdout",
     "output_type": "stream",
     "text": [
      "Action: 25, State: ([-2.0976664932839384, 1.65110453517282, -2.084822334904046, 0.702911323114681, -0.7987707744389039, -0.5031216650953005, -0.138751747565272, 0.2557864375377087, -0.027404847449654934, -0.21041570834617976, -0.09389647633980201, 0.4221686898498746],), Reward: -13.4517562277\n",
      "Action: 25, State: ([-2.0972474522860125, 1.651237702821625, -2.0847009099617653, 0.726161167803403, -0.8000713816955327, -0.44153205127894546, -0.13844604699103766, 0.25555181756502704, -0.02739451222322531, -0.21041570834617976, -0.09389647633980201, 0.4221686898498746],), Reward: -13.4514048576\n",
      "Action: 25, State: ([-2.0974336803741114, 1.6511991904262837, -2.0838980448003888, 0.6998982792747455, -0.838895015281611, -0.3784024582782721, -0.13870737562746777, 0.25572768416116276, -0.02738247667729171, -0.21041570834617976, -0.09389647633980201, 0.4221686898498746],), Reward: -13.4516816499\n",
      "Action: 25, State: ([-2.097359884355879, 1.6517542762670514, -2.0832830672159304, 0.7175674023651274, -0.8279163684042631, -0.3289656007528216, -0.13877061906869442, 0.2557628492959002, -0.027753303693263287, -0.21041570834617976, -0.09389647633980201, 0.4221686898498746],), Reward: -13.4517774237\n",
      "Action: 25, State: ([-2.0974843873181506, 1.6511101663506782, -2.0849474917628346, 0.720376969940899, -0.7963777467699817, -0.507172205437747, -0.13826240610018256, 0.2558205914626333, -0.027230737760078505, -0.21041570834617976, -0.09389647633980201, 0.4221686898498746],), Reward: -13.4515378759\n",
      "Action: 25, State: ([-2.0971344453773355, 1.651233907681469, -2.084329646052467, 0.735495075288654, -0.8291133551834684, -0.39126474093619973, -0.13838933497190406, 0.25569683316609604, -0.02739743781645826, -0.21041570834617976, -0.09389647633980201, 0.4221686898498746],), Reward: -13.4515052051\n",
      "Action: 25, State: ([-2.09746755983653, 1.6512842077771435, -2.0837648034049376, 0.7086859694401717, -0.8445072961271477, -0.37949285329054366, -0.13838933497190406, 0.25569683316609604, -0.02739743781645826, -0.21041570834617976, -0.09389647633980201, 0.4221686898498746],), Reward: -13.4515052051\n",
      "Action: 25, State: ([-2.0972365269872455, 1.6517256077103948, -2.083342204315434, 0.7405785206003296, -0.8207822443490794, -0.3271171892171473, -0.1387464962320759, 0.2557504877332117, -0.027355078734962734, -0.21041570834617976, -0.09389647633980201, 0.4221686898498746],), Reward: -13.4517176116\n",
      "Action: 25, State: ([-2.0973485969482013, 1.6510743752510253, -2.084952209015091, 0.7374712884785343, -0.7990557736732246, -0.5121303733953928, -0.13832345272426244, 0.255766021678046, -0.02721229025104971, -0.21041570834617976, -0.09389647633980201, 0.4221686898498746],), Reward: -13.4515172687\n",
      "Action: 25, State: ([-2.097303066309979, 1.6513965125878736, -2.0845100695488146, 0.7299924032836644, -0.8012602296923074, -0.4387744358742621, -0.13832345272426244, 0.255766021678046, -0.02721229025104971, -0.21041570834617976, -0.09389647633980201, 0.4221686898498746],), Reward: -13.4515172687\n",
      "Action: 25, State: ([-2.0970690692342764, 1.6511689097334745, -2.084012251072542, 0.7359494365966026, -0.845207523274361, -0.38461528823522206, -0.13867742935672953, 0.25570177988799053, -0.027743970739526946, -0.21041570834617976, -0.09389647633980201, 0.4221686898498746],), Reward: -13.451678866\n",
      "Action: 25, State: ([-2.09750986366792, 1.6516354837591152, -2.0833506566759805, 0.6983297674795151, -0.8288738945026615, -0.32979421239831525, -0.13867742935672953, 0.25570177988799053, -0.027743970739526946, -0.21041570834617976, -0.09389647633980201, 0.4221686898498746],), Reward: -13.451678866\n",
      "Action: 25, State: ([-2.0973640659145074, 1.651706999206075, -2.084834775884576, 0.7247062213312248, -0.7937503448421794, -0.5161093879030978, -0.13883718375727222, 0.2558763222259252, -0.02723111601815792, -0.21041570834617976, -0.09389647633980201, 0.4221686898498746],), Reward: -13.451859217\n",
      "Action: 25, State: ([-2.097389999571062, 1.6512400443021784, -2.084586052492906, 0.7072341562127551, -0.8053911765849064, -0.43811444334571825, -0.13845320099827813, 0.25570244845863854, -0.027381053016585832, -0.21041570834617976, -0.09389647633980201, 0.4221686898498746],), Reward: -13.4515388552\n",
      "Action: 25, State: ([-2.0971715939524618, 1.6513211929390774, -2.0836844018966687, 0.734655943148727, -0.8440859631114213, -0.38270940258534436, -0.13845320099827813, 0.25570244845863854, -0.027381053016585832, -0.21041570834617976, -0.09389647633980201, 0.4221686898498746],), Reward: -13.4515388552\n",
      "Action: 25, State: ([-2.0972989709492387, 1.6512570487762277, -2.0835103021881825, 0.7197512024852227, -0.8429619916051962, -0.3868058249834616, -0.13888040564475723, 0.25568891645595637, -0.027688594723489113, -0.21041570834617976, -0.09389647633980201, 0.4221686898498746],), Reward: -13.4517587469\n",
      "Action: 25, State: ([-2.097410584206431, 1.6517555005204985, -2.084756548641547, 0.72739207924997, -0.7896901005716468, -0.5103623936997921, -0.13888066166956378, 0.2557688553183445, -0.027552069740160334, -0.21041570834617976, -0.09389647633980201, 0.4221686898498746],), Reward: -13.4518159022\n",
      "Action: 25, State: ([-2.0974398668510794, 1.6512779727910196, -2.0846797567801687, 0.7052639835159755, -0.8004227010407673, -0.43765991214262556, -0.1384517810107436, 0.2555480754785835, -0.027724635924542163, -0.21041570834617976, -0.09389647633980201, 0.4221686898498746],), Reward: -13.4514354647\n",
      "Action: 25, State: ([-2.097338402252344, 1.6512087970445508, -2.084437061651224, 0.7194197484609702, -0.8245248347358477, -0.3932080095937962, -0.1384517810107436, 0.2555480754785835, -0.027724635924542163, -0.21041570834617976, -0.09389647633980201, 0.4221686898498746],), Reward: -13.4514354647\n",
      "Action: 25, State: ([-2.0970753609236663, 1.651310320918694, -2.083551108972687, 0.7399252597986923, -0.8444262400717131, -0.3826361400879891, -0.1386954675034515, 0.2557033303699986, -0.027717772690409148, -0.21041570834617976, -0.09389647633980201, 0.4221686898498746],), Reward: -13.4516862977\n",
      "Action: 25, State: ([-2.0973937680772767, 1.6516322332669473, -2.0834372376657697, 0.7065747425977966, -0.8251011691560743, -0.3268952272963953, -0.1387859420985946, 0.2559073607740635, -0.02724594193931712, -0.21041570834617976, -0.09389647633980201, 0.4221686898498746],), Reward: -13.4518634354\n",
      "Action: 25, State: ([-2.097558067026357, 1.65120398682925, -2.084798693635209, 0.7205521304736273, -0.7952473500513682, -0.5024817830301473, -0.13830663090932394, 0.2557446634942404, -0.027530746294879893, -0.21041570834617976, -0.09389647633980201, 0.4221686898498746],), Reward: -13.4514483637\n",
      "Action: 25, State: ([-2.097046851079238, 1.6511876518253183, -2.0847588334977214, 0.7217241128656953, -0.8127839671705832, -0.44575014763765697, -0.1384174126293289, 0.2556188645433778, -0.02737732965691464, -0.21041570834617976, -0.09389647633980201, 0.4221686898498746],), Reward: -13.4514483637\n",
      "Action: 25, State: ([-2.0974983386391024, 1.6512170138063134, -2.0837629093889802, 0.6932985048997791, -0.8498330252893613, -0.3829362869701104, -0.13841018153437123, 0.2556592189109548, -0.02774528160813078, -0.21041570834617976, -0.09389647633980201, 0.4221686898498746],), Reward: -13.4515149934\n",
      "Action: 25, State: ([-2.097723484163888, 1.651652500935814, -2.083252416180958, 0.6861978018461654, -0.835380496700291, -0.3313397089087749, -0.13882113934143134, 0.2557528367597569, -0.027739401564663257, -0.21041570834617976, -0.09389647633980201, 0.4221686898498746],), Reward: -13.4517913317\n",
      "Action: 25, State: ([-2.097104227797252, 1.6516617960229176, -2.0848712529512516, 0.7479621849699423, -0.80014578004795, -0.5227997431404408, -0.1382998918114564, 0.25577683587816746, -0.0275876184556465, -0.21041570834617976, -0.09389647633980201, 0.4221686898498746],), Reward: -13.4515507931\n",
      "Action: 25, State: ([-2.0970345623379565, 1.65121463767196, -2.0846652779620864, 0.7464087477028338, -0.817252405728484, -0.45291600437892543, -0.1384368898782646, 0.25567657458882737, -0.027742122020065874, -0.21041570834617976, -0.09389647633980201, 0.4221686898498746],), Reward: -13.4515425453\n",
      "Action: 25, State: ([-2.097093649744343, 1.6513919747856667, -2.0840085952210483, 0.7515251520616243, -0.8357104225924917, -0.39628765695983165, -0.1384368898782646, 0.25567657458882737, -0.027742122020065874, -0.21041570834617976, -0.09389647633980201, 0.4221686898498746],), Reward: -13.4515425453\n",
      "Action: 25, State: ([-2.096994381912957, 1.6512240013104966, -2.083602549697237, 0.7429424354584956, -0.8424054395862022, -0.3907549511711397, -0.13864526784658487, 0.25576137600385435, -0.027671625709487946, -0.21041570834617976, -0.09389647633980201, 0.4221686898498746],), Reward: -13.4517088998\n",
      "Action: 25, State: ([-2.0973679105713368, 1.6517529163494435, -2.084837474334682, 0.7176171204490573, -0.7892319482146667, -0.5140023471720105, -0.13886991004378946, 0.2558622098061833, -0.02753106276644568, -0.21041570834617976, -0.09389647633980201, 0.4221686898498746],), Reward: -13.4518904962\n"
     ]
    },
    {
     "name": "stdout",
     "output_type": "stream",
     "text": [
      "Action: 25, State: ([-2.097459107951117, 1.6511047653706, -2.0849286289277043, 0.7222472448218876, -0.7950404529050628, -0.5083047368979035, -0.13886991004378946, 0.2558622098061833, -0.02753106276644568, -0.21041570834617976, -0.09389647633980201, 0.4221686898498746],), Reward: -13.4518904962\n",
      "Action: 25, State: ([-2.097168817409308, 1.651211732688619, -2.0842679376412576, 0.7356882299799832, -0.8296763136001887, -0.38772016846135554, -0.1385986391319311, 0.2556646379868466, -0.02771612131829221, -0.21041570834617976, -0.09389647633980201, 0.4221686898498746],), Reward: -13.4516063324\n",
      "Action: 25, State: ([-2.097270519583251, 1.651257971262421, -2.083523411502231, 0.7228282262557079, -0.8423787547176853, -0.3852621732242489, -0.1385986391319311, 0.2556646379868466, -0.02771612131829221, -0.21041570834617976, -0.09389647633980201, 0.4221686898498746],), Reward: -13.4516063324\n",
      "Action: 25, State: ([-2.097198212774331, 1.6517725635190414, -2.0847835681258715, 0.7410053671816655, -0.7909732759613615, -0.5125772001583733, -0.13879843835332925, 0.255825442407843, -0.027384939503510564, -0.21041570834617976, -0.09389647633980201, 0.4221686898498746],), Reward: -13.4518106623\n",
      "Action: 25, State: ([-2.0978017696524187, 1.6511045431322788, -2.0847806078779847, 0.689827257465496, -0.8012715106699654, -0.503497664970216, -0.13832462891382769, 0.25579365066998716, -0.027522868572999903, -0.21041570834617976, -0.09389647633980201, 0.4221686898498746],), Reward: -13.4515711233\n",
      "Action: 25, State: ([-2.0974440683554096, 1.6513876134547987, -2.084085899550389, 0.7198609951204585, -0.8298325996127792, -0.3943166209940145, -0.13832462891382769, 0.25579365066998716, -0.027522868572999903, -0.21041570834617976, -0.09389647633980201, 0.4221686898498746],), Reward: -13.4515711233\n",
      "Action: 25, State: ([-2.097105841897612, 1.6513217099494506, -2.0836047634286565, 0.7401850015371594, -0.8414132540972773, -0.38723925831880085, -0.13861202149629315, 0.2557668551040294, -0.027324645548900794, -0.21041570834617976, -0.09389647633980201, 0.4221686898498746],), Reward: -13.4516652714\n",
      "Action: 25, State: ([-2.097232981003872, 1.6516787673452749, -2.0849342992021374, 0.7364219325769228, -0.7944784421863953, -0.5147078807307108, -0.13882066423400374, 0.2558391540631063, -0.027215883405071528, -0.21041570834617976, -0.09389647633980201, 0.4221686898498746],), Reward: -13.4518174275\n",
      "Action: 25, State: ([-2.097485774875377, 1.6512337506148018, -2.0846446465046133, 0.6982861728819394, -0.8090890288930552, -0.44035563884227186, -0.1384508251071268, 0.25566614822131006, -0.027368413742632824, -0.21041570834617976, -0.09389647633980201, 0.4221686898498746],), Reward: -13.4515047639\n",
      "Action: 25, State: ([-2.097248456418363, 1.6513789732862891, -2.0836582064290763, 0.7273392883102376, -0.8418523110998903, -0.38315325385749655, -0.1385177586405622, 0.2557389281737788, -0.027776751692188906, -0.21041570834617976, -0.09389647633980201, 0.4221686898498746],), Reward: -13.4516387532\n",
      "Action: 25, State: ([-2.097435279819197, 1.6515833960643862, -2.08352055466608, 0.7094770585867658, -0.8279414444374911, -0.32903640465648365, -0.13875174649424044, 0.255786437269484, -0.027404847457213, -0.21041570834617976, -0.09389647633980201, 0.4221686898498746],), Reward: -13.451756227\n",
      "Action: 25, State: ([-2.097666493376149, 1.6511045352031868, -2.0848223376251127, 0.7029113185371582, -0.7987707806016829, -0.5031217146334528, -0.13875174649424044, 0.255786437269484, -0.027404847457213, -0.21041570834617976, -0.09389647633980201, 0.4221686898498746],), Reward: -13.451756227\n",
      "Action: 25, State: ([-2.0972474523276476, 1.6512377028133551, -2.084700912306168, 0.7261611679136712, -0.800071388404275, -0.4415320873564772, -0.13844604605447727, 0.2555518173438469, -0.02739451221288053, -0.21041570834617976, -0.09389647633980201, 0.4221686898498746],), Reward: -13.451404857\n",
      "Action: 25, State: ([-2.0974336802949622, 1.6511991904042365, -2.0838980472825472, 0.6998982800060694, -0.8388950292798226, -0.3784025126421159, -0.13870737474991393, 0.2557276840004422, -0.02738247669867888, -0.21041570834617976, -0.09389647633980201, 0.4221686898498746],), Reward: -13.4516816493\n",
      "Action: 25, State: ([-2.09735988413742, 1.6517542762872504, -2.083283069811962, 0.7175674073208972, -0.8279163812869055, -0.3289656322949799, -0.13877061813775288, 0.25576284915517233, -0.02775330373724899, -0.21041570834617976, -0.09389647633980201, 0.4221686898498746],), Reward: -13.4517774231\n",
      "Action: 25, State: ([-2.097484387432523, 1.6511101663282348, -2.084947494014548, 0.7203769503020788, -0.7963777521372886, -0.5071722552960153, -0.13826240538423207, 0.2558205913260041, -0.027230737785652548, -0.21041570834617976, -0.09389647633980201, 0.4221686898498746],), Reward: -13.4515378754\n",
      "Action: 25, State: ([-2.0971344452893366, 1.6512339076529239, -2.084329647873515, 0.7354950790397687, -0.8291133645655595, -0.39126478229089146, -0.1383893343651011, 0.25569683304564894, -0.027397437818698578, -0.21041570834617976, -0.09389647633980201, 0.4221686898498746],), Reward: -13.4515052048\n",
      "Action: 25, State: ([-2.0974675598035066, 1.651284207767616, -2.0837648054725673, 0.7086859682352921, -0.8445073062553974, -0.37949290368087574, -0.1383893343651011, 0.25569683304564894, -0.027397437818698578, -0.21041570834617976, -0.09389647633980201, 0.4221686898498746],), Reward: -13.4515052048\n",
      "Action: 25, State: ([-2.0972365270156708, 1.6517256076382507, -2.083342206531806, 0.7405785367505476, -0.8207822766671456, -0.3271171755113702, -0.1387464955052803, 0.25575048759187047, -0.02735507874462323, -0.21041570834617976, -0.09389647633980201, 0.4221686898498746],), Reward: -13.4517176112\n",
      "Action: 25, State: ([-2.097348597079346, 1.6510743752338728, -2.0849522107916716, 0.7374712924289714, -0.7990557840174182, -0.5121304069952793, -0.13832345222498704, 0.25576602154963524, -0.02721229026790778, -0.21041570834617976, -0.09389647633980201, 0.4221686898498746],), Reward: -13.4515172683\n",
      "Action: 25, State: ([-2.0973759386971675, 1.651200554233954, -2.0843697837166495, 0.7102705635039106, -0.8332716440325747, -0.3956329648851191, -0.13853272932765523, 0.25571105512039183, -0.02739416619974394, -0.21041570834617976, -0.09389647633980201, 0.4221686898498746],), Reward: -13.4515853273\n",
      "Action: 25, State: ([-2.09705114487254, 1.651336690554401, -2.0834725526614237, 0.7487381315783314, -0.8485147458829035, -0.3868632183830023, -0.13883452758737322, 0.2557965680368194, -0.027695121579037862, -0.21041570834617976, -0.09389647633980201, 0.4221686898498746],), Reward: -13.4518317529\n",
      "Action: 25, State: ([-2.0973640659176107, 1.6517069992040838, -2.0848347777180756, 0.7247062184215425, -0.7937503586259501, -0.51610944596346, -0.13883452758737322, 0.2557965680368194, -0.027695121579037862, -0.21041570834617976, -0.09389647633980201, 0.4221686898498746],), Reward: -13.4518317529\n",
      "Action: 25, State: ([-2.0973899995861824, 1.65124004427709, -2.084586054529881, 0.7072341484776875, -0.805391182756924, -0.4381144785433238, -0.13834827074922565, 0.25571637737984276, -0.02752161855810853, -0.21041570834617976, -0.09389647633980201, 0.4221686898498746],), Reward: -13.4515145379\n",
      "Action: 25, State: ([-2.0971715937981683, 1.651321192948239, -2.083684403823802, 0.7346559460863417, -0.8440859770896227, -0.38270943663334944, -0.13845320029303376, 0.2557024482998616, -0.0273810530217255, -0.21041570834617976, -0.09389647633980201, 0.4221686898498746],), Reward: -13.4515388547\n",
      "Action: 25, State: ([-2.09729897080196, 1.6512570487714777, -2.0835103041286445, 0.7197512032160744, -0.8429620067336756, -0.3868058635319592, -0.13888040493873935, 0.2556889163662821, -0.027688594737569516, -0.21041570834617976, -0.09389647633980201, 0.4221686898498746],), Reward: -13.4517587464\n",
      "Action: 25, State: ([-2.097410584112832, 1.6517555005080995, -2.08475655033242, 0.7273920762689823, -0.7896901119117039, -0.5103624176802242, -0.13888040493873935, 0.2556889163662821, -0.027688594737569516, -0.21041570834617976, -0.09389647633980201, 0.4221686898498746],), Reward: -13.4517587464\n",
      "Action: 25, State: ([-2.097346285023799, 1.6511736524526128, -2.0848130538888316, 0.7385889482269112, -0.7910868861530449, -0.5043665513144566, -0.13837612806249966, 0.25572111452304225, -0.027501550597481106, -0.21041570834617976, -0.09389647633980201, 0.4221686898498746],), Reward: -13.4515299931\n"
     ]
    },
    {
     "name": "stdout",
     "output_type": "stream",
     "text": [
      "Action: 25, State: ([-2.0973384021951365, 1.6512087970163574, -2.0844370629867512, 0.7194197468126085, -0.8245248444160134, -0.39320802858862025, -0.1384231884353499, 0.255690837929129, -0.02736310592072483, -0.21041570834617976, -0.09389647633980201, 0.4221686898498746],), Reward: -13.4515127815\n",
      "Action: 25, State: ([-2.0971264990425382, 1.6512205175104695, -2.0839637631963024, 0.7351741212074466, -0.8405892232896791, -0.37804459226767523, -0.13869546700017288, 0.25570333025675657, -0.027717772690483644, -0.21041570834617976, -0.09389647633980201, 0.4221686898498746],), Reward: -13.4516862973\n",
      "Action: 25, State: ([-2.0973937681364365, 1.6516322332879785, -2.083437238981354, 0.7065747349465674, -0.8251011835583688, -0.326895263671545, -0.1387859416461123, 0.2559073606661224, -0.027245941927138972, -0.21041570834617976, -0.09389647633980201, 0.4221686898498746],), Reward: -13.4518634351\n",
      "Action: 25, State: ([-2.0975580671640977, 1.6512039868483273, -2.084798695188349, 0.7205521226846121, -0.7952473613030202, -0.5024818264442175, -0.1387859416461123, 0.2559073606661224, -0.027245941927138972, -0.21041570834617976, -0.09389647633980201, 0.4221686898498746],), Reward: -13.4518634351\n",
      "Action: 25, State: ([-2.0970380902187147, 1.6513434930760278, -2.0841459921081054, 0.7459804991658447, -0.8352288279105448, -0.39297422505767854, -0.13841741210949096, 0.25561886439080517, -0.027377329637472136, -0.21041570834617976, -0.09389647633980201, 0.4221686898498746],), Reward: -13.4514483633\n",
      "Action: 25, State: ([-2.0974983386538746, 1.651217013810017, -2.0837629109347464, 0.693298503054432, -0.8498330354783732, -0.38293631577084986, -0.13876373523107638, 0.2557211923678852, -0.027369913589425865, -0.21041570834617976, -0.09389647633980201, 0.4221686898498746],), Reward: -13.4517015495\n",
      "Action: 25, State: ([-2.0977234841141783, 1.6516525009631025, -2.083252417526859, 0.6861978061309923, -0.8353805090128077, -0.33133973224553515, -0.13876373523107638, 0.2557211923678852, -0.027369913589425865, -0.21041570834617976, -0.09389647633980201, 0.4221686898498746],), Reward: -13.4517015495\n",
      "Action: 25, State: ([-2.098009420876915, 1.6512302498629836, -2.0845994093089057, 0.6869809340612973, -0.8076941057797007, -0.5073295302125022, -0.13855949685413413, 0.2555048664469353, -0.02728596250952131, -0.21041570834617976, -0.09389647633980201, 0.4221686898498746],), Reward: -13.4514074199\n",
      "Action: 25, State: ([-2.097093649584151, 1.6513919747920767, -2.0840085966797037, 0.7515251568172857, -0.8357104285541544, -0.3962876810949429, -0.13864526730503654, 0.2557613759550899, -0.027671625723597937, -0.21041570834617976, -0.09389647633980201, 0.4221686898498746],), Reward: -13.4517088995\n",
      "Action: 25, State: ([-2.096994381876126, 1.6512240013094361, -2.0836025509057823, 0.7429424278315184, -0.8424054497525405, -0.3907549722314867, -0.13864526730503654, 0.2557613759550899, -0.027671625723597937, -0.21041570834617976, -0.09389647633980201, 0.4221686898498746],), Reward: -13.4517088995\n",
      "Action: 25, State: ([-2.0973679105263408, 1.651752916341982, -2.0848374755844663, 0.7176171189092274, -0.7892319557214836, -0.514002371814573, -0.13879783832942813, 0.2557716844153277, -0.027737423616200352, -0.21041570834617976, -0.09389647633980201, 0.4221686898498746],), Reward: -13.45179657\n",
      "Action: 25, State: ([-2.0973774585688485, 1.6512383077294457, -2.0846781545786506, 0.7103026613974012, -0.8023894967984618, -0.43800400591118394, -0.13834006700935397, 0.25572904081439163, -0.027506253102339673, -0.21041570834617976, -0.09389647633980201, 0.4221686898498746],), Reward: -13.4515202926\n",
      "Action: 25, State: ([-2.0971961090960995, 1.6512871805135534, -2.083726385034053, 0.7304350984198591, -0.8431181110966706, -0.3796875675829948, -0.13859863874138362, 0.25566463785688, -0.02771612131101925, -0.21041570834617976, -0.09389647633980201, 0.4221686898498746],), Reward: -13.4516063321\n",
      "Action: 25, State: ([-2.0973173950473107, 1.6515812460774235, -2.083482796795897, 0.7112270709784598, -0.8242469550496705, -0.332117794287489, -0.13883657345808695, 0.25578583604760974, -0.027578316816291082, -0.21041570834617976, -0.09389647633980201, 0.4221686898498746],), Reward: -13.4518122926\n",
      "Action: 25, State: ([-2.09780176963727, 1.6511045431518037, -2.084780608926902, 0.6898272504524439, -0.8012715162082136, -0.5034976900304948, -0.13883657345808695, 0.25578583604760974, -0.027578316816291082, -0.21041570834617976, -0.09389647633980201, 0.4221686898498746],), Reward: -13.4518122926\n",
      "Action: 25, State: ([-2.09744406817477, 1.6513876134583088, -2.0840859005150847, 0.7198610023854649, -0.8298326035661929, -0.3943166416460876, -0.13861202112469145, 0.2557668550955796, -0.02732464556855324, -0.21041570834617976, -0.09389647633980201, 0.4221686898498746],), Reward: -13.4516652713\n",
      "Action: 25, State: ([-2.097105841895889, 1.6513217099782098, -2.083604764224477, 0.7401849932831575, -0.8414132584831373, -0.38723928258891893, -0.13861202112469145, 0.2557668550955796, -0.02732464556855324, -0.21041570834617976, -0.09389647633980201, 0.4221686898498746],), Reward: -13.4516652713\n",
      "Action: 25, State: ([-2.097232980932497, 1.651678767341961, -2.0849343001906524, 0.7364219288947706, -0.7944784479464454, -0.51470790360961, -0.13880079416220822, 0.25576490171412086, -0.027692450290590476, -0.21041570834617976, -0.09389647633980201, 0.4221686898498746],), Reward: -13.4517877749\n",
      "Action: 25, State: ([-2.0974857749089484, 1.6512337505910555, -2.0846446475769467, 0.6982861645508383, -0.8090890318729547, -0.4403556560259568, -0.138294449499001, 0.25574289159089786, -0.027548223000007366, -0.21041570834617976, -0.09389647633980201, 0.4221686898498746],), Reward: -13.4515147721\n",
      "Action: 25, State: ([-2.097248456464208, 1.651378973281873, -2.0836582074114194, 0.7273392895753934, -0.8418523151014002, -0.38315327120506154, -0.13851775831098165, 0.25573892806938814, -0.027776751686047985, -0.21041570834617976, -0.09389647633980201, 0.4221686898498746],), Reward: -13.451638753\n",
      "Action: 25, State: ([-2.097289871467276, 1.651195499441724, -2.08369943043214, 0.7142965764966093, -0.8484841342228517, -0.391434432550257, -0.13851775831098165, 0.25573892806938814, -0.027776751686047985, -0.21041570834617976, -0.09389647633980201, 0.4221686898498746],), Reward: -13.451638753\n",
      "Action: 25, State: ([-2.097286968177361, 1.6517591853583262, -2.0847831279608773, 0.7330390556848321, -0.7926108371104417, -0.5073361722976621, -0.1383431722608126, 0.25576111195483975, -0.02751484073256849, -0.21041570834617976, -0.09389647633980201, 0.4221686898498746],), Reward: -13.4515506555\n",
      "Action: 25, State: ([-2.0972474523408398, 1.6512377028107377, -2.0847009130482004, 0.7261611679483508, -0.8000713905279678, -0.44153209877516325, -0.1383431722608126, 0.25576111195483975, -0.02751484073256849, -0.21041570834617976, -0.09389647633980201, 0.4221686898498746],), Reward: -13.4515506555\n",
      "Action: 25, State: ([-2.097433680269928, 1.6511991903972563, -2.083898048068172, 0.6998982802373717, -0.838895033710684, -0.37840252984873757, -0.13845813001889204, 0.255614315177416, -0.027701451794461873, -0.21041570834617976, -0.09389647633980201, 0.4221686898498746],), Reward: -13.4514942545\n",
      "Action: 25, State: ([-2.0973598840682897, 1.6517542762936435, -2.083283070633632, 0.7175674088898358, -0.8279163853644698, -0.3289656422785167, -0.13877061784310563, 0.25576284911062497, -0.02775330375116941, -0.21041570834617976, -0.09389647633980201, 0.4221686898498746],), Reward: -13.451777423\n",
      "Action: 25, State: ([-2.097484387468727, 1.651110166321132, -2.0849474947272437, 0.7203769440866592, -0.796377753836173, -0.5071722710771973, -0.13836788763743504, 0.25560375209833397, -0.027416020399419094, -0.21041570834617976, -0.09389647633980201, 0.4221686898498746],), Reward: -13.4514152878\n",
      "Action: 25, State: ([-2.097134445261478, 1.6512339076438884, -2.084329648449894, 0.735495080227559, -0.8291133675351366, -0.39126479537994885, -0.13836788763743504, 0.25560375209833397, -0.027416020399419094, -0.21041570834617976, -0.09389647633980201, 0.4221686898498746],), Reward: -13.4514152878\n",
      "Action: 25, State: ([-2.097224607096166, 1.6512067106288741, -2.083646969037116, 0.7295049463298015, -0.8434737504065047, -0.3879333089650251, -0.138827419664296, 0.25568838876893407, -0.02771315814394304, -0.21041570834617976, -0.09389647633980201, 0.4221686898498746],), Reward: -13.4517354407\n"
     ]
    },
    {
     "name": "stdout",
     "output_type": "stream",
     "text": [
      "Action: 25, State: ([-2.097570761458326, 1.6516988727457589, -2.08482654452299, 0.7000139373058231, -0.793266915431724, -0.5112583555848518, -0.138827419664296, 0.25568838876893407, -0.02771315814394304, -0.21041570834617976, -0.09389647633980201, 0.4221686898498746],), Reward: -13.4517354407\n",
      "Action: 25, State: ([-2.097348597120847, 1.651074375228446, -2.084952211353979, 0.7374712936791831, -0.7990557872914563, -0.512130417630264, -0.13832345206695867, 0.2557660215089949, -0.027212290273243844, -0.21041570834617976, -0.09389647633980201, 0.4221686898498746],), Reward: -13.4515172682\n",
      "Action: 25, State: ([-2.0973030664436845, 1.6513965126353165, -2.0845100712616587, 0.7299924062298665, -0.80126024471354, -0.4387744907091044, -0.13850736360732657, 0.25565900127703967, -0.027642354935588365, -0.21041570834617976, -0.09389647633980201, 0.4221686898498746],), Reward: -13.4515511148\n",
      "Action: 25, State: ([-2.097069069436987, 1.6511689096753601, -2.084012253447889, 0.7359494366101301, -0.8452075257104983, -0.3846153426722189, -0.13850736360732657, 0.25565900127703967, -0.027642354935588365, -0.21041570834617976, -0.09389647633980201, 0.4221686898498746],), Reward: -13.4515511148\n",
      "Action: 25, State: ([-2.097051144914566, 1.6513366905714228, -2.083472553044018, 0.7487381303029748, -0.8485147500120351, -0.38686323595107214, -0.1386774285749751, 0.25570177963124285, -0.02774397073832635, -0.21041570834617976, -0.09389647633980201, 0.4221686898498746],), Reward: -13.4516788654\n",
      "Action: 25, State: ([-2.097364065918601, 1.651706999203454, -2.0848347782983954, 0.7247062175005565, -0.7937503629886743, -0.5161094643404076, -0.1388371831515441, 0.2558763220803839, -0.027231115990259513, -0.21041570834617976, -0.09389647633980201, 0.4221686898498746],), Reward: -13.4518592166\n",
      "Action: 25, State: ([-2.097380429989225, 1.651119371854878, -2.0848472360224406, 0.7324289717251317, -0.7997443836895661, -0.508556369786769, -0.13845410204459757, 0.2555203511588429, -0.027731781724506743, -0.21041570834617976, -0.09389647633980201, 0.4221686898498746],), Reward: -13.451412978\n",
      "Action: 25, State: ([-2.097103040839852, 1.651193808013514, -2.0842864196452133, 0.7356551101144442, -0.8311828802826644, -0.3956991978427707, -0.13845410204459757, 0.2555203511588429, -0.027731781724506743, -0.21041570834617976, -0.09389647633980201, 0.4221686898498746],), Reward: -13.451412978\n",
      "Action: 25, State: ([-2.097298970755345, 1.6512570487699731, -2.0835103047428136, 0.719751203447597, -0.8429620115220083, -0.38680587573279485, -0.13858399717256745, 0.2556778178915904, -0.027733665270366303, -0.21041570834617976, -0.09389647633980201, 0.4221686898498746],), Reward: -13.4516125859\n",
      "Action: 25, State: ([-2.097410584083205, 1.6517555005041746, -2.0847565508675956, 0.7273920753256897, -0.7896901155009661, -0.5103624252704737, -0.13888066077948394, 0.2557688551959785, -0.02755206974562241, -0.21041570834617976, -0.09389647633980201, 0.4221686898498746],), Reward: -13.4518159017\n",
      "Action: 25, State: ([-2.097346285004379, 1.6511736524503586, -2.084813054447247, 0.7385889479780174, -0.79108688908759, -0.504366559589991, -0.13888066077948394, 0.2557688551959785, -0.02755206974562241, -0.21041570834617976, -0.09389647633980201, 0.4221686898498746],), Reward: -13.4518159017\n",
      "Action: 25, State: ([-2.0973384021770274, 1.651208797007433, -2.084437063409455, 0.7194197462908773, -0.8245248474798851, -0.3932080346004725, -0.13850068625460765, 0.25572132357423116, -0.02739542823832747, -0.21041570834617976, -0.09389647633980201, 0.4221686898498746],), Reward: -13.4515792402\n",
      "Action: 25, State: ([-2.097075360992445, 1.6513103209491433, -2.0835511106485196, 0.7399252505934355, -0.8444262558290335, -0.3826361958326736, -0.13850068625460765, 0.25572132357423116, -0.02739542823832747, -0.21041570834617976, -0.09389647633980201, 0.4221686898498746],), Reward: -13.4515792402\n",
      "Action: 25, State: ([-2.0972681700064655, 1.6517099749744526, -2.0849005337305746, 0.7235748483994434, -0.7924303737083717, -0.514004954080175, -0.13881502248054917, 0.25577679426585065, -0.027696145909882952, -0.21041570834617976, -0.09389647633980201, 0.4221686898498746],), Reward: -13.4518052867\n",
      "Action: 25, State: ([-2.0970468511960627, 1.6511876517887885, -2.0847588355570164, 0.7217241100547365, -0.8127839718831033, -0.44575018785312803, -0.1384174119449586, 0.2556188643425143, -0.02737732963131828, -0.21041570834617976, -0.09389647633980201, 0.4221686898498746],), Reward: -13.4514483632\n",
      "Action: 25, State: ([-2.097498338658551, 1.6512170138111895, -2.0837629114239906, 0.6932985024703537, -0.8498330387033174, -0.38293632488640483, -0.1387637350607009, 0.2557211923316355, -0.027369913588527084, -0.21041570834617976, -0.09389647633980201, 0.4221686898498746],), Reward: -13.4517015494\n",
      "Action: 25, State: ([-2.097046983127343, 1.6512216503661286, -2.0835700140290623, 0.7516471927260046, -0.8461377949560241, -0.390031289791942, -0.13882113872947732, 0.25575283660625303, -0.027739401539336572, -0.21041570834617976, -0.09389647633980201, 0.4221686898498746],), Reward: -13.4517913313\n",
      "Action: 25, State: ([-2.0980094208631517, 1.6512302498718832, -2.0845994097847456, 0.6869809324031902, -0.8076941087418702, -0.5073295415353364, -0.13882113872947732, 0.25575283660625303, -0.027739401539336572, -0.21041570834617976, -0.09389647633980201, 0.4221686898498746],), Reward: -13.4517913313\n",
      "Action: 25, State: ([-2.097034562303268, 1.6512146376610026, -2.0846652799083216, 0.7464087426462498, -0.8172524097086543, -0.45291604676340236, -0.13855949668266476, 0.2555048664219754, -0.02728596250352827, -0.21041570834617976, -0.09389647633980201, 0.4221686898498746],), Reward: -13.4514074198\n",
      "Action: 25, State: ([-2.097300082630734, 1.6511978654383936, -2.083783013610687, 0.707199883675182, -0.8438773075513749, -0.3830716194996675, -0.13872362444767244, 0.2557784832031419, -0.027401248592407224, -0.21041570834617976, -0.09389647633980201, 0.4221686898498746],), Reward: -13.4517355795\n",
      "Action: 25, State: ([-2.097277655622257, 1.6517412826991356, -2.0832871106901365, 0.7205310916772533, -0.8258007843740722, -0.3296740877915078, -0.13879783819284294, 0.255771684392966, -0.027737423614599466, -0.21041570834617976, -0.09389647633980201, 0.4221686898498746],), Reward: -13.4517965699\n",
      "Action: 25, State: ([-2.0974591078100246, 1.6511047653428337, -2.084928630719281, 0.7222472471040418, -0.7950404560610123, -0.5083047751542522, -0.13834006686873387, 0.25572904078999054, -0.027506253104447487, -0.21041570834617976, -0.09389647633980201, 0.4221686898498746],), Reward: -13.4515202925\n",
      "Action: 25, State: ([-2.09737745855713, 1.6512383077281045, -2.0846781549785227, 0.7103026588299113, -0.8023894980350424, -0.43800401246402815, -0.13834006686873387, 0.25572904078999054, -0.027506253104447487, -0.21041570834617976, -0.09389647633980201, 0.4221686898498746],), Reward: -13.4515202925\n",
      "Action: 25, State: ([-2.097196109161109, 1.651287180515082, -2.083726385409303, 0.7304350954023612, -0.8431181138048335, -0.3796875737720625, -0.13859863861777336, 0.25566463781574406, -0.02771612130871759, -0.21041570834617976, -0.09389647633980201, 0.4221686898498746],), Reward: -13.451606332\n",
      "Action: 25, State: ([-2.0973173950376793, 1.6515812460754669, -2.083482797168216, 0.7112270747542797, -0.8242469568369405, -0.3321177977698688, -0.13883657332630253, 0.25578583602378585, -0.027578316817459314, -0.21041570834617976, -0.09389647633980201, 0.4221686898498746],), Reward: -13.4518122926\n",
      "Action: 25, State: ([-2.09719821264499, 1.651772563496034, -2.0847835694175973, 0.7410053727452922, -0.7909732811053227, -0.5125772158119835, -0.13832462844157223, 0.2557936506132652, -0.027522868593688632, -0.21041570834617976, -0.09389647633980201, 0.4221686898498746],), Reward: -13.451571123\n",
      "Action: 25, State: ([-2.097015069212108, 1.6511858537216941, -2.084750237611906, 0.743422257537169, -0.8057191078738233, -0.45014070152889846, -0.1384088359836455, 0.25566754346867265, -0.02775491214546738, -0.21041570834617976, -0.09389647633980201, 0.4221686898498746],), Reward: -13.4515225583\n",
      "Action: 25, State: ([-2.0971253667010963, 1.6511614957458143, -2.08401109755168, 0.7250673464948659, -0.8391546033706218, -0.3896392252255604, -0.1384088359836455, 0.25566754346867265, -0.02775491214546738, -0.21041570834617976, -0.09389647633980201, 0.4221686898498746],), Reward: -13.4515225583\n"
     ]
    },
    {
     "name": "stdout",
     "output_type": "stream",
     "text": [
      "Action: 25, State: ([-2.0976071435754218, 1.6516367116859998, -2.083446639875799, 0.6943201718844833, -0.8263045164095074, -0.3285884496904936, -0.13868930556038908, 0.25568150564784836, -0.027738567853412832, -0.21041570834617976, -0.09389647633980201, 0.4221686898498746],), Reward: -13.4516662486\n",
      "Action: 25, State: ([-2.097420389445909, 1.6512135763308287, -2.0847404787789596, 0.732361089533745, -0.79938217891759, -0.5030934219382479, -0.1388206638292426, 0.25583915401277, -0.027215883406680796, -0.21041570834617976, -0.09389647633980201, 0.4221686898498746],), Reward: -13.4518174273\n",
      "Action: 25, State: ([-2.096882209608818, 1.6512012994657974, -2.084367859356691, 0.7601469358381894, -0.8315845825404535, -0.3970270466117396, -0.13845082462844957, 0.2556661480934738, -0.027368413752553555, -0.21041570834617976, -0.09389647633980201, 0.4221686898498746],), Reward: -13.4515047635\n",
      "Action: 25, State: ([-2.097289871476157, 1.6511954994376845, -2.0836994307460177, 0.7142965770658833, -0.8484841351157185, -0.3914344366772166, -0.13845082462844957, 0.2556661480934738, -0.027368413752553555, -0.21041570834617976, -0.09389647633980201, 0.4221686898498746],), Reward: -13.4515047635\n",
      "Action: 25, State: ([-2.097286968190371, 1.651759185356748, -2.084783128218805, 0.7330390551421107, -0.7926108388196771, -0.5073361757937958, -0.13875174604794868, 0.25578643715772315, -0.027404847460364423, -0.21041570834617976, -0.09389647633980201, 0.4221686898498746],), Reward: -13.4517562267\n",
      "Action: 25, State: ([-2.097247452345016, 1.651237702809909, -2.084700913283056, 0.7261611679593256, -0.8000713912001223, -0.44153210238911267, -0.13845812993787177, 0.255614315158631, -0.027701451794845178, -0.21041570834617976, -0.09389647633980201, 0.4221686898498746],), Reward: -13.4514942544\n",
      "Action: 25, State: ([-2.0971025991705776, 1.651355593576815, -2.0841978028414125, 0.7497602037933294, -0.8216678053886505, -0.3888175051316975, -0.13845812993787177, 0.255614315158631, -0.027701451794845178, -0.21041570834617976, -0.09389647633980201, 0.4221686898498746],), Reward: -13.4514942544\n",
      "Action: 25, State: ([-2.096972326765, 1.6511970522745543, -2.0836851042488256, 0.7523589713540701, -0.8438608816801586, -0.38742574224604853, -0.13858790722560682, 0.2557321898236695, -0.027685849023799947, -0.21041570834617976, -0.09389647633980201, 0.4221686898498746],), Reward: -13.4516574927\n",
      "Action: 25, State: ([-2.097395390477603, 1.6517073492624643, -2.0849039761354202, 0.7153711152439004, -0.7939368771725687, -0.5170883559211021, -0.13877061774984956, 0.25576284909652447, -0.027753303755574776, -0.21041570834617976, -0.09389647633980201, 0.4221686898498746],), Reward: -13.4517774229\n",
      "Action: 25, State: ([-2.097339420823298, 1.6512077240479046, -2.0847578381048866, 0.7063604790308691, -0.8033919083959343, -0.4397641713299786, -0.1383678875612973, 0.2556037520773026, -0.027416020399556873, -0.21041570834617976, -0.09389647633980201, 0.4221686898498746],), Reward: -13.4514152877\n",
      "Action: 25, State: ([-2.0974675597897328, 1.651284207763645, -2.08376480633412, 0.7086859677337088, -0.8445073104757819, -0.37949292467768625, -0.1383678875612973, 0.2556037520773026, -0.027416020399556873, -0.21041570834617976, -0.09389647633980201, 0.4221686898498746],), Reward: -13.4514152877\n",
      "Action: 25, State: ([-2.097236527027504, 1.6517256076081894, -2.0833422074553356, 0.7405785434802754, -0.8207822901338084, -0.32711716980010924, -0.13874649520243215, 0.25575048753297996, -0.027355078748650452, -0.21041570834617976, -0.09389647633980201, 0.4221686898498746],), Reward: -13.451717611\n",
      "Action: 25, State: ([-2.09757076146055, 1.6516988727414557, -2.0848265446697214, 0.700013938028426, -0.7932669169763712, -0.5112583567781854, -0.13832345201694196, 0.25576602149613215, -0.027212290274932827, -0.21041570834617976, -0.09389647633980201, 0.4221686898498746],), Reward: -13.4515172682\n",
      "Action: 25, State: ([-2.0973030664538586, 1.651396512638927, -2.0845100713919944, 0.7299924064540012, -0.801260245856569, -0.4387744948815948, -0.13842001862638442, 0.2555081982361874, -0.02775309903076112, -0.21041570834617976, -0.09389647633980201, 0.4221686898498746],), Reward: -13.4513882039\n",
      "Action: 25, State: ([-2.097069069452412, 1.6511689096709379, -2.0840122536286323, 0.7359494366110904, -0.8452075258958978, -0.3846153468143454, -0.1385327291138715, 0.2557110550434484, -0.02739416620410129, -0.21041570834617976, -0.09389647633980201, 0.4221686898498746],), Reward: -13.4515853272\n",
      "Action: 25, State: ([-2.0970511449278693, 1.6513366905768105, -2.0834725531651097, 0.7487381298992379, -0.848514751318941, -0.38686324151139445, -0.1385327291138715, 0.2557110550434484, -0.02739416620410129, -0.21041570834617976, -0.09389647633980201, 0.4221686898498746],), Reward: -13.4515853272\n",
      "Action: 25, State: ([-2.0973640659189137, 1.6517069992032543, -2.084834778482069, 0.7247062172091234, -0.793750364369488, -0.5161094701567948, -0.13883718310545407, 0.2558763220693083, -0.027231115988136323, -0.21041570834617976, -0.09389647633980201, 0.4221686898498746],), Reward: -13.4518592166\n",
      "Action: 25, State: ([-2.0973899995924885, 1.6512400442666353, -2.0845860553786544, 0.707234145254896, -0.8053911853288805, -0.43811449320947926, -0.13845319999917166, 0.25570244823369975, -0.027381053023867008, -0.21041570834617976, -0.09389647633980201, 0.4221686898498746],), Reward: -13.4515388545\n",
      "Action: 25, State: ([-2.0971715937338793, 1.6513211929520546, -2.083684404626803, 0.7346559473106913, -0.8440859829141836, -0.38270945082044094, -0.13845319999917166, 0.25570244823369975, -0.027381053023867008, -0.21041570834617976, -0.09389647633980201, 0.4221686898498746],), Reward: -13.4515388545\n",
      "Action: 25, State: ([-2.097430514560674, 1.651631196048001, -2.0833942469763027, 0.7172790246322919, -0.8220097088333254, -0.3284875828292207, -0.1388806607117549, 0.25576885518666775, -0.027552069746038466, -0.21041570834617976, -0.09389647633980201, 0.4221686898498746],), Reward: -13.4518159017\n",
      "Action: 25, State: ([-2.0973462849982347, 1.6511736524496454, -2.0848130546239867, 0.7385889478992284, -0.7910868900163636, -0.5043665622092065, -0.13845178012194884, 0.2555480753259399, -0.027724635934037012, -0.21041570834617976, -0.09389647633980201, 0.4221686898498746],), Reward: -13.4514354641\n",
      "Action: 25, State: ([-2.097126499050974, 1.6512205175074408, -2.083963763802167, 0.7351741186421573, -0.8405892274739644, -0.3780446065454073, -0.13845178012194884, 0.2555480753259399, -0.027724635934037012, -0.21041570834617976, -0.09389647633980201, 0.4221686898498746],), Reward: -13.4514354641\n",
      "Action: 25, State: ([-2.097075360997678, 1.6513103209514606, -2.083551110776037, 0.7399252498929996, -0.8444262570280917, -0.3826362000743385, -0.13869546679046574, 0.2557033302095715, -0.027717772690515452, -0.21041570834617976, -0.09389647633980201, 0.4221686898498746],), Reward: -13.4516862972\n",
      "Action: 25, State: ([-2.0972681700161173, 1.6517099749736994, -2.0849005338767643, 0.7235748474272059, -0.7924303747192932, -0.5140049577506012, -0.13830663021547668, 0.2557446632937934, -0.027530746289693653, -0.21041570834617976, -0.09389647633980201, 0.4221686898498746],), Reward: -13.4515204439\n",
      "Action: 25, State: ([-2.0970468512049534, 1.6511876517860085, -2.0847588357137115, 0.7217241098408884, -0.812783972241691, -0.44575019091317664, -0.13830663021547668, 0.2557446632937934, -0.027530746289693653, -0.21041570834617976, -0.09389647633980201, 0.4221686898498746],), Reward: -13.4515204439\n",
      "Action: 25, State: ([-2.0974983386600314, 1.6512170138115607, -2.0837629115788365, 0.6932985022854764, -0.8498330397239935, -0.38293632777151776, -0.13876373500677688, 0.25572119232016227, -0.02736991358824259, -0.21041570834617976, -0.09389647633980201, 0.4221686898498746],), Reward: -13.4517015493\n",
      "Action: 25, State: ([-2.0970469831343834, 1.6512216503657706, -2.0835700141653337, 0.7516471920119504, -0.8461377960719886, -0.3900312924266981, -0.13876373500677688, 0.25572119232016227, -0.02736991358824259, -0.21041570834617976, -0.09389647633980201, 0.4221686898498746],), Reward: -13.4517015493\n",
      "Action: 25, State: ([-2.098009420858796, 1.6512302498747005, -2.0845994099353504, 0.6869809318783696, -0.8076941096793839, -0.5073295451190571, -0.13882113868291368, 0.25575283659457226, -0.02773940153740928, -0.21041570834617976, -0.09389647633980201, 0.4221686898498746],), Reward: -13.4517913313\n"
     ]
    },
    {
     "name": "stdout",
     "output_type": "stream",
     "text": [
      "Action: 25, State: ([-2.097093649517399, 1.6513919747947474, -2.0840085972874984, 0.7515251587991909, -0.8357104310382446, -0.3962876911514511, -0.13843688913706415, 0.2556765744541671, -0.02774212201057774, -0.21041570834617976, -0.09389647633980201, 0.4221686898498746],), Reward: -13.4515425448\n",
      "Action: 25, State: ([-2.0969943818607764, 1.6512240013089947, -2.0836025514093572, 0.7429424246535646, -0.8424054539886603, -0.39075498100675454, -0.13879783814961338, 0.25577168438588854, -0.027737423614092427, -0.21041570834617976, -0.09389647633980201, 0.4221686898498746],), Reward: -13.4517965699\n",
      "Action: 25, State: ([-2.0973679105075895, 1.6517529163388733, -2.0848374761052284, 0.7176171182676869, -0.7892319588494205, -0.5140023820827919, -0.13886990944818867, 0.2558622096984885, -0.027531062746965984, -0.21041570834617976, -0.09389647633980201, 0.4221686898498746],), Reward: -13.4518904958\n",
      "Action: 25, State: ([-2.09737745855342, 1.651238307727679, -2.084678155105083, 0.7103026580172618, -0.8023894984264036, -0.43800401453801774, -0.138443062038904, 0.25548368429415075, -0.02772815408787016, -0.21041570834617976, -0.09389647633980201, 0.4221686898498746],), Reward: -13.4513753051\n",
      "Action: 25, State: ([-2.0971961091816853, 1.651287180515566, -2.0837263855280685, 0.7304350944472524, -0.8431181146619623, -0.379687575730976, -0.138443062038904, 0.25548368429415075, -0.02772815408787016, -0.21041570834617976, -0.09389647633980201, 0.4221686898498746],), Reward: -13.4513753051\n",
      "Action: 25, State: ([-2.097317395034633, 1.651581246074847, -2.083482797286054, 0.7112270759493113, -0.8242469574026315, -0.33211779887199133, -0.1387795137844647, 0.2557184674291699, -0.027686608230268583, -0.21041570834617976, -0.09389647633980201, 0.4221686898498746],), Reward: -13.4517364886\n",
      "Action: 25, State: ([-2.0978017696309594, 1.6511045431599385, -2.0847806093639623, 0.689827247530302, -0.8012715185159521, -0.5034977004726866, -0.13832462840563797, 0.2557936506089495, -0.027522868595262706, -0.21041570834617976, -0.09389647633980201, 0.4221686898498746],), Reward: -13.4513884768\n",
      "Action: 25, State: ([-2.097444068099499, 1.6513876134597716, -2.084085900917052, 0.7198610054128962, -0.8298326052135006, -0.3943166502512766, -0.13848187379063395, 0.2555171904632668, -0.027361848832693714, -0.21041570834617976, -0.09389647633980201, 0.4221686898498746],), Reward: -13.4513884768\n",
      "Action: 25, State: ([-2.0971253666932963, 1.6511614957419605, -2.0840110976573483, 0.7250673458828053, -0.8391546034187082, -0.3896392270186404, -0.13861202096985334, 0.25576685509205926, -0.027324645576741913, -0.21041570834617976, -0.09389647633980201, 0.4221686898498746],), Reward: -13.4516652712\n",
      "Action: 25, State: ([-2.0972329809027555, 1.6516787673405817, -2.0849343006025425, 0.736421927360627, -0.7944784503465396, -0.5147079131428335, -0.13880079404352608, 0.2557649016952309, -0.027692450284561188, -0.21041570834617976, -0.09389647633980201, 0.4221686898498746],), Reward: -13.4517877749\n",
      "Action: 25, State: ([-2.0974203894422496, 1.6512135763324949, -2.0847404788829396, 0.7323610890232356, -0.7993821795638605, -0.5030934245957241, -0.13848250693860656, 0.25554379330857663, -0.027696645773573614, -0.21041570834617976, -0.09389647633980201, 0.4221686898498746],), Reward: -13.4514436321\n",
      "Action: 25, State: ([-2.096882209617797, 1.6512012994649785, -2.08436785945642, 0.7601469350364274, -0.831584582868712, -0.3970270477287775, -0.13848250693860656, 0.25554379330857663, -0.027696645773573614, -0.21041570834617976, -0.09389647633980201, 0.4221686898498746],), Reward: -13.4514436321\n",
      "Action: 25, State: ([-2.097289871478969, 1.6511954994364055, -2.0836994308453587, 0.7142965772460143, -0.8484841353983008, -0.3914344379834174, -0.13879716208042958, 0.2557343390176226, -0.0276506683578418, -0.21041570834617976, -0.09389647633980201, 0.4221686898498746],), Reward: -13.4517553537\n",
      "Action: 25, State: ([-2.097435279868237, 1.6515833960723336, -2.08352055598027, 0.7094770592176585, -0.8279414536684087, -0.32903641573500303, -0.1387734472995768, 0.25587181463215863, -0.02725900383063784, -0.21041570834617976, -0.09389647633980201, 0.4221686898498746],), Reward: -13.4518276115\n",
      "Action: 25, State: ([-2.0976664934175115, 1.6511045352168026, -2.0848223388452363, 0.702911316483932, -0.7987707833654253, -0.5031217368470051, -0.138446045634528, 0.25555181724466414, -0.027394512208241573, -0.21041570834617976, -0.09389647633980201, 0.4221686898498746],), Reward: -13.4514048567\n",
      "Action: 25, State: ([-2.097102599171219, 1.6513555935768283, -2.0841978029154227, 0.7497602038605771, -0.8216678057962621, -0.3888175065852488, -0.138446045634528, 0.25555181724466414, -0.027394512208241573, -0.21041570834617976, -0.09389647633980201, 0.4221686898498746],), Reward: -13.4514048567\n",
      "Action: 25, State: ([-2.0974336802594973, 1.6511991903943484, -2.0838980483955236, 0.6998982803337367, -0.8388950355569202, -0.37840253701821697, -0.13858790719985015, 0.25573218981814205, -0.02768584902372978, -0.21041570834617976, -0.09389647633980201, 0.4221686898498746],), Reward: -13.4516574926\n",
      "Action: 25, State: ([-2.097359884039486, 1.651754276296308, -2.0832830709760017, 0.7175674095435867, -0.827916387063489, -0.32896564643847326, -0.13877061772033447, 0.25576284909206215, -0.02775330375696977, -0.21041570834617976, -0.09389647633980201, 0.4221686898498746],), Reward: -13.4517774229\n",
      "Action: 25, State: ([-2.0974843874838083, 1.6511101663181718, -2.084947495024207, 0.7203769414970298, -0.7963777545440435, -0.5071722776529326, -0.13836788753720008, 0.2556037520706463, -0.027416020399600116, -0.21041570834617976, -0.09389647633980201, 0.4221686898498746],), Reward: -13.4514152877\n",
      "Action: 25, State: ([-2.0974675597886847, 1.651284207763342, -2.0837648063996737, 0.7086859676955483, -0.844507310796934, -0.3794929262753113, -0.13836788753720008, 0.2556037520706463, -0.027416020399600116, -0.21041570834617976, -0.09389647633980201, 0.4221686898498746],), Reward: -13.4514152877\n",
      "Action: 25, State: ([-2.0972246071013885, 1.6512067106213442, -2.0836469693334942, 0.7295049456817557, -0.8434737517034194, -0.3879333144363448, -0.13874649517938922, 0.2557504875284989, -0.027355078748956874, -0.21041570834617976, -0.09389647633980201, 0.4221686898498746],), Reward: -13.451717611\n",
      "Action: 25, State: ([-2.097570761461254, 1.651698872740094, -2.0848265447161616, 0.7000139382571265, -0.7932669174652571, -0.5112583571559164, -0.13832345200111212, 0.25576602149206085, -0.027212290275467288, -0.21041570834617976, -0.09389647633980201, 0.4221686898498746],), Reward: -13.4515172682\n",
      "Action: 25, State: ([-2.09730306645708, 1.6513965126400691, -2.084510071433244, 0.7299924065248539, -0.8012602462183079, -0.43877449620221287, -0.13842001860758485, 0.25550819823056903, -0.027753099030507877, -0.21041570834617976, -0.09389647633980201, 0.4221686898498746],), Reward: -13.4513882039\n",
      "Action: 25, State: ([-2.0970690694572944, 1.651168909669539, -2.084012253685838, 0.7359494366114565, -0.8452075259545786, -0.3846153481253663, -0.13853272909760525, 0.25571105503759306, -0.027394166204433246, -0.21041570834617976, -0.09389647633980201, 0.4221686898498746],), Reward: -13.4515853272\n",
      "Action: 25, State: ([-2.0975098637850067, 1.6516354838186702, -2.083350658615492, 0.69832976461466, -0.8288739231889999, -0.3297942909914984, -0.13883452740467858, 0.2557965679858652, -0.027695121564057068, -0.21041570834617976, -0.09389647633980201, 0.4221686898498746],), Reward: -13.4518317528\n",
      "Action: 25, State: ([-2.0973804299902365, 1.6511193718596893, -2.084847236277156, 0.7324289705721279, -0.7997443844200874, -0.5085563770161949, -0.13883452740467858, 0.2557965679858652, -0.027695121564057068, -0.21041570834617976, -0.09389647633980201, 0.4221686898498746],), Reward: -13.4518317528\n",
      "Action: 25, State: ([-2.0971030408314455, 1.651193808012148, -2.084286419898227, 0.735655109995039, -0.831182881477266, -0.39569920124099917, -0.13845410195508365, 0.25552035114141947, -0.02773178172340307, -0.21041570834617976, -0.09389647633980201, 0.4221686898498746],), Reward: -13.4514129779\n",
      "Action: 25, State: ([-2.0971715937289863, 1.651321192952345, -2.0836844046879026, 0.7346559474038429, -0.8440859833573785, -0.38270945189991157, -0.1387846513749866, 0.2557384139882531, -0.027682328412170998, -0.21041570834617976, -0.09389647633980201, 0.4221686898498746],), Reward: -13.4517559753\n"
     ]
    },
    {
     "name": "stdout",
     "output_type": "stream",
     "text": [
      "Action: 25, State: ([-2.0974305145572973, 1.651631196048375, -2.083394247035529, 0.7172790246389871, -0.8220097093357044, -0.3284875834914081, -0.13888040462216977, 0.2556889163260735, -0.02768859474388391, -0.21041570834617976, -0.09389647633980201, 0.4221686898498746],), Reward: -13.4517587463\n",
      "Action: 25, State: ([-2.097346284996288, 1.6511736524494198, -2.0848130546799233, 0.7385889478743305, -0.7910868903103269, -0.5043665630381257, -0.1388806606903196, 0.2557688551837207, -0.027552069746169805, -0.21041570834617976, -0.09389647633980201, 0.4221686898498746],), Reward: -13.4518159017\n",
      "Action: 25, State: ([-2.0973384021694814, 1.651208797003715, -2.084437063585585, 0.7194197460735355, -0.8245248487565331, -0.3932080371054864, -0.13842318820734997, 0.25569083789584957, -0.027363105921265674, -0.21041570834617976, -0.09389647633980201, 0.4221686898498746],), Reward: -13.4515127814\n",
      "Action: 25, State: ([-2.0970753609993356, 1.6513103209521933, -2.083551110816394, 0.7399252496712522, -0.8444262574075507, -0.38263620141682647, -0.13842318820734997, 0.25569083789584957, -0.027363105921265674, -0.21041570834617976, -0.09389647633980201, 0.4221686898498746],), Reward: -13.4515127814\n",
      "Action: 25, State: ([-2.0972681700191718, 1.6517099749734605, -2.084900533923034, 0.7235748471195762, -0.7924303750392805, -0.514004958912289, -0.13881502242265661, 0.25577679425239386, -0.027696145908327863, -0.21041570834617976, -0.09389647633980201, 0.4221686898498746],), Reward: -13.4518052867\n",
      "Action: 25, State: ([-2.0970468512077662, 1.6511876517851292, -2.0847588357633047, 0.7217241097731278, -0.8127839723551761, -0.4457501918816253, -0.1384101807741539, 0.2556592186916184, -0.027745281609529382, -0.21041570834617976, -0.09389647633980201, 0.4221686898498746],), Reward: -13.4515149929\n",
      "Action: 25, State: ([-2.097038090212667, 1.6513434930809314, -2.084145992800174, 0.745980501009731, -0.835228831169863, -0.3929742379840454, -0.1384101807741539, 0.2556592186916184, -0.027745281609529382, -0.21041570834617976, -0.09389647633980201, 0.4221686898498746],), Reward: -13.4515149929\n",
      "Action: 25, State: ([-2.09704698313661, 1.651221650365657, -2.0835700142084637, 0.7516471917860723, -0.8461377964251557, -0.3900312932605916, -0.13859753003727715, 0.2557509729976315, -0.0277033182040774, -0.21041570834617976, -0.09389647633980201, 0.4221686898498746],), Reward: -13.4516801524\n",
      "Action: 25, State: ([-2.0971042276423333, 1.6516617960205515, -2.0848712550001105, 0.7479621884248848, -0.8001457900135485, -0.5227997877137995, -0.1389066771360313, 0.2558209054020656, -0.02719378017215074, -0.21041570834617976, -0.09389647633980201, 0.4221686898498746],), Reward: -13.4518402565\n",
      "Action: 25, State: ([-2.0970345622997906, 1.6512146376599048, -2.0846652801032857, 0.7464087421397834, -0.8172524101073715, -0.4529160510092404, -0.1384368891204754, 0.2556765744511537, -0.027742122010365966, -0.21041570834617976, -0.09389647633980201, 0.4221686898498746],), Reward: -13.4515425448\n",
      "Action: 25, State: ([-2.09730008261634, 1.6511978654380668, -2.0837830137980173, 0.7071998836510268, -0.8438773090370734, -0.38307162202616135, -0.1384368891204754, 0.2556765744511537, -0.027742122010365966, -0.21041570834617976, -0.09389647633980201, 0.4221686898498746],), Reward: -13.4515425448\n",
      "Action: 25, State: ([-2.0972776556226336, 1.65174128270242, -2.0832871108467597, 0.7205310907473227, -0.8258007859184844, -0.32967409052150504, -0.1388699094348592, 0.25586220969607854, -0.027531062746530388, -0.21041570834617976, -0.09389647633980201, 0.4221686898498746],), Reward: -13.4518904958\n",
      "Action: 25, State: ([-2.097459107795892, 1.6511047653400528, -2.08492863089875, 0.7222472473326742, -0.7950404563771873, -0.5083047789865143, -0.1388699094348592, 0.25586220969607854, -0.027531062746530388, -0.21041570834617976, -0.09389647633980201, 0.4221686898498746],), Reward: -13.4518904958\n",
      "Action: 25, State: ([-2.0971688175798686, 1.6512117326635796, -2.0842679393636, 0.7356882094438819, -0.8296763229971987, -0.387720185051613, -0.13844306202330223, 0.2554836842919793, -0.02772815408843976, -0.21041570834617976, -0.09389647633980201, 0.4221686898498746],), Reward: -13.4513753051\n",
      "Action: 25, State: ([-2.0971961091881965, 1.6512871805157197, -2.083726385565658, 0.7304350941450921, -0.843118114933253, -0.37968757635088557, -0.13877951377252684, 0.2557184674243389, -0.027686608229543053, -0.21041570834617976, -0.09389647633980201, 0.4221686898498746],), Reward: -13.4517364886\n",
      "Action: 25, State: ([-2.0973173950336665, 1.6515812460746524, -2.0834827973233523, 0.7112270763275818, -0.8242469575816791, -0.3321177992208975, -0.13877951377252684, 0.2557184674243389, -0.027686608229543053, -0.21041570834617976, -0.09389647633980201, 0.4221686898498746],), Reward: -13.4517364886\n",
      "Action: 25, State: ([-2.097801769630479, 1.6511045431605584, -2.084780609397219, 0.6898272473079268, -0.8012715186916177, -0.5034977012672116, -0.1384818737787506, 0.2555171904613406, -0.02736184883226639, -0.21041570834617976, -0.09389647633980201, 0.4221686898498746],), Reward: -13.4513884768\n",
      "Action: 25, State: ([-2.097444068093772, 1.6513876134598826, -2.0840859009476382, 0.7198610056432727, -0.8298326053388629, -0.3943166509060346, -0.13861202095807143, 0.25576685509179176, -0.027324645577365136, -0.21041570834617976, -0.09389647633980201, 0.4221686898498746],), Reward: -13.4516652712\n",
      "Action: 25, State: ([-2.0976071435685224, 1.6516367116881767, -2.0834466399870326, 0.6943201716800249, -0.8263045173966223, -0.3285884525865733, -0.13861202095807143, 0.25576685509179176, -0.027324645577365136, -0.21041570834617976, -0.09389647633980201, 0.4221686898498746],), Reward: -13.4516652712\n",
      "Action: 25, State: ([-2.0972329809004933, 1.651678767340477, -2.0849343006338863, 0.7364219272439362, -0.7944784505291778, -0.5147079138682134, -0.138820663788696, 0.2558391540077276, -0.02721588340684239, -0.21041570834617976, -0.09389647633980201, 0.4221686898498746],), Reward: -13.4518174272\n",
      "Action: 25, State: ([-2.0974857749240003, 1.651233750580408, -2.084644648057761, 0.6982861608153103, -0.8090890332091065, -0.4403556637308204, -0.1384508245804996, 0.2556661480806677, -0.027368413753547816, -0.21041570834617976, -0.09389647633980201, 0.4221686898498746],), Reward: -13.4515047635\n",
      "Action: 25, State: ([-2.097248456484765, 1.6513789732798934, -2.0836582078518866, 0.7273392901426725, -0.8418523168956555, -0.3831532789833261, -0.13851775816320294, 0.25573892802258086, -0.0277767516832943, -0.21041570834617976, -0.09389647633980201, 0.4221686898498746],), Reward: -13.4516387529\n",
      "Action: 25, State: ([-2.097289871479858, 1.6511954994360014, -2.083699430876802, 0.7142965773030427, -0.8484841354877362, -0.3914344383968494, -0.13875174600324253, 0.2557864371465272, -0.02740484746068006, -0.21041570834617976, -0.09389647633980201, 0.4221686898498746],), Reward: -13.4517562267\n",
      "Action: 25, State: ([-2.0972869681957924, 1.6517591853560898, -2.084783128326273, 0.7330390549159398, -0.7926108395318683, -0.5073361772506365, -0.13875174600324253, 0.2557864371465272, -0.02740484746068006, -0.21041570834617976, -0.09389647633980201, 0.4221686898498746],), Reward: -13.4517562267\n",
      "Action: 25, State: ([-2.097247452346755, 1.6512377028095644, -2.084700913380914, 0.7261611679639449, -0.8000713914802005, -0.4415321038950422, -0.13834317213706346, 0.2557611119213944, -0.027514840731954593, -0.21041570834617976, -0.09389647633980201, 0.4221686898498746],), Reward: -13.4515506554\n",
      "Action: 25, State: ([-2.097433680258704, 1.6511991903941272, -2.0838980484204326, 0.6998982803410252, -0.8388950356974021, -0.3784025375637762, -0.13858790719169808, 0.25573218981639295, -0.027685849023707465, -0.21041570834617976, -0.09389647633980201, 0.4221686898498746],), Reward: -13.4516574926\n",
      "Action: 25, State: ([-2.097359884037294, 1.6517542762965105, -2.083283071002052, 0.7175674095932991, -0.8279163871927488, -0.3289656467549935, -0.13870737434762603, 0.2557276839267545, -0.027382476708481984, -0.21041570834617976, -0.09389647633980201, 0.4221686898498746],), Reward: -13.4517774229\n",
      "Action: 25, State: ([-2.097395390474502, 1.6517073492606356, -2.084903976220205, 0.7153711149145606, -0.7939368773548745, -0.5170883572651099, -0.13826240505602008, 0.255820591263366, -0.027230737797375337, -0.21041570834617976, -0.09389647633980201, 0.4221686898498746],), Reward: -13.4515378752\n"
     ]
    },
    {
     "name": "stdout",
     "output_type": "stream",
     "text": [
      "Action: 25, State: ([-2.097339420822694, 1.6512077240477971, -2.0847578381770617, 0.7063604789760526, -0.8033919086525831, -0.43976417306665383, -0.13826240505602008, 0.255820591263366, -0.027230737797375337, -0.21041570834617976, -0.09389647633980201, 0.4221686898498746],), Reward: -13.4515378752\n",
      "Action: 25, State: ([-2.0971344452489866, 1.6512339076398375, -2.084329648708332, 0.7354950807600293, -0.8291133688666897, -0.3912648012487237, -0.13838933408692478, 0.2556968329904336, -0.027397437819726644, -0.21041570834617976, -0.09389647633980201, 0.4221686898498746],), Reward: -13.4515052046\n",
      "Action: 25, State: ([-2.0972246071017864, 1.6512067106207713, -2.0836469693560478, 0.729504945632454, -0.8434737518021389, -0.3879333148526536, -0.13874649517209586, 0.25575048752708057, -0.027355078749053685, -0.21041570834617976, -0.09389647633980201, 0.4221686898498746],), Reward: -13.451717611\n",
      "Action: 25, State: ([-2.0975707614614763, 1.6516988727396633, -2.084826544730859, 0.7000139383295607, -0.7932669176199154, -0.5112583572754765, -0.13832345199610185, 0.2557660214907728, -0.027212290275636652, -0.21041570834617976, -0.09389647633980201, 0.4221686898498746],), Reward: -13.4515172682\n",
      "Action: 25, State: ([-2.0973030664580987, 1.6513965126404306, -2.084510071446301, 0.7299924065473025, -0.8012602463328193, -0.4387744966201659, -0.13832345199610185, 0.2557660214907728, -0.027212290275636652, -0.21041570834617976, -0.09389647633980201, 0.4221686898498746],), Reward: -13.4515172682\n",
      "Action: 25, State: ([-2.09706906945884, 1.6511689096690958, -2.0840122537039445, 0.7359494366115511, -0.8452075259731789, -0.38461534854028134, -0.1386774284907038, 0.25570177960356627, -0.027743970738197177, -0.21041570834617976, -0.09389647633980201, 0.4221686898498746],), Reward: -13.4516788653\n",
      "Action: 25, State: ([-2.0975098637858194, 1.6516354838190832, -2.0833506586289294, 0.6983297645948636, -0.8288739233877844, -0.3297942915360162, -0.1386774284907038, 0.25570177960356627, -0.027743970738197177, -0.21041570834617976, -0.09389647633980201, 0.4221686898498746],), Reward: -13.4516788653\n",
      "Action: 25, State: ([-2.097380429990314, 1.651119371860056, -2.084847236296538, 0.7324289704844084, -0.7997443844756761, -0.5085563775662845, -0.1388371830862498, 0.25587632206469374, -0.027231115987252086, -0.21041570834617976, -0.09389647633980201, 0.4221686898498746],), Reward: -13.4518592166\n",
      "Action: 25, State: ([-2.097103040830806, 1.651193808012045, -2.084286419917478, 0.7356551099859481, -0.8311828815681784, -0.3956992014995971, -0.13845410194827262, 0.2555203511400935, -0.027731781723318916, -0.21041570834617976, -0.09389647633980201, 0.4221686898498746],), Reward: -13.4514129779\n",
      "Action: 25, State: ([-2.0972989707344416, 1.6512570487692981, -2.0835103050181925, 0.7197512035514896, -0.842962013669005, -0.3868058812033325, -0.13878465136791826, 0.25573841398741326, -0.027682328412309, -0.21041570834617976, -0.09389647633980201, 0.4221686898498746],), Reward: -13.4517559753\n",
      "Action: 25, State: ([-2.0974105840699195, 1.6517555005024152, -2.0847565511075574, 0.7273920749026013, -0.789690117110275, -0.5103624286738717, -0.13837612778403272, 0.2557211144804244, -0.02750155060240611, -0.21041570834617976, -0.09389647633980201, 0.4221686898498746],), Reward: -13.4515299929\n",
      "Action: 25, State: ([-2.097439866747079, 1.6512779727980949, -2.0846797588371686, 0.7052639895063988, -0.8004227141841305, -0.4376599337107296, -0.13837612778403272, 0.2557211144804244, -0.02750155060240611, -0.21041570834617976, -0.09389647633980201, 0.4221686898498746],), Reward: -13.4515299929\n",
      "Action: 25, State: ([-2.097126499051819, 1.651220517507138, -2.083963763862858, 0.7351741183851017, -0.8405892278930955, -0.3780446079756467, -0.13869546676945899, 0.255703330204845, -0.02771777269051834, -0.21041570834617976, -0.09389647633980201, 0.4221686898498746],), Reward: -13.4516862972\n",
      "Action: 25, State: ([-2.0973937681635597, 1.6516322332976205, -2.0834372395844483, 0.7065747314389789, -0.8251011901606644, -0.32689528034668214, -0.13869546676945899, 0.255703330204845, -0.02771777269051834, -0.21041570834617976, -0.09389647633980201, 0.4221686898498746],), Reward: -13.4516862972\n",
      "Action: 25, State: ([-2.0975580672272436, 1.6512039868570731, -2.0847986959003446, 0.7205521191138007, -0.7952473664610231, -0.5024818463464434, -0.13878594143868475, 0.25590736061663844, -0.027245941921555883, -0.21041570834617976, -0.09389647633980201, 0.4221686898498746],), Reward: -13.451863435\n",
      "Action: 25, State: ([-2.097038090212534, 1.6513434930810416, -2.084145992815662, 0.7459805010509615, -0.8352288312428525, -0.39297423827338973, -0.13841741187118506, 0.2556188643208616, -0.0273773296285591, -0.21041570834617976, -0.09389647633980201, 0.4221686898498746],), Reward: -13.4514483631\n",
      "Action: 25, State: ([-2.0970469831373126, 1.6512216503656214, -2.083570014222113, 0.7516471917147729, -0.8461377965369785, -0.3900312935245114, -0.13876373498430844, 0.25572119231538143, -0.02736991358812413, -0.21041570834617976, -0.09389647633980201, 0.4221686898498746],), Reward: -13.4517015493\n",
      "Action: 25, State: ([-2.0971042276412595, 1.6516617960205346, -2.0848712550143063, 0.7479621884487517, -0.8001457900825973, -0.5227997880226455, -0.13829989106070348, 0.25577683578137494, -0.027587618471682507, -0.21041570834617976, -0.09389647633980201, 0.4221686898498746],), Reward: -13.4515507926\n",
      "Action: 25, State: ([-2.097034562299525, 1.6512146376598213, -2.0846652801181182, 0.7464087421012775, -0.8172524101377105, -0.45291605133232127, -0.13855949660578082, 0.25550486641078424, -0.027285962500841532, -0.21041570834617976, -0.09389647633980201, 0.4221686898498746],), Reward: -13.4514074197\n",
      "Action: 25, State: ([-2.0970936495107138, 1.6513919747950148, -2.0840085973483795, 0.7515251589974394, -0.8357104312871172, -0.39628769215885695, -0.13864526705678026, 0.25576137593273585, -0.027671625730066263, -0.21041570834617976, -0.09389647633980201, 0.4221686898498746],), Reward: -13.4517088994\n",
      "Action: 25, State: ([-2.09699438185924, 1.6512240013089503, -2.0836025514598004, 0.7429424243352556, -0.842405454413001, -0.39075498188581104, -0.13864526705678026, 0.25576137593273585, -0.027671625730066263, -0.21041570834617976, -0.09389647633980201, 0.4221686898498746],), Reward: -13.4517088994\n",
      "Action: 25, State: ([-2.097367910505712, 1.6517529163385625, -2.0848374761573947, 0.7176171182033737, -0.789231959162779, -0.5140023831114129, -0.13879783813160154, 0.25577168438293907, -0.027737423613881595, -0.21041570834617976, -0.09389647633980201, 0.4221686898498746],), Reward: -13.4517965699\n",
      "Action: 25, State: ([-2.097459107794819, 1.6511047653398405, -2.0849286309124055, 0.7222472473499647, -0.7950404564011991, -0.5083047792782043, -0.13834006680568287, 0.25572904077904896, -0.02750625310539262, -0.21041570834617976, -0.09389647633980201, 0.4221686898498746],), Reward: -13.4515202925\n",
      "Action: 25, State: ([-2.097168817581048, 1.6512117326634055, -2.084267939375531, 0.7356882093017432, -0.8296763230622481, -0.3877201851665736, -0.1385986385623493, 0.2556646377973001, -0.027716121307685804, -0.21041570834617976, -0.09389647633980201, 0.4221686898498746],), Reward: -13.4516063319\n",
      "Action: 25, State: ([-2.0972705198258215, 1.651257971252087, -2.0835234132787237, 0.7228282234741105, -0.842378767497978, -0.38526220712725123, -0.1385986385623493, 0.2556646377973001, -0.027716121307685804, -0.21041570834617976, -0.09389647633980201, 0.4221686898498746],), Reward: -13.4516063319\n",
      "Action: 25, State: ([-2.0971982126310493, 1.6517725634935543, -2.0847835695568406, 0.7410053733449995, -0.7909732816598674, -0.5125772174994299, -0.13832462839066495, 0.2557936506071506, -0.027522868595918903, -0.21041570834617976, -0.09389647633980201, 0.4221686898498746],), Reward: -13.451571123\n",
      "Action: 25, State: ([-2.0970150692013867, 1.6511858537200803, -2.0847502377426554, 0.7434222577343436, -0.8057191080390023, -0.45014070424963387, -0.13832462839066495, 0.2557936506071506, -0.027522868595918903, -0.21041570834617976, -0.09389647633980201, 0.4221686898498746],), Reward: -13.451571123\n",
      "Action: 25, State: ([-2.0974440680919617, 1.6513876134599181, -2.0840859009573176, 0.7198610057160149, -0.8298326053785223, -0.39431665111321734, -0.1384088359360371, 0.2556675434626286, -0.02775491214645809, -0.21041570834617976, -0.09389647633980201, 0.4221686898498746],), Reward: -13.4515225583\n"
     ]
    },
    {
     "name": "stdout",
     "output_type": "stream",
     "text": [
      "Action: 25, State: ([-2.0971058418950994, 1.651321709991394, -2.0836047645892926, 0.7401849894993988, -0.8414132604936686, -0.38723929371465704, -0.13880079403163698, 0.25576490169333876, -0.027692450283957226, -0.21041570834617976, -0.09389647633980201, 0.4221686898498746],), Reward: -13.4517877749\n",
      "Action: 25, State: ([-2.0972329808997774, 1.6516787673404432, -2.0849343006438037, 0.7364219272068718, -0.7944784505869553, -0.5147079140977309, -0.13880079403163698, 0.25576490169333876, -0.027692450283957226, -0.21041570834617976, -0.09389647633980201, 0.4221686898498746],), Reward: -13.4517877749\n",
      "Action: 25, State: ([-2.0974203894407264, 1.6512135763331885, -2.084740478926266, 0.7323610888104963, -0.7993821798330808, -0.5030934257030089, -0.13848250692309677, 0.2555437933061152, -0.027696645773672757, -0.21041570834617976, -0.09389647633980201, 0.4221686898498746],), Reward: -13.4514436321\n",
      "Action: 25, State: ([-2.096882209621537, 1.6512012994646375, -2.084367859497976, 0.7601469347024787, -0.8315845830054568, -0.39702704819413825, -0.13845082457685012, 0.2556661480796937, -0.02736841375362331, -0.21041570834617976, -0.09389647633980201, 0.4221686898498746],), Reward: -13.4515047635\n",
      "Action: 25, State: ([-2.0972898714801396, 1.6511954994358726, -2.083699430886753, 0.714296577321137, -0.848484135516058, -0.39143443852763904, -0.13879716206651269, 0.2557343390139415, -0.027650668357810493, -0.21041570834617976, -0.09389647633980201, 0.4221686898498746],), Reward: -13.4517553537\n",
      "Action: 25, State: ([-2.0972869681962027, 1.65175918535604, -2.0847831283344522, 0.7330390548988108, -0.7926108395860795, -0.50733617736146, -0.13834317213429323, 0.2557611119206466, -0.02751484073194077, -0.21041570834617976, -0.09389647633980201, 0.4221686898498746],), Reward: -13.4515506554\n",
      "Action: 25, State: ([-2.0972474523468883, 1.6512377028095377, -2.0847009133883585, 0.7261611679642395, -0.8000713915015139, -0.4415321040095751, -0.13834317213429323, 0.2557611119206466, -0.02751484073194077, -0.21041570834617976, -0.09389647633980201, 0.4221686898498746],), Reward: -13.4515506554\n",
      "Action: 25, State: ([-2.097433680258453, 1.651199190394057, -2.083898048428315, 0.6998982803433145, -0.8388950357418656, -0.37840253773641686, -0.13870737434483923, 0.2557276839262441, -0.027382476708550096, -0.21041570834617976, -0.09389647633980201, 0.4221686898498746],), Reward: -13.4516816491\n",
      "Action: 25, State: ([-2.0973598840366012, 1.6517542762965745, -2.083283071010297, 0.7175674096089932, -0.8279163872336197, -0.3289656468551201, -0.1388841176260981, 0.2558397568418227, -0.027516234125331218, -0.21041570834617976, -0.09389647633980201, 0.4221686898498746],), Reward: -13.4518762024\n",
      "Action: 25, State: ([-2.097484387485318, 1.651110166317876, -2.084947495053953, 0.7203769412376688, -0.796377754614962, -0.5071722783115955, -0.1388841176260981, 0.2558397568418227, -0.027516234125331218, -0.21041570834617976, -0.09389647633980201, 0.4221686898498746],), Reward: -13.4518762024\n",
      "Action: 25, State: ([-2.0973394208226477, 1.6512077240477891, -2.0847578381825524, 0.706360478971891, -0.8033919086720963, -0.439764173198801, -0.1383678875271597, 0.25560375206787317, -0.02741602039961827, -0.21041570834617976, -0.09389647633980201, 0.4221686898498746],), Reward: -13.4514152877\n",
      "Action: 25, State: ([-2.0974675597882495, 1.651284207763216, -2.0837648064269896, 0.7086859676796458, -0.8445073109307389, -0.37949292694103276, -0.13856813988053837, 0.2556760342954904, -0.027718545490065305, -0.21041570834617976, -0.09389647633980201, 0.4221686898498746],), Reward: -13.4516020679\n",
      "Action: 25, State: ([-2.0972365270287803, 1.6517256076049485, -2.083342207554886, 0.7405785442057817, -0.8207822915854318, -0.32711716918446576, -0.1388274195527352, 0.25568838874127975, -0.027713158145632633, -0.21041570834617976, -0.09389647633980201, 0.4221686898498746],), Reward: -13.4517354406\n",
      "Action: 25, State: ([-2.097348597139871, 1.6510743752259573, -2.0849522116117516, 0.7374712942523033, -0.7990557887923396, -0.5121304225056095, -0.1388274195527352, 0.25568838874127975, -0.027713158145632633, -0.21041570834617976, -0.09389647633980201, 0.4221686898498746],), Reward: -13.4517354406\n",
      "Action: 25, State: ([-2.0973759387643174, 1.651200554203112, -2.084369784446894, 0.7102705636156982, -0.8332716452289264, -0.39563298438664085, -0.13842001859975156, 0.25550819822822873, -0.027753099030402628, -0.21041570834617976, -0.09389647633980201, 0.4221686898498746],), Reward: -13.4513882039\n",
      "Action: 25, State: ([-2.0970511449338325, 1.6513366905792264, -2.083472553219403, 0.748738129718316, -0.8485147519049219, -0.3868632440045042, -0.1386774284888185, 0.25570177960294654, -0.027743970738194124, -0.21041570834617976, -0.09389647633980201, 0.4221686898498746],), Reward: -13.4516788653\n",
      "Action: 25, State: ([-2.0973640659190558, 1.6517069992031654, -2.0848347785644252, 0.7247062170783969, -0.7937503649886091, -0.5161094727647286, -0.13883452739929608, 0.25579656798436384, -0.027695121563615477, -0.21041570834617976, -0.09389647633980201, 0.4221686898498746],), Reward: -13.4518317528\n",
      "Action: 25, State: ([-2.0973804299903396, 1.6511193718601715, -2.0848472363026733, 0.7324289704566677, -0.7997443844932878, -0.5085563777403732, -0.1383482704541434, 0.25571637731740976, -0.027521618559863903, -0.21041570834617976, -0.09389647633980201, 0.4221686898498746],), Reward: -13.4515145377\n",
      "Action: 25, State: ([-2.0971030408306053, 1.6511938080120112, -2.084286419923572, 0.7356551099830385, -0.8311828815969416, -0.3956992015814281, -0.13845319996749483, 0.2557024482265674, -0.027381053024097934, -0.21041570834617976, -0.09389647633980201, 0.4221686898498746],), Reward: -13.4515388545\n",
      "Action: 25, State: ([-2.0972989707339753, 1.651257048769283, -2.0835103050243555, 0.7197512035537784, -0.8429620137170503, -0.38680588132576355, -0.13878465136568124, 0.25573841398714675, -0.027682328412352575, -0.21041570834617976, -0.09389647633980201, 0.4221686898498746],), Reward: -13.4517559752\n",
      "Action: 25, State: ([-2.097410584069623, 1.651755500502376, -2.084756551112929, 0.727392074893267, -0.7896901171463109, -0.510362428749957, -0.13878465136568124, 0.25573841398714675, -0.027682328412352575, -0.21041570834617976, -0.09389647633980201, 0.4221686898498746],), Reward: -13.4517559752\n",
      "Action: 25, State: ([-2.097346284995477, 1.6511736524493257, -2.0848130547032326, 0.7385889478639497, -0.7910868904328112, -0.504366563383573, -0.13837612778210368, 0.25572111448012835, -0.027501550602439917, -0.21041570834617976, -0.09389647633980201, 0.4221686898498746],), Reward: -13.4515299929\n",
      "Action: 25, State: ([-2.097338402168724, 1.651208797003342, -2.084437063603227, 0.719419746051718, -0.8245248488843807, -0.3932080373564316, -0.13842318820063154, 0.2556908378948691, -0.027363105921281827, -0.21041570834617976, -0.09389647633980201, 0.4221686898498746],), Reward: -13.4515127814\n",
      "Action: 25, State: ([-2.097075361000025, 1.6513103209524989, -2.083551110833211, 0.7399252495788395, -0.844426257565648, -0.38263620197614623, -0.13869546676786002, 0.25570333020448577, -0.027717772690518727, -0.21041570834617976, -0.09389647633980201, 0.4221686898498746],), Reward: -13.4516862972\n",
      "Action: 25, State: ([-2.0972681700204436, 1.651709974973362, -2.0849005339423137, 0.7235748469913885, -0.7924303751725841, -0.5140049593962376, -0.13869546676786002, 0.25570333020448577, -0.027717772690518727, -0.21041570834617976, -0.09389647633980201, 0.4221686898498746],), Reward: -13.4516862972\n",
      "Action: 25, State: ([-2.0970468512089386, 1.6511876517847623, -2.08475883578397, 0.7217241097449177, -0.8127839724024811, -0.4457501922852022, -0.1383066301934775, 0.2557446632874387, -0.02753074628952934, -0.21041570834617976, -0.09389647633980201, 0.4221686898498746],), Reward: -13.4515204438\n",
      "Action: 25, State: ([-2.097038090212491, 1.6513434930810762, -2.084145992820564, 0.7459805010639388, -0.835228831265934, -0.39297423836491746, -0.13859753003011535, 0.2557509729962253, -0.027703318204156113, -0.21041570834617976, -0.09389647633980201, 0.4221686898498746],), Reward: -13.4516801524\n",
      "Action: 25, State: ([-2.0970469831375382, 1.6512216503656099, -2.083570014226435, 0.7516471916920491, -0.8461377965723538, -0.39003129360803257, -0.13876373498259828, 0.25572119231501744, -0.027369913588114803, -0.21041570834617976, -0.09389647633980201, 0.4221686898498746],), Reward: -13.4517015493\n"
     ]
    },
    {
     "name": "stdout",
     "output_type": "stream",
     "text": [
      "Action: 25, State: ([-2.097104227640922, 1.6516617960205293, -2.0848712550187987, 0.7479621884563263, -0.8001457901044571, -0.5227997881203339, -0.1389066771296106, 0.255820905401154, -0.027193780172031945, -0.21041570834617976, -0.09389647633980201, 0.4221686898498746],), Reward: -13.4518402565\n",
      "Action: 25, State: ([-2.098009420856842, 1.6512302498759635, -2.084599410002877, 0.6869809316432531, -0.8076941100997118, -0.5073295467259031, -0.13855949660406072, 0.2555048664105334, -0.027285962500781358, -0.21041570834617976, -0.09389647633980201, 0.4221686898498746],), Reward: -13.4514074197\n",
      "Action: 25, State: ([-2.0970936495102066, 1.6513919747950352, -2.084008597353015, 0.7515251590125702, -0.8357104313060251, -0.3962876922355508, -0.13855949660406072, 0.2555048664105334, -0.027285962500781358, -0.21041570834617976, -0.09389647633980201, 0.4221686898498746],), Reward: -13.4514074197\n",
      "Action: 25, State: ([-2.097277655622671, 1.6517412827027487, -2.08328711086245, 0.7205310906542555, -0.8258007860732046, -0.3296740907949434, -0.1386452670550594, 0.2557613759325805, -0.027671625730111282, -0.21041570834617976, -0.09389647633980201, 0.4221686898498746],), Reward: -13.4517088994\n",
      "Action: 25, State: ([-2.097459107794477, 1.651104765339773, -2.0849286309167265, 0.7222472473554672, -0.795040456408823, -0.5083047793704426, -0.13886990942930466, 0.2558622096950741, -0.027531062746348978, -0.21041570834617976, -0.09389647633980201, 0.4221686898498746],), Reward: -13.4518904958\n",
      "Action: 25, State: ([-2.097168817581421, 1.6512117326633513, -2.0842679393793073, 0.7356882092567438, -0.8296763230828786, -0.38772018520295237, -0.13841885984263552, 0.2556996145995121, -0.027382617627950634, -0.21041570834617976, -0.09389647633980201, 0.4221686898498746],), Reward: -13.451520243\n",
      "Action: 25, State: ([-2.0971961091909055, 1.6512871805157836, -2.08372638558132, 0.730435094019293, -0.843118115046296, -0.3796875766092327, -0.13841885984263552, 0.2556996145995121, -0.027382617627950634, -0.21041570834617976, -0.09389647633980201, 0.4221686898498746],), Reward: -13.451520243\n",
      "Action: 25, State: ([-2.097317395033265, 1.6515812460745698, -2.0834827973388927, 0.7112270764849095, -0.824246957656257, -0.3321177993662419, -0.13883657326589074, 0.2557858360128643, -0.027578316817994886, -0.21041570834617976, -0.09389647633980201, 0.4221686898498746],), Reward: -13.4518122925\n",
      "Action: 25, State: ([-2.0971982126307367, 1.6517725634934992, -2.0847835695599573, 0.7410053733584102, -0.7909732816722383, -0.5125772175371296, -0.13883657326589074, 0.2557858360128643, -0.027578316817994886, -0.21041570834617976, -0.09389647633980201, 0.4221686898498746],), Reward: -13.4518122925\n",
      "Action: 25, State: ([-2.097015069201147, 1.651185853720044, -2.084750237745581, 0.7434222577387354, -0.8057191080427064, -0.4501407043105018, -0.13832462838952556, 0.2557936506070139, -0.027522868595968364, -0.21041570834617976, -0.09389647633980201, 0.4221686898498746],), Reward: -13.451571123\n",
      "Action: 25, State: ([-2.097125366689802, 1.651161495740232, -2.0840110977047246, 0.7250673456084018, -0.8391546034402755, -0.3896392278225837, -0.13861202095316272, 0.2557668550916786, -0.027324645577624096, -0.21041570834617976, -0.09389647633980201, 0.4221686898498746],), Reward: -13.4516652712\n",
      "Action: 25, State: ([-2.0976071435678323, 1.6516367116883943, -2.083446639998172, 0.6943201716593992, -0.8263045174955331, -0.3285884528767232, -0.13882066378463556, 0.25583915400722224, -0.027215883406858543, -0.21041570834617976, -0.09389647633980201, 0.4221686898498746],), Reward: -13.4518174272\n",
      "Action: 25, State: ([-2.097232980899552, 1.6516787673404325, -2.0849343006469416, 0.7364219271951851, -0.7944784506052874, -0.5147079141704378, -0.1382944493341723, 0.2557428915673597, -0.02754822300682358, -0.21041570834617976, -0.09389647633980201, 0.4221686898498746],), Reward: -13.451514772\n",
      "Action: 25, State: ([-2.0974857749244435, 1.6512337505800954, -2.0846446480719276, 0.6982861607053001, -0.8090890332484513, -0.4403556639579107, -0.13845082457569582, 0.2556661480793855, -0.027368413753646903, -0.21041570834617976, -0.09389647633980201, 0.4221686898498746],), Reward: -13.4515047635\n",
      "Action: 25, State: ([-2.097248456485369, 1.6513789732798356, -2.0836582078648638, 0.727339290159437, -0.841852316948504, -0.38315327921252373, -0.13845082457569582, 0.2556661480793855, -0.027368413753646903, -0.21041570834617976, -0.09389647633980201, 0.4221686898498746],), Reward: -13.4515047635\n",
      "Action: 25, State: ([-2.0972898714802284, 1.6511954994358327, -2.0836994308899026, 0.7142965773268277, -0.8484841355250017, -0.391434438569104, -0.13879716206545337, 0.25573433901366216, -0.02765066835780794, -0.21041570834617976, -0.09389647633980201, 0.4221686898498746],), Reward: -13.4517553537\n",
      "Action: 25, State: ([-2.0972869681963333, 1.6517591853560232, -2.0847831283370395, 0.7330390548933584, -0.7926108396032306, -0.5073361773965259, -0.13877344728527524, 0.255871814628688, -0.0272590038304954, -0.21041570834617976, -0.09389647633980201, 0.4221686898498746],), Reward: -13.4518276115\n",
      "Action: 25, State: ([-2.097247452346929, 1.6512377028095298, -2.0847009133907157, 0.7261611679643541, -0.8000713915082762, -0.4415321040458886, -0.13877344728527524, 0.255871814628688, -0.0272590038304954, -0.21041570834617976, -0.09389647633980201, 0.4221686898498746],), Reward: -13.4518276115\n",
      "Action: 25, State: ([-2.097433680258373, 1.651199190394034, -2.083898048430811, 0.6998982803441051, -0.8388950357559258, -0.3784025377910891, -0.1384581299007312, 0.25561431515002014, -0.027701451795020537, -0.21041570834617976, -0.09389647633980201, 0.4221686898498746],), Reward: -13.4514942544\n",
      "Action: 25, State: ([-2.097359884036379, 1.6517542762965949, -2.0832830710129073, 0.7175674096140117, -0.8279163872466127, -0.32896564688684704, -0.13877061770709934, 0.2557628490900621, -0.02775330375759516, -0.21041570834617976, -0.09389647633980201, 0.4221686898498746],), Reward: -13.4517774229\n",
      "Action: 25, State: ([-2.0974843874854363, 1.651110166317853, -2.084947495056218, 0.7203769412177039, -0.7963777546203563, -0.5071722783617176, -0.1382624050530267, 0.2558205912627944, -0.02723073779748214, -0.21041570834617976, -0.09389647633980201, 0.4221686898498746],), Reward: -13.4515378752\n",
      "Action: 25, State: ([-2.097134445248619, 1.6512339076397176, -2.0843296487159453, 0.7354950807758045, -0.8291133689059239, -0.391264801421659, -0.1383893340843879, 0.2556968329899294, -0.02739743781973608, -0.21041570834617976, -0.09389647633980201, 0.4221686898498746],), Reward: -13.4515052046\n",
      "Action: 25, State: ([-2.0972246071019516, 1.6512067106205333, -2.0836469693654447, 0.7295049456118894, -0.8434737518432296, -0.38793331502614825, -0.13874649516905724, 0.25575048752648943, -0.027355078749094097, -0.21041570834617976, -0.09389647633980201, 0.4221686898498746],), Reward: -13.451717611\n",
      "Action: 25, State: ([-2.0975707614615695, 1.651698872739484, -2.084826544736983, 0.7000139383597443, -0.7932669176844311, -0.5112583573253011, -0.13874649516905724, 0.25575048752648943, -0.027355078749094097, -0.21041570834617976, -0.09389647633980201, 0.4221686898498746],), Reward: -13.451717611\n",
      "Action: 25, State: ([-2.097348597140005, 1.6510743752259405, -2.084952211613537, 0.7374712942562289, -0.7990557888027459, -0.5121304225394447, -0.13832345199401458, 0.2557660214902358, -0.02721229027570682, -0.21041570834617976, -0.09389647633980201, 0.4221686898498746],), Reward: -13.4515172682\n",
      "Action: 25, State: ([-2.097375938764463, 1.6512005542030446, -2.0843697844484836, 0.7102705636160535, -0.8332716452315385, -0.3956329844291313, -0.1385327290903115, 0.255711055034968, -0.027394166204581516, -0.21041570834617976, -0.09389647633980201, 0.4221686898498746],), Reward: -13.4515853272\n",
      "Action: 25, State: ([-2.0970511449339657, 1.6513366905792797, -2.083472553220618, 0.7487381297142945, -0.8485147519180287, -0.3868632440603146, -0.13867742848822168, 0.2557017796027508, -0.027743970738193124, -0.21041570834617976, -0.09389647633980201, 0.4221686898498746],), Reward: -13.4516788653\n",
      "Action: 25, State: ([-2.0973640659190576, 1.6517069992031637, -2.0848347785662664, 0.7247062170754693, -0.793750365002457, -0.5161094728231398, -0.1388371830843255, 0.25587632206423194, -0.027231115987163268, -0.21041570834617976, -0.09389647633980201, 0.4221686898498746],), Reward: -13.4518592166\n"
     ]
    },
    {
     "name": "stdout",
     "output_type": "stream",
     "text": [
      "Action: 25, State: ([-2.097380429990346, 1.651119371860208, -2.084847236304615, 0.7324289704478671, -0.7997443844988167, -0.5085563777955265, -0.1388371830843255, 0.25587632206423194, -0.027231115987163268, -0.21041570834617976, -0.09389647633980201, 0.4221686898498746],), Reward: -13.4518592166\n",
      "Action: 25, State: ([-2.0971030408305396, 1.6511938080120014, -2.084286419925501, 0.7356551099821531, -0.8311828816060691, -0.3956992016073112, -0.13845410194543384, 0.2555203511395411, -0.027731781723284166, -0.21041570834617976, -0.09389647633980201, 0.4221686898498746],), Reward: -13.4514129779\n",
      "Action: 25, State: ([-2.0971715937267934, 1.6513211929524756, -2.0836844047152994, 0.7346559474456001, -0.8440859835560997, -0.3827094523839308, -0.1385839970730692, 0.25567781787414684, -0.02773366527175064, -0.21041570834617976, -0.09389647633980201, 0.4221686898498746],), Reward: -13.4516125858\n",
      "Action: 25, State: ([-2.097430514555784, 1.651631196048542, -2.083394247062084, 0.7172790246420409, -0.8220097095609549, -0.32848758378829374, -0.1385839970730692, 0.25567781787414684, -0.02773366527175064, -0.21041570834617976, -0.09389647633980201, 0.4221686898498746],), Reward: -13.4516125858\n",
      "Action: 25, State: ([-2.0973462849954165, 1.6511736524493186, -2.0848130547050054, 0.7385889478631529, -0.791086890442118, -0.504366563409854, -0.1388806606807092, 0.25576885518239917, -0.027552069746228536, -0.21041570834617976, -0.09389647633980201, 0.4221686898498746],), Reward: -13.4518159017\n",
      "Action: 25, State: ([-2.097338402168667, 1.6512087970033136, -2.084437063604571, 0.7194197460500982, -0.8245248488941287, -0.39320803737549076, -0.13850068618552455, 0.2557213235617364, -0.02739542824053115, -0.21041570834617976, -0.09389647633980201, 0.4221686898498746],), Reward: -13.4515792401\n",
      "Action: 25, State: ([-2.097075361000078, 1.6513103209525228, -2.08355111083449, 0.7399252495718457, -0.8444262575776933, -0.3826362020187325, -0.13850068618552455, 0.2557213235617364, -0.02739542824053115, -0.21041570834617976, -0.09389647633980201, 0.4221686898498746],), Reward: -13.4515792401\n",
      "Action: 25, State: ([-2.0972681700205413, 1.651709974973354, -2.084900533943779, 0.7235748469816081, -0.7924303751827327, -0.5140049594330804, -0.13881502241641638, 0.25577679425094324, -0.027696145908159886, -0.21041570834617976, -0.09389647633980201, 0.4221686898498746],), Reward: -13.4518052867\n",
      "Action: 25, State: ([-2.0970468512090275, 1.651187651784734, -2.084758835785542, 0.7217241097427681, -0.8127839724060748, -0.44575019231589175, -0.1383066301929861, 0.25574466328729606, -0.02753074628952562, -0.21041570834617976, -0.09389647633980201, 0.4221686898498746],), Reward: -13.4515204438\n",
      "Action: 25, State: ([-2.097498338660711, 1.6512170138117304, -2.0837629116498215, 0.6932985022008324, -0.8498330401919172, -0.38293632909401215, -0.13859753002956915, 0.25575097299611865, -0.027703318204162386, -0.21041570834617976, -0.09389647633980201, 0.4221686898498746],), Reward: -13.4516801524\n",
      "Action: 25, State: ([-2.0977234840911843, 1.651652500975727, -2.083252418149474, 0.6861978081132364, -0.8353805147085956, -0.3313397430411915, -0.13859753002956915, 0.25575097299611865, -0.027703318204162386, -0.21041570834617976, -0.09389647633980201, 0.4221686898498746],), Reward: -13.4516801524\n",
      "Action: 25, State: ([-2.0971042276408127, 1.6516617960205284, -2.0848712550202215, 0.7479621884587111, -0.8001457901113733, -0.5227997881513166, -0.1389066771291221, 0.2558209054010848, -0.027193780172022897, -0.21041570834617976, -0.09389647633980201, 0.4221686898498746],), Reward: -13.4518402565\n",
      "Action: 25, State: ([-2.0970345622994166, 1.6512146376597867, -2.0846652801243, 0.7464087420852297, -0.8172524101503597, -0.45291605146688557, -0.13843688911303811, 0.25567657444980224, -0.027742122010270986, -0.21041570834617976, -0.09389647633980201, 0.4221686898498746],), Reward: -13.4515425448\n",
      "Action: 25, State: ([-2.0973000826147903, 1.6511978654380313, -2.083783013818209, 0.7071998836484257, -0.8438773091972034, -0.3830716222985496, -0.13864526705451538, 0.25576137593253145, -0.02767162573012555, -0.21041570834617976, -0.09389647633980201, 0.4221686898498746],), Reward: -13.4517088994\n",
      "Action: 25, State: ([-2.0972776556226744, 1.6517412827027735, -2.083287110863642, 0.7205310906471489, -0.8258007860849744, -0.32967409081574145, -0.1387978381297976, 0.25577168438264375, -0.02773742361386028, -0.21041570834617976, -0.09389647633980201, 0.4221686898498746],), Reward: -13.4517965699\n",
      "Action: 25, State: ([-2.0974591077943696, 1.6511047653397526, -2.084928630918096, 0.7222472473572646, -0.7950404564112379, -0.5083047793996269, -0.1384430620163068, 0.255483684291005, -0.027728154088695722, -0.21041570834617976, -0.09389647633980201, 0.4221686898498746],), Reward: -13.4513753051\n",
      "Action: 25, State: ([-2.09716881758154, 1.6512117326633335, -2.0842679393805037, 0.7356882092424548, -0.8296763230894277, -0.38772018521445417, -0.1384430620163068, 0.255483684291005, -0.027728154088695722, -0.21041570834617976, -0.09389647633980201, 0.4221686898498746],), Reward: -13.4513753051\n",
      "Action: 25, State: ([-2.097270519826518, 1.6512579712520576, -2.083523413283819, 0.7228282234661432, -0.8423787675346466, -0.38526220722438664, -0.13879843777782788, 0.2558254421957673, -0.027384939480848858, -0.21041570834617976, -0.09389647633980201, 0.4221686898498746],), Reward: -13.4518106618\n",
      "Action: 25, State: ([-2.097198212630639, 1.6517725634934814, -2.0847835695609414, 0.7410053733626555, -0.7909732816761932, -0.5125772175491039, -0.13879843777782788, 0.2558254421957673, -0.027384939480848858, -0.21041570834617976, -0.09389647633980201, 0.4221686898498746],), Reward: -13.4518106618\n",
      "Action: 25, State: ([-2.0970150692010705, 1.6511858537200332, -2.0847502377465075, 0.7434222577401804, -0.8057191080438992, -0.450140704329845, -0.13832462838916595, 0.25579365060697035, -0.027522868595984296, -0.21041570834617976, -0.09389647633980201, 0.4221686898498746],), Reward: -13.451571123\n",
      "Action: 25, State: ([-2.097125366689723, 1.6511614957401939, -2.084011097705787, 0.7250673456023145, -0.8391546034407974, -0.38963922784055827, -0.13861202095278966, 0.2557668550916705, -0.027324645577644413, -0.21041570834617976, -0.09389647633980201, 0.4221686898498746],), Reward: -13.4516652712\n",
      "Action: 25, State: ([-2.097607143567778, 1.6516367116884103, -2.0834466399990204, 0.6943201716578884, -0.8263045175030423, -0.328588452898763, -0.13882066378432634, 0.25583915400718404, -0.02721588340685993, -0.21041570834617976, -0.09389647633980201, 0.4221686898498746],), Reward: -13.4518174272\n",
      "Action: 25, State: ([-2.097232980899479, 1.651678767340429, -2.0849343006479355, 0.736421927191464, -0.7944784506110482, -0.514707914193475, -0.1382944493338134, 0.25574289156730834, -0.02754822300683868, -0.21041570834617976, -0.09389647633980201, 0.4221686898498746],), Reward: -13.451514772\n",
      "Action: 25, State: ([-2.0974857749244773, 1.6512337505800714, -2.084644648073006, 0.6982861606969745, -0.8090890332514639, -0.4403556639751669, -0.1382944493338134, 0.25574289156730834, -0.02754822300683868, -0.21041570834617976, -0.09389647633980201, 0.4221686898498746],), Reward: -13.451514772\n",
      "Action: 25, State: ([-2.0972484564854152, 1.6513789732798303, -2.0836582078658488, 0.7273392901606293, -0.8418523169525478, -0.3831532792299757, -0.13845082457533006, 0.2556661480792879, -0.02736841375365462, -0.21041570834617976, -0.09389647633980201, 0.4221686898498746],), Reward: -13.4515047635\n",
      "Action: 25, State: ([-2.097289871480256, 1.6511954994358193, -2.0836994308908983, 0.7142965773286037, -0.8484841355278342, -0.3914344385822146, -0.138797162065119, 0.2557343390135736, -0.027650668357807495, -0.21041570834617976, -0.09389647633980201, 0.4221686898498746],), Reward: -13.4517553537\n",
      "Action: 25, State: ([-2.097286968196375, 1.6517591853560187, -2.08478312833786, 0.733039054891602, -0.7926108396086415, -0.50733617740761, -0.138797162065119, 0.2557343390135736, -0.027650668357807495, -0.21041570834617976, -0.09389647633980201, 0.4221686898498746],), Reward: -13.4517553537\n",
      "Action: 25, State: ([-2.0972474523469433, 1.6512377028095262, -2.08470091339146, 0.7261611679643788, -0.8000713915104087, -0.4415321040573472, -0.1383431721331393, 0.2557611119203341, -0.02751484073193533, -0.21041570834617976, -0.09389647633980201, 0.4221686898498746],), Reward: -13.4515506554\n"
     ]
    },
    {
     "name": "stdout",
     "output_type": "stream",
     "text": [
      "Action: 25, State: ([-2.0974336802583498, 1.6511991903940277, -2.0838980484315988, 0.6998982803442426, -0.8388950357603976, -0.3784025378083895, -0.13870737434367883, 0.25572768392603057, -0.02738247670857824, -0.21041570834617976, -0.09389647633980201, 0.4221686898498746],), Reward: -13.4516816491\n",
      "Action: 25, State: ([-2.0973598840363135, 1.651754276296602, -2.0832830710137316, 0.7175674096156057, -0.8279163872507267, -0.32896564689690844, -0.13888411762483696, 0.2558397568416837, -0.027516234125347427, -0.21041570834617976, -0.09389647633980201, 0.4221686898498746],), Reward: -13.4518762024\n",
      "Action: 25, State: ([-2.0974843874854674, 1.6511101663178458, -2.0849474950569338, 0.720376941211844, -0.7963777546220427, -0.5071722783776469, -0.13888411762483696, 0.2558397568416837, -0.027516234125347427, -0.21041570834617976, -0.09389647633980201, 0.4221686898498746],), Reward: -13.4518762024\n",
      "Action: 25, State: ([-2.0971344452485905, 1.6512339076397087, -2.084329648716526, 0.7354950807767933, -0.8291133689089136, -0.3912648014348469, -0.13836788752615323, 0.25560375206759595, -0.0274160203996206, -0.21041570834617976, -0.09389647633980201, 0.4221686898498746],), Reward: -13.4514152877\n",
      "Action: 25, State: ([-2.097224607101964, 1.6512067106205146, -2.083646969366159, 0.7295049456103923, -0.8434737518463769, -0.3879333150393111, -0.13874649516882542, 0.2557504875264446, -0.027355078749097095, -0.21041570834617976, -0.09389647633980201, 0.4221686898498746],), Reward: -13.451717611\n",
      "Action: 25, State: ([-2.0972365270288167, 1.6517256076048534, -2.08334220755782, 0.7405785442271482, -0.8207822916282468, -0.32711716916629996, -0.13874649516882542, 0.2557504875264446, -0.027355078749097095, -0.21041570834617976, -0.09389647633980201, 0.4221686898498746],), Reward: -13.451717611\n",
      "Action: 25, State: ([-2.0973030664585552, 1.6513965126405923, -2.0845100714521543, 0.7299924065573914, -0.8012602463841443, -0.43877449680760294, -0.13842001859896766, 0.2555081982279933, -0.02775309903039208, -0.21041570834617976, -0.09389647633980201, 0.4221686898498746],), Reward: -13.4513882039\n",
      "Action: 25, State: ([-2.0970690694595326, 1.6511689096688968, -2.0840122537120616, 0.7359494366115809, -0.8452075259815062, -0.3846153487263084, -0.13853272909014802, 0.25571105503490926, -0.02739416620458518, -0.21041570834617976, -0.09389647633980201, 0.4221686898498746],), Reward: -13.4515853272\n",
      "Action: 25, State: ([-2.0970511449340083, 1.6513366905792974, -2.083472553221001, 0.7487381297129418, -0.8485147519221712, -0.3868632440779604, -0.13853272909014802, 0.25571105503490926, -0.02739416620458518, -0.21041570834617976, -0.09389647633980201, 0.4221686898498746],), Reward: -13.4515853272\n",
      "Action: 25, State: ([-2.0973640659190593, 1.6517069992031628, -2.084834778566849, 0.7247062170745452, -0.7937503650068528, -0.5161094728415803, -0.13883452739875732, 0.25579656798421374, -0.027695121563571345, -0.21041570834617976, -0.09389647633980201, 0.4221686898498746],), Reward: -13.4518317528\n",
      "Action: 25, State: ([-2.0973899995931884, 1.6512400442654744, -2.084586055472842, 0.7072341448972451, -0.805391185614272, -0.438114494837059, -0.13845410194521926, 0.2555203511394985, -0.027731781723281224, -0.21041570834617976, -0.09389647633980201, 0.4221686898498746],), Reward: -13.4514129779\n",
      "Action: 25, State: ([-2.0971715937267446, 1.6513211929524783, -2.083684404715912, 0.7346559474466122, -0.8440859835605548, -0.3827094523947713, -0.13878465136474916, 0.2557384139870359, -0.027682328412370616, -0.21041570834617976, -0.09389647633980201, 0.4221686898498746],), Reward: -13.4517559752\n",
      "Action: 25, State: ([-2.0974305145557484, 1.6516311960485455, -2.083394247062679, 0.7172790246421272, -0.8220097095659771, -0.3284875837949365, -0.13878465136474916, 0.2557384139870359, -0.027682328412370616, -0.21041570834617976, -0.09389647633980201, 0.4221686898498746],), Reward: -13.4517559752\n",
      "Action: 25, State: ([-2.0974105840694985, 1.65175550050236, -2.0847565511151664, 0.727392074889308, -0.7896901171613077, -0.5103624287817625, -0.13837612778129935, 0.25572111448000595, -0.027501550602454128, -0.21041570834617976, -0.09389647633980201, 0.4221686898498746],), Reward: -13.4515299929\n",
      "Action: 25, State: ([-2.0974398667467575, 1.651277972798117, -2.084679758843513, 0.7052639895248115, -0.8004227142246758, -0.43765993377729895, -0.13845178009293888, 0.25554807532095847, -0.027724635934347208, -0.21041570834617976, -0.09389647633980201, 0.4221686898498746],), Reward: -13.4514354641\n",
      "Action: 25, State: ([-2.097338402168649, 1.6512087970033056, -2.084437063604997, 0.7194197460495739, -0.8245248488972123, -0.3932080373815705, -0.1385006861853734, 0.25572132356170946, -0.027395428240535424, -0.21041570834617976, -0.09389647633980201, 0.4221686898498746],), Reward: -13.4515792401\n",
      "Action: 25, State: ([-2.097075361000094, 1.65131032095253, -2.0835511108348967, 0.7399252495696532, -0.8444262575815247, -0.38263620203220783, -0.1385006861853734, 0.25572132356170946, -0.027395428240535424, -0.21041570834617976, -0.09389647633980201, 0.4221686898498746],), Reward: -13.4515792401\n",
      "Action: 25, State: ([-2.0972681700205715, 1.6517099749733513, -2.0849005339442446, 0.7235748469785057, -0.7924303751859639, -0.5140049594447598, -0.138815022416276, 0.25577679425091104, -0.027696145908156222, -0.21041570834617976, -0.09389647633980201, 0.4221686898498746],), Reward: -13.4518052867\n",
      "Action: 25, State: ([-2.0975580672278635, 1.6512039868571584, -2.084798695907331, 0.720552119078756, -0.7952473665116979, -0.502481846541741, -0.13878594143664802, 0.25590736061615327, -0.027245941921500816, -0.21041570834617976, -0.09389647633980201, 0.4221686898498746],), Reward: -13.451863435\n",
      "Action: 25, State: ([-2.0970380902124734, 1.6513434930810904, -2.084145992822606, 0.7459805010694475, -0.8352288312755834, -0.3929742384030941, -0.13841741186884737, 0.25561886432017455, -0.02737732962847178, -0.21041570834617976, -0.09389647633980201, 0.4221686898498746],), Reward: -13.4514483631\n",
      "Action: 25, State: ([-2.0970469831376315, 1.6512216503656054, -2.0835700142282345, 0.7516471916825949, -0.8461377965870869, -0.3900312936428362, -0.1387637349818864, 0.2557211923148656, -0.027369913588111028, -0.21041570834617976, -0.09389647633980201, 0.4221686898498746],), Reward: -13.4517015493\n",
      "Action: 25, State: ([-2.09710422764078, 1.6516617960205275, -2.084871255020671, 0.7479621884595276, -0.8001457901135525, -0.52279978816105, -0.13829989105838758, 0.2557768357810758, -0.027587618471731967, -0.21041570834617976, -0.09389647633980201, 0.4221686898498746],), Reward: -13.4515507926\n",
      "Action: 25, State: ([-2.0980094208567843, 1.6512302498760008, -2.0845994100048664, 0.6869809316362971, -0.8076941101121116, -0.5073295467731933, -0.1385594966033436, 0.25550486641042947, -0.027285962500756267, -0.21041570834617976, -0.09389647633980201, 0.4221686898498746],), Reward: -13.4514074197\n",
      "Action: 25, State: ([-2.0970936495099934, 1.651391974795044, -2.084008597354945, 0.7515251590188989, -0.8357104313138799, -0.3962876922674887, -0.13864526705434288, 0.25576137593251613, -0.02767162573012988, -0.21041570834617976, -0.09389647633980201, 0.4221686898498746],), Reward: -13.4517088994\n",
      "Action: 25, State: ([-2.096994381859073, 1.651224001308945, -2.083602551465238, 0.7429424243009422, -0.8424054544587202, -0.39075498198060865, -0.13864526705434288, 0.25576137593251613, -0.02767162573012988, -0.21041570834617976, -0.09389647633980201, 0.4221686898498746],), Reward: -13.4517088994\n",
      "Action: 25, State: ([-2.0973679105055085, 1.6517529163385287, -2.084837476163017, 0.7176171181964378, -0.7892319591965447, -0.5140023832223428, -0.13879783812965998, 0.25577168438262166, -0.027737423613858836, -0.21041570834617976, -0.09389647633980201, 0.4221686898498746],), Reward: -13.4517965699\n",
      "Action: 25, State: ([-2.0973774585517093, 1.6512383077274837, -2.0846781551635, 0.710302657642239, -0.8023894986070735, -0.43800401549530527, -0.13834006680368394, 0.25572904077870245, -0.027506253105423095, -0.21041570834617976, -0.09389647633980201, 0.4221686898498746],), Reward: -13.4515202925\n",
      "Action: 25, State: ([-2.0971961091911773, 1.6512871805157898, -2.0837263855828887, 0.7304350940066572, -0.8431181150576043, -0.3796875766351024, -0.13859863856059226, 0.25566463779671544, -0.027716121307652775, -0.21041570834617976, -0.09389647633980201, 0.4221686898498746],), Reward: -13.4516063319\n",
      "Action: 25, State: ([-2.097317395033225, 1.6515812460745618, -2.083482797340447, 0.7112270765007261, -0.8242469576637509, -0.3321177993808113, -0.13859863856059226, 0.25566463779671544, -0.027716121307652775, -0.21041570834617976, -0.09389647633980201, 0.4221686898498746],), Reward: -13.4516063319\n"
     ]
    },
    {
     "name": "stdout",
     "output_type": "stream",
     "text": [
      "Action: 25, State: ([-2.0978017696302587, 1.6511045431608418, -2.084780609412464, 0.6898272472060772, -0.8012715187720791, -0.5034977016314763, -0.13883657326534055, 0.25578583601276494, -0.027578316818000048, -0.21041570834617976, -0.09389647633980201, 0.4221686898498746],), Reward: -13.4518122925\n",
      "Action: 25, State: ([-2.097444068091151, 1.6513876134599341, -2.084085900961659, 0.7198610057487012, -0.8298326053963454, -0.39431665120616805, -0.13861202095267125, 0.25576685509166747, -0.027324645577650186, -0.21041570834617976, -0.09389647633980201, 0.4221686898498746],), Reward: -13.4516652712\n",
      "Action: 25, State: ([-2.097125366689699, 1.6511614957401815, -2.0840110977061217, 0.7250673456003986, -0.8391546034409614, -0.38963922784624505, -0.13861202095267125, 0.25576685509166747, -0.027324645577650186, -0.21041570834617976, -0.09389647633980201, 0.4221686898498746],), Reward: -13.4516652712\n",
      "Action: 25, State: ([-2.097607143567762, 1.6516367116884156, -2.0834466399992895, 0.6943201716573955, -0.8263045175054426, -0.3285884529057701, -0.13880079403035533, 0.2557649016931348, -0.0276924502838925, -0.21041570834617976, -0.09389647633980201, 0.4221686898498746],), Reward: -13.4517877749\n",
      "Action: 25, State: ([-2.097420389440561, 1.651213576333264, -2.0847404789309367, 0.7323610887876076, -0.7993821798621255, -0.5030934258223683, -0.13880079403035533, 0.2557649016931348, -0.0276924502838925, -0.21041570834617976, -0.09389647633980201, 0.4221686898498746],), Reward: -13.4517877749\n",
      "Action: 25, State: ([-2.097485774924488, 1.6512337505800634, -2.084644648073347, 0.6982861606943063, -0.8090890332524316, -0.44035566398055187, -0.13848250692142436, 0.25554379330585036, -0.027696645773683082, -0.21041570834617976, -0.09389647633980201, 0.4221686898498746],), Reward: -13.4514436321\n",
      "Action: 25, State: ([-2.0972484564854303, 1.6513789732798294, -2.083658207866164, 0.7273392901610953, -0.8418523169538501, -0.38315327923543496, -0.13879716206501214, 0.25573433901354525, -0.027650668357806885, -0.21041570834617976, -0.09389647633980201, 0.4221686898498746],), Reward: -13.4517553537\n",
      "Action: 25, State: ([-2.0972869681963884, 1.651759185356017, -2.0847831283381177, 0.7330390548910775, -0.7926108396103775, -0.507336177411152, -0.1387517459983155, 0.25578643714529364, -0.02740484746071492, -0.21041570834617976, -0.09389647633980201, 0.4221686898498746],), Reward: -13.4517562266\n",
      "Action: 25, State: ([-2.0976664934188607, 1.6511045352172475, -2.0848223388850613, 0.7029113164168438, -0.7987707834555986, -0.5031217375720209, -0.13834317213305203, 0.2557611119203105, -0.027514840731934942, -0.21041570834617976, -0.09389647633980201, 0.4221686898498746],), Reward: -13.4515506554\n",
      "Action: 25, State: ([-2.097433680258339, 1.651199190394026, -2.083898048431851, 0.6998982803444985, -0.8388950357618161, -0.3784025378138117, -0.138587907187961, 0.2557321898155914, -0.027685849023697362, -0.21041570834617976, -0.09389647633980201, 0.4221686898498746],), Reward: -13.4516574926\n",
      "Action: 25, State: ([-2.096972326756264, 1.6511970522723383, -2.083685104368856, 0.752358971682716, -0.8438608822110314, -0.3874257443045883, -0.138587907187961, 0.2557321898155914, -0.027685849023697362, -0.21041570834617976, -0.09389647633980201, 0.4221686898498746],), Reward: -13.4516574926\n",
      "Action: 25, State: ([-2.097395390474161, 1.651707349260434, -2.0849039762295476, 0.7153711148781051, -0.7939368773749607, -0.5170883574131907, -0.13826240505272755, 0.255820591262737, -0.027230737797492743, -0.21041570834617976, -0.09389647633980201, 0.4221686898498746],), Reward: -13.4515378752\n",
      "Action: 25, State: ([-2.0974843874854843, 1.651110166317844, -2.084947495057161, 0.7203769412094914, -0.7963777546226033, -0.5071722783825952, -0.13826240505272755, 0.255820591262737, -0.027230737797492743, -0.21041570834617976, -0.09389647633980201, 0.4221686898498746],), Reward: -13.4515378752\n",
      "Action: 25, State: ([-2.097339420822628, 1.6512077240477847, -2.0847578381850163, 0.7063604789700632, -0.803391908680884, -0.43976417325804573, -0.13836788752607712, 0.2556037520675732, -0.027416020399620156, -0.21041570834617976, -0.09389647633980201, 0.4221686898498746],), Reward: -13.4514152877\n",
      "Action: 25, State: ([-2.0971344452485816, 1.651233907639706, -2.084329648716709, 0.7354950807773453, -0.8291133689098503, -0.39126480143895215, -0.13838933408413354, 0.2556968329898791, -0.02739743781973708, -0.21041570834617976, -0.09389647633980201, 0.4221686898498746],), Reward: -13.4515052046\n",
      "Action: 25, State: ([-2.0972246071019685, 1.6512067106205093, -2.083646969366386, 0.7295049456098186, -0.8434737518473139, -0.38793331504354905, -0.13882741955163985, 0.2556883887410085, -0.027713158145648786, -0.21041570834617976, -0.09389647633980201, 0.4221686898498746],), Reward: -13.4517354406\n",
      "Action: 25, State: ([-2.0975707614615784, 1.6516988727394661, -2.084826544737597, 0.7000139383627679, -0.7932669176908838, -0.5112583573302809, -0.13882741955163985, 0.2556883887410085, -0.027713158145648786, -0.21041570834617976, -0.09389647633980201, 0.4221686898498746],), Reward: -13.4517354406\n",
      "Action: 25, State: ([-2.097303066458565, 1.6513965126405967, -2.084510071452285, 0.7299924065576141, -0.8012602463853018, -0.4387744968117788, -0.13842001859890812, 0.25550819822797594, -0.02775309903039086, -0.21041570834617976, -0.09389647633980201, 0.4221686898498746],), Reward: -13.4513882039\n",
      "Action: 25, State: ([-2.0970690694595477, 1.6511689096688924, -2.0840122537122436, 0.7359494366116119, -0.8452075259816676, -0.3846153487304428, -0.13842001859890812, 0.25550819822797594, -0.02775309903039086, -0.21041570834617976, -0.09389647633980201, 0.4221686898498746],), Reward: -13.4513882039\n",
      "Action: 25, State: ([-2.0975098637861906, 1.6516354838192724, -2.083350658635089, 0.6983297645856573, -0.8288739234788788, -0.3297942917856183, -0.13867742848797265, 0.255701779602669, -0.027743970738192736, -0.21041570834617976, -0.09389647633980201, 0.4221686898498746],), Reward: -13.4516788653\n",
      "Action: 25, State: ([-2.0973640659190593, 1.6517069992031628, -2.084834778567034, 0.7247062170741926, -0.7937503650082179, -0.5161094728474567, -0.13834827045323358, 0.2557163773172178, -0.027521618559869288, -0.21041570834617976, -0.09389647633980201, 0.4221686898498746],), Reward: -13.4515145377\n",
      "Action: 25, State: ([-2.097103040830514, 1.651193808011997, -2.084286419926303, 0.7356551099817435, -0.8311828816098198, -0.39569920161808736, -0.1384541019451505, 0.25552035113948507, -0.02773178172328039, -0.21041570834617976, -0.09389647633980201, 0.4221686898498746],), Reward: -13.4514129779\n",
      "Action: 25, State: ([-2.0972989707337657, 1.6512570487692768, -2.0835103050271204, 0.719751203554817, -0.8429620137385876, -0.3868058813806605, -0.13858399707278465, 0.2556778178740966, -0.027733665271754637, -0.21041570834617976, -0.09389647633980201, 0.4221686898498746],), Reward: -13.4516125858\n",
      "Action: 25, State: ([-2.0974305145557377, 1.6516311960485472, -2.0833942470628672, 0.7172790246421779, -0.8220097095675851, -0.3284875837970506, -0.13888066068042526, 0.2557688551823608, -0.027552069746230534, -0.21041570834617976, -0.09389647633980201, 0.4221686898498746],), Reward: -13.4518159017\n",
      "Action: 25, State: ([-2.097346284995389, 1.651173652449315, -2.0848130547057444, 0.7385889478628376, -0.7910868904460008, -0.5043665634208125, -0.13888066068042526, 0.2557688551823608, -0.027552069746230534, -0.21041570834617976, -0.09389647633980201, 0.4221686898498746],), Reward: -13.4518159017\n",
      "Action: 25, State: ([-2.097338402168642, 1.651208797003303, -2.0844370636051295, 0.7194197460494338, -0.8245248488981658, -0.39320803738347854, -0.13842318819990745, 0.2556908378947643, -0.027363105921283604, -0.21041570834617976, -0.09389647633980201, 0.4221686898498746],), Reward: -13.4515127814\n",
      "Action: 25, State: ([-2.0970753610000985, 1.6513103209525326, -2.0835511108350246, 0.7399252495688675, -0.844426257582706, -0.3826362020364735, -0.13842318819990745, 0.2556908378947643, -0.027363105921283604, -0.21041570834617976, -0.09389647633980201, 0.4221686898498746],), Reward: -13.4515127814\n",
      "Action: 25, State: ([-2.097268170020582, 1.6517099749733504, -2.084900533944392, 0.7235748469774723, -0.7924303751869827, -0.5140049594484344, -0.13881502241623161, 0.255776794250901, -0.027696145908154668, -0.21041570834617976, -0.09389647633980201, 0.4221686898498746],), Reward: -13.4518052867\n",
      "Action: 25, State: ([-2.0970468512090665, 1.6511876517847224, -2.0847588357861984, 0.7217241097419415, -0.8127839724075716, -0.4457501923287174, -0.13841018076647216, 0.2556592186894014, -0.02774528160954387, -0.21041570834617976, -0.09389647633980201, 0.4221686898498746],), Reward: -13.4515149929\n",
      "Action: 25, State: ([-2.097498338660717, 1.651217013811733, -2.083762911650469, 0.6932985022, -0.8498330401961633, -0.38293632910609005, -0.13841018076647216, 0.2556592186894014, -0.02774528160954387, -0.21041570834617976, -0.09389647633980201, 0.4221686898498746],), Reward: -13.4515149929\n"
     ]
    },
    {
     "name": "stdout",
     "output_type": "stream",
     "text": [
      "Action: 25, State: ([-2.097723484091164, 1.6516525009757386, -2.0832524181500363, 0.68619780811511, -0.8353805147137313, -0.3313397430509473, -0.13876373498183156, 0.2557211923148547, -0.02736991358811075, -0.21041570834617976, -0.09389647633980201, 0.4221686898498746],), Reward: -13.4517015493\n",
      "Action: 25, State: ([-2.09800942085678, 1.6512302498760034, -2.084599410005019, 0.6869809316357625, -0.807694110113076, -0.507329546776792, -0.13829989105833487, 0.2557768357810696, -0.02758761847173319, -0.21041570834617976, -0.09389647633980201, 0.4221686898498746],), Reward: -13.4515507926\n",
      "Action: 25, State: ([-2.097034562299405, 1.6512146376597832, -2.084665280124919, 0.7464087420836135, -0.8172524101516401, -0.4529160514803473, -0.13829989105833487, 0.2557768357810696, -0.02758761847173319, -0.21041570834617976, -0.09389647633980201, 0.4221686898498746],), Reward: -13.4515507926\n",
      "Action: 25, State: ([-2.0973000826147405, 1.6511978654380304, -2.083783013818806, 0.7071998836484832, -0.8438773092019344, -0.3830716223065498, -0.13872362437185776, 0.25577848319361957, -0.027401248593836136, -0.21041570834617976, -0.09389647633980201, 0.4221686898498746],), Reward: -13.4517355794\n",
      "Action: 25, State: ([-2.0972776556226735, 1.6517412827027842, -2.0832871108641413, 0.7205310906440966, -0.8258007860898815, -0.3296740908243929, -0.13872362437185776, 0.25577848319361957, -0.027401248593836136, -0.21041570834617976, -0.09389647633980201, 0.4221686898498746],), Reward: -13.4517355794\n",
      "Action: 25, State: ([-2.097459107794325, 1.6511047653397437, -2.0849286309186663, 0.7222472473578969, -0.7950404564122325, -0.5083047794117513, -0.1388699094287057, 0.25586220969496654, -0.027531062746329438, -0.21041570834617976, -0.09389647633980201, 0.4221686898498746],), Reward: -13.4518904958\n",
      "Action: 25, State: ([-2.0971688175815917, 1.6512117326633264, -2.084267939381, 0.7356882092364259, -0.8296763230921315, -0.3877201852192496, -0.13841885984199803, 0.25569961459939744, -0.02738261762795896, -0.21041570834617976, -0.09389647633980201, 0.4221686898498746],), Reward: -13.451520243\n",
      "Action: 25, State: ([-2.097270519826589, 1.651257971252054, -2.083523413284329, 0.7228282234652972, -0.8423787675382949, -0.3852622072341736, -0.13841885984199803, 0.25569961459939744, -0.02738261762795896, -0.21041570834617976, -0.09389647633980201, 0.4221686898498746],), Reward: -13.451520243\n",
      "Action: 25, State: ([-2.097198212630598, 1.6517725634934743, -2.0847835695613526, 0.7410053733644868, -0.7909732816778204, -0.5125772175541063, -0.13879843777766368, 0.2558254421957062, -0.027384939480842474, -0.21041570834617976, -0.09389647633980201, 0.4221686898498746],), Reward: -13.4518106618\n",
      "Action: 25, State: ([-2.097801769630257, 1.6511045431608435, -2.0847806094125705, 0.689827247205351, -0.8012715187726346, -0.5034977016340083, -0.13848187377326526, 0.2555171904604513, -0.02736184883206977, -0.21041570834617976, -0.09389647633980201, 0.4221686898498746],), Reward: -13.4513884768\n",
      "Action: 25, State: ([-2.0974440680911286, 1.6513876134599341, -2.0840859009617567, 0.7198610057495864, -0.829832605396684, -0.39431665120822584, -0.13840883593449366, 0.2556675434624327, -0.02775491214649034, -0.21041570834617976, -0.09389647633980201, 0.4221686898498746],), Reward: -13.4515225583\n",
      "Action: 25, State: ([-2.097105841895093, 1.6513217099915263, -2.0836047645929545, 0.7401849894613077, -0.8414132605138677, -0.3872392938263113, -0.13868930550517175, 0.25568150563887615, -0.027738567856378793, -0.21041570834617976, -0.09389647633980201, 0.4221686898498746],), Reward: -13.4516662485\n",
      "Action: 25, State: ([-2.097232980899447, 1.651678767340428, -2.084934300648351, 0.7364219271900542, -0.7944784506134474, -0.5147079142031028, -0.1382944493336624, 0.25574289156728786, -0.027548223006845174, -0.21041570834617976, -0.09389647633980201, 0.4221686898498746],), Reward: -13.451514772\n",
      "Action: 25, State: ([-2.0974857749244915, 1.6512337505800607, -2.0846446480734544, 0.6982861606933495, -0.8090890332527225, -0.4403556639822846, -0.1382944493336624, 0.25574289156728786, -0.027548223006845174, -0.21041570834617976, -0.09389647633980201, 0.4221686898498746],), Reward: -13.451514772\n",
      "Action: 25, State: ([-2.0972484564854357, 1.6513789732798285, -2.0836582078662627, 0.72733929016121, -0.8418523169542155, -0.3831532792371686, -0.1385177581583799, 0.2557389280210527, -0.02777675168320426, -0.21041570834617976, -0.09389647633980201, 0.4221686898498746],), Reward: -13.4516387529\n",
      "Action: 25, State: ([-2.09743527986984, 1.6515833960725939, -2.0835205560232577, 0.7094770592383306, -0.8279414539703449, -0.3290364160973659, -0.13877344728482277, 0.2558718146285781, -0.027259003830490958, -0.21041570834617976, -0.09389647633980201, 0.4221686898498746],), Reward: -13.4518276115\n",
      "Action: 25, State: ([-2.097666493418865, 1.6511045352172484, -2.0848223388851466, 0.7029113164166971, -0.7987707834558084, -0.5031217375736183, -0.13877344728482277, 0.2558718146285781, -0.027259003830490958, -0.21041570834617976, -0.09389647633980201, 0.4221686898498746],), Reward: -13.4518276115\n",
      "Action: 25, State: ([-2.0971025991715138, 1.6513555935768345, -2.0841978029496566, 0.7497602038917737, -0.8216678059848145, -0.3888175072576888, -0.13858790718793587, 0.2557321898155857, -0.027685849023697584, -0.21041570834617976, -0.09389647633980201, 0.4221686898498746],), Reward: -13.4516574926\n",
      "Action: 25, State: ([-2.096972326756262, 1.6511970522723365, -2.0836851043689375, 0.7523589716827421, -0.8438608822114007, -0.38742574430602394, -0.13858790718793587, 0.2557321898155857, -0.027685849023697584, -0.21041570834617976, -0.09389647633980201, 0.4221686898498746],), Reward: -13.4516574926\n",
      "Action: 25, State: ([-2.097359884036284, 1.6517542762966038, -2.083283071014079, 0.717567409616272, -0.8279163872524242, -0.32896564690110613, -0.138770617706681, 0.25576284908999686, -0.027753303757614256, -0.21041570834617976, -0.09389647633980201, 0.4221686898498746],), Reward: -13.4517774229\n",
      "Action: 25, State: ([-2.0974843874854825, 1.6511101663178431, -2.084947495057232, 0.7203769412092147, -0.796377754622773, -0.5071722783841801, -0.13826240505270376, 0.2558205912627334, -0.027230737797493965, -0.21041570834617976, -0.09389647633980201, 0.4221686898498746],), Reward: -13.4515378752\n",
      "Action: 25, State: ([-2.0973394208226255, 1.6512077240477847, -2.0847578381850713, 0.7063604789699138, -0.8033919086810646, -0.4397641732593732, -0.13826240505270376, 0.2558205912627334, -0.027230737797493965, -0.21041570834617976, -0.09389647633980201, 0.4221686898498746],), Reward: -13.4515378752\n",
      "Action: 25, State: ([-2.0974675597881998, 1.6512842077632026, -2.0837648064300005, 0.7086859676778826, -0.8445073109454696, -0.37949292701439064, -0.13856813987959515, 0.2556760342953297, -0.027718545490094393, -0.21041570834617976, -0.09389647633980201, 0.4221686898498746],), Reward: -13.4516020679\n",
      "Action: 25, State: ([-2.097236527028821, 1.6517256076048437, -2.0833422075581156, 0.7405785442292229, -0.8207822916324696, -0.3271171691645281, -0.13884779014564227, 0.2558633299858626, -0.027549796474928778, -0.21041570834617976, -0.09389647633980201, 0.4221686898498746],), Reward: -13.4518827367\n",
      "Action: 25, State: ([-2.097348597140064, 1.6510743752259325, -2.084952211614338, 0.7374712942580057, -0.7990557888073975, -0.5121304225545491, -0.138323451993789, 0.25576602149017813, -0.02721229027571459, -0.21041570834617976, -0.09389647633980201, 0.4221686898498746],), Reward: -13.4515172682\n",
      "Action: 25, State: ([-2.0973759387645288, 1.6512005542030144, -2.084369784449196, 0.7102705636160813, -0.8332716452327036, -0.395632984448179, -0.1385327290900806, 0.25571105503488456, -0.02739416620458629, -0.21041570834617976, -0.09389647633980201, 0.4221686898498746],), Reward: -13.4515853272\n",
      "Action: 25, State: ([-2.097051144934027, 1.6513366905793045, -2.0834725532211635, 0.7487381297124076, -0.8485147519238795, -0.3868632440853408, -0.1385327290900806, 0.25571105503488456, -0.02739416620458629, -0.21041570834617976, -0.09389647633980201, 0.4221686898498746],), Reward: -13.4515853272\n",
      "Action: 25, State: ([-2.0973640659190593, 1.6517069992031628, -2.084834778567094, 0.7247062170742077, -0.7937503650086654, -0.5161094728492441, -0.13834827045321257, 0.2557163773172133, -0.02752161855986951, -0.21041570834617976, -0.09389647633980201, 0.4221686898498746],), Reward: -13.4515145377\n",
      "Action: 25, State: ([-2.097389999593192, 1.6512400442654718, -2.084586055473112, 0.7072341448961993, -0.8053911856151287, -0.43811449484165904, -0.13834827045321257, 0.2557163773172133, -0.02752161855986951, -0.21041570834617976, -0.09389647633980201, 0.4221686898498746],), Reward: -13.4515145377\n"
     ]
    },
    {
     "name": "stdout",
     "output_type": "stream",
     "text": [
      "Action: 25, State: ([-2.097171593726724, 1.65132119295248, -2.0836844047161662, 0.7346559474470366, -0.8440859835624153, -0.38270945239926396, -0.13845319996646854, 0.2557024482263365, -0.02738105302410493, -0.21041570834617976, -0.09389647633980201, 0.4221686898498746],), Reward: -13.4515388545\n",
      "Action: 25, State: ([-2.0972989707337604, 1.6512570487692768, -2.083510305027181, 0.7197512035548816, -0.8429620137390977, -0.386805881381842, -0.1387846513646557, 0.25573841398702546, -0.02768232841237256, -0.21041570834617976, -0.09389647633980201, 0.4221686898498746],), Reward: -13.4517559752\n",
      "Action: 25, State: ([-2.097410584069486, 1.6517555005023583, -2.0847565511153903, 0.7273920748889018, -0.7896901171628294, -0.5103624287849016, -0.1387846513646557, 0.25573841398702546, -0.02768232841237256, -0.21041570834617976, -0.09389647633980201, 0.4221686898498746],), Reward: -13.4517559752\n",
      "Action: 25, State: ([-2.0974398667467486, 1.651277972798117, -2.084679758843702, 0.7052639895253977, -0.8004227142258725, -0.4376599337792356, -0.1383761277812192, 0.2557211144799933, -0.02750155060245557, -0.21041570834617976, -0.09389647633980201, 0.4221686898498746],), Reward: -13.4515299929\n",
      "Action: 25, State: ([-2.097126499051913, 1.6512205175071042, -2.0839637638695914, 0.7351741183565799, -0.8405892279396213, -0.37804460813435464, -0.13850068618531172, 0.25572132356169797, -0.02739542824053781, -0.21041570834617976, -0.09389647633980201, 0.4221686898498746],), Reward: -13.4515792401\n",
      "Action: 25, State: ([-2.0973937681638315, 1.6516322332977174, -2.083437239590543, 0.7065747314035877, -0.8251011902273105, -0.32689528051518985, -0.13850068618531172, 0.25572132356169797, -0.02739542824053781, -0.21041570834617976, -0.09389647633980201, 0.4221686898498746],), Reward: -13.4515792401\n",
      "Action: 25, State: ([-2.097558067227883, 1.651203986857161, -2.084798695907537, 0.7205521190776562, -0.7952473665131456, -0.5024818465475138, -0.13878594143658826, 0.25590736061613883, -0.02724594192149954, -0.21041570834617976, -0.09389647633980201, 0.4221686898498746],), Reward: -13.451863435\n",
      "Action: 25, State: ([-2.09703809021247, 1.6513434930810922, -2.084145992822812, 0.7459805010701599, -0.835228831276537, -0.39297423840685825, -0.13859753002932504, 0.25575097299607097, -0.02770331820416544, -0.21041570834617976, -0.09389647633980201, 0.4221686898498746],), Reward: -13.4516801524\n",
      "Action: 25, State: ([-2.0970469831376413, 1.6512216503656045, -2.0835700142284157, 0.7516471916815456, -0.8461377965885652, -0.3900312936463959, -0.13859753002932504, 0.25575097299607097, -0.02770331820416544, -0.21041570834617976, -0.09389647633980201, 0.4221686898498746],), Reward: -13.4516801524\n",
      "Action: 25, State: ([-2.097104227640764, 1.6516617960205275, -2.0848712550208583, 0.747962188459875, -0.8001457901145009, -0.5227997881651738, -0.13882113866135828, 0.2557528365891656, -0.02773940153651777, -0.21041570834617976, -0.09389647633980201, 0.4221686898498746],), Reward: -13.4517913313\n",
      "Action: 25, State: ([-2.097034562299406, 1.6512146376597832, -2.084665280124966, 0.7464087420834465, -0.8172524101517115, -0.45291605148139347, -0.1382998910583188, 0.255776835781068, -0.027587618471733577, -0.21041570834617976, -0.09389647633980201, 0.4221686898498746],), Reward: -13.4515507926\n",
      "Action: 25, State: ([-2.0973000826147388, 1.6511978654380304, -2.0837830138188504, 0.7071998836484081, -0.8438773092022998, -0.38307162230721525, -0.13855949660327155, 0.25550486641041875, -0.02728596250075327, -0.21041570834617976, -0.09389647633980201, 0.4221686898498746],), Reward: -13.4517355794\n",
      "Action: 25, State: ([-2.0969943818590675, 1.6512240013089459, -2.0836025514653986, 0.7429424242999069, -0.8424054544600635, -0.3907549819833545, -0.13872362437184174, 0.255778483193617, -0.027401248593836358, -0.21041570834617976, -0.09389647633980201, 0.4221686898498746],), Reward: -13.4517355794\n",
      "Action: 25, State: ([-2.0973679105055023, 1.6517529163385278, -2.084837476163182, 0.717617118196247, -0.7892319591975532, -0.5140023832254861, -0.13834006680362548, 0.2557290407786923, -0.027506253105423706, -0.21041570834617976, -0.09389647633980201, 0.4221686898498746],), Reward: -13.4515202925\n",
      "Action: 25, State: ([-2.097377458551705, 1.6512383077274828, -2.084678155163669, 0.7103026576411444, -0.802389498607585, -0.4380040154980474, -0.13844306201608514, 0.2554836842909743, -0.02772815408870366, -0.21041570834617976, -0.09389647633980201, 0.4221686898498746],), Reward: -13.4513753051\n",
      "Action: 25, State: ([-2.0971961091912057, 1.6512871805157907, -2.083726385583045, 0.7304350940053229, -0.8431181150587301, -0.3796875766377009, -0.13859863856054042, 0.25566463779669807, -0.027716121307651997, -0.21041570834617976, -0.09389647633980201, 0.4221686898498746],), Reward: -13.4516063319\n",
      "Action: 25, State: ([-2.0973173950332216, 1.651581246074561, -2.0834827973406043, 0.7112270765023018, -0.8242469576644785, -0.33211779938226194, -0.13859863856054042, 0.25566463779669807, -0.027716121307651997, -0.21041570834617976, -0.09389647633980201, 0.4221686898498746],), Reward: -13.4516063319\n",
      "Action: 25, State: ([-2.097801769630257, 1.6511045431608435, -2.0847806094126042, 0.6898272472051419, -0.801271518772805, -0.5034977016348152, -0.1388365732652852, 0.2557858360127545, -0.027578316818000215, -0.21041570834617976, -0.09389647633980201, 0.4221686898498746],), Reward: -13.4518122925\n",
      "Action: 25, State: ([-2.097444068091125, 1.651387613459935, -2.084085900961788, 0.7198610057496809, -0.8298326053968161, -0.39431665120886994, -0.1386120209526213, 0.2557668550916671, -0.027324645577652795, -0.21041570834617976, -0.09389647633980201, 0.4221686898498746],), Reward: -13.4516652712\n",
      "Action: 25, State: ([-2.0971058418950914, 1.6513217099915272, -2.0836047645929803, 0.7401849894611324, -0.8414132605139897, -0.38723929382710087, -0.1388007940303172, 0.2557649016931286, -0.027692450283889947, -0.21041570834617976, -0.09389647633980201, 0.4221686898498746],), Reward: -13.4517877749\n",
      "Action: 25, State: ([-2.097232980899446, 1.651678767340428, -2.0849343006483814, 0.7364219271899071, -0.7944784506136816, -0.5147079142037404, -0.1388007940303172, 0.2557649016931286, -0.027692450283889947, -0.21041570834617976, -0.09389647633980201, 0.4221686898498746],), Reward: -13.4517877749\n",
      "Action: 25, State: ([-2.0974857749244924, 1.6512337505800607, -2.084644648073488, 0.6982861606931448, -0.8090890332528174, -0.44035566398289144, -0.13829444933365176, 0.2557428915672859, -0.027548223006845396, -0.21041570834617976, -0.09389647633980201, 0.4221686898498746],), Reward: -13.451514772\n",
      "Action: 25, State: ([-2.0972484564854366, 1.6513789732798285, -2.083658207866293, 0.727339290161293, -0.8418523169543469, -0.38315327923776676, -0.13845082457516672, 0.2556661480792439, -0.027368413753657894, -0.21041570834617976, -0.09389647633980201, 0.4221686898498746],), Reward: -13.4515047635\n",
      "Action: 25, State: ([-2.0972898714802692, 1.651195499435814, -2.083699430891346, 0.714296577329461, -0.848484135529121, -0.3914344385881078, -0.13879716206496853, 0.25573433901353343, -0.027650668357806774, -0.21041570834617976, -0.09389647633980201, 0.4221686898498746],), Reward: -13.4517553537\n",
      "Action: 25, State: ([-2.0972869681963946, 1.651759185356017, -2.084783128338226, 0.733039054890843, -0.7926108396110867, -0.5073361774126072, -0.13834317213301534, 0.2557611119203005, -0.027514840731934442, -0.21041570834617976, -0.09389647633980201, 0.4221686898498746],), Reward: -13.4515506554\n",
      "Action: 25, State: ([-2.0972474523469495, 1.6512377028095253, -2.0847009133917975, 0.7261611679644131, -0.8000713915113594, -0.44153210406249754, -0.13834317213301534, 0.2557611119203005, -0.027514840731934442, -0.21041570834617976, -0.09389647633980201, 0.4221686898498746],), Reward: -13.4515506554\n",
      "Action: 25, State: ([-2.0974336802583373, 1.651199190394025, -2.083898048431953, 0.6998982803444008, -0.8388950357623832, -0.37840253781614924, -0.13870737434355304, 0.25572768392600853, -0.027382476708581183, -0.21041570834617976, -0.09389647633980201, 0.4221686898498746],), Reward: -13.4516816491\n",
      "Action: 25, State: ([-2.0973598840362815, 1.6517542762966047, -2.0832830710141046, 0.7175674096163012, -0.8279163872525616, -0.3289656469014283, -0.13888411762469963, 0.25583975684166893, -0.027516234125349648, -0.21041570834617976, -0.09389647633980201, 0.4221686898498746],), Reward: -13.4518762024\n",
      "Action: 25, State: ([-2.097484387485486, 1.6511101663178422, -2.0849474950572535, 0.7203769412088374, -0.7963777546228082, -0.5071722783847115, -0.13888411762469963, 0.25583975684166893, -0.027516234125349648, -0.21041570834617976, -0.09389647633980201, 0.4221686898498746],), Reward: -13.4518762024\n"
     ]
    },
    {
     "name": "stdout",
     "output_type": "stream",
     "text": [
      "Action: 25, State: ([-2.0971344452485763, 1.6512339076397042, -2.0843296487167837, 0.7354950807774043, -0.8291133689102226, -0.3912648014406761, -0.13838933408410817, 0.2556968329898747, -0.027397437819737414, -0.21041570834617976, -0.09389647633980201, 0.4221686898498746],), Reward: -13.4515052046\n",
      "Action: 25, State: ([-2.0972246071019693, 1.6512067106205066, -2.0836469693664803, 0.7295049456096377, -0.8434737518477595, -0.38793331504527445, -0.13882741955160735, 0.25568838874100075, -0.027713158145649675, -0.21041570834617976, -0.09389647633980201, 0.4221686898498746],), Reward: -13.4517354406\n",
      "Action: 25, State: ([-2.097236527028821, 1.6517256076048428, -2.083342207558137, 0.7405785442293661, -0.8207822916327874, -0.32711716916442857, -0.13884779014563517, 0.2558633299858605, -0.027549796474929, -0.21041570834617976, -0.09389647633980201, 0.4221686898498746],), Reward: -13.4518827367\n",
      "Action: 25, State: ([-2.0973485971400656, 1.6510743752259325, -2.0849522116143557, 0.7374712942579873, -0.7990557888074943, -0.5121304225548944, -0.13842001859888273, 0.2555081982279685, -0.027753099030390305, -0.21041570834617976, -0.09389647633980201, 0.4221686898498746],), Reward: -13.4513882039\n",
      "Action: 25, State: ([-2.097069069459554, 1.6511689096688906, -2.0840122537123182, 0.735949436611603, -0.8452075259817567, -0.384615348732223, -0.13842001859888273, 0.2555081982279685, -0.027753099030390305, -0.21041570834617976, -0.09389647633980201, 0.4221686898498746],), Reward: -13.4513882039\n",
      "Action: 25, State: ([-2.0975098637861933, 1.6516354838192742, -2.083350658635146, 0.6983297645856141, -0.8288739234796855, -0.32979429178793046, -0.13867742848794784, 0.25570177960266127, -0.027743970738192958, -0.21041570834617976, -0.09389647633980201, 0.4221686898498746],), Reward: -13.4516788653\n",
      "Action: 25, State: ([-2.0973640659190584, 1.6517069992031628, -2.08483477856711, 0.7247062170741384, -0.7937503650087911, -0.5161094728498976, -0.1383482704532066, 0.25571637731721253, -0.027521618559869565, -0.21041570834617976, -0.09389647633980201, 0.4221686898498746],), Reward: -13.4515145377\n",
      "Action: 25, State: ([-2.097389999593191, 1.6512400442654709, -2.0845860554731335, 0.7072341448961049, -0.8053911856151545, -0.4381144948420578, -0.138454101945122, 0.25552035113948024, -0.02773178172328017, -0.21041570834617976, -0.09389647633980201, 0.4221686898498746],), Reward: -13.4514129779\n",
      "Action: 25, State: ([-2.097103040830511, 1.651193808011997, -2.084286419926384, 0.7356551099816748, -0.8311828816102212, -0.39569920161917765, -0.13858399707275593, 0.25567781787409166, -0.027733665271754526, -0.21041570834617976, -0.09389647633980201, 0.4221686898498746],), Reward: -13.4516125858\n"
     ]
    },
    {
     "ename": "KeyboardInterrupt",
     "evalue": "",
     "output_type": "error",
     "traceback": [
      "\u001b[0;31m---------------------------------------------------------------------------\u001b[0m",
      "\u001b[0;31mKeyboardInterrupt\u001b[0m                         Traceback (most recent call last)",
      "\u001b[0;32m<ipython-input-49-3e5dbf9410bb>\u001b[0m in \u001b[0;36m<module>\u001b[0;34m()\u001b[0m\n\u001b[1;32m      8\u001b[0m     \u001b[0mitr\u001b[0m \u001b[0;34m=\u001b[0m \u001b[0;36m0\u001b[0m\u001b[0;34m\u001b[0m\u001b[0m\n\u001b[1;32m      9\u001b[0m     \u001b[0;32mwhile\u001b[0m \u001b[0;32mnot\u001b[0m \u001b[0mdone\u001b[0m \u001b[0;32mand\u001b[0m \u001b[0mitr\u001b[0m \u001b[0;34m<\u001b[0m \u001b[0;36m500\u001b[0m\u001b[0;34m:\u001b[0m\u001b[0;34m\u001b[0m\u001b[0m\n\u001b[0;32m---> 10\u001b[0;31m         \u001b[0maction\u001b[0m \u001b[0;34m=\u001b[0m \u001b[0mlspi\u001b[0m\u001b[0;34m.\u001b[0m\u001b[0mpolicy\u001b[0m\u001b[0;34m(\u001b[0m\u001b[0mstate\u001b[0m\u001b[0;34m)\u001b[0m\u001b[0;34m\u001b[0m\u001b[0m\n\u001b[0m\u001b[1;32m     11\u001b[0m         \u001b[0mstate\u001b[0m\u001b[0;34m,\u001b[0m \u001b[0mreward\u001b[0m\u001b[0;34m,\u001b[0m \u001b[0mdone\u001b[0m\u001b[0;34m,\u001b[0m \u001b[0m_\u001b[0m \u001b[0;34m=\u001b[0m \u001b[0menv\u001b[0m\u001b[0;34m.\u001b[0m\u001b[0mstep\u001b[0m\u001b[0;34m(\u001b[0m\u001b[0maction\u001b[0m\u001b[0;34m)\u001b[0m\u001b[0;34m\u001b[0m\u001b[0m\n\u001b[1;32m     12\u001b[0m \u001b[0;31m#         done = cumr < -300 or state[0] > 0.5\u001b[0m\u001b[0;34m\u001b[0m\u001b[0;34m\u001b[0m\u001b[0m\n",
      "\u001b[0;32m/home/cannon/reinforcement_learning/lspi/lspi/policy.pyc\u001b[0m in \u001b[0;36m__call__\u001b[0;34m(self, state)\u001b[0m\n\u001b[1;32m     65\u001b[0m         \u001b[0mqvalues\u001b[0m \u001b[0;34m=\u001b[0m \u001b[0mnp\u001b[0m\u001b[0;34m.\u001b[0m\u001b[0mzeros\u001b[0m\u001b[0;34m(\u001b[0m\u001b[0mself\u001b[0m\u001b[0;34m.\u001b[0m\u001b[0m_space\u001b[0m\u001b[0;34m.\u001b[0m\u001b[0mn\u001b[0m\u001b[0;34m)\u001b[0m\u001b[0;34m\u001b[0m\u001b[0m\n\u001b[1;32m     66\u001b[0m         \u001b[0;32mfor\u001b[0m \u001b[0maction\u001b[0m \u001b[0;32min\u001b[0m \u001b[0mrange\u001b[0m\u001b[0;34m(\u001b[0m\u001b[0mself\u001b[0m\u001b[0;34m.\u001b[0m\u001b[0m_space\u001b[0m\u001b[0;34m.\u001b[0m\u001b[0mn\u001b[0m\u001b[0;34m)\u001b[0m\u001b[0;34m:\u001b[0m\u001b[0;34m\u001b[0m\u001b[0m\n\u001b[0;32m---> 67\u001b[0;31m             \u001b[0mphi\u001b[0m \u001b[0;34m=\u001b[0m \u001b[0mself\u001b[0m\u001b[0;34m.\u001b[0m\u001b[0m_basis\u001b[0m\u001b[0;34m(\u001b[0m\u001b[0mstate\u001b[0m\u001b[0;34m,\u001b[0m \u001b[0maction\u001b[0m\u001b[0;34m)\u001b[0m\u001b[0;34m\u001b[0m\u001b[0m\n\u001b[0m\u001b[1;32m     68\u001b[0m             \u001b[0mqvalues\u001b[0m\u001b[0;34m[\u001b[0m\u001b[0maction\u001b[0m\u001b[0;34m]\u001b[0m \u001b[0;34m=\u001b[0m \u001b[0mphi\u001b[0m\u001b[0;34m.\u001b[0m\u001b[0mdot\u001b[0m\u001b[0;34m(\u001b[0m\u001b[0mself\u001b[0m\u001b[0;34m.\u001b[0m\u001b[0m_weights\u001b[0m\u001b[0;34m)\u001b[0m\u001b[0;34m\u001b[0m\u001b[0m\n\u001b[1;32m     69\u001b[0m \u001b[0;34m\u001b[0m\u001b[0m\n",
      "\u001b[0;32m/home/cannon/reinforcement_learning/lspi/lspi/basis.pyc\u001b[0m in \u001b[0;36m__call__\u001b[0;34m(self, states, action)\u001b[0m\n\u001b[1;32m    222\u001b[0m     \u001b[0;32mdef\u001b[0m \u001b[0m__call__\u001b[0m\u001b[0;34m(\u001b[0m\u001b[0mself\u001b[0m\u001b[0;34m,\u001b[0m \u001b[0mstates\u001b[0m\u001b[0;34m,\u001b[0m \u001b[0maction\u001b[0m\u001b[0;34m)\u001b[0m\u001b[0;34m:\u001b[0m\u001b[0;34m\u001b[0m\u001b[0m\n\u001b[1;32m    223\u001b[0m         return np.hstack(\n\u001b[0;32m--> 224\u001b[0;31m             [base(state, action) for state, base in zip(states, self._bases)])\n\u001b[0m\u001b[1;32m    225\u001b[0m \u001b[0;34m\u001b[0m\u001b[0m\n\u001b[1;32m    226\u001b[0m \u001b[0;34m\u001b[0m\u001b[0m\n",
      "\u001b[0;32m/home/cannon/reinforcement_learning/lspi/lspi/basis.pyc\u001b[0m in \u001b[0;36m__call__\u001b[0;34m(self, state, action)\u001b[0m\n\u001b[1;32m    207\u001b[0m         \u001b[0mstate\u001b[0m \u001b[0;34m=\u001b[0m \u001b[0mtoArray\u001b[0m\u001b[0;34m(\u001b[0m\u001b[0mstate\u001b[0m\u001b[0;34m)\u001b[0m\u001b[0;34m\u001b[0m\u001b[0m\n\u001b[1;32m    208\u001b[0m         \u001b[0mz\u001b[0m \u001b[0;34m=\u001b[0m \u001b[0mnp\u001b[0m\u001b[0;34m.\u001b[0m\u001b[0mhstack\u001b[0m\u001b[0;34m(\u001b[0m\u001b[0;34m[\u001b[0m\u001b[0maction\u001b[0m\u001b[0;34m.\u001b[0m\u001b[0mflatten\u001b[0m\u001b[0;34m(\u001b[0m\u001b[0;34m)\u001b[0m\u001b[0;34m,\u001b[0m \u001b[0mstate\u001b[0m\u001b[0;34m.\u001b[0m\u001b[0mflatten\u001b[0m\u001b[0;34m(\u001b[0m\u001b[0;34m)\u001b[0m\u001b[0;34m]\u001b[0m\u001b[0;34m)\u001b[0m\u001b[0;34m\u001b[0m\u001b[0m\n\u001b[0;32m--> 209\u001b[0;31m         \u001b[0;32mreturn\u001b[0m \u001b[0mnp\u001b[0m\u001b[0;34m.\u001b[0m\u001b[0marray\u001b[0m\u001b[0;34m(\u001b[0m\u001b[0;34m[\u001b[0m\u001b[0;36m1\u001b[0m\u001b[0;34m]\u001b[0m \u001b[0;34m+\u001b[0m \u001b[0;34m[\u001b[0m\u001b[0mz\u001b[0m\u001b[0;34m.\u001b[0m\u001b[0mdot\u001b[0m\u001b[0;34m(\u001b[0m\u001b[0mcoef\u001b[0m\u001b[0;34m)\u001b[0m\u001b[0;34m.\u001b[0m\u001b[0mdot\u001b[0m\u001b[0;34m(\u001b[0m\u001b[0mz\u001b[0m\u001b[0;34m)\u001b[0m \u001b[0;32mfor\u001b[0m \u001b[0mcoef\u001b[0m \u001b[0;32min\u001b[0m \u001b[0mself\u001b[0m\u001b[0;34m.\u001b[0m\u001b[0m_coefs\u001b[0m\u001b[0;34m]\u001b[0m\u001b[0;34m)\u001b[0m\u001b[0;34m\u001b[0m\u001b[0m\n\u001b[0m\u001b[1;32m    210\u001b[0m \u001b[0;34m\u001b[0m\u001b[0m\n\u001b[1;32m    211\u001b[0m \u001b[0;32mclass\u001b[0m \u001b[0mDiscreteQuadraticTupleBasis\u001b[0m\u001b[0;34m(\u001b[0m\u001b[0mBasis\u001b[0m\u001b[0;34m)\u001b[0m\u001b[0;34m:\u001b[0m\u001b[0;34m\u001b[0m\u001b[0m\n",
      "\u001b[0;31mKeyboardInterrupt\u001b[0m: "
     ]
    }
   ],
   "source": [
    "rewards = []\n",
    "actions = []\n",
    "\n",
    "for episode in range(10):\n",
    "    state = env.reset()\n",
    "    done = False\n",
    "    cumr = 0\n",
    "    itr = 0\n",
    "    while not done and itr < 500:\n",
    "        action = lspi.policy(state)\n",
    "        state, reward, done, _ = env.step(action)\n",
    "#         done = cumr < -300 or state[0] > 0.5\n",
    "        cumr += reward\n",
    "#         env.render()\n",
    "#     print(cumr)\n",
    "        print(\"Action: {}, State: {}, Reward: {}\".format(action, state, reward))\n",
    "    rewards.append(cumr)\n",
    "#     print(\"Episode {episode}, Reward: {reward}\".format(episode=episode, reward=reward))\n",
    "rewards = np.array(rewards)"
   ]
  },
  {
   "cell_type": "code",
   "execution_count": 50,
   "metadata": {},
   "outputs": [
    {
     "data": {
      "text/plain": [
       "(array([-2.0943951,  2.0943951, -2.0943951]),)"
      ]
     },
     "execution_count": 50,
     "metadata": {},
     "output_type": "execute_result"
    }
   ],
   "source": [
    "env._actions[25]"
   ]
  }
 ],
 "metadata": {
  "kernelspec": {
   "display_name": "Python 2",
   "language": "python",
   "name": "python2"
  },
  "language_info": {
   "codemirror_mode": {
    "name": "ipython",
    "version": 2
   },
   "file_extension": ".py",
   "mimetype": "text/x-python",
   "name": "python",
   "nbconvert_exporter": "python",
   "pygments_lexer": "ipython2",
   "version": "2.7.12"
  }
 },
 "nbformat": 4,
 "nbformat_minor": 2
}
