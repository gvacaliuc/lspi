{
 "cells": [
  {
   "cell_type": "markdown",
   "metadata": {},
   "source": [
    "# Least Squares Policy Iteration"
   ]
  },
  {
   "cell_type": "code",
   "execution_count": 1,
   "metadata": {},
   "outputs": [],
   "source": [
    "import numpy as np\n",
    "import matplotlib.pyplot as plt\n",
    "%matplotlib inline"
   ]
  },
  {
   "cell_type": "code",
   "execution_count": 3,
   "metadata": {},
   "outputs": [],
   "source": [
    "plt.rcParams[\"figure.figsize\"] = 10, 6"
   ]
  },
  {
   "cell_type": "code",
   "execution_count": 4,
   "metadata": {},
   "outputs": [],
   "source": [
    "%load_ext autoreload\n",
    "%autoreload 2"
   ]
  },
  {
   "cell_type": "markdown",
   "metadata": {},
   "source": [
    "## Environment\n",
    "\n",
    "Let's get a really simple environment going -- we'll try to replicate\n",
    "the paper's results with the [NChain-v0](https://gym.openai.com/envs/NChain-v0/) \n",
    "environment.  The environment wrapped up in OpenAI puts a large reward at the\n",
    "end of the chain, so the optimal strategy is always to go right.  The problem\n",
    "is made slightly more difficult in that there is a high probability of \n",
    "movement error, and you always receive a small reward for going left.\n",
    "\n",
    "We can solve this pretty easily (1-3 iterations of LSPI with only quadratic \n",
    "basis functions)."
   ]
  },
  {
   "cell_type": "code",
   "execution_count": 5,
   "metadata": {},
   "outputs": [],
   "source": [
    "import gym"
   ]
  },
  {
   "cell_type": "code",
   "execution_count": 6,
   "metadata": {},
   "outputs": [
    {
     "data": {
      "text/plain": [
       "0"
      ]
     },
     "execution_count": 6,
     "metadata": {},
     "output_type": "execute_result"
    }
   ],
   "source": [
    "length = 10\n",
    "\n",
    "env = gym.make('NChain-v0', n=length)\n",
    "env.reset()"
   ]
  },
  {
   "cell_type": "code",
   "execution_count": 7,
   "metadata": {},
   "outputs": [
    {
     "data": {
      "text/plain": [
       "Discrete(2)"
      ]
     },
     "execution_count": 7,
     "metadata": {},
     "output_type": "execute_result"
    }
   ],
   "source": [
    "env.action_space"
   ]
  },
  {
   "cell_type": "code",
   "execution_count": 8,
   "metadata": {},
   "outputs": [
    {
     "data": {
      "text/plain": [
       "Discrete(10)"
      ]
     },
     "execution_count": 8,
     "metadata": {},
     "output_type": "execute_result"
    }
   ],
   "source": [
    "env.observation_space"
   ]
  },
  {
   "cell_type": "code",
   "execution_count": 9,
   "metadata": {},
   "outputs": [],
   "source": [
    "obs, reward, done, _ = env.step(0)"
   ]
  },
  {
   "cell_type": "markdown",
   "metadata": {},
   "source": [
    "## LSTDQ: Least Squares Temporal Difference Q-Learning"
   ]
  },
  {
   "cell_type": "code",
   "execution_count": 10,
   "metadata": {},
   "outputs": [],
   "source": [
    "import abc\n",
    "\n",
    "class Policy(object, metaclass=abc.ABCMeta):\n",
    "    @abc.abstractmethod\n",
    "    def __call__(self, state):\n",
    "        \"\"\"\n",
    "        Returns an action to take given a state.\n",
    "        \"\"\"\n",
    "        pass\n",
    "    \n",
    "    @abc.abstractmethod\n",
    "    def update(self, weights) -> float:\n",
    "        \"\"\"\n",
    "        Returns the \"difference\" between the current weights, and new weights.\n",
    "        \"\"\"\n",
    "        pass\n",
    "    \n",
    "class RandomPolicy(Policy):\n",
    "    \n",
    "    def __init__(self, env: gym.Env):\n",
    "        \"\"\"\n",
    "        Creates a random policy.\n",
    "        \"\"\"\n",
    "        self._env = env\n",
    "        \n",
    "    def __call__(self, state):\n",
    "        assert state in self._env.observation_space\n",
    "        return self._env.action_space.sample()\n",
    "    \n",
    "    def update(self, weights):\n",
    "        return 0.0"
   ]
  },
  {
   "cell_type": "code",
   "execution_count": 11,
   "metadata": {},
   "outputs": [],
   "source": [
    "class Basis(object, metaclass=abc.ABCMeta):\n",
    "    \"\"\"\n",
    "    Class to represent our basis functions.\n",
    "    \"\"\"\n",
    "    \n",
    "    @abc.abstractmethod\n",
    "    def __call__(self, state, action) -> np.ndarray:\n",
    "        \"\"\"\n",
    "        Returns a numpy array of each basis function evaluated at \n",
    "        the state and action specified.\n",
    "        \"\"\"\n",
    "        \n",
    "        pass\n",
    "    \n",
    "    @abc.abstractproperty\n",
    "    def rank(self) -> int:\n",
    "        \"\"\"\n",
    "        Returns the rank of this basis.\n",
    "        \"\"\"\n",
    "        \n",
    "        pass\n",
    "    \n",
    "class IndActionPolyStateBasis(Basis):\n",
    "    \"\"\"\n",
    "    Implements a basis that provides bases polynomial in state, \n",
    "    each of which is multipled by an indicator varible for each \n",
    "    action.\n",
    "    \"\"\"\n",
    "    \n",
    "    def __init__(self, action_space: gym.spaces.Discrete, observation_space: gym.spaces.Space, order: int = 2):\n",
    "        \n",
    "        self._action_space = action_space\n",
    "        self._observation_space = observation_space\n",
    "        \n",
    "        self._num_actions = self._action_space.n\n",
    "        self._observation_dim = np.product(self._observation_space.shape) if len(self._observation_space.shape) else 1\n",
    "        \n",
    "        # rank of this basis\n",
    "        self._order = order\n",
    "        self._rank = self._num_actions * self._observation_dim * (self._order + 1)\n",
    "        \n",
    "    @property\n",
    "    def rank(self):\n",
    "        return self._rank\n",
    "    \n",
    "    def _eval_polynomial(self, state):\n",
    "        \"\"\"\n",
    "        Evaluates our polynomial basis functions at each element of the given state,\n",
    "        which is either a single number or an array.\n",
    "        \"\"\"\n",
    "        \n",
    "        return np.array([state**power for power in range(self._order + 1)]).flatten()\n",
    "    \n",
    "    def __call__(self, state, action):\n",
    "        \"\"\"\n",
    "        Computes the function ϕ(s, a) for this basis.\n",
    "        \"\"\"\n",
    "        \n",
    "        assert state in self._observation_space\n",
    "        assert action in self._action_space\n",
    "        \n",
    "        phi = np.zeros(self.rank)\n",
    "        dim = self.rank // self._num_actions\n",
    "        \n",
    "        phi[action * dim: (action + 1) * dim] = self._eval_polynomial(state)\n",
    "        \n",
    "        return phi"
   ]
  },
  {
   "cell_type": "code",
   "execution_count": 12,
   "metadata": {},
   "outputs": [
    {
     "data": {
      "text/plain": [
       "array([ 0.,  0.,  0.,  1.,  2.,  4.])"
      ]
     },
     "execution_count": 12,
     "metadata": {},
     "output_type": "execute_result"
    }
   ],
   "source": [
    "basis = IndActionPolyStateBasis(action_space=gym.spaces.Discrete(2), observation_space=gym.spaces.Discrete(10), order=2)\n",
    "basis(2, 1)"
   ]
  },
  {
   "cell_type": "code",
   "execution_count": 13,
   "metadata": {},
   "outputs": [
    {
     "data": {
      "text/plain": [
       "array([ 0.  ,  0.  ,  0.  ,  0.  ,  0.  ,  0.  ,  0.  ,  0.  ,  0.  ,\n",
       "        0.  ,  0.  ,  0.  ,  1.  ,  1.  ,  1.  ,  1.  ,  0.1 ,  0.1 ,\n",
       "        0.1 ,  0.1 ,  0.01,  0.01,  0.01,  0.01])"
      ]
     },
     "execution_count": 13,
     "metadata": {},
     "output_type": "execute_result"
    }
   ],
   "source": [
    "basis = IndActionPolyStateBasis(action_space=gym.spaces.Discrete(2), observation_space=gym.make(\"CartPole-v0\").observation_space, order=2)\n",
    "basis(np.ones(4) * 0.1, 1)"
   ]
  },
  {
   "cell_type": "code",
   "execution_count": 14,
   "metadata": {},
   "outputs": [],
   "source": [
    "from typing import Iterable, List\n",
    "from numpy.linalg import LinAlgError\n",
    "\n",
    "class LSTDQ(object):\n",
    "    \n",
    "    def __init__(self, basis: Basis, discount = 0.9, gamma = 1e-3):\n",
    "        \n",
    "        self._basis = basis\n",
    "        self._k = self._basis.rank\n",
    "        self._discount = discount\n",
    "        self._gamma = gamma\n",
    "        \n",
    "    def fit(self, data: Iterable, policy: Policy):\n",
    "        \"\"\"\n",
    "        Performs an iteration of LSTDQ.  \n",
    "        \"\"\"\n",
    "        \n",
    "        A = np.eye(self._k) * self._gamma\n",
    "        b = np.zeros((self._k,))\n",
    "        \n",
    "        for state, action, reward, nextstate in data:\n",
    "            phi = self._basis(state, action)\n",
    "            phiprime = self._basis(nextstate, policy(nextstate))\n",
    "            \n",
    "            A += np.outer(phi, phi - self._discount * phiprime)\n",
    "            b += reward * phi\n",
    "            \n",
    "        try:\n",
    "            self.weights_ = np.linalg.inv(A) @ b\n",
    "        except LinAlgError as e:\n",
    "            print(f\"A is uninvertable:\\n {A}\")\n",
    "            self.weights_ = np.zeros((self._k,))\n",
    "        \n",
    "        return self"
   ]
  },
  {
   "cell_type": "code",
   "execution_count": 80,
   "metadata": {},
   "outputs": [],
   "source": [
    "def generate_sample_data(num_samples, env: gym.Env, policy: Policy):\n",
    "    \n",
    "    state = env.reset()\n",
    "    \n",
    "    data = []\n",
    "    \n",
    "    for _ in range(int(num_samples)):\n",
    "        action = policy(state)\n",
    "        nextstate, reward, done, _ = env.step(action)\n",
    "        data.append((state, action, reward, nextstate))\n",
    "        \n",
    "        if done:\n",
    "            state = env.reset()\n",
    "        else:\n",
    "            state = nextstate\n",
    "        \n",
    "    return data"
   ]
  },
  {
   "cell_type": "code",
   "execution_count": 17,
   "metadata": {},
   "outputs": [],
   "source": [
    "data = generate_sample_data(1e3, env, RandomPolicy(env))\n",
    "\n",
    "basis = IndActionPolyStateBasis(env.action_space, env.observation_space, order=2)\n",
    "lstdq = LSTDQ(basis, discount=0.1)\n",
    "lstdq = lstdq.fit(data, RandomPolicy(env))"
   ]
  },
  {
   "cell_type": "code",
   "execution_count": 19,
   "metadata": {},
   "outputs": [],
   "source": [
    "class DiscreteActionBasisPolicy(Policy):\n",
    "    \n",
    "    def __init__(self, space: gym.spaces.Discrete, basis: Basis, weights: np.ndarray):\n",
    "        \n",
    "        self._space = space\n",
    "        \n",
    "        assert basis.rank == len(weights)\n",
    "        self._basis = basis\n",
    "        self._weights = weights\n",
    "        \n",
    "        self.history_ = [self._weights]\n",
    "        \n",
    "    def __call__(self, state):\n",
    "        \"\"\"\n",
    "        Returns the optimal action at this state.\n",
    "        \"\"\"\n",
    "        \n",
    "        qvalues = np.zeros(self._space.n)\n",
    "        for action in range(self._space.n):\n",
    "            phi = self._basis(state, action)\n",
    "            qvalues[action] = phi @ self._weights\n",
    "            \n",
    "        return np.argmax(qvalues)\n",
    "    \n",
    "    def update(self, weights):\n",
    "        \"\"\"\n",
    "        Updates the weights of this policy.\n",
    "        \"\"\"\n",
    "        \n",
    "        self.history_.append(weights)\n",
    "        \n",
    "        diff = np.linalg.norm(self._weights - weights)\n",
    "        self._weights = weights\n",
    "        return diff"
   ]
  },
  {
   "cell_type": "code",
   "execution_count": 20,
   "metadata": {},
   "outputs": [
    {
     "data": {
      "text/plain": [
       "1"
      ]
     },
     "execution_count": 20,
     "metadata": {},
     "output_type": "execute_result"
    }
   ],
   "source": [
    "basis = IndActionPolyStateBasis(env.action_space, env.observation_space, order=2)\n",
    "dabp = DiscreteActionBasisPolicy(env.action_space, basis, lstdq.weights_)\n",
    "dabp(1)"
   ]
  },
  {
   "cell_type": "code",
   "execution_count": 21,
   "metadata": {},
   "outputs": [],
   "source": [
    "class LSPI(object):\n",
    "    \n",
    "    def __init__(self, optimizer: LSTDQ, policy: Policy, max_iter = 50, epsilon = 1e-3):\n",
    "        \n",
    "        self._optimizer = optimizer\n",
    "        self._policy = policy\n",
    "        \n",
    "        self._max_iter = max_iter\n",
    "        self._epsilon = epsilon\n",
    "        \n",
    "    def fit(self, data: List):\n",
    "        \n",
    "        for self.itr_ in range(self._max_iter):\n",
    "            self._optimizer.fit(data, self._policy)\n",
    "            diff = self._policy.update(self._optimizer.weights_)\n",
    "#             print(self._optimizer.weights_)\n",
    "#             print(diff)\n",
    "            if (diff < self._epsilon):\n",
    "                break\n",
    "                \n",
    "        return self\n",
    "    \n",
    "    @property\n",
    "    def policy(self):\n",
    "        return self._policy"
   ]
  },
  {
   "cell_type": "markdown",
   "metadata": {},
   "source": [
    "## Running LSPI on OpenAI's NChain-v0 environment"
   ]
  },
  {
   "cell_type": "code",
   "execution_count": 24,
   "metadata": {},
   "outputs": [],
   "source": [
    "data = generate_sample_data(1e3, env, RandomPolicy(env))\n",
    "lstdq = LSTDQ(basis, discount=0.7)\n",
    "basis = IndActionPolyStateBasis(env.action_space, env.observation_space, order = 2)\n",
    "dabp = DiscreteActionBasisPolicy(env.action_space, basis, np.zeros(basis.rank))"
   ]
  },
  {
   "cell_type": "code",
   "execution_count": 25,
   "metadata": {},
   "outputs": [
    {
     "data": {
      "text/plain": [
       "<__main__.LSPI at 0x7fa3837ab4a8>"
      ]
     },
     "execution_count": 25,
     "metadata": {},
     "output_type": "execute_result"
    }
   ],
   "source": [
    "lspi = LSPI(lstdq, dabp, max_iter=50, epsilon=1e-5)\n",
    "lspi.fit(data)"
   ]
  },
  {
   "cell_type": "code",
   "execution_count": 26,
   "metadata": {},
   "outputs": [
    {
     "data": {
      "text/plain": [
       "3"
      ]
     },
     "execution_count": 26,
     "metadata": {},
     "output_type": "execute_result"
    }
   ],
   "source": [
    "lspi.itr_"
   ]
  },
  {
   "cell_type": "code",
   "execution_count": 27,
   "metadata": {},
   "outputs": [
    {
     "name": "stdout",
     "output_type": "stream",
     "text": [
      "1\n",
      "1\n",
      "1\n",
      "1\n",
      "1\n",
      "1\n",
      "1\n",
      "1\n",
      "1\n",
      "1\n"
     ]
    }
   ],
   "source": [
    "for state in range(env.observation_space.n):\n",
    "    print(lspi.policy(state))"
   ]
  },
  {
   "cell_type": "markdown",
   "metadata": {},
   "source": [
    "As desired, the learned optimal action for all states is to move to the right."
   ]
  },
  {
   "cell_type": "code",
   "execution_count": 28,
   "metadata": {},
   "outputs": [
    {
     "data": {
      "text/plain": [
       "<matplotlib.legend.Legend at 0x7fa383528c50>"
      ]
     },
     "execution_count": 28,
     "metadata": {},
     "output_type": "execute_result"
    },
    {
     "data": {
      "image/png": "[encoded data removed]",
      "text/plain": [
       "<Figure size 720x432 with 1 Axes>"
      ]
     },
     "metadata": {
      "needs_background": "light"
     },
     "output_type": "display_data"
    }
   ],
   "source": [
    "for ind, line in enumerate(lspi.policy.history_):\n",
    "    plt.plot(line, label=f\"{ind}\")\n",
    "plt.legend()"
   ]
  },
  {
   "cell_type": "markdown",
   "metadata": {},
   "source": [
    "## More complicated chain problems\n",
    "\n",
    "In the [LSPI paper](https://www2.cs.duke.edu/research/AI/LSPI/) they test on some more complex chains:  \n",
    "\n",
    "* chains with rewards on either end \n",
    "* chains with rewards in the middle\n",
    "\n",
    "I grabbed [the NChain-v0 code](https://github.com/openai/gym/blob/master/gym/envs/toy_text/nchain.py)\n",
    "from OpenAI's github, and modified it \n",
    "to support chains of this structure in the file \n",
    "[environments.py](./environments.py)."
   ]
  },
  {
   "cell_type": "code",
   "execution_count": 43,
   "metadata": {},
   "outputs": [],
   "source": [
    "from environments import NChainEnv\n",
    "\n",
    "length = 10\n",
    "\n",
    "# first and last states have a reward\n",
    "reward = np.zeros(length)\n",
    "reward[2] = 1\n",
    "reward[7] = 1\n",
    "\n",
    "env = NChainEnv(reward, slip=0.0, wrap=False)"
   ]
  },
  {
   "cell_type": "code",
   "execution_count": 52,
   "metadata": {},
   "outputs": [],
   "source": [
    "data = generate_sample_data(1e4, env, RandomPolicy(env))\n",
    "basis = IndActionPolyStateBasis(env.action_space, env.observation_space, order=3)\n",
    "lstdq = LSTDQ(basis, discount=0.7)\n",
    "dabp = DiscreteActionBasisPolicy(env.action_space, basis, np.zeros(basis.rank))"
   ]
  },
  {
   "cell_type": "code",
   "execution_count": 53,
   "metadata": {},
   "outputs": [
    {
     "data": {
      "text/plain": [
       "<__main__.LSPI at 0x7fa38320b668>"
      ]
     },
     "execution_count": 53,
     "metadata": {},
     "output_type": "execute_result"
    }
   ],
   "source": [
    "lspi = LSPI(lstdq, dabp, max_iter=100, epsilon=1e-3)\n",
    "lspi.fit(data)"
   ]
  },
  {
   "cell_type": "code",
   "execution_count": 54,
   "metadata": {},
   "outputs": [
    {
     "data": {
      "text/plain": [
       "4"
      ]
     },
     "execution_count": 54,
     "metadata": {},
     "output_type": "execute_result"
    }
   ],
   "source": [
    "lspi.itr_"
   ]
  },
  {
   "cell_type": "code",
   "execution_count": 55,
   "metadata": {},
   "outputs": [
    {
     "data": {
      "text/plain": [
       "[1, 1, 0, 0, 0, 1, 1, 1, 0, 0]"
      ]
     },
     "execution_count": 55,
     "metadata": {},
     "output_type": "execute_result"
    }
   ],
   "source": [
    "policy = [lspi.policy(state) for state in range(env.observation_space.n)]\n",
    "policy"
   ]
  },
  {
   "cell_type": "code",
   "execution_count": 56,
   "metadata": {},
   "outputs": [],
   "source": [
    "expected = np.array([1, 1, 0, 0, 0, 1, 1, 1, 0, 0])"
   ]
  },
  {
   "cell_type": "code",
   "execution_count": 57,
   "metadata": {},
   "outputs": [],
   "source": [
    "policies = []\n",
    "for test in range(20):\n",
    "    lspi.fit(data)\n",
    "    policy = [lspi.policy(state) for state in range(env.observation_space.n)]\n",
    "    policies.append(policy)"
   ]
  },
  {
   "cell_type": "code",
   "execution_count": 58,
   "metadata": {},
   "outputs": [
    {
     "data": {
      "text/plain": [
       "1.0"
      ]
     },
     "execution_count": 58,
     "metadata": {},
     "output_type": "execute_result"
    }
   ],
   "source": [
    "np.mean([pol == expected for pol in policies])"
   ]
  },
  {
   "cell_type": "markdown",
   "metadata": {},
   "source": [
    "## Cartpole"
   ]
  },
  {
   "cell_type": "code",
   "execution_count": 59,
   "metadata": {},
   "outputs": [],
   "source": [
    "env = gym.make(\"CartPole-v0\")"
   ]
  },
  {
   "cell_type": "code",
   "execution_count": 60,
   "metadata": {},
   "outputs": [
    {
     "data": {
      "text/plain": [
       "<TimeLimit<CartPoleEnv<CartPole-v0>>>"
      ]
     },
     "execution_count": 60,
     "metadata": {},
     "output_type": "execute_result"
    }
   ],
   "source": [
    "env"
   ]
  },
  {
   "cell_type": "code",
   "execution_count": 61,
   "metadata": {},
   "outputs": [
    {
     "data": {
      "text/plain": [
       "Discrete(2)"
      ]
     },
     "execution_count": 61,
     "metadata": {},
     "output_type": "execute_result"
    }
   ],
   "source": [
    "env.action_space"
   ]
  },
  {
   "cell_type": "code",
   "execution_count": 62,
   "metadata": {},
   "outputs": [
    {
     "data": {
      "text/plain": [
       "Box(4,)"
      ]
     },
     "execution_count": 62,
     "metadata": {},
     "output_type": "execute_result"
    }
   ],
   "source": [
    "env.observation_space"
   ]
  },
  {
   "cell_type": "code",
   "execution_count": 64,
   "metadata": {},
   "outputs": [],
   "source": [
    "state = env.reset()"
   ]
  },
  {
   "cell_type": "code",
   "execution_count": 65,
   "metadata": {},
   "outputs": [
    {
     "data": {
      "text/plain": [
       "array([-0.02951925,  0.00054079, -0.02180742, -0.02778502])"
      ]
     },
     "execution_count": 65,
     "metadata": {},
     "output_type": "execute_result"
    }
   ],
   "source": [
    "state"
   ]
  },
  {
   "cell_type": "code",
   "execution_count": 118,
   "metadata": {},
   "outputs": [],
   "source": [
    "data = generate_sample_data(1e4, env, RandomPolicy(env))\n",
    "basis = IndActionPolyStateBasis(env.action_space, env.observation_space, order=8)\n",
    "lstdq = LSTDQ(basis, discount=0.7)\n",
    "dabp = DiscreteActionBasisPolicy(env.action_space, basis, np.zeros(basis.rank))"
   ]
  },
  {
   "cell_type": "code",
   "execution_count": 119,
   "metadata": {},
   "outputs": [
    {
     "data": {
      "text/plain": [
       "<__main__.LSPI at 0x7fa37f9b3160>"
      ]
     },
     "execution_count": 119,
     "metadata": {},
     "output_type": "execute_result"
    }
   ],
   "source": [
    "lspi = LSPI(lstdq, dabp, max_iter=50, epsilon=1e-3)\n",
    "lspi.fit(data)"
   ]
  },
  {
   "cell_type": "code",
   "execution_count": 120,
   "metadata": {},
   "outputs": [
    {
     "data": {
      "text/plain": [
       "15"
      ]
     },
     "execution_count": 120,
     "metadata": {},
     "output_type": "execute_result"
    }
   ],
   "source": [
    "lspi.itr_"
   ]
  },
  {
   "cell_type": "code",
   "execution_count": null,
   "metadata": {},
   "outputs": [],
   "source": [
    "for ind, line in enumerate(lspi.policy.history_):\n",
    "    plt.plot(line, label=f\"{ind}\")\n",
    "plt.legend()"
   ]
  },
  {
   "cell_type": "code",
   "execution_count": 121,
   "metadata": {},
   "outputs": [],
   "source": [
    "numsteps = []\n",
    "\n",
    "for episode in range(1000):\n",
    "    state = env.reset()\n",
    "    done = False\n",
    "    steps = 0\n",
    "    while not done:\n",
    "        action = lspi.policy(state)\n",
    "        state, reward, done, _ = env.step(action)\n",
    "        steps += 1\n",
    "    numsteps.append(steps)\n",
    "#     print(f\"Episode {episode}, Steps: {steps}\")"
   ]
  },
  {
   "cell_type": "code",
   "execution_count": 122,
   "metadata": {},
   "outputs": [
    {
     "data": {
      "text/plain": [
       "(array([ 111.,    0.,    0.,  412.,    0.,    0.,  432.,    0.,    0.,   45.]),\n",
       " array([  8. ,   8.3,   8.6,   8.9,   9.2,   9.5,   9.8,  10.1,  10.4,\n",
       "         10.7,  11. ]),\n",
       " <a list of 10 Patch objects>)"
      ]
     },
     "execution_count": 122,
     "metadata": {},
     "output_type": "execute_result"
    },
    {
     "data": {
      "image/png": "[encoded data removed]",
      "text/plain": [
       "<Figure size 720x432 with 1 Axes>"
      ]
     },
     "metadata": {
      "needs_background": "light"
     },
     "output_type": "display_data"
    }
   ],
   "source": [
    "plt.hist(numsteps)"
   ]
  },
  {
   "cell_type": "code",
   "execution_count": 107,
   "metadata": {},
   "outputs": [],
   "source": [
    "numsteps = []\n",
    "policy = RandomPolicy(env)\n",
    "\n",
    "for episode in range(1000):\n",
    "    state = env.reset()\n",
    "    done = False\n",
    "    steps = 0\n",
    "    while not done:\n",
    "        action = policy(state)\n",
    "        state, reward, done, _ = env.step(action)\n",
    "        steps += 1\n",
    "    numsteps.append(steps)\n",
    "#     print(f\"Episode {episode}, Steps: {steps}\")"
   ]
  },
  {
   "cell_type": "code",
   "execution_count": 108,
   "metadata": {},
   "outputs": [
    {
     "data": {
      "text/plain": [
       "(array([ 369.,  345.,  172.,   70.,   21.,   10.,    9.,    2.,    1.,    1.]),\n",
       " array([  8.,  17.,  26.,  35.,  44.,  53.,  62.,  71.,  80.,  89.,  98.]),\n",
       " <a list of 10 Patch objects>)"
      ]
     },
     "execution_count": 108,
     "metadata": {},
     "output_type": "execute_result"
    },
    {
     "data": {
      "image/png": "[encoded data removed]",
      "text/plain": [
       "<Figure size 720x432 with 1 Axes>"
      ]
     },
     "metadata": {
      "needs_background": "light"
     },
     "output_type": "display_data"
    }
   ],
   "source": [
    "plt.hist(numsteps)"
   ]
  }
 ],
 "metadata": {
  "kernelspec": {
   "display_name": "Python 3",
   "language": "python",
   "name": "python3"
  },
  "language_info": {
   "codemirror_mode": {
    "name": "ipython",
    "version": 3
   },
   "file_extension": ".py",
   "mimetype": "text/x-python",
   "name": "python",
   "nbconvert_exporter": "python",
   "pygments_lexer": "ipython3",
   "version": "3.6.8"
  }
 },
 "nbformat": 4,
 "nbformat_minor": 2
}
