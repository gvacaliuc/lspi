{
 "cells": [
  {
   "cell_type": "markdown",
   "metadata": {},
   "source": [
    "# Least Squares Policy Iteration"
   ]
  },
  {
   "cell_type": "code",
   "execution_count": 208,
   "metadata": {},
   "outputs": [],
   "source": [
    "import numpy as np\n",
    "import matplotlib.pyplot as plt\n",
    "%matplotlib inline"
   ]
  },
  {
   "cell_type": "code",
   "execution_count": 209,
   "metadata": {},
   "outputs": [],
   "source": [
    "plt.rcParams[\"figure.figsize\"] = 10, 6"
   ]
  },
  {
   "cell_type": "code",
   "execution_count": 210,
   "metadata": {},
   "outputs": [
    {
     "name": "stdout",
     "output_type": "stream",
     "text": [
      "The autoreload extension is already loaded. To reload it, use:\n",
      "  %reload_ext autoreload\n"
     ]
    }
   ],
   "source": [
    "%load_ext autoreload\n",
    "%autoreload 2"
   ]
  },
  {
   "cell_type": "markdown",
   "metadata": {},
   "source": [
    "## Environment\n",
    "\n",
    "Let's get a really simple environment going -- we'll try to replicate\n",
    "the paper's results with the [NChain-v0](https://gym.openai.com/envs/NChain-v0/) \n",
    "environment.  The environment wrapped up in OpenAI puts a large reward at the\n",
    "end of the chain, so the optimal strategy is always to go right.  The problem\n",
    "is made slightly more difficult in that there is a high probability of \n",
    "movement error, and you always receive a small reward for going left.\n",
    "\n",
    "We can solve this pretty easily (1-3 iterations of LSPI with only quadratic \n",
    "basis functions)."
   ]
  },
  {
   "cell_type": "code",
   "execution_count": 211,
   "metadata": {},
   "outputs": [],
   "source": [
    "import gym"
   ]
  },
  {
   "cell_type": "code",
   "execution_count": 212,
   "metadata": {},
   "outputs": [
    {
     "data": {
      "text/plain": [
       "0"
      ]
     },
     "execution_count": 212,
     "metadata": {},
     "output_type": "execute_result"
    }
   ],
   "source": [
    "length = 10\n",
    "\n",
    "env = gym.make('NChain-v0', n=length)\n",
    "env.reset()"
   ]
  },
  {
   "cell_type": "code",
   "execution_count": 213,
   "metadata": {},
   "outputs": [
    {
     "data": {
      "text/plain": [
       "Discrete(2)"
      ]
     },
     "execution_count": 213,
     "metadata": {},
     "output_type": "execute_result"
    }
   ],
   "source": [
    "env.action_space"
   ]
  },
  {
   "cell_type": "code",
   "execution_count": 214,
   "metadata": {},
   "outputs": [
    {
     "data": {
      "text/plain": [
       "Discrete(10)"
      ]
     },
     "execution_count": 214,
     "metadata": {},
     "output_type": "execute_result"
    }
   ],
   "source": [
    "env.observation_space"
   ]
  },
  {
   "cell_type": "code",
   "execution_count": 215,
   "metadata": {},
   "outputs": [],
   "source": [
    "obs, reward, done, _ = env.step(0)"
   ]
  },
  {
   "cell_type": "markdown",
   "metadata": {},
   "source": [
    "## LSTDQ: Least Squares Temporal Difference Q-Learning"
   ]
  },
  {
   "cell_type": "code",
   "execution_count": 216,
   "metadata": {},
   "outputs": [],
   "source": [
    "import abc\n",
    "\n",
    "class Policy(object, metaclass=abc.ABCMeta):\n",
    "    @abc.abstractmethod\n",
    "    def __call__(self, state):\n",
    "        \"\"\"\n",
    "        Returns an action to take given a state.\n",
    "        \"\"\"\n",
    "        pass\n",
    "    \n",
    "    @abc.abstractmethod\n",
    "    def update(self, weights) -> float:\n",
    "        \"\"\"\n",
    "        Returns the \"difference\" between the current weights, and new weights.\n",
    "        \"\"\"\n",
    "        pass\n",
    "    \n",
    "class RandomPolicy(Policy):\n",
    "    \n",
    "    def __init__(self, env: gym.Env):\n",
    "        \"\"\"\n",
    "        Creates a random policy.\n",
    "        \"\"\"\n",
    "        self._env = env\n",
    "        \n",
    "    def __call__(self, state):\n",
    "        assert(state in self._env.observation_space)\n",
    "        return self._env.action_space.sample()\n",
    "    \n",
    "    def update(self, weights):\n",
    "        return 0.0"
   ]
  },
  {
   "cell_type": "code",
   "execution_count": 217,
   "metadata": {},
   "outputs": [],
   "source": [
    "from typing import Iterable, List\n",
    "from numpy.linalg import LinAlgError\n",
    "\n",
    "class LSTDQ(object):\n",
    "    \n",
    "    def __init__(self, bases, discount = 0.9, gamma = 1e-3):\n",
    "        \n",
    "        self._bases = bases\n",
    "        self._k = len(bases)\n",
    "        self._discount = discount\n",
    "        self._gamma = gamma\n",
    "        \n",
    "    def fit(self, data: Iterable, policy: Policy):\n",
    "        \"\"\"\n",
    "        Performs an iteration of LSTDQ.  \n",
    "        \"\"\"\n",
    "        \n",
    "        A = np.eye(self._k) * self._gamma\n",
    "        b = np.zeros((self._k,))\n",
    "        \n",
    "        for state, action, reward, nextstate in data:\n",
    "            phi = np.array([basis(state, action) for basis in self._bases])\n",
    "            phiprime = np.array([basis(nextstate, policy(nextstate)) for basis in self._bases])\n",
    "            \n",
    "            A += np.outer(phi, phi - self._discount * phiprime)\n",
    "            b += reward * phi\n",
    "            \n",
    "        try:\n",
    "            self.weights_ = np.linalg.inv(A) @ b\n",
    "        except LinAlgError as e:\n",
    "            print(f\"A is uninvertable:\\n {A}\")\n",
    "            self.weights_ = np.zeros((self._k,))\n",
    "        \n",
    "        return self"
   ]
  },
  {
   "cell_type": "code",
   "execution_count": 218,
   "metadata": {},
   "outputs": [],
   "source": [
    "def generate_sample_data(num_samples, env: gym.Env, policy: Policy):\n",
    "    \n",
    "    state = env.reset()\n",
    "    \n",
    "    data = []\n",
    "    \n",
    "    for _ in range(int(num_samples)):\n",
    "        action = policy(state)\n",
    "        \n",
    "        nextstate, reward, done, _ = env.step(action)\n",
    "        \n",
    "        data.append((state, action, reward, nextstate))\n",
    "        state = nextstate\n",
    "        \n",
    "    return data"
   ]
  },
  {
   "cell_type": "code",
   "execution_count": 219,
   "metadata": {},
   "outputs": [],
   "source": [
    "simple_chain_bases = [\n",
    "    lambda s, a: a * 1,\n",
    "    lambda s, a: a * s,\n",
    "    lambda s, a: a * s**2,\n",
    "    lambda s, a: (1 - a) * 1,\n",
    "    lambda s, a: (1 - a) * s,\n",
    "    lambda s, a: (1 - a) * s**2,\n",
    "]"
   ]
  },
  {
   "cell_type": "code",
   "execution_count": 220,
   "metadata": {},
   "outputs": [],
   "source": [
    "data = generate_sample_data(1e3, env, RandomPolicy(env))\n",
    "\n",
    "lstdq = LSTDQ(simple_chain_bases, discount=0.1)\n",
    "lstdq = lstdq.fit(data, RandomPolicy(env))"
   ]
  },
  {
   "cell_type": "code",
   "execution_count": 221,
   "metadata": {},
   "outputs": [],
   "source": [
    "class DiscreteActionBasisPolicy(Policy):\n",
    "    \n",
    "    def __init__(self, space: gym.spaces.Discrete, bases: List, weights: np.ndarray):\n",
    "        \n",
    "        self._space = space\n",
    "        \n",
    "        assert(len(bases) == len(weights))\n",
    "        self._bases = bases\n",
    "        self._weights = weights\n",
    "        \n",
    "        self.history_ = [self._weights]\n",
    "        \n",
    "    def __call__(self, state):\n",
    "        \"\"\"\n",
    "        Returns the optimal action at this state.\n",
    "        \"\"\"\n",
    "        \n",
    "        qvalues = np.zeros(self._space.n)\n",
    "        for action in range(self._space.n):\n",
    "            phi = np.array([basis(state, action) for basis in self._bases])\n",
    "            qvalues[action] = phi @ self._weights\n",
    "            \n",
    "        return np.argmax(qvalues)\n",
    "    \n",
    "    def update(self, weights):\n",
    "        \"\"\"\n",
    "        Updates the weights of this policy.\n",
    "        \"\"\"\n",
    "        \n",
    "        self.history_.append(weights)\n",
    "        \n",
    "        diff = np.linalg.norm(self._weights - weights)\n",
    "        self._weights = weights\n",
    "        return diff"
   ]
  },
  {
   "cell_type": "code",
   "execution_count": 222,
   "metadata": {},
   "outputs": [
    {
     "data": {
      "text/plain": [
       "1"
      ]
     },
     "execution_count": 222,
     "metadata": {},
     "output_type": "execute_result"
    }
   ],
   "source": [
    "dabp = DiscreteActionBasisPolicy(env.action_space, simple_chain_bases, lstdq.weights_)\n",
    "dabp(1)"
   ]
  },
  {
   "cell_type": "code",
   "execution_count": 296,
   "metadata": {},
   "outputs": [],
   "source": [
    "class LSPI(object):\n",
    "    \n",
    "    def __init__(self, optimizer: LSTDQ, policy: Policy, max_iter = 50, epsilon = 1e-3):\n",
    "        \n",
    "        self._optimizer = optimizer\n",
    "        self._policy = policy\n",
    "        \n",
    "        self._max_iter = max_iter\n",
    "        self._epsilon = epsilon\n",
    "        \n",
    "    def fit(self, data: List):\n",
    "        \n",
    "        for self.itr_ in range(self._max_iter):\n",
    "            self._optimizer.fit(data, self._policy)\n",
    "            diff = self._policy.update(self._optimizer.weights_)\n",
    "#             print(self._optimizer.weights_)\n",
    "#             print(diff)\n",
    "            if (diff < self._epsilon):\n",
    "                break\n",
    "                \n",
    "        return self\n",
    "    \n",
    "    @property\n",
    "    def policy(self):\n",
    "        return self._policy"
   ]
  },
  {
   "cell_type": "markdown",
   "metadata": {},
   "source": [
    "## Running LSPI on OpenAI's NChain-v0 environment"
   ]
  },
  {
   "cell_type": "code",
   "execution_count": 297,
   "metadata": {},
   "outputs": [],
   "source": [
    "data = generate_sample_data(1e3, env, RandomPolicy(env))\n",
    "lstdq = LSTDQ(simple_chain_bases, discount=0.7)\n",
    "dabp = DiscreteActionBasisPolicy(env.action_space, simple_chain_bases, np.zeros(len(simple_chain_bases)))"
   ]
  },
  {
   "cell_type": "code",
   "execution_count": 298,
   "metadata": {},
   "outputs": [
    {
     "data": {
      "text/plain": [
       "<__main__.LSPI at 0x7f5246e5e908>"
      ]
     },
     "execution_count": 298,
     "metadata": {},
     "output_type": "execute_result"
    }
   ],
   "source": [
    "lspi = LSPI(lstdq, dabp, max_iter=50, epsilon=1e-5)\n",
    "lspi.fit(data)"
   ]
  },
  {
   "cell_type": "code",
   "execution_count": 299,
   "metadata": {},
   "outputs": [
    {
     "data": {
      "text/plain": [
       "3"
      ]
     },
     "execution_count": 299,
     "metadata": {},
     "output_type": "execute_result"
    }
   ],
   "source": [
    "lspi.itr_"
   ]
  },
  {
   "cell_type": "code",
   "execution_count": 300,
   "metadata": {},
   "outputs": [
    {
     "name": "stdout",
     "output_type": "stream",
     "text": [
      "0\n",
      "0\n",
      "0\n",
      "0\n",
      "0\n",
      "1\n",
      "1\n",
      "1\n",
      "1\n",
      "1\n"
     ]
    }
   ],
   "source": [
    "for state in range(env.observation_space.n):\n",
    "    print(lspi.policy(state))"
   ]
  },
  {
   "cell_type": "markdown",
   "metadata": {},
   "source": [
    "As desired, the learned optimal action for all states is to move to the right."
   ]
  },
  {
   "cell_type": "code",
   "execution_count": 301,
   "metadata": {},
   "outputs": [
    {
     "data": {
      "text/plain": [
       "<matplotlib.legend.Legend at 0x7f5246e5e5c0>"
      ]
     },
     "execution_count": 301,
     "metadata": {},
     "output_type": "execute_result"
    },
    {
     "data": {
      "image/png": "[encoded data removed]",
      "text/plain": [
       "<Figure size 720x432 with 1 Axes>"
      ]
     },
     "metadata": {
      "needs_background": "light"
     },
     "output_type": "display_data"
    }
   ],
   "source": [
    "for ind, line in enumerate(lspi.policy.history_):\n",
    "    plt.plot(line, label=f\"{ind}\")\n",
    "plt.legend()"
   ]
  },
  {
   "cell_type": "markdown",
   "metadata": {},
   "source": [
    "## More complicated chain problems\n",
    "\n",
    "In the [LSPI paper](https://www2.cs.duke.edu/research/AI/LSPI/) they test on some more complex chains:  \n",
    "\n",
    "* chains with rewards on either end \n",
    "* chains with rewards in the middle\n",
    "\n",
    "I grabbed [the NChain-v0 code](https://github.com/openai/gym/blob/master/gym/envs/toy_text/nchain.py)\n",
    "from OpenAI's github, and modified it \n",
    "to support chains of this structure in the file \n",
    "[environments.py](./environments.py)."
   ]
  },
  {
   "cell_type": "code",
   "execution_count": 311,
   "metadata": {},
   "outputs": [],
   "source": [
    "from environments import NChainEnv\n",
    "\n",
    "length = 10\n",
    "\n",
    "reward = np.zeros(length)\n",
    "reward[1] = 1\n",
    "reward[9] = 1\n",
    "\n",
    "env = NChainEnv(reward, slip=0.0, wrap=False)"
   ]
  },
  {
   "cell_type": "code",
   "execution_count": 312,
   "metadata": {},
   "outputs": [],
   "source": [
    "data = generate_sample_data(1e4, env, RandomPolicy(env))\n",
    "lstdq = LSTDQ(simple_chain_bases, discount=0.8)\n",
    "dabp = DiscreteActionBasisPolicy(env.action_space, simple_chain_bases, np.zeros(len(simple_chain_bases)))"
   ]
  },
  {
   "cell_type": "code",
   "execution_count": 313,
   "metadata": {},
   "outputs": [
    {
     "data": {
      "text/plain": [
       "<__main__.LSPI at 0x7f52472ef358>"
      ]
     },
     "execution_count": 313,
     "metadata": {},
     "output_type": "execute_result"
    }
   ],
   "source": [
    "lspi = LSPI(lstdq, dabp, max_iter=100, epsilon=1e-3)\n",
    "lspi.fit(data)"
   ]
  },
  {
   "cell_type": "code",
   "execution_count": 314,
   "metadata": {},
   "outputs": [
    {
     "data": {
      "text/plain": [
       "4"
      ]
     },
     "execution_count": 314,
     "metadata": {},
     "output_type": "execute_result"
    }
   ],
   "source": [
    "lspi.itr_"
   ]
  },
  {
   "cell_type": "code",
   "execution_count": 316,
   "metadata": {},
   "outputs": [
    {
     "data": {
      "text/plain": [
       "[1, 1, 1, 1, 1, 1, 1, 1, 1, 1]"
      ]
     },
     "execution_count": 316,
     "metadata": {},
     "output_type": "execute_result"
    }
   ],
   "source": [
    "policy = [lspi.policy(state) for state in range(env.observation_space.n)]\n",
    "policy"
   ]
  },
  {
   "cell_type": "code",
   "execution_count": 317,
   "metadata": {},
   "outputs": [],
   "source": [
    "expected = [1, 0, 0, 0, 0, 1, 1, 1, 1, 1]"
   ]
  },
  {
   "cell_type": "code",
   "execution_count": 318,
   "metadata": {},
   "outputs": [],
   "source": [
    "policies = []\n",
    "for test in range(20):\n",
    "    lspi.fit(data)\n",
    "    policy = [lspi.policy(state) for state in range(env.observation_space.n)]\n",
    "    policies.append(policy)"
   ]
  },
  {
   "cell_type": "code",
   "execution_count": 319,
   "metadata": {},
   "outputs": [
    {
     "data": {
      "text/plain": [
       "0.0"
      ]
     },
     "execution_count": 319,
     "metadata": {},
     "output_type": "execute_result"
    }
   ],
   "source": [
    "np.mean([pol == expected for pol in policies])"
   ]
  },
  {
   "cell_type": "markdown",
   "metadata": {},
   "source": [
    "## Cartpole"
   ]
  },
  {
   "cell_type": "code",
   "execution_count": 324,
   "metadata": {},
   "outputs": [],
   "source": [
    "env = gym.make(\"CartPole-v0\")"
   ]
  },
  {
   "cell_type": "code",
   "execution_count": 325,
   "metadata": {},
   "outputs": [
    {
     "data": {
      "text/plain": [
       "<TimeLimit<CartPoleEnv<CartPole-v0>>>"
      ]
     },
     "execution_count": 325,
     "metadata": {},
     "output_type": "execute_result"
    }
   ],
   "source": [
    "env"
   ]
  },
  {
   "cell_type": "code",
   "execution_count": 326,
   "metadata": {},
   "outputs": [
    {
     "data": {
      "text/plain": [
       "Discrete(2)"
      ]
     },
     "execution_count": 326,
     "metadata": {},
     "output_type": "execute_result"
    }
   ],
   "source": [
    "env.action_space"
   ]
  },
  {
   "cell_type": "code",
   "execution_count": 327,
   "metadata": {},
   "outputs": [
    {
     "data": {
      "text/plain": [
       "Box(4,)"
      ]
     },
     "execution_count": 327,
     "metadata": {},
     "output_type": "execute_result"
    }
   ],
   "source": [
    "env.observation_space"
   ]
  },
  {
   "cell_type": "code",
   "execution_count": 328,
   "metadata": {},
   "outputs": [
    {
     "name": "stderr",
     "output_type": "stream",
     "text": [
      "/opt/conda/lib/python3.6/site-packages/gym/logger.py:30: UserWarning: \u001b[33mWARN: You are calling 'step()' even though this environment has already returned done = True. You should always call 'reset()' once you receive 'done = True' -- any further steps are undefined behavior.\u001b[0m\n",
      "  warnings.warn(colorize('%s: %s'%('WARN', msg % args), 'yellow'))\n"
     ]
    },
    {
     "ename": "AssertionError",
     "evalue": "",
     "output_type": "error",
     "traceback": [
      "\u001b[0;31m---------------------------------------------------------------------------\u001b[0m",
      "\u001b[0;31mAssertionError\u001b[0m                            Traceback (most recent call last)",
      "\u001b[0;32m<ipython-input-328-5d935e6a8263>\u001b[0m in \u001b[0;36m<module>\u001b[0;34m\u001b[0m\n\u001b[0;32m----> 1\u001b[0;31m \u001b[0mdata\u001b[0m \u001b[0;34m=\u001b[0m \u001b[0mgenerate_sample_data\u001b[0m\u001b[0;34m(\u001b[0m\u001b[0;36m1e3\u001b[0m\u001b[0;34m,\u001b[0m \u001b[0menv\u001b[0m\u001b[0;34m,\u001b[0m \u001b[0mRandomPolicy\u001b[0m\u001b[0;34m(\u001b[0m\u001b[0menv\u001b[0m\u001b[0;34m)\u001b[0m\u001b[0;34m)\u001b[0m\u001b[0;34m\u001b[0m\u001b[0;34m\u001b[0m\u001b[0m\n\u001b[0m\u001b[1;32m      2\u001b[0m \u001b[0mlstdq\u001b[0m \u001b[0;34m=\u001b[0m \u001b[0mLSTDQ\u001b[0m\u001b[0;34m(\u001b[0m\u001b[0msimple_chain_bases\u001b[0m\u001b[0;34m,\u001b[0m \u001b[0mdiscount\u001b[0m\u001b[0;34m=\u001b[0m\u001b[0;36m0.7\u001b[0m\u001b[0;34m)\u001b[0m\u001b[0;34m\u001b[0m\u001b[0;34m\u001b[0m\u001b[0m\n\u001b[1;32m      3\u001b[0m \u001b[0mdabp\u001b[0m \u001b[0;34m=\u001b[0m \u001b[0mDiscreteActionBasisPolicy\u001b[0m\u001b[0;34m(\u001b[0m\u001b[0menv\u001b[0m\u001b[0;34m.\u001b[0m\u001b[0maction_space\u001b[0m\u001b[0;34m,\u001b[0m \u001b[0msimple_chain_bases\u001b[0m\u001b[0;34m,\u001b[0m \u001b[0mnp\u001b[0m\u001b[0;34m.\u001b[0m\u001b[0mzeros\u001b[0m\u001b[0;34m(\u001b[0m\u001b[0mlen\u001b[0m\u001b[0;34m(\u001b[0m\u001b[0msimple_chain_bases\u001b[0m\u001b[0;34m)\u001b[0m\u001b[0;34m)\u001b[0m\u001b[0;34m)\u001b[0m\u001b[0;34m\u001b[0m\u001b[0;34m\u001b[0m\u001b[0m\n",
      "\u001b[0;32m<ipython-input-218-5df31e616c35>\u001b[0m in \u001b[0;36mgenerate_sample_data\u001b[0;34m(num_samples, env, policy)\u001b[0m\n\u001b[1;32m      6\u001b[0m \u001b[0;34m\u001b[0m\u001b[0m\n\u001b[1;32m      7\u001b[0m     \u001b[0;32mfor\u001b[0m \u001b[0m_\u001b[0m \u001b[0;32min\u001b[0m \u001b[0mrange\u001b[0m\u001b[0;34m(\u001b[0m\u001b[0mint\u001b[0m\u001b[0;34m(\u001b[0m\u001b[0mnum_samples\u001b[0m\u001b[0;34m)\u001b[0m\u001b[0;34m)\u001b[0m\u001b[0;34m:\u001b[0m\u001b[0;34m\u001b[0m\u001b[0;34m\u001b[0m\u001b[0m\n\u001b[0;32m----> 8\u001b[0;31m         \u001b[0maction\u001b[0m \u001b[0;34m=\u001b[0m \u001b[0mpolicy\u001b[0m\u001b[0;34m(\u001b[0m\u001b[0mstate\u001b[0m\u001b[0;34m)\u001b[0m\u001b[0;34m\u001b[0m\u001b[0;34m\u001b[0m\u001b[0m\n\u001b[0m\u001b[1;32m      9\u001b[0m \u001b[0;34m\u001b[0m\u001b[0m\n\u001b[1;32m     10\u001b[0m         \u001b[0mnextstate\u001b[0m\u001b[0;34m,\u001b[0m \u001b[0mreward\u001b[0m\u001b[0;34m,\u001b[0m \u001b[0mdone\u001b[0m\u001b[0;34m,\u001b[0m \u001b[0m_\u001b[0m \u001b[0;34m=\u001b[0m \u001b[0menv\u001b[0m\u001b[0;34m.\u001b[0m\u001b[0mstep\u001b[0m\u001b[0;34m(\u001b[0m\u001b[0maction\u001b[0m\u001b[0;34m)\u001b[0m\u001b[0;34m\u001b[0m\u001b[0;34m\u001b[0m\u001b[0m\n",
      "\u001b[0;32m<ipython-input-216-e73946a56d0a>\u001b[0m in \u001b[0;36m__call__\u001b[0;34m(self, state)\u001b[0m\n\u001b[1;32m     25\u001b[0m \u001b[0;34m\u001b[0m\u001b[0m\n\u001b[1;32m     26\u001b[0m     \u001b[0;32mdef\u001b[0m \u001b[0m__call__\u001b[0m\u001b[0;34m(\u001b[0m\u001b[0mself\u001b[0m\u001b[0;34m,\u001b[0m \u001b[0mstate\u001b[0m\u001b[0;34m)\u001b[0m\u001b[0;34m:\u001b[0m\u001b[0;34m\u001b[0m\u001b[0;34m\u001b[0m\u001b[0m\n\u001b[0;32m---> 27\u001b[0;31m         \u001b[0;32massert\u001b[0m\u001b[0;34m(\u001b[0m\u001b[0mstate\u001b[0m \u001b[0;32min\u001b[0m \u001b[0mself\u001b[0m\u001b[0;34m.\u001b[0m\u001b[0m_env\u001b[0m\u001b[0;34m.\u001b[0m\u001b[0mobservation_space\u001b[0m\u001b[0;34m)\u001b[0m\u001b[0;34m\u001b[0m\u001b[0;34m\u001b[0m\u001b[0m\n\u001b[0m\u001b[1;32m     28\u001b[0m         \u001b[0;32mreturn\u001b[0m \u001b[0mself\u001b[0m\u001b[0;34m.\u001b[0m\u001b[0m_env\u001b[0m\u001b[0;34m.\u001b[0m\u001b[0maction_space\u001b[0m\u001b[0;34m.\u001b[0m\u001b[0msample\u001b[0m\u001b[0;34m(\u001b[0m\u001b[0;34m)\u001b[0m\u001b[0;34m\u001b[0m\u001b[0;34m\u001b[0m\u001b[0m\n\u001b[1;32m     29\u001b[0m \u001b[0;34m\u001b[0m\u001b[0m\n",
      "\u001b[0;31mAssertionError\u001b[0m: "
     ]
    }
   ],
   "source": [
    "data = generate_sample_data(1e3, env, RandomPolicy(env))\n",
    "lstdq = LSTDQ(simple_chain_bases, discount=0.7)\n",
    "dabp = DiscreteActionBasisPolicy(env.action_space, simple_chain_bases, np.zeros(len(simple_chain_bases)))"
   ]
  },
  {
   "cell_type": "code",
   "execution_count": 298,
   "metadata": {},
   "outputs": [
    {
     "data": {
      "text/plain": [
       "<__main__.LSPI at 0x7f5246e5e908>"
      ]
     },
     "execution_count": 298,
     "metadata": {},
     "output_type": "execute_result"
    }
   ],
   "source": [
    "lspi = LSPI(lstdq, dabp, max_iter=50, epsilon=1e-5)\n",
    "lspi.fit(data)"
   ]
  },
  {
   "cell_type": "code",
   "execution_count": 299,
   "metadata": {},
   "outputs": [
    {
     "data": {
      "text/plain": [
       "3"
      ]
     },
     "execution_count": 299,
     "metadata": {},
     "output_type": "execute_result"
    }
   ],
   "source": [
    "lspi.itr_"
   ]
  }
 ],
 "metadata": {
  "kernelspec": {
   "display_name": "Python 3",
   "language": "python",
   "name": "python3"
  },
  "language_info": {
   "codemirror_mode": {
    "name": "ipython",
    "version": 3
   },
   "file_extension": ".py",
   "mimetype": "text/x-python",
   "name": "python",
   "nbconvert_exporter": "python",
   "pygments_lexer": "ipython3",
   "version": "3.6.8"
  }
 },
 "nbformat": 4,
 "nbformat_minor": 2
}
