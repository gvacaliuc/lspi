{
 "cells": [
  {
   "cell_type": "code",
   "execution_count": 1,
   "metadata": {
    "collapsed": true
   },
   "outputs": [],
   "source": [
    "%load_ext autoreload\n",
    "%autoreload 2"
   ]
  },
  {
   "cell_type": "code",
   "execution_count": 2,
   "metadata": {
    "collapsed": true
   },
   "outputs": [],
   "source": [
    "from lspi.evaluation import Experiment"
   ]
  },
  {
   "cell_type": "code",
   "execution_count": 3,
   "metadata": {
    "collapsed": true
   },
   "outputs": [],
   "source": [
    "exp = Experiment(directory=\"./experiments/quad30_01/\")"
   ]
  },
  {
   "cell_type": "code",
   "execution_count": 4,
   "metadata": {},
   "outputs": [
    {
     "name": "stdout",
     "output_type": "stream",
     "text": [
      "Making UR5 Environment with the following config:\n",
      "{'planning_group': 'manipulator', 'robot_conf_file': '/home/cannon/rl_wksp/src/rosgym/src/rosgym/ur5_config_random_goal.py', 'num_joints': 3}\n"
     ]
    },
    {
     "name": "stderr",
     "output_type": "stream",
     "text": [
      "Connecting to control group manipulator\n",
      "Found move groups: ['endeffector', 'forearm', 'manipulator', 'shoulder', 'upper_arm', 'wrist_1', 'wrist_2']\n",
      "Found planning scene: <moveit_commander.planning_scene_interface.PlanningSceneInterface object at 0x7fa859aebdd0>\n"
     ]
    },
    {
     "name": "stdout",
     "output_type": "stream",
     "text": [
      "Connecting reset handler\n",
      "Finished connecting wt_commander\n",
      "Set up MoveGroupInterface\n",
      "[INFO] [1554978000.127622, 37.170000]: Waiting for get_planning_scene\n",
      "Set up PlanningSceneInterface\n"
     ]
    },
    {
     "name": "stderr",
     "output_type": "stream",
     "text": [
      "Finished connecting reset handler\n",
      "Waiting for sensor /joint_states\n"
     ]
    },
    {
     "name": "stdout",
     "output_type": "stream",
     "text": [
      "Initialized SimpleActionClient\n",
      "Finished waiting\n"
     ]
    },
    {
     "name": "stderr",
     "output_type": "stream",
     "text": [
      "Got initial data for sensor /joint_states\n",
      "RobotAgent_UR5 has been initialized.\n",
      "Finished initializing robot\n",
      "Initialized sensors\n",
      "Connecting to control group manipulator\n",
      "Initialized move groups and joints\n",
      "Initialized service proxies\n",
      "Getting new goal\n",
      "Sampling new goal\n",
      "Goal is: [0.1731921900415683, 0.18056261047223038, 0.5827696883659027]\n"
     ]
    },
    {
     "name": "stdout",
     "output_type": "stream",
     "text": [
      "Finding new goal pose\n",
      "Found goal pose: x: 0.173192190042\n",
      "y: 0.180562610472\n",
      "z: 0.582769688366\n",
      "Planning to [1.5707963267948966, 0.7853981633974483, 0, 0, 0, 0]  on joints  ['elbow_joint', 'shoulder_lift_joint', 'shoulder_pan_joint', 'wrist_1_joint', 'wrist_2_joint', 'wrist_3_joint']\n",
      "Successfully planned to position. Executing trajectory.\n"
     ]
    },
    {
     "name": "stderr",
     "output_type": "stream",
     "text": [
      "Sampling new goal\n"
     ]
    },
    {
     "name": "stdout",
     "output_type": "stream",
     "text": [
      "Finding new goal pose\n",
      "Finding new goal pose\n",
      "Finding new goal pose\n",
      "Finding new goal pose\n",
      "Finding new goal pose\n",
      "Finding new goal pose\n",
      "Finding new goal pose\n",
      "Finding new goal pose\n",
      "Finding new goal pose\n",
      "Finding new goal pose\n",
      "Finding new goal pose\n",
      "Finding new goal pose\n",
      "Found goal pose: x: -0.320797922875\n",
      "y: 0.0998812232876\n",
      "z: 0.701095473398\n",
      "New target pose: [-0.32079792287533127, 0.09988122328757787, 0.7010954733983086]\n",
      "Original Action Space: Tuple(Box(3,))\n",
      "Action Space: Discrete(64)\n",
      "Observation Space: Tuple(Box(12,))\n",
      "Basis Evaluated at random action and state: \n",
      "State: [-4.79690503  1.75829941 -4.48175476  2.80141418  0.13764443 -0.53762978\n",
      " -0.94177755  1.09693476 -0.17539867  0.1368679  -0.9624204   0.23527099], Action: 38\n",
      "(arr) State: [-4.79690503  1.75829941 -4.48175476  2.80141418  0.13764443 -0.53762978\n",
      " -0.94177755  1.09693476 -0.17539867  0.1368679  -0.9624204   0.23527099], (arr) Action: [ 2.0943951 -2.0943951  2.0943951]\n",
      "z: [ 2.0943951  -2.0943951   2.0943951  -4.79690503  1.75829941 -4.48175476\n",
      "  2.80141418  0.13764443 -0.53762978 -0.94177755  1.09693476 -0.17539867\n",
      "  0.1368679  -0.9624204   0.23527099]\n",
      "[   1.          -23.70494191   58.7839622   148.74994756  149.11198009\n",
      "   19.81466589  -16.77557878   35.73617462   80.85092452   -6.48324827\n",
      "   19.18182699  -18.60138175   15.80263556   92.5404261   -81.48440316\n",
      "   11.07933443  -20.68834575  132.85310044  -12.23629781  -98.5436055\n",
      "    4.27635737 -160.70841335  -38.57847268 -142.31538342   60.36587233\n",
      " -102.40308994  -59.14414798  -35.77890703  -97.3493307    73.87619913\n",
      "   -7.90642533]\n"
     ]
    }
   ],
   "source": [
    "exp.initialize()"
   ]
  },
  {
   "cell_type": "code",
   "execution_count": 8,
   "metadata": {},
   "outputs": [
    {
     "name": "stdout",
     "output_type": "stream",
     "text": [
      "Planning to [1.5707963267948966, 0.7853981633974483, 0, 0, 0, 0]  on joints  ['elbow_joint', 'shoulder_lift_joint', 'shoulder_pan_joint', 'wrist_1_joint', 'wrist_2_joint', 'wrist_3_joint']\n",
      "Failed to plan to trajectory!\n",
      "Retrying Reset...\n",
      "Planning to [1.5707963267948966, 0.7853981633974483, 0, 0, 0, 0]  on joints  ['elbow_joint', 'shoulder_lift_joint', 'shoulder_pan_joint', 'wrist_1_joint', 'wrist_2_joint', 'wrist_3_joint']\n",
      "Failed to plan to trajectory!\n",
      "Retrying Reset...\n",
      "Planning to [1.5707963267948966, 0.7853981633974483, 0, 0, 0, 0]  on joints  ['elbow_joint', 'shoulder_lift_joint', 'shoulder_pan_joint', 'wrist_1_joint', 'wrist_2_joint', 'wrist_3_joint']\n",
      "Failed to plan to trajectory!\n",
      "Retrying Reset...\n",
      "Planning to [1.5707963267948966, 0.7853981633974483, 0, 0, 0, 0]  on joints  ['elbow_joint', 'shoulder_lift_joint', 'shoulder_pan_joint', 'wrist_1_joint', 'wrist_2_joint', 'wrist_3_joint']\n",
      "Successfully planned to position. Executing trajectory.\n"
     ]
    },
    {
     "name": "stderr",
     "output_type": "stream",
     "text": [
      "Sampling new goal\n"
     ]
    },
    {
     "name": "stdout",
     "output_type": "stream",
     "text": [
      "Finding new goal pose\n",
      "Found goal pose: x: 0.304938234726\n",
      "y: 0.158519184958\n",
      "z: 0.811763287219\n",
      "New target pose: [0.30493823472576, 0.15851918495783757, 0.8117632872186001]\n",
      "Planning to [1.5707963267948966, 0.7853981633974483, 0, 0, 0, 0]  on joints  ['elbow_joint', 'shoulder_lift_joint', 'shoulder_pan_joint', 'wrist_1_joint', 'wrist_2_joint', 'wrist_3_joint']\n",
      "Failed to plan to trajectory!\n",
      "Retrying Reset...\n",
      "Planning to [1.5707963267948966, 0.7853981633974483, 0, 0, 0, 0]  on joints  ['elbow_joint', 'shoulder_lift_joint', 'shoulder_pan_joint', 'wrist_1_joint', 'wrist_2_joint', 'wrist_3_joint']\n",
      "Successfully planned to position. Executing trajectory.\n"
     ]
    },
    {
     "name": "stderr",
     "output_type": "stream",
     "text": [
      "Sampling new goal\n"
     ]
    },
    {
     "name": "stdout",
     "output_type": "stream",
     "text": [
      "Finding new goal pose\n",
      "Finding new goal pose\n",
      "Finding new goal pose\n",
      "Found goal pose: x: -0.253630246583\n",
      "y: 0.0468875203701\n",
      "z: 0.559464936493\n",
      "New target pose: [-0.253630246582957, 0.046887520370115815, 0.559464936493119]\n",
      "Planning to [1.5707963267948966, 0.7853981633974483, 0, 0, 0, 0]  on joints  ['elbow_joint', 'shoulder_lift_joint', 'shoulder_pan_joint', 'wrist_1_joint', 'wrist_2_joint', 'wrist_3_joint']\n",
      "Successfully planned to position. Executing trajectory.\n"
     ]
    },
    {
     "name": "stderr",
     "output_type": "stream",
     "text": [
      "Sampling new goal\n"
     ]
    },
    {
     "name": "stdout",
     "output_type": "stream",
     "text": [
      "Finding new goal pose\n",
      "Found goal pose: x: -0.303939606135\n",
      "y: 0.071363204045\n",
      "z: 0.761530293428\n",
      "New target pose: [-0.30393960613527393, 0.07136320404502995, 0.7615302934276492]\n",
      "Planning to [1.5707963267948966, 0.7853981633974483, 0, 0, 0, 0]  on joints  ['elbow_joint', 'shoulder_lift_joint', 'shoulder_pan_joint', 'wrist_1_joint', 'wrist_2_joint', 'wrist_3_joint']\n",
      "Failed to plan to trajectory!\n",
      "Retrying Reset...\n",
      "Planning to [1.5707963267948966, 0.7853981633974483, 0, 0, 0, 0]  on joints  ['elbow_joint', 'shoulder_lift_joint', 'shoulder_pan_joint', 'wrist_1_joint', 'wrist_2_joint', 'wrist_3_joint']\n",
      "Successfully planned to position. Executing trajectory.\n"
     ]
    },
    {
     "name": "stderr",
     "output_type": "stream",
     "text": [
      "Sampling new goal\n"
     ]
    },
    {
     "name": "stdout",
     "output_type": "stream",
     "text": [
      "Finding new goal pose\n",
      "Finding new goal pose\n",
      "Finding new goal pose\n",
      "Found goal pose: x: -0.187649620882\n",
      "y: 0.0880257525353\n",
      "z: 0.0819821326384\n",
      "New target pose: [-0.1876496208816642, 0.08802575253526233, 0.08198213263836071]\n",
      "Planning to [1.5707963267948966, 0.7853981633974483, 0, 0, 0, 0]  on joints  ['elbow_joint', 'shoulder_lift_joint', 'shoulder_pan_joint', 'wrist_1_joint', 'wrist_2_joint', 'wrist_3_joint']\n",
      "Successfully planned to position. Executing trajectory.\n"
     ]
    },
    {
     "name": "stderr",
     "output_type": "stream",
     "text": [
      "Sampling new goal\n"
     ]
    },
    {
     "name": "stdout",
     "output_type": "stream",
     "text": [
      "Finding new goal pose\n",
      "Finding new goal pose\n",
      "Found goal pose: x: 0.0783111934554\n",
      "y: -0.0863432249775\n",
      "z: 0.941479560571\n",
      "New target pose: [0.07831119345543423, -0.08634322497752198, 0.9414795605707093]\n",
      "Planning to [1.5707963267948966, 0.7853981633974483, 0, 0, 0, 0]  on joints  ['elbow_joint', 'shoulder_lift_joint', 'shoulder_pan_joint', 'wrist_1_joint', 'wrist_2_joint', 'wrist_3_joint']\n",
      "Failed to plan to trajectory!\n",
      "Retrying Reset...\n",
      "Planning to [1.5707963267948966, 0.7853981633974483, 0, 0, 0, 0]  on joints  ['elbow_joint', 'shoulder_lift_joint', 'shoulder_pan_joint', 'wrist_1_joint', 'wrist_2_joint', 'wrist_3_joint']\n",
      "Successfully planned to position. Executing trajectory.\n"
     ]
    },
    {
     "name": "stderr",
     "output_type": "stream",
     "text": [
      "Sampling new goal\n"
     ]
    },
    {
     "name": "stdout",
     "output_type": "stream",
     "text": [
      "Finding new goal pose\n",
      "Finding new goal pose\n",
      "Finding new goal pose\n",
      "Found goal pose: x: -0.615379816544\n",
      "y: -0.0703714328093\n",
      "z: 0.359760750003\n",
      "New target pose: [-0.6153798165443322, -0.0703714328092827, 0.35976075000287494]\n",
      "Planning to [1.5707963267948966, 0.7853981633974483, 0, 0, 0, 0]  on joints  ['elbow_joint', 'shoulder_lift_joint', 'shoulder_pan_joint', 'wrist_1_joint', 'wrist_2_joint', 'wrist_3_joint']\n",
      "Successfully planned to position. Executing trajectory.\n"
     ]
    },
    {
     "name": "stderr",
     "output_type": "stream",
     "text": [
      "Sampling new goal\n"
     ]
    },
    {
     "name": "stdout",
     "output_type": "stream",
     "text": [
      "Finding new goal pose\n",
      "Finding new goal pose\n",
      "Found goal pose: x: 0.0207253804515\n",
      "y: 0.674991076812\n",
      "z: 0.596046612073\n",
      "New target pose: [0.02072538045146786, 0.6749910768120401, 0.5960466120732154]\n",
      "Planning to [1.5707963267948966, 0.7853981633974483, 0, 0, 0, 0]  on joints  ['elbow_joint', 'shoulder_lift_joint', 'shoulder_pan_joint', 'wrist_1_joint', 'wrist_2_joint', 'wrist_3_joint']\n",
      "Successfully planned to position. Executing trajectory.\n"
     ]
    },
    {
     "name": "stderr",
     "output_type": "stream",
     "text": [
      "Sampling new goal\n"
     ]
    },
    {
     "name": "stdout",
     "output_type": "stream",
     "text": [
      "Finding new goal pose\n",
      "Found goal pose: x: 0.0361614108007\n",
      "y: 0.103426305819\n",
      "z: 0.284529742037\n",
      "New target pose: [0.03616141080068182, 0.10342630581887244, 0.28452974203650394]\n",
      "Planning to [1.5707963267948966, 0.7853981633974483, 0, 0, 0, 0]  on joints  ['elbow_joint', 'shoulder_lift_joint', 'shoulder_pan_joint', 'wrist_1_joint', 'wrist_2_joint', 'wrist_3_joint']\n",
      "Failed to plan to trajectory!\n",
      "Retrying Reset...\n",
      "Planning to [1.5707963267948966, 0.7853981633974483, 0, 0, 0, 0]  on joints  ['elbow_joint', 'shoulder_lift_joint', 'shoulder_pan_joint', 'wrist_1_joint', 'wrist_2_joint', 'wrist_3_joint']\n",
      "Successfully planned to position. Executing trajectory.\n"
     ]
    },
    {
     "name": "stderr",
     "output_type": "stream",
     "text": [
      "Sampling new goal\n"
     ]
    },
    {
     "name": "stdout",
     "output_type": "stream",
     "text": [
      "Finding new goal pose\n",
      "Finding new goal pose\n",
      "Finding new goal pose\n",
      "Finding new goal pose\n",
      "Finding new goal pose\n",
      "Finding new goal pose\n",
      "Finding new goal pose\n",
      "Finding new goal pose\n",
      "Found goal pose: x: -0.162275184909\n",
      "y: 0.145765443427\n",
      "z: 0.345727435847\n",
      "New target pose: [-0.162275184909013, 0.14576544342743228, 0.3457274358472873]\n",
      "Planning to [1.5707963267948966, 0.7853981633974483, 0, 0, 0, 0]  on joints  ['elbow_joint', 'shoulder_lift_joint', 'shoulder_pan_joint', 'wrist_1_joint', 'wrist_2_joint', 'wrist_3_joint']\n",
      "Successfully planned to position. Executing trajectory.\n"
     ]
    },
    {
     "name": "stderr",
     "output_type": "stream",
     "text": [
      "Sampling new goal\n"
     ]
    },
    {
     "name": "stdout",
     "output_type": "stream",
     "text": [
      "Finding new goal pose\n",
      "Finding new goal pose\n",
      "Finding new goal pose\n",
      "Finding new goal pose\n",
      "Finding new goal pose\n",
      "Finding new goal pose\n",
      "Finding new goal pose\n",
      "Found goal pose: x: -0.15606439622\n",
      "y: 0.120970335751\n",
      "z: 0.91136317246\n",
      "New target pose: [-0.15606439622043117, 0.12097033575099732, 0.911363172459956]\n",
      "Writing collected experience data to ./experiments/quad30_01/data.pkl\n"
     ]
    }
   ],
   "source": [
    "exp.collect_data()"
   ]
  },
  {
   "cell_type": "code",
   "execution_count": 11,
   "metadata": {},
   "outputs": [
    {
     "name": "stdout",
     "output_type": "stream",
     "text": [
      "Iteration 0: Diff: 5959.20646494\n",
      "Iteration 1: Diff: 5277.31739118\n",
      "Iteration 2: Diff: 48.7215421732\n",
      "Iteration 3: Diff: 0.699623098836\n",
      "Iteration 4: Diff: 0.00100835544411\n"
     ]
    }
   ],
   "source": [
    "exp.train()"
   ]
  },
  {
   "cell_type": "code",
   "execution_count": 17,
   "metadata": {
    "collapsed": true
   },
   "outputs": [],
   "source": [
    "import yaml"
   ]
  },
  {
   "cell_type": "code",
   "execution_count": 18,
   "metadata": {},
   "outputs": [],
   "source": [
    "with open(\"./experiments/quad30_01/config.yml\") as f:                      \n",
    "    conf = yaml.load(f)                                                 "
   ]
  },
  {
   "cell_type": "code",
   "execution_count": 41,
   "metadata": {
    "collapsed": true
   },
   "outputs": [],
   "source": [
    "conf[\"experiment\"][\"num_tests_per_iteration\"] = 10\n",
    "exp._conf = conf"
   ]
  },
  {
   "cell_type": "code",
   "execution_count": 42,
   "metadata": {
    "scrolled": false
   },
   "outputs": [
    {
     "name": "stdout",
     "output_type": "stream",
     "text": [
      "Writing policy history to ./experiments/quad30_01/policyHistory.pkl\n",
      "Testing training iteration 0\n",
      "Planning to [1.5707963267948966, 0.7853981633974483, 0, 0, 0, 0]  on joints  ['elbow_joint', 'shoulder_lift_joint', 'shoulder_pan_joint', 'wrist_1_joint', 'wrist_2_joint', 'wrist_3_joint']\n",
      "Successfully planned to position. Executing trajectory.\n"
     ]
    },
    {
     "name": "stderr",
     "output_type": "stream",
     "text": [
      "Sampling new goal\n"
     ]
    },
    {
     "name": "stdout",
     "output_type": "stream",
     "text": [
      "Finding new goal pose\n",
      "Finding new goal pose\n",
      "Finding new goal pose\n",
      "Finding new goal pose\n",
      "Found goal pose: x: -0.350891755207\n",
      "y: 0.0117836886271\n",
      "z: 0.355143522235\n",
      "New target pose: [-0.35089175520742666, 0.011783688627102287, 0.35514352223468715]\n",
      "Planning to [1.5707963267948966, 0.7853981633974483, 0, 0, 0, 0]  on joints  ['elbow_joint', 'shoulder_lift_joint', 'shoulder_pan_joint', 'wrist_1_joint', 'wrist_2_joint', 'wrist_3_joint']\n",
      "Successfully planned to position. Executing trajectory.\n"
     ]
    },
    {
     "name": "stderr",
     "output_type": "stream",
     "text": [
      "Sampling new goal\n"
     ]
    },
    {
     "name": "stdout",
     "output_type": "stream",
     "text": [
      "Finding new goal pose\n",
      "Finding new goal pose\n",
      "Finding new goal pose\n",
      "Finding new goal pose\n",
      "Finding new goal pose\n",
      "Finding new goal pose\n",
      "Finding new goal pose\n",
      "Finding new goal pose\n",
      "Found goal pose: x: -0.098319602579\n",
      "y: 0.147353440813\n",
      "z: 0.434585309787\n",
      "New target pose: [-0.0983196025789851, 0.14735344081313173, 0.4345853097874209]\n",
      "Planning to [1.5707963267948966, 0.7853981633974483, 0, 0, 0, 0]  on joints  ['elbow_joint', 'shoulder_lift_joint', 'shoulder_pan_joint', 'wrist_1_joint', 'wrist_2_joint', 'wrist_3_joint']\n",
      "Successfully planned to position. Executing trajectory.\n"
     ]
    },
    {
     "name": "stderr",
     "output_type": "stream",
     "text": [
      "Sampling new goal\n"
     ]
    },
    {
     "name": "stdout",
     "output_type": "stream",
     "text": [
      "Finding new goal pose\n",
      "Found goal pose: x: 0.0453456564685\n",
      "y: 0.205283404986\n",
      "z: 0.779692636274\n",
      "New target pose: [0.045345656468539906, 0.20528340498587527, 0.7796926362736466]\n",
      "Planning to [1.5707963267948966, 0.7853981633974483, 0, 0, 0, 0]  on joints  ['elbow_joint', 'shoulder_lift_joint', 'shoulder_pan_joint', 'wrist_1_joint', 'wrist_2_joint', 'wrist_3_joint']\n",
      "Successfully planned to position. Executing trajectory.\n"
     ]
    },
    {
     "name": "stderr",
     "output_type": "stream",
     "text": [
      "Sampling new goal\n"
     ]
    },
    {
     "name": "stdout",
     "output_type": "stream",
     "text": [
      "Finding new goal pose\n",
      "Finding new goal pose\n",
      "Finding new goal pose\n",
      "Finding new goal pose\n",
      "Found goal pose: x: 0.535164104562\n",
      "y: -0.123752657669\n",
      "z: 0.0672263453786\n",
      "New target pose: [0.5351641045621308, -0.1237526576686191, 0.06722634537857672]\n",
      "Planning to [1.5707963267948966, 0.7853981633974483, 0, 0, 0, 0]  on joints  ['elbow_joint', 'shoulder_lift_joint', 'shoulder_pan_joint', 'wrist_1_joint', 'wrist_2_joint', 'wrist_3_joint']\n",
      "Failed to plan to trajectory!\n",
      "Retrying Reset...\n",
      "Planning to [1.5707963267948966, 0.7853981633974483, 0, 0, 0, 0]  on joints  ['elbow_joint', 'shoulder_lift_joint', 'shoulder_pan_joint', 'wrist_1_joint', 'wrist_2_joint', 'wrist_3_joint']\n",
      "Successfully planned to position. Executing trajectory.\n"
     ]
    },
    {
     "name": "stderr",
     "output_type": "stream",
     "text": [
      "Sampling new goal\n"
     ]
    },
    {
     "name": "stdout",
     "output_type": "stream",
     "text": [
      "Finding new goal pose\n",
      "Found goal pose: x: 0.121937824124\n",
      "y: 0.409041942529\n",
      "z: 0.184588721002\n",
      "New target pose: [0.12193782412415462, 0.40904194252865445, 0.18458872100240434]\n",
      "Planning to [1.5707963267948966, 0.7853981633974483, 0, 0, 0, 0]  on joints  ['elbow_joint', 'shoulder_lift_joint', 'shoulder_pan_joint', 'wrist_1_joint', 'wrist_2_joint', 'wrist_3_joint']\n",
      "Successfully planned to position. Executing trajectory.\n"
     ]
    },
    {
     "name": "stderr",
     "output_type": "stream",
     "text": [
      "Sampling new goal\n"
     ]
    },
    {
     "name": "stdout",
     "output_type": "stream",
     "text": [
      "Finding new goal pose\n",
      "Finding new goal pose\n",
      "Finding new goal pose\n",
      "Finding new goal pose\n",
      "Finding new goal pose\n",
      "Finding new goal pose\n",
      "Finding new goal pose\n",
      "Found goal pose: x: -0.723120664516\n",
      "y: -0.198217890295\n",
      "z: 0.516300726354\n",
      "New target pose: [-0.7231206645159689, -0.19821789029455286, 0.5163007263536602]\n",
      "Planning to [1.5707963267948966, 0.7853981633974483, 0, 0, 0, 0]  on joints  ['elbow_joint', 'shoulder_lift_joint', 'shoulder_pan_joint', 'wrist_1_joint', 'wrist_2_joint', 'wrist_3_joint']\n",
      "Successfully planned to position. Executing trajectory.\n"
     ]
    },
    {
     "name": "stderr",
     "output_type": "stream",
     "text": [
      "Sampling new goal\n"
     ]
    },
    {
     "name": "stdout",
     "output_type": "stream",
     "text": [
      "Finding new goal pose\n",
      "Finding new goal pose\n",
      "Finding new goal pose\n",
      "Found goal pose: x: 0.175296829206\n",
      "y: 0.322285317736\n",
      "z: 0.160827966433\n",
      "New target pose: [0.17529682920629613, 0.3222853177358571, 0.1608279664333049]\n",
      "Planning to [1.5707963267948966, 0.7853981633974483, 0, 0, 0, 0]  on joints  ['elbow_joint', 'shoulder_lift_joint', 'shoulder_pan_joint', 'wrist_1_joint', 'wrist_2_joint', 'wrist_3_joint']\n",
      "Failed to plan to trajectory!\n",
      "Retrying Reset...\n",
      "Planning to [1.5707963267948966, 0.7853981633974483, 0, 0, 0, 0]  on joints  ['elbow_joint', 'shoulder_lift_joint', 'shoulder_pan_joint', 'wrist_1_joint', 'wrist_2_joint', 'wrist_3_joint']\n",
      "Successfully planned to position. Executing trajectory.\n"
     ]
    },
    {
     "name": "stderr",
     "output_type": "stream",
     "text": [
      "Sampling new goal\n"
     ]
    },
    {
     "name": "stdout",
     "output_type": "stream",
     "text": [
      "Finding new goal pose\n",
      "Found goal pose: x: -0.191106581515\n",
      "y: -0.169803760297\n",
      "z: 0.1576293709\n",
      "New target pose: [-0.1911065815148293, -0.16980376029672303, 0.15762937089978182]\n",
      "Planning to [1.5707963267948966, 0.7853981633974483, 0, 0, 0, 0]  on joints  ['elbow_joint', 'shoulder_lift_joint', 'shoulder_pan_joint', 'wrist_1_joint', 'wrist_2_joint', 'wrist_3_joint']\n",
      "Successfully planned to position. Executing trajectory.\n"
     ]
    },
    {
     "name": "stderr",
     "output_type": "stream",
     "text": [
      "Sampling new goal\n"
     ]
    },
    {
     "name": "stdout",
     "output_type": "stream",
     "text": [
      "Finding new goal pose\n",
      "Finding new goal pose\n",
      "Finding new goal pose\n",
      "Finding new goal pose\n",
      "Found goal pose: x: 0.08689562144\n",
      "y: 0.122869824156\n",
      "z: 0.511457730378\n",
      "New target pose: [0.08689562143995545, 0.12286982415583893, 0.5114577303778295]\n",
      "Planning to [1.5707963267948966, 0.7853981633974483, 0, 0, 0, 0]  on joints  ['elbow_joint', 'shoulder_lift_joint', 'shoulder_pan_joint', 'wrist_1_joint', 'wrist_2_joint', 'wrist_3_joint']\n",
      "Successfully planned to position. Executing trajectory.\n"
     ]
    },
    {
     "name": "stderr",
     "output_type": "stream",
     "text": [
      "Sampling new goal\n"
     ]
    },
    {
     "name": "stdout",
     "output_type": "stream",
     "text": [
      "Finding new goal pose\n",
      "Finding new goal pose\n",
      "Finding new goal pose\n",
      "Finding new goal pose\n",
      "Finding new goal pose\n",
      "Finding new goal pose\n",
      "Finding new goal pose\n",
      "Finding new goal pose\n",
      "Finding new goal pose\n",
      "Found goal pose: x: 0.052648077045\n",
      "y: 0.103780269986\n",
      "z: 0.308625980912\n",
      "New target pose: [0.052648077045042534, 0.10378026998621065, 0.30862598091164634]\n",
      "Testing training iteration 1\n",
      "Planning to [1.5707963267948966, 0.7853981633974483, 0, 0, 0, 0]  on joints  ['elbow_joint', 'shoulder_lift_joint', 'shoulder_pan_joint', 'wrist_1_joint', 'wrist_2_joint', 'wrist_3_joint']\n",
      "Failed to plan to trajectory!\n",
      "Retrying Reset...\n",
      "Planning to [1.5707963267948966, 0.7853981633974483, 0, 0, 0, 0]  on joints  ['elbow_joint', 'shoulder_lift_joint', 'shoulder_pan_joint', 'wrist_1_joint', 'wrist_2_joint', 'wrist_3_joint']\n",
      "Successfully planned to position. Executing trajectory.\n"
     ]
    },
    {
     "name": "stderr",
     "output_type": "stream",
     "text": [
      "Sampling new goal\n"
     ]
    },
    {
     "name": "stdout",
     "output_type": "stream",
     "text": [
      "Finding new goal pose\n",
      "Finding new goal pose\n",
      "Finding new goal pose\n",
      "Finding new goal pose\n",
      "Finding new goal pose\n",
      "Finding new goal pose\n",
      "Finding new goal pose\n",
      "Finding new goal pose\n",
      "Finding new goal pose\n",
      "Finding new goal pose\n",
      "Finding new goal pose\n",
      "Found goal pose: x: -0.0807918316302\n",
      "y: 0.701033138614\n",
      "z: 0.306606530992\n",
      "New target pose: [-0.08079183163023398, 0.7010331386139693, 0.30660653099196206]\n",
      "Planning to [1.5707963267948966, 0.7853981633974483, 0, 0, 0, 0]  on joints  ['elbow_joint', 'shoulder_lift_joint', 'shoulder_pan_joint', 'wrist_1_joint', 'wrist_2_joint', 'wrist_3_joint']\n",
      "Successfully planned to position. Executing trajectory.\n"
     ]
    },
    {
     "name": "stderr",
     "output_type": "stream",
     "text": [
      "Sampling new goal\n"
     ]
    },
    {
     "name": "stdout",
     "output_type": "stream",
     "text": [
      "Finding new goal pose\n",
      "Found goal pose: x: 0.0713909484014\n",
      "y: -0.0963175833177\n",
      "z: 0.252957605549\n",
      "New target pose: [0.07139094840137605, -0.09631758331771667, 0.2529576055485913]\n",
      "Planning to [1.5707963267948966, 0.7853981633974483, 0, 0, 0, 0]  on joints  ['elbow_joint', 'shoulder_lift_joint', 'shoulder_pan_joint', 'wrist_1_joint', 'wrist_2_joint', 'wrist_3_joint']\n",
      "Successfully planned to position. Executing trajectory.\n"
     ]
    },
    {
     "name": "stderr",
     "output_type": "stream",
     "text": [
      "Sampling new goal\n"
     ]
    },
    {
     "name": "stdout",
     "output_type": "stream",
     "text": [
      "Finding new goal pose\n",
      "Finding new goal pose\n",
      "Found goal pose: x: 0.00262777495097\n",
      "y: 0.123033455207\n",
      "z: 0.983188278755\n",
      "New target pose: [0.0026277749509679427, 0.12303345520713026, 0.9831882787545383]\n",
      "Planning to [1.5707963267948966, 0.7853981633974483, 0, 0, 0, 0]  on joints  ['elbow_joint', 'shoulder_lift_joint', 'shoulder_pan_joint', 'wrist_1_joint', 'wrist_2_joint', 'wrist_3_joint']\n",
      "Failed to plan to trajectory!\n",
      "Retrying Reset...\n",
      "Planning to [1.5707963267948966, 0.7853981633974483, 0, 0, 0, 0]  on joints  ['elbow_joint', 'shoulder_lift_joint', 'shoulder_pan_joint', 'wrist_1_joint', 'wrist_2_joint', 'wrist_3_joint']\n",
      "Successfully planned to position. Executing trajectory.\n"
     ]
    },
    {
     "name": "stderr",
     "output_type": "stream",
     "text": [
      "Sampling new goal\n"
     ]
    },
    {
     "name": "stdout",
     "output_type": "stream",
     "text": [
      "Finding new goal pose\n",
      "Finding new goal pose\n",
      "Finding new goal pose\n",
      "Finding new goal pose\n",
      "Finding new goal pose\n",
      "Finding new goal pose\n",
      "Found goal pose: x: -0.540819489485\n",
      "y: 0.355810764137\n",
      "z: 0.50102676248\n",
      "New target pose: [-0.5408194894845013, 0.355810764136864, 0.5010267624802154]\n",
      "Planning to [1.5707963267948966, 0.7853981633974483, 0, 0, 0, 0]  on joints  ['elbow_joint', 'shoulder_lift_joint', 'shoulder_pan_joint', 'wrist_1_joint', 'wrist_2_joint', 'wrist_3_joint']\n",
      "Failed to plan to trajectory!\n",
      "Retrying Reset...\n",
      "Planning to [1.5707963267948966, 0.7853981633974483, 0, 0, 0, 0]  on joints  ['elbow_joint', 'shoulder_lift_joint', 'shoulder_pan_joint', 'wrist_1_joint', 'wrist_2_joint', 'wrist_3_joint']\n",
      "Successfully planned to position. Executing trajectory.\n"
     ]
    },
    {
     "name": "stderr",
     "output_type": "stream",
     "text": [
      "Sampling new goal\n"
     ]
    },
    {
     "name": "stdout",
     "output_type": "stream",
     "text": [
      "Finding new goal pose\n",
      "Found goal pose: x: 0.0597886331328\n",
      "y: 0.382717431932\n",
      "z: 0.339761608122\n",
      "New target pose: [0.05978863313284069, 0.38271743193244484, 0.3397616081219389]\n",
      "Planning to [1.5707963267948966, 0.7853981633974483, 0, 0, 0, 0]  on joints  ['elbow_joint', 'shoulder_lift_joint', 'shoulder_pan_joint', 'wrist_1_joint', 'wrist_2_joint', 'wrist_3_joint']\n",
      "Successfully planned to position. Executing trajectory.\n"
     ]
    },
    {
     "name": "stderr",
     "output_type": "stream",
     "text": [
      "Sampling new goal\n"
     ]
    },
    {
     "name": "stdout",
     "output_type": "stream",
     "text": [
      "Finding new goal pose\n",
      "Finding new goal pose\n",
      "Found goal pose: x: 0.0517840908856\n",
      "y: 0.764188265472\n",
      "z: 0.0655556732401\n",
      "New target pose: [0.05178409088562235, 0.7641882654715193, 0.0655556732400544]\n",
      "Planning to [1.5707963267948966, 0.7853981633974483, 0, 0, 0, 0]  on joints  ['elbow_joint', 'shoulder_lift_joint', 'shoulder_pan_joint', 'wrist_1_joint', 'wrist_2_joint', 'wrist_3_joint']\n",
      "Successfully planned to position. Executing trajectory.\n"
     ]
    },
    {
     "name": "stderr",
     "output_type": "stream",
     "text": [
      "Sampling new goal\n"
     ]
    },
    {
     "name": "stdout",
     "output_type": "stream",
     "text": [
      "Finding new goal pose\n",
      "Finding new goal pose\n",
      "Found goal pose: x: 0.0113324710086\n",
      "y: 0.132784003072\n",
      "z: 0.327796352752\n",
      "New target pose: [0.011332471008554133, 0.1327840030716763, 0.3277963527522758]\n",
      "Planning to [1.5707963267948966, 0.7853981633974483, 0, 0, 0, 0]  on joints  ['elbow_joint', 'shoulder_lift_joint', 'shoulder_pan_joint', 'wrist_1_joint', 'wrist_2_joint', 'wrist_3_joint']\n",
      "Successfully planned to position. Executing trajectory.\n"
     ]
    },
    {
     "name": "stderr",
     "output_type": "stream",
     "text": [
      "Sampling new goal\n"
     ]
    },
    {
     "name": "stdout",
     "output_type": "stream",
     "text": [
      "Finding new goal pose\n",
      "Finding new goal pose\n",
      "Found goal pose: x: 0.114974503374\n",
      "y: -0.149138519197\n",
      "z: 0.49029640707\n",
      "New target pose: [0.11497450337424386, -0.14913851919728308, 0.49029640707029626]\n",
      "Planning to [1.5707963267948966, 0.7853981633974483, 0, 0, 0, 0]  on joints  ['elbow_joint', 'shoulder_lift_joint', 'shoulder_pan_joint', 'wrist_1_joint', 'wrist_2_joint', 'wrist_3_joint']\n",
      "Successfully planned to position. Executing trajectory.\n"
     ]
    },
    {
     "name": "stderr",
     "output_type": "stream",
     "text": [
      "Sampling new goal\n"
     ]
    },
    {
     "name": "stdout",
     "output_type": "stream",
     "text": [
      "Finding new goal pose\n",
      "Finding new goal pose\n",
      "Found goal pose: x: -0.439021550655\n",
      "y: 0.425061199441\n",
      "z: 0.270240513697\n",
      "New target pose: [-0.4390215506551667, 0.42506119944139564, 0.27024051369664603]\n",
      "Planning to [1.5707963267948966, 0.7853981633974483, 0, 0, 0, 0]  on joints  ['elbow_joint', 'shoulder_lift_joint', 'shoulder_pan_joint', 'wrist_1_joint', 'wrist_2_joint', 'wrist_3_joint']\n",
      "Successfully planned to position. Executing trajectory.\n"
     ]
    },
    {
     "name": "stderr",
     "output_type": "stream",
     "text": [
      "Sampling new goal\n"
     ]
    },
    {
     "name": "stdout",
     "output_type": "stream",
     "text": [
      "Finding new goal pose\n",
      "Finding new goal pose\n",
      "Finding new goal pose\n",
      "Finding new goal pose\n",
      "Finding new goal pose\n",
      "Found goal pose: x: 0.104747193151\n",
      "y: -0.100538311162\n",
      "z: 0.451498433717\n",
      "New target pose: [0.1047471931510536, -0.1005383111624735, 0.45149843371738424]\n",
      "Testing training iteration 2\n",
      "Planning to [1.5707963267948966, 0.7853981633974483, 0, 0, 0, 0]  on joints  ['elbow_joint', 'shoulder_lift_joint', 'shoulder_pan_joint', 'wrist_1_joint', 'wrist_2_joint', 'wrist_3_joint']\n",
      "Successfully planned to position. Executing trajectory.\n"
     ]
    },
    {
     "name": "stderr",
     "output_type": "stream",
     "text": [
      "Sampling new goal\n"
     ]
    },
    {
     "name": "stdout",
     "output_type": "stream",
     "text": [
      "Finding new goal pose\n",
      "Finding new goal pose\n",
      "Finding new goal pose\n",
      "Finding new goal pose\n",
      "Finding new goal pose\n",
      "Finding new goal pose\n",
      "Found goal pose: x: -0.176755258884\n",
      "y: -0.590701564302\n",
      "z: 0.494587340077\n",
      "New target pose: [-0.17675525888366764, -0.5907015643017173, 0.49458734007668664]\n",
      "Planning to [1.5707963267948966, 0.7853981633974483, 0, 0, 0, 0]  on joints  ['elbow_joint', 'shoulder_lift_joint', 'shoulder_pan_joint', 'wrist_1_joint', 'wrist_2_joint', 'wrist_3_joint']\n",
      "Successfully planned to position. Executing trajectory.\n"
     ]
    },
    {
     "name": "stderr",
     "output_type": "stream",
     "text": [
      "Sampling new goal\n"
     ]
    },
    {
     "name": "stdout",
     "output_type": "stream",
     "text": [
      "Finding new goal pose\n",
      "Finding new goal pose\n",
      "Finding new goal pose\n",
      "Finding new goal pose\n",
      "Found goal pose: x: -0.152273578639\n",
      "y: -0.473822474899\n",
      "z: 0.21274014462\n",
      "New target pose: [-0.152273578638759, -0.4738224748989769, 0.21274014462010152]\n",
      "Planning to [1.5707963267948966, 0.7853981633974483, 0, 0, 0, 0]  on joints  ['elbow_joint', 'shoulder_lift_joint', 'shoulder_pan_joint', 'wrist_1_joint', 'wrist_2_joint', 'wrist_3_joint']\n",
      "Successfully planned to position. Executing trajectory.\n"
     ]
    },
    {
     "name": "stderr",
     "output_type": "stream",
     "text": [
      "Sampling new goal\n"
     ]
    },
    {
     "name": "stdout",
     "output_type": "stream",
     "text": [
      "Finding new goal pose\n",
      "Finding new goal pose\n",
      "Finding new goal pose\n",
      "Finding new goal pose\n",
      "Finding new goal pose\n",
      "Finding new goal pose\n",
      "Found goal pose: x: 0.068430391872\n",
      "y: -0.276966459165\n",
      "z: 0.504117173679\n",
      "New target pose: [0.06843039187202891, -0.2769664591654102, 0.5041171736791938]\n",
      "Planning to [1.5707963267948966, 0.7853981633974483, 0, 0, 0, 0]  on joints  ['elbow_joint', 'shoulder_lift_joint', 'shoulder_pan_joint', 'wrist_1_joint', 'wrist_2_joint', 'wrist_3_joint']\n",
      "Successfully planned to position. Executing trajectory.\n"
     ]
    },
    {
     "name": "stderr",
     "output_type": "stream",
     "text": [
      "Sampling new goal\n"
     ]
    },
    {
     "name": "stdout",
     "output_type": "stream",
     "text": [
      "Finding new goal pose\n",
      "Finding new goal pose\n",
      "Finding new goal pose\n",
      "Found goal pose: x: 0.437461611973\n",
      "y: 0.434683070181\n",
      "z: 0.531934468799\n",
      "New target pose: [0.43746161197337785, 0.43468307018070906, 0.5319344687990357]\n",
      "Planning to [1.5707963267948966, 0.7853981633974483, 0, 0, 0, 0]  on joints  ['elbow_joint', 'shoulder_lift_joint', 'shoulder_pan_joint', 'wrist_1_joint', 'wrist_2_joint', 'wrist_3_joint']\n",
      "Successfully planned to position. Executing trajectory.\n"
     ]
    },
    {
     "name": "stderr",
     "output_type": "stream",
     "text": [
      "Sampling new goal\n"
     ]
    },
    {
     "name": "stdout",
     "output_type": "stream",
     "text": [
      "Finding new goal pose\n",
      "Finding new goal pose\n",
      "Finding new goal pose\n",
      "Finding new goal pose\n",
      "Finding new goal pose\n",
      "Finding new goal pose\n",
      "Finding new goal pose\n",
      "Finding new goal pose\n",
      "Found goal pose: x: -0.437808957948\n",
      "y: -0.398612334797\n",
      "z: 0.278828852877\n",
      "New target pose: [-0.43780895794842456, -0.39861233479655006, 0.2788288528769475]\n",
      "Planning to [1.5707963267948966, 0.7853981633974483, 0, 0, 0, 0]  on joints  ['elbow_joint', 'shoulder_lift_joint', 'shoulder_pan_joint', 'wrist_1_joint', 'wrist_2_joint', 'wrist_3_joint']\n",
      "Successfully planned to position. Executing trajectory.\n"
     ]
    },
    {
     "name": "stderr",
     "output_type": "stream",
     "text": [
      "Sampling new goal\n"
     ]
    },
    {
     "name": "stdout",
     "output_type": "stream",
     "text": [
      "Finding new goal pose\n",
      "Finding new goal pose\n",
      "Finding new goal pose\n",
      "Found goal pose: x: 0.168356345174\n",
      "y: -0.0868287818829\n",
      "z: 0.0622220640642\n",
      "New target pose: [0.16835634517438694, -0.08682878188291174, 0.06222206406422416]\n",
      "Planning to [1.5707963267948966, 0.7853981633974483, 0, 0, 0, 0]  on joints  ['elbow_joint', 'shoulder_lift_joint', 'shoulder_pan_joint', 'wrist_1_joint', 'wrist_2_joint', 'wrist_3_joint']\n",
      "Successfully planned to position. Executing trajectory.\n"
     ]
    },
    {
     "name": "stderr",
     "output_type": "stream",
     "text": [
      "Sampling new goal\n"
     ]
    },
    {
     "name": "stdout",
     "output_type": "stream",
     "text": [
      "Finding new goal pose\n",
      "Finding new goal pose\n",
      "Found goal pose: x: -0.56133843319\n",
      "y: 0.261185896388\n",
      "z: 0.741367973261\n",
      "New target pose: [-0.561338433189849, 0.261185896388106, 0.7413679732607411]\n",
      "Planning to [1.5707963267948966, 0.7853981633974483, 0, 0, 0, 0]  on joints  ['elbow_joint', 'shoulder_lift_joint', 'shoulder_pan_joint', 'wrist_1_joint', 'wrist_2_joint', 'wrist_3_joint']\n",
      "Successfully planned to position. Executing trajectory.\n"
     ]
    },
    {
     "name": "stderr",
     "output_type": "stream",
     "text": [
      "Sampling new goal\n"
     ]
    },
    {
     "name": "stdout",
     "output_type": "stream",
     "text": [
      "Finding new goal pose\n",
      "Finding new goal pose\n",
      "Finding new goal pose\n",
      "Finding new goal pose\n",
      "Found goal pose: x: -0.176238633777\n",
      "y: -0.12631937398\n",
      "z: 0.951865512784\n",
      "New target pose: [-0.1762386337772196, -0.12631937398041265, 0.9518655127839482]\n",
      "Planning to [1.5707963267948966, 0.7853981633974483, 0, 0, 0, 0]  on joints  ['elbow_joint', 'shoulder_lift_joint', 'shoulder_pan_joint', 'wrist_1_joint', 'wrist_2_joint', 'wrist_3_joint']\n",
      "Successfully planned to position. Executing trajectory.\n"
     ]
    },
    {
     "name": "stderr",
     "output_type": "stream",
     "text": [
      "Sampling new goal\n"
     ]
    },
    {
     "name": "stdout",
     "output_type": "stream",
     "text": [
      "Finding new goal pose\n",
      "Found goal pose: x: 0.169931591594\n",
      "y: 0.0956719009188\n",
      "z: 0.196558978304\n",
      "New target pose: [0.1699315915939135, 0.09567190091883052, 0.19655897830362848]\n",
      "Planning to [1.5707963267948966, 0.7853981633974483, 0, 0, 0, 0]  on joints  ['elbow_joint', 'shoulder_lift_joint', 'shoulder_pan_joint', 'wrist_1_joint', 'wrist_2_joint', 'wrist_3_joint']\n",
      "Successfully planned to position. Executing trajectory.\n"
     ]
    },
    {
     "name": "stderr",
     "output_type": "stream",
     "text": [
      "Sampling new goal\n"
     ]
    },
    {
     "name": "stdout",
     "output_type": "stream",
     "text": [
      "Finding new goal pose\n",
      "Finding new goal pose\n",
      "Finding new goal pose\n",
      "Finding new goal pose\n",
      "Finding new goal pose\n",
      "Finding new goal pose\n",
      "Finding new goal pose\n",
      "Found goal pose: x: -0.0462705973595\n",
      "y: 0.239093834772\n",
      "z: 0.971593364466\n",
      "New target pose: [-0.04627059735952779, 0.23909383477170132, 0.9715933644664742]\n",
      "Testing training iteration 3\n",
      "Planning to [1.5707963267948966, 0.7853981633974483, 0, 0, 0, 0]  on joints  ['elbow_joint', 'shoulder_lift_joint', 'shoulder_pan_joint', 'wrist_1_joint', 'wrist_2_joint', 'wrist_3_joint']\n",
      "Successfully planned to position. Executing trajectory.\n"
     ]
    },
    {
     "name": "stderr",
     "output_type": "stream",
     "text": [
      "Sampling new goal\n"
     ]
    },
    {
     "name": "stdout",
     "output_type": "stream",
     "text": [
      "Finding new goal pose\n",
      "Found goal pose: x: 0.200475780831\n",
      "y: 0.407969906888\n",
      "z: 0.121868580348\n",
      "New target pose: [0.20047578083069714, 0.4079699068877444, 0.12186858034774672]\n",
      "Planning to [1.5707963267948966, 0.7853981633974483, 0, 0, 0, 0]  on joints  ['elbow_joint', 'shoulder_lift_joint', 'shoulder_pan_joint', 'wrist_1_joint', 'wrist_2_joint', 'wrist_3_joint']\n",
      "Successfully planned to position. Executing trajectory.\n"
     ]
    },
    {
     "name": "stderr",
     "output_type": "stream",
     "text": [
      "Sampling new goal\n"
     ]
    },
    {
     "name": "stdout",
     "output_type": "stream",
     "text": [
      "Finding new goal pose\n",
      "Finding new goal pose\n",
      "Found goal pose: x: 0.159452017274\n",
      "y: -0.175206312594\n",
      "z: 0.228676269276\n",
      "New target pose: [0.15945201727399, -0.1752063125943315, 0.2286762692762974]\n",
      "Planning to [1.5707963267948966, 0.7853981633974483, 0, 0, 0, 0]  on joints  ['elbow_joint', 'shoulder_lift_joint', 'shoulder_pan_joint', 'wrist_1_joint', 'wrist_2_joint', 'wrist_3_joint']\n",
      "Successfully planned to position. Executing trajectory.\n"
     ]
    },
    {
     "name": "stderr",
     "output_type": "stream",
     "text": [
      "Sampling new goal\n"
     ]
    },
    {
     "name": "stdout",
     "output_type": "stream",
     "text": [
      "Finding new goal pose\n",
      "Found goal pose: x: -0.618524276674\n",
      "y: 0.509387905821\n",
      "z: 0.305430941368\n",
      "New target pose: [-0.6185242766743415, 0.5093879058210151, 0.30543094136756455]\n",
      "Planning to [1.5707963267948966, 0.7853981633974483, 0, 0, 0, 0]  on joints  ['elbow_joint', 'shoulder_lift_joint', 'shoulder_pan_joint', 'wrist_1_joint', 'wrist_2_joint', 'wrist_3_joint']\n",
      "Successfully planned to position. Executing trajectory.\n"
     ]
    },
    {
     "name": "stderr",
     "output_type": "stream",
     "text": [
      "Sampling new goal\n"
     ]
    },
    {
     "name": "stdout",
     "output_type": "stream",
     "text": [
      "Finding new goal pose\n",
      "Found goal pose: x: -0.00926838077247\n",
      "y: -0.133984413434\n",
      "z: 0.626742880195\n",
      "New target pose: [-0.009268380772466979, -0.13398441343361375, 0.6267428801953498]\n",
      "Planning to [1.5707963267948966, 0.7853981633974483, 0, 0, 0, 0]  on joints  ['elbow_joint', 'shoulder_lift_joint', 'shoulder_pan_joint', 'wrist_1_joint', 'wrist_2_joint', 'wrist_3_joint']\n",
      "Successfully planned to position. Executing trajectory.\n"
     ]
    },
    {
     "name": "stderr",
     "output_type": "stream",
     "text": [
      "Sampling new goal\n"
     ]
    },
    {
     "name": "stdout",
     "output_type": "stream",
     "text": [
      "Finding new goal pose\n",
      "Finding new goal pose\n",
      "Finding new goal pose\n",
      "Finding new goal pose\n",
      "Finding new goal pose\n",
      "Finding new goal pose\n",
      "Found goal pose: x: 0.183211402698\n",
      "y: -0.133894844613\n",
      "z: 0.191576348769\n",
      "New target pose: [0.1832114026983705, -0.13389484461347056, 0.1915763487691239]\n",
      "Planning to [1.5707963267948966, 0.7853981633974483, 0, 0, 0, 0]  on joints  ['elbow_joint', 'shoulder_lift_joint', 'shoulder_pan_joint', 'wrist_1_joint', 'wrist_2_joint', 'wrist_3_joint']\n",
      "Successfully planned to position. Executing trajectory.\n"
     ]
    },
    {
     "name": "stderr",
     "output_type": "stream",
     "text": [
      "Sampling new goal\n"
     ]
    },
    {
     "name": "stdout",
     "output_type": "stream",
     "text": [
      "Finding new goal pose\n",
      "Found goal pose: x: -0.777404206631\n",
      "y: -0.0210048105108\n",
      "z: 0.445687863634\n",
      "New target pose: [-0.7774042066307038, -0.02100481051076886, 0.4456878636341718]\n",
      "Planning to [1.5707963267948966, 0.7853981633974483, 0, 0, 0, 0]  on joints  ['elbow_joint', 'shoulder_lift_joint', 'shoulder_pan_joint', 'wrist_1_joint', 'wrist_2_joint', 'wrist_3_joint']\n",
      "Successfully planned to position. Executing trajectory.\n"
     ]
    },
    {
     "name": "stderr",
     "output_type": "stream",
     "text": [
      "Sampling new goal\n"
     ]
    },
    {
     "name": "stdout",
     "output_type": "stream",
     "text": [
      "Finding new goal pose\n",
      "Finding new goal pose\n",
      "Finding new goal pose\n",
      "Found goal pose: x: 0.182008911352\n",
      "y: -0.272792813232\n",
      "z: 0.845373115284\n",
      "New target pose: [0.18200891135216374, -0.2727928132316017, 0.8453731152842751]\n",
      "Planning to [1.5707963267948966, 0.7853981633974483, 0, 0, 0, 0]  on joints  ['elbow_joint', 'shoulder_lift_joint', 'shoulder_pan_joint', 'wrist_1_joint', 'wrist_2_joint', 'wrist_3_joint']\n",
      "Successfully planned to position. Executing trajectory.\n"
     ]
    },
    {
     "name": "stderr",
     "output_type": "stream",
     "text": [
      "Sampling new goal\n"
     ]
    },
    {
     "name": "stdout",
     "output_type": "stream",
     "text": [
      "Finding new goal pose\n",
      "Finding new goal pose\n",
      "Finding new goal pose\n",
      "Found goal pose: x: 0.145855833595\n",
      "y: 0.172438424589\n",
      "z: 0.633242523864\n",
      "New target pose: [0.1458558335951895, 0.1724384245893465, 0.6332425238637125]\n",
      "Planning to [1.5707963267948966, 0.7853981633974483, 0, 0, 0, 0]  on joints  ['elbow_joint', 'shoulder_lift_joint', 'shoulder_pan_joint', 'wrist_1_joint', 'wrist_2_joint', 'wrist_3_joint']\n",
      "Successfully planned to position. Executing trajectory.\n"
     ]
    },
    {
     "name": "stderr",
     "output_type": "stream",
     "text": [
      "Sampling new goal\n"
     ]
    },
    {
     "name": "stdout",
     "output_type": "stream",
     "text": [
      "Finding new goal pose\n",
      "Found goal pose: x: -0.310519675703\n",
      "y: 0.219947812897\n",
      "z: 0.163785342614\n",
      "New target pose: [-0.31051967570294947, 0.21994781289732532, 0.16378534261364774]\n",
      "Planning to [1.5707963267948966, 0.7853981633974483, 0, 0, 0, 0]  on joints  ['elbow_joint', 'shoulder_lift_joint', 'shoulder_pan_joint', 'wrist_1_joint', 'wrist_2_joint', 'wrist_3_joint']\n",
      "Successfully planned to position. Executing trajectory.\n"
     ]
    },
    {
     "name": "stderr",
     "output_type": "stream",
     "text": [
      "Sampling new goal\n"
     ]
    },
    {
     "name": "stdout",
     "output_type": "stream",
     "text": [
      "Finding new goal pose\n",
      "Finding new goal pose\n",
      "Finding new goal pose\n",
      "Finding new goal pose\n",
      "Finding new goal pose\n",
      "Finding new goal pose\n",
      "Found goal pose: x: -0.181710512148\n",
      "y: 0.0749204820341\n",
      "z: 0.810374990554\n",
      "New target pose: [-0.18171051214784453, 0.07492048203414535, 0.8103749905537105]\n",
      "Testing training iteration 4\n",
      "Planning to [1.5707963267948966, 0.7853981633974483, 0, 0, 0, 0]  on joints  ['elbow_joint', 'shoulder_lift_joint', 'shoulder_pan_joint', 'wrist_1_joint', 'wrist_2_joint', 'wrist_3_joint']\n",
      "Successfully planned to position. Executing trajectory.\n"
     ]
    },
    {
     "name": "stderr",
     "output_type": "stream",
     "text": [
      "Sampling new goal\n"
     ]
    },
    {
     "name": "stdout",
     "output_type": "stream",
     "text": [
      "Finding new goal pose\n",
      "Found goal pose: x: 0.0569653573497\n",
      "y: -0.0931783652869\n",
      "z: 0.380068734401\n",
      "New target pose: [0.0569653573496727, -0.09317836528685028, 0.38006873440054556]\n",
      "Planning to [1.5707963267948966, 0.7853981633974483, 0, 0, 0, 0]  on joints  ['elbow_joint', 'shoulder_lift_joint', 'shoulder_pan_joint', 'wrist_1_joint', 'wrist_2_joint', 'wrist_3_joint']\n",
      "Successfully planned to position. Executing trajectory.\n"
     ]
    },
    {
     "name": "stderr",
     "output_type": "stream",
     "text": [
      "Sampling new goal\n"
     ]
    },
    {
     "name": "stdout",
     "output_type": "stream",
     "text": [
      "Finding new goal pose\n",
      "Finding new goal pose\n",
      "Finding new goal pose\n",
      "Finding new goal pose\n",
      "Finding new goal pose\n",
      "Finding new goal pose\n",
      "Finding new goal pose\n",
      "Finding new goal pose\n",
      "Found goal pose: x: -0.101812574107\n",
      "y: 0.221602120923\n",
      "z: 0.731953700495\n",
      "New target pose: [-0.10181257410670162, 0.22160212092276232, 0.7319537004946539]\n",
      "Planning to [1.5707963267948966, 0.7853981633974483, 0, 0, 0, 0]  on joints  ['elbow_joint', 'shoulder_lift_joint', 'shoulder_pan_joint', 'wrist_1_joint', 'wrist_2_joint', 'wrist_3_joint']\n",
      "Successfully planned to position. Executing trajectory.\n"
     ]
    },
    {
     "name": "stderr",
     "output_type": "stream",
     "text": [
      "Sampling new goal\n"
     ]
    },
    {
     "name": "stdout",
     "output_type": "stream",
     "text": [
      "Finding new goal pose\n",
      "Finding new goal pose\n",
      "Found goal pose: x: 0.42796725666\n",
      "y: -0.48197337082\n",
      "z: 0.631304520125\n",
      "New target pose: [0.42796725666036506, -0.48197337082048747, 0.6313045201253904]\n",
      "Planning to [1.5707963267948966, 0.7853981633974483, 0, 0, 0, 0]  on joints  ['elbow_joint', 'shoulder_lift_joint', 'shoulder_pan_joint', 'wrist_1_joint', 'wrist_2_joint', 'wrist_3_joint']\n",
      "Successfully planned to position. Executing trajectory.\n"
     ]
    },
    {
     "name": "stderr",
     "output_type": "stream",
     "text": [
      "Sampling new goal\n"
     ]
    },
    {
     "name": "stdout",
     "output_type": "stream",
     "text": [
      "Finding new goal pose\n",
      "Finding new goal pose\n",
      "Found goal pose: x: 0.0167840384281\n",
      "y: -0.320978925508\n",
      "z: 0.723579614512\n",
      "New target pose: [0.01678403842808569, -0.32097892550829854, 0.7235796145121406]\n",
      "Planning to [1.5707963267948966, 0.7853981633974483, 0, 0, 0, 0]  on joints  ['elbow_joint', 'shoulder_lift_joint', 'shoulder_pan_joint', 'wrist_1_joint', 'wrist_2_joint', 'wrist_3_joint']\n",
      "Successfully planned to position. Executing trajectory.\n"
     ]
    },
    {
     "name": "stderr",
     "output_type": "stream",
     "text": [
      "Sampling new goal\n"
     ]
    },
    {
     "name": "stdout",
     "output_type": "stream",
     "text": [
      "Finding new goal pose\n",
      "Finding new goal pose\n",
      "Found goal pose: x: 0.0762689318757\n",
      "y: -0.0891500881567\n",
      "z: 0.362503016454\n",
      "New target pose: [0.07626893187572562, -0.08915008815674821, 0.3625030164538555]\n",
      "Planning to [1.5707963267948966, 0.7853981633974483, 0, 0, 0, 0]  on joints  ['elbow_joint', 'shoulder_lift_joint', 'shoulder_pan_joint', 'wrist_1_joint', 'wrist_2_joint', 'wrist_3_joint']\n",
      "Successfully planned to position. Executing trajectory.\n"
     ]
    },
    {
     "name": "stderr",
     "output_type": "stream",
     "text": [
      "Sampling new goal\n"
     ]
    },
    {
     "name": "stdout",
     "output_type": "stream",
     "text": [
      "Finding new goal pose\n",
      "Finding new goal pose\n",
      "Found goal pose: x: 0.755252532185\n",
      "y: 0.27921496217\n",
      "z: 0.17157661294\n",
      "New target pose: [0.7552525321852283, 0.27921496217045166, 0.1715766129396975]\n",
      "Planning to [1.5707963267948966, 0.7853981633974483, 0, 0, 0, 0]  on joints  ['elbow_joint', 'shoulder_lift_joint', 'shoulder_pan_joint', 'wrist_1_joint', 'wrist_2_joint', 'wrist_3_joint']\n",
      "Successfully planned to position. Executing trajectory.\n"
     ]
    },
    {
     "name": "stderr",
     "output_type": "stream",
     "text": [
      "Sampling new goal\n"
     ]
    },
    {
     "name": "stdout",
     "output_type": "stream",
     "text": [
      "Finding new goal pose\n",
      "Found goal pose: x: 0.27850906428\n",
      "y: -0.0326941145569\n",
      "z: 0.748067236709\n",
      "New target pose: [0.2785090642797842, -0.032694114556934904, 0.7480672367089222]\n",
      "Planning to [1.5707963267948966, 0.7853981633974483, 0, 0, 0, 0]  on joints  ['elbow_joint', 'shoulder_lift_joint', 'shoulder_pan_joint', 'wrist_1_joint', 'wrist_2_joint', 'wrist_3_joint']\n",
      "Successfully planned to position. Executing trajectory.\n"
     ]
    },
    {
     "name": "stderr",
     "output_type": "stream",
     "text": [
      "Sampling new goal\n"
     ]
    },
    {
     "name": "stdout",
     "output_type": "stream",
     "text": [
      "Finding new goal pose\n",
      "Finding new goal pose\n",
      "Finding new goal pose\n",
      "Finding new goal pose\n",
      "Found goal pose: x: -0.823093071352\n",
      "y: -0.0116472407418\n",
      "z: 0.182137050774\n",
      "New target pose: [-0.8230930713524183, -0.011647240741771875, 0.18213705077439482]\n",
      "Planning to [1.5707963267948966, 0.7853981633974483, 0, 0, 0, 0]  on joints  ['elbow_joint', 'shoulder_lift_joint', 'shoulder_pan_joint', 'wrist_1_joint', 'wrist_2_joint', 'wrist_3_joint']\n",
      "Failed to plan to trajectory!\n",
      "Retrying Reset...\n",
      "Planning to [1.5707963267948966, 0.7853981633974483, 0, 0, 0, 0]  on joints  ['elbow_joint', 'shoulder_lift_joint', 'shoulder_pan_joint', 'wrist_1_joint', 'wrist_2_joint', 'wrist_3_joint']\n",
      "Successfully planned to position. Executing trajectory.\n"
     ]
    },
    {
     "name": "stderr",
     "output_type": "stream",
     "text": [
      "Sampling new goal\n"
     ]
    },
    {
     "name": "stdout",
     "output_type": "stream",
     "text": [
      "Finding new goal pose\n",
      "Found goal pose: x: 0.155016494923\n",
      "y: -0.687550169467\n",
      "z: 0.331522087615\n",
      "New target pose: [0.1550164949225236, -0.6875501694670557, 0.3315220876151181]\n",
      "Planning to [1.5707963267948966, 0.7853981633974483, 0, 0, 0, 0]  on joints  ['elbow_joint', 'shoulder_lift_joint', 'shoulder_pan_joint', 'wrist_1_joint', 'wrist_2_joint', 'wrist_3_joint']\n",
      "Failed to plan to trajectory!\n",
      "Retrying Reset...\n",
      "Planning to [1.5707963267948966, 0.7853981633974483, 0, 0, 0, 0]  on joints  ['elbow_joint', 'shoulder_lift_joint', 'shoulder_pan_joint', 'wrist_1_joint', 'wrist_2_joint', 'wrist_3_joint']\n",
      "Successfully planned to position. Executing trajectory.\n"
     ]
    },
    {
     "name": "stderr",
     "output_type": "stream",
     "text": [
      "Sampling new goal\n"
     ]
    },
    {
     "name": "stdout",
     "output_type": "stream",
     "text": [
      "Finding new goal pose\n",
      "Finding new goal pose\n",
      "Finding new goal pose\n",
      "Finding new goal pose\n",
      "Found goal pose: x: 0.691708533612\n",
      "y: -0.347903502483\n",
      "z: 0.346757028697\n",
      "New target pose: [0.6917085336122092, -0.34790350248319535, 0.3467570286967689]\n",
      "Testing training iteration 5\n",
      "Planning to [1.5707963267948966, 0.7853981633974483, 0, 0, 0, 0]  on joints  ['elbow_joint', 'shoulder_lift_joint', 'shoulder_pan_joint', 'wrist_1_joint', 'wrist_2_joint', 'wrist_3_joint']\n",
      "Successfully planned to position. Executing trajectory.\n"
     ]
    },
    {
     "name": "stderr",
     "output_type": "stream",
     "text": [
      "Sampling new goal\n"
     ]
    },
    {
     "name": "stdout",
     "output_type": "stream",
     "text": [
      "Finding new goal pose\n",
      "Found goal pose: x: -0.276753258616\n",
      "y: -0.686632797559\n",
      "z: 0.121377749538\n",
      "New target pose: [-0.2767532586158693, -0.6866327975589163, 0.12137774953796159]\n",
      "Planning to [1.5707963267948966, 0.7853981633974483, 0, 0, 0, 0]  on joints  ['elbow_joint', 'shoulder_lift_joint', 'shoulder_pan_joint', 'wrist_1_joint', 'wrist_2_joint', 'wrist_3_joint']\n",
      "Successfully planned to position. Executing trajectory.\n"
     ]
    },
    {
     "name": "stderr",
     "output_type": "stream",
     "text": [
      "Sampling new goal\n"
     ]
    },
    {
     "name": "stdout",
     "output_type": "stream",
     "text": [
      "Finding new goal pose\n",
      "Found goal pose: x: -0.523864286819\n",
      "y: -0.196901811126\n",
      "z: 0.233243920703\n",
      "New target pose: [-0.5238642868194613, -0.19690181112628236, 0.23324392070324618]\n",
      "Planning to [1.5707963267948966, 0.7853981633974483, 0, 0, 0, 0]  on joints  ['elbow_joint', 'shoulder_lift_joint', 'shoulder_pan_joint', 'wrist_1_joint', 'wrist_2_joint', 'wrist_3_joint']\n",
      "Successfully planned to position. Executing trajectory.\n"
     ]
    },
    {
     "name": "stderr",
     "output_type": "stream",
     "text": [
      "Sampling new goal\n"
     ]
    },
    {
     "name": "stdout",
     "output_type": "stream",
     "text": [
      "Finding new goal pose\n",
      "Finding new goal pose\n",
      "Found goal pose: x: 0.736809298072\n",
      "y: 0.223267172868\n",
      "z: 0.223936853718\n",
      "New target pose: [0.7368092980719637, 0.22326717286780542, 0.223936853717994]\n",
      "Planning to [1.5707963267948966, 0.7853981633974483, 0, 0, 0, 0]  on joints  ['elbow_joint', 'shoulder_lift_joint', 'shoulder_pan_joint', 'wrist_1_joint', 'wrist_2_joint', 'wrist_3_joint']\n",
      "Successfully planned to position. Executing trajectory.\n"
     ]
    },
    {
     "name": "stderr",
     "output_type": "stream",
     "text": [
      "Sampling new goal\n"
     ]
    },
    {
     "name": "stdout",
     "output_type": "stream",
     "text": [
      "Finding new goal pose\n",
      "Found goal pose: x: -0.542601998101\n",
      "y: -0.0389003871766\n",
      "z: 0.568514912239\n",
      "New target pose: [-0.5426019981007331, -0.03890038717661746, 0.568514912238739]\n",
      "Planning to [1.5707963267948966, 0.7853981633974483, 0, 0, 0, 0]  on joints  ['elbow_joint', 'shoulder_lift_joint', 'shoulder_pan_joint', 'wrist_1_joint', 'wrist_2_joint', 'wrist_3_joint']\n",
      "Successfully planned to position. Executing trajectory.\n"
     ]
    },
    {
     "name": "stderr",
     "output_type": "stream",
     "text": [
      "Sampling new goal\n"
     ]
    },
    {
     "name": "stdout",
     "output_type": "stream",
     "text": [
      "Finding new goal pose\n",
      "Finding new goal pose\n",
      "Finding new goal pose\n",
      "Finding new goal pose\n",
      "Finding new goal pose\n",
      "Finding new goal pose\n",
      "Finding new goal pose\n",
      "Finding new goal pose\n",
      "Found goal pose: x: -0.119890922181\n",
      "y: -0.799360690866\n",
      "z: 0.296361856084\n",
      "New target pose: [-0.11989092218097686, -0.7993606908662898, 0.2963618560843888]\n",
      "Planning to [1.5707963267948966, 0.7853981633974483, 0, 0, 0, 0]  on joints  ['elbow_joint', 'shoulder_lift_joint', 'shoulder_pan_joint', 'wrist_1_joint', 'wrist_2_joint', 'wrist_3_joint']\n",
      "Successfully planned to position. Executing trajectory.\n"
     ]
    },
    {
     "name": "stderr",
     "output_type": "stream",
     "text": [
      "Sampling new goal\n"
     ]
    },
    {
     "name": "stdout",
     "output_type": "stream",
     "text": [
      "Finding new goal pose\n",
      "Found goal pose: x: 0.39581522774\n",
      "y: 0.238350342089\n",
      "z: 0.545746846223\n",
      "New target pose: [0.39581522773960753, 0.23835034208907704, 0.5457468462233287]\n",
      "Planning to [1.5707963267948966, 0.7853981633974483, 0, 0, 0, 0]  on joints  ['elbow_joint', 'shoulder_lift_joint', 'shoulder_pan_joint', 'wrist_1_joint', 'wrist_2_joint', 'wrist_3_joint']\n",
      "Successfully planned to position. Executing trajectory.\n"
     ]
    },
    {
     "name": "stderr",
     "output_type": "stream",
     "text": [
      "Sampling new goal\n"
     ]
    },
    {
     "name": "stdout",
     "output_type": "stream",
     "text": [
      "Finding new goal pose\n",
      "Finding new goal pose\n",
      "Finding new goal pose\n",
      "Finding new goal pose\n",
      "Finding new goal pose\n",
      "Found goal pose: x: 0.112862392351\n",
      "y: -0.133863151676\n",
      "z: 0.494563159096\n",
      "New target pose: [0.11286239235063025, -0.1338631516756323, 0.49456315909557347]\n",
      "Planning to [1.5707963267948966, 0.7853981633974483, 0, 0, 0, 0]  on joints  ['elbow_joint', 'shoulder_lift_joint', 'shoulder_pan_joint', 'wrist_1_joint', 'wrist_2_joint', 'wrist_3_joint']\n",
      "Successfully planned to position. Executing trajectory.\n"
     ]
    },
    {
     "name": "stderr",
     "output_type": "stream",
     "text": [
      "Sampling new goal\n"
     ]
    },
    {
     "name": "stdout",
     "output_type": "stream",
     "text": [
      "Finding new goal pose\n",
      "Finding new goal pose\n",
      "Finding new goal pose\n",
      "Finding new goal pose\n",
      "Found goal pose: x: 0.0905318350658\n",
      "y: -0.1058950014\n",
      "z: 0.724162681261\n",
      "New target pose: [0.09053183506576551, -0.10589500139991895, 0.7241626812612836]\n",
      "Planning to [1.5707963267948966, 0.7853981633974483, 0, 0, 0, 0]  on joints  ['elbow_joint', 'shoulder_lift_joint', 'shoulder_pan_joint', 'wrist_1_joint', 'wrist_2_joint', 'wrist_3_joint']\n",
      "Successfully planned to position. Executing trajectory.\n"
     ]
    },
    {
     "name": "stderr",
     "output_type": "stream",
     "text": [
      "Sampling new goal\n"
     ]
    },
    {
     "name": "stdout",
     "output_type": "stream",
     "text": [
      "Finding new goal pose\n",
      "Finding new goal pose\n",
      "Found goal pose: x: 0.037629711008\n",
      "y: -0.176425357538\n",
      "z: 0.140148696019\n",
      "New target pose: [0.03762971100800435, -0.1764253575381322, 0.14014869601877863]\n",
      "Planning to [1.5707963267948966, 0.7853981633974483, 0, 0, 0, 0]  on joints  ['elbow_joint', 'shoulder_lift_joint', 'shoulder_pan_joint', 'wrist_1_joint', 'wrist_2_joint', 'wrist_3_joint']\n",
      "Successfully planned to position. Executing trajectory.\n"
     ]
    },
    {
     "name": "stderr",
     "output_type": "stream",
     "text": [
      "Sampling new goal\n"
     ]
    },
    {
     "name": "stdout",
     "output_type": "stream",
     "text": [
      "Finding new goal pose\n",
      "Finding new goal pose\n",
      "Found goal pose: x: -0.177323076324\n",
      "y: -0.35326738853\n",
      "z: 0.339152609844\n",
      "New target pose: [-0.17732307632432287, -0.35326738853007367, 0.33915260984414625]\n",
      "Writing experiment results to ./experiments/quad30_01/results.csv\n"
     ]
    }
   ],
   "source": [
    "exp.evaluate()"
   ]
  },
  {
   "cell_type": "code",
   "execution_count": 43,
   "metadata": {},
   "outputs": [
    {
     "data": {
      "text/plain": [
       "5"
      ]
     },
     "execution_count": 43,
     "metadata": {},
     "output_type": "execute_result"
    }
   ],
   "source": [
    "5"
   ]
  }
 ],
 "metadata": {
  "kernelspec": {
   "display_name": "Python 2",
   "language": "python",
   "name": "python2"
  },
  "language_info": {
   "codemirror_mode": {
    "name": "ipython",
    "version": 2
   },
   "file_extension": ".py",
   "mimetype": "text/x-python",
   "name": "python",
   "nbconvert_exporter": "python",
   "pygments_lexer": "ipython2",
   "version": "2.7.12"
  }
 },
 "nbformat": 4,
 "nbformat_minor": 2
}
